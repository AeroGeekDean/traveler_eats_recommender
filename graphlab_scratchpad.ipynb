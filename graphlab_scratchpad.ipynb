{
 "cells": [
  {
   "cell_type": "markdown",
   "metadata": {},
   "source": [
    "# Scratchpad for testing out graphlab with project data"
   ]
  },
  {
   "cell_type": "code",
   "execution_count": null,
   "metadata": {
    "collapsed": true
   },
   "outputs": [],
   "source": []
  },
  {
   "cell_type": "code",
   "execution_count": 1,
   "metadata": {
    "collapsed": false
   },
   "outputs": [
    {
     "name": "stdout",
     "output_type": "stream",
     "text": [
      "This non-commercial license of GraphLab Create is assigned to windsurf_dean@yahoo.com and will expire on May 26, 2017. For commercial licensing options, visit https://dato.com/buy/.\n"
     ]
    },
    {
     "name": "stderr",
     "output_type": "stream",
     "text": [
      "[INFO] graphlab.cython.cy_server: GraphLab Create v1.10.1 started. Logging: /tmp/graphlab_server_1467512033.log\n"
     ]
    }
   ],
   "source": [
    "import json\n",
    "import numpy as np\n",
    "import graphlab as gl\n",
    "import pandas as pd\n",
    "import matplotlib.pyplot as plt\n",
    "%matplotlib inline"
   ]
  },
  {
   "cell_type": "code",
   "execution_count": 79,
   "metadata": {
    "collapsed": false
   },
   "outputs": [
    {
     "data": {
      "text/plain": [
       "'1.10.1'"
      ]
     },
     "execution_count": 79,
     "metadata": {},
     "output_type": "execute_result"
    }
   ],
   "source": [
    "gl.__VERSION__"
   ]
  },
  {
   "cell_type": "markdown",
   "metadata": {},
   "source": [
    "## Load in user-item-rating data..."
   ]
  },
  {
   "cell_type": "code",
   "execution_count": 2,
   "metadata": {
    "collapsed": false
   },
   "outputs": [],
   "source": [
    "# create Pandas DF with data pulled from Postgres (restaurant only reviews)\n",
    "df = pd.read_csv('data_analysis/user_reviews.csv', header=None,\n",
    "                 names=['user_id', 'business_id', 'business_name', 'stars', 'locale'])"
   ]
  },
  {
   "cell_type": "code",
   "execution_count": 3,
   "metadata": {
    "collapsed": false,
    "scrolled": true
   },
   "outputs": [
    {
     "data": {
      "text/html": [
       "<div>\n",
       "<table border=\"1\" class=\"dataframe\">\n",
       "  <thead>\n",
       "    <tr style=\"text-align: right;\">\n",
       "      <th></th>\n",
       "      <th>user_id</th>\n",
       "      <th>business_id</th>\n",
       "      <th>biz_name</th>\n",
       "      <th>stars</th>\n",
       "      <th>locale</th>\n",
       "    </tr>\n",
       "  </thead>\n",
       "  <tbody>\n",
       "    <tr>\n",
       "      <th>0</th>\n",
       "      <td>Ouus3lC3Xk3YRGx4ptd_4A</td>\n",
       "      <td>DW6SI2KxcfXBHeo9jEr4lQ</td>\n",
       "      <td>Pyramid Cafe</td>\n",
       "      <td>2</td>\n",
       "      <td>Las Vegas, NV</td>\n",
       "    </tr>\n",
       "    <tr>\n",
       "      <th>1</th>\n",
       "      <td>dz_sBsL69aWzsxksT2O_Mg</td>\n",
       "      <td>DW6SI2KxcfXBHeo9jEr4lQ</td>\n",
       "      <td>Pyramid Cafe</td>\n",
       "      <td>2</td>\n",
       "      <td>Las Vegas, NV</td>\n",
       "    </tr>\n",
       "    <tr>\n",
       "      <th>2</th>\n",
       "      <td>zyI-u0C1YOzp5v1j2wuCOQ</td>\n",
       "      <td>DW6SI2KxcfXBHeo9jEr4lQ</td>\n",
       "      <td>Pyramid Cafe</td>\n",
       "      <td>3</td>\n",
       "      <td>Las Vegas, NV</td>\n",
       "    </tr>\n",
       "    <tr>\n",
       "      <th>3</th>\n",
       "      <td>vyfsQo-estP8EfiIFMsL6g</td>\n",
       "      <td>DW6SI2KxcfXBHeo9jEr4lQ</td>\n",
       "      <td>Pyramid Cafe</td>\n",
       "      <td>3</td>\n",
       "      <td>Las Vegas, NV</td>\n",
       "    </tr>\n",
       "    <tr>\n",
       "      <th>4</th>\n",
       "      <td>lxZSVeJz6KEBW1nlA3JKJg</td>\n",
       "      <td>DW6SI2KxcfXBHeo9jEr4lQ</td>\n",
       "      <td>Pyramid Cafe</td>\n",
       "      <td>1</td>\n",
       "      <td>Las Vegas, NV</td>\n",
       "    </tr>\n",
       "  </tbody>\n",
       "</table>\n",
       "</div>"
      ],
      "text/plain": [
       "                  user_id             business_id      biz_name  stars  \\\n",
       "0  Ouus3lC3Xk3YRGx4ptd_4A  DW6SI2KxcfXBHeo9jEr4lQ  Pyramid Cafe      2   \n",
       "1  dz_sBsL69aWzsxksT2O_Mg  DW6SI2KxcfXBHeo9jEr4lQ  Pyramid Cafe      2   \n",
       "2  zyI-u0C1YOzp5v1j2wuCOQ  DW6SI2KxcfXBHeo9jEr4lQ  Pyramid Cafe      3   \n",
       "3  vyfsQo-estP8EfiIFMsL6g  DW6SI2KxcfXBHeo9jEr4lQ  Pyramid Cafe      3   \n",
       "4  lxZSVeJz6KEBW1nlA3JKJg  DW6SI2KxcfXBHeo9jEr4lQ  Pyramid Cafe      1   \n",
       "\n",
       "          locale  \n",
       "0  Las Vegas, NV  \n",
       "1  Las Vegas, NV  \n",
       "2  Las Vegas, NV  \n",
       "3  Las Vegas, NV  \n",
       "4  Las Vegas, NV  "
      ]
     },
     "execution_count": 3,
     "metadata": {},
     "output_type": "execute_result"
    }
   ],
   "source": [
    "df.head(5)"
   ]
  },
  {
   "cell_type": "code",
   "execution_count": 280,
   "metadata": {
    "collapsed": false
   },
   "outputs": [],
   "source": [
    "df.to_csv('reviews.csv', columns=['user_id','business_id','stars'])"
   ]
  },
  {
   "cell_type": "code",
   "execution_count": 155,
   "metadata": {
    "collapsed": true
   },
   "outputs": [
    {
     "data": {
      "text/html": [
       "<div>\n",
       "<table border=\"1\" class=\"dataframe\">\n",
       "  <thead>\n",
       "    <tr style=\"text-align: right;\">\n",
       "      <th></th>\n",
       "      <th></th>\n",
       "      <th></th>\n",
       "      <th>biz_name</th>\n",
       "      <th>locale</th>\n",
       "    </tr>\n",
       "    <tr>\n",
       "      <th>user_id</th>\n",
       "      <th>business_id</th>\n",
       "      <th>stars</th>\n",
       "      <th></th>\n",
       "      <th></th>\n",
       "    </tr>\n",
       "  </thead>\n",
       "  <tbody>\n",
       "    <tr>\n",
       "      <th rowspan=\"6\" valign=\"top\">--0KsjlAThNWua2Pr4HStQ</th>\n",
       "      <th>DoKUOUwAsWrlRY6ehzQV_w</th>\n",
       "      <th>4</th>\n",
       "      <td>1</td>\n",
       "      <td>1</td>\n",
       "    </tr>\n",
       "    <tr>\n",
       "      <th>NjHwPn2d3TL_xxnheXoSmw</th>\n",
       "      <th>3</th>\n",
       "      <td>1</td>\n",
       "      <td>1</td>\n",
       "    </tr>\n",
       "    <tr>\n",
       "      <th>UG1che-DRtvE45Ni2bqwbA</th>\n",
       "      <th>5</th>\n",
       "      <td>1</td>\n",
       "      <td>1</td>\n",
       "    </tr>\n",
       "    <tr>\n",
       "      <th>fUlzYKXFTMFEDQtjzm6GXA</th>\n",
       "      <th>4</th>\n",
       "      <td>1</td>\n",
       "      <td>1</td>\n",
       "    </tr>\n",
       "    <tr>\n",
       "      <th>k-ClRJsPYJtsI8NRtiLdTA</th>\n",
       "      <th>4</th>\n",
       "      <td>1</td>\n",
       "      <td>1</td>\n",
       "    </tr>\n",
       "    <tr>\n",
       "      <th>s4QDG7jg9JafcugkggE6Xg</th>\n",
       "      <th>5</th>\n",
       "      <td>1</td>\n",
       "      <td>1</td>\n",
       "    </tr>\n",
       "    <tr>\n",
       "      <th>--0mI_q_0D1CdU4P_hoImQ</th>\n",
       "      <th>xxOQ7h6s3InV8o8DOVHlMA</th>\n",
       "      <th>5</th>\n",
       "      <td>1</td>\n",
       "      <td>1</td>\n",
       "    </tr>\n",
       "    <tr>\n",
       "      <th rowspan=\"3\" valign=\"top\">--2QZsyXGz1OhiD4-0FQLQ</th>\n",
       "      <th>0_LZEAYsexEZS-OFTjdjNQ</th>\n",
       "      <th>4</th>\n",
       "      <td>1</td>\n",
       "      <td>1</td>\n",
       "    </tr>\n",
       "    <tr>\n",
       "      <th>IRYj1b1-mlXqABVsl9SoqQ</th>\n",
       "      <th>5</th>\n",
       "      <td>1</td>\n",
       "      <td>1</td>\n",
       "    </tr>\n",
       "    <tr>\n",
       "      <th>tqu42L0qXzkvYKSruOz0IA</th>\n",
       "      <th>5</th>\n",
       "      <td>1</td>\n",
       "      <td>1</td>\n",
       "    </tr>\n",
       "    <tr>\n",
       "      <th>--37T3V10ZeoJ1Il7D2Wzw</th>\n",
       "      <th>r69rxmc9pdU4AnZkBhTNLA</th>\n",
       "      <th>3</th>\n",
       "      <td>1</td>\n",
       "      <td>1</td>\n",
       "    </tr>\n",
       "    <tr>\n",
       "      <th rowspan=\"19\" valign=\"top\">--4TkB_iDShmg41Y_QW9nw</th>\n",
       "      <th>0Zec6RiFV6h6TbOFb7xu3A</th>\n",
       "      <th>5</th>\n",
       "      <td>1</td>\n",
       "      <td>1</td>\n",
       "    </tr>\n",
       "    <tr>\n",
       "      <th>9kWnvBSD2AJ2liXnvGbW1g</th>\n",
       "      <th>5</th>\n",
       "      <td>1</td>\n",
       "      <td>1</td>\n",
       "    </tr>\n",
       "    <tr>\n",
       "      <th>AVQMHeyByhkkYEeDbH9HbQ</th>\n",
       "      <th>5</th>\n",
       "      <td>1</td>\n",
       "      <td>1</td>\n",
       "    </tr>\n",
       "    <tr>\n",
       "      <th>AgJbkqR-wre409if4fTbWQ</th>\n",
       "      <th>5</th>\n",
       "      <td>1</td>\n",
       "      <td>1</td>\n",
       "    </tr>\n",
       "    <tr>\n",
       "      <th>DfLML2IlhUqztTBURxOAxg</th>\n",
       "      <th>5</th>\n",
       "      <td>1</td>\n",
       "      <td>1</td>\n",
       "    </tr>\n",
       "    <tr>\n",
       "      <th>IgQa-Ig5wWMhDQRIWpbEgQ</th>\n",
       "      <th>5</th>\n",
       "      <td>1</td>\n",
       "      <td>1</td>\n",
       "    </tr>\n",
       "    <tr>\n",
       "      <th>JImJictLIE48_O1z-l2TGw</th>\n",
       "      <th>4</th>\n",
       "      <td>1</td>\n",
       "      <td>1</td>\n",
       "    </tr>\n",
       "    <tr>\n",
       "      <th>NR_8LIX-oG50jUQpziBnWQ</th>\n",
       "      <th>5</th>\n",
       "      <td>1</td>\n",
       "      <td>1</td>\n",
       "    </tr>\n",
       "    <tr>\n",
       "      <th>PdWe3jF9YEu5fWBiQXZIgg</th>\n",
       "      <th>2</th>\n",
       "      <td>1</td>\n",
       "      <td>1</td>\n",
       "    </tr>\n",
       "    <tr>\n",
       "      <th>RShrvt5oIS40FrcX6bCHSg</th>\n",
       "      <th>4</th>\n",
       "      <td>1</td>\n",
       "      <td>1</td>\n",
       "    </tr>\n",
       "    <tr>\n",
       "      <th>VEojEXbJ81eiPLSSF9jNEQ</th>\n",
       "      <th>4</th>\n",
       "      <td>1</td>\n",
       "      <td>1</td>\n",
       "    </tr>\n",
       "    <tr>\n",
       "      <th>VjzclBdSXmf6uNrD0DG2bg</th>\n",
       "      <th>4</th>\n",
       "      <td>1</td>\n",
       "      <td>1</td>\n",
       "    </tr>\n",
       "    <tr>\n",
       "      <th>WLDWl3QyQCeZ7EnHxH6Pwg</th>\n",
       "      <th>5</th>\n",
       "      <td>1</td>\n",
       "      <td>1</td>\n",
       "    </tr>\n",
       "    <tr>\n",
       "      <th>WZNU4bQJJHr3p4SjnjVrkg</th>\n",
       "      <th>4</th>\n",
       "      <td>1</td>\n",
       "      <td>1</td>\n",
       "    </tr>\n",
       "    <tr>\n",
       "      <th>Y9D61SRDiTAYJeaVbqvbFg</th>\n",
       "      <th>5</th>\n",
       "      <td>1</td>\n",
       "      <td>1</td>\n",
       "    </tr>\n",
       "    <tr>\n",
       "      <th>_YswYrpv6YdO3R3CP8R8oQ</th>\n",
       "      <th>4</th>\n",
       "      <td>1</td>\n",
       "      <td>1</td>\n",
       "    </tr>\n",
       "    <tr>\n",
       "      <th>b9dv7Q0A8XcJ44zzTDJeYw</th>\n",
       "      <th>4</th>\n",
       "      <td>1</td>\n",
       "      <td>1</td>\n",
       "    </tr>\n",
       "    <tr>\n",
       "      <th>c28zcdBp82B9Vli3WXn8zA</th>\n",
       "      <th>5</th>\n",
       "      <td>1</td>\n",
       "      <td>1</td>\n",
       "    </tr>\n",
       "    <tr>\n",
       "      <th>e0vubCKi8KD8zC2C6FdbuQ</th>\n",
       "      <th>5</th>\n",
       "      <td>1</td>\n",
       "      <td>1</td>\n",
       "    </tr>\n",
       "    <tr>\n",
       "      <th>...</th>\n",
       "      <th>...</th>\n",
       "      <th>...</th>\n",
       "      <td>...</td>\n",
       "      <td>...</td>\n",
       "    </tr>\n",
       "    <tr>\n",
       "      <th rowspan=\"4\" valign=\"top\">zztT9KKp0rmJRMeMl4CqzQ</th>\n",
       "      <th>A8Khz3eeqIFFGaXurg3hxw</th>\n",
       "      <th>4</th>\n",
       "      <td>1</td>\n",
       "      <td>1</td>\n",
       "    </tr>\n",
       "    <tr>\n",
       "      <th>ilJiRYZgxjrEu2iexKu-pQ</th>\n",
       "      <th>1</th>\n",
       "      <td>1</td>\n",
       "      <td>1</td>\n",
       "    </tr>\n",
       "    <tr>\n",
       "      <th>sbsFamEj5wDxNAjUKrMcSw</th>\n",
       "      <th>4</th>\n",
       "      <td>1</td>\n",
       "      <td>1</td>\n",
       "    </tr>\n",
       "    <tr>\n",
       "      <th>wP5849J1DKB2KS3M6UwOAg</th>\n",
       "      <th>1</th>\n",
       "      <td>1</td>\n",
       "      <td>1</td>\n",
       "    </tr>\n",
       "    <tr>\n",
       "      <th rowspan=\"4\" valign=\"top\">zzu_HGDO-nv0gHivZrKdpQ</th>\n",
       "      <th>-HK7dIj7Eyx0JsfDzgbFKw</th>\n",
       "      <th>3</th>\n",
       "      <td>1</td>\n",
       "      <td>1</td>\n",
       "    </tr>\n",
       "    <tr>\n",
       "      <th>GXqBm5N0yZ3-rCd6hgUM7w</th>\n",
       "      <th>4</th>\n",
       "      <td>1</td>\n",
       "      <td>1</td>\n",
       "    </tr>\n",
       "    <tr>\n",
       "      <th>c_ZoCRssEFl7cKul3Wzm4Q</th>\n",
       "      <th>4</th>\n",
       "      <td>1</td>\n",
       "      <td>1</td>\n",
       "    </tr>\n",
       "    <tr>\n",
       "      <th>wr3bTAXlo6aB5LIbIx6ueQ</th>\n",
       "      <th>5</th>\n",
       "      <td>1</td>\n",
       "      <td>1</td>\n",
       "    </tr>\n",
       "    <tr>\n",
       "      <th rowspan=\"2\" valign=\"top\">zzvGAKv1D1fdUwCvXEeQnA</th>\n",
       "      <th>TnUgQXUHtx8LwJSfkeylGg</th>\n",
       "      <th>4</th>\n",
       "      <td>1</td>\n",
       "      <td>1</td>\n",
       "    </tr>\n",
       "    <tr>\n",
       "      <th>gltXCxQnlgFJLFcZkwwTBA</th>\n",
       "      <th>4</th>\n",
       "      <td>1</td>\n",
       "      <td>1</td>\n",
       "    </tr>\n",
       "    <tr>\n",
       "      <th rowspan=\"7\" valign=\"top\">zzvflqB4xAcKFbIbS6HSOw</th>\n",
       "      <th>2e2e7WgqU1BnpxmQL5jbfw</th>\n",
       "      <th>5</th>\n",
       "      <td>1</td>\n",
       "      <td>1</td>\n",
       "    </tr>\n",
       "    <tr>\n",
       "      <th>7_fiK6AQbcBlAXsoS7QZRw</th>\n",
       "      <th>4</th>\n",
       "      <td>1</td>\n",
       "      <td>1</td>\n",
       "    </tr>\n",
       "    <tr>\n",
       "      <th>E-vpjU-T7ssWsswziJkJFA</th>\n",
       "      <th>3</th>\n",
       "      <td>1</td>\n",
       "      <td>1</td>\n",
       "    </tr>\n",
       "    <tr>\n",
       "      <th>IRYj1b1-mlXqABVsl9SoqQ</th>\n",
       "      <th>4</th>\n",
       "      <td>1</td>\n",
       "      <td>1</td>\n",
       "    </tr>\n",
       "    <tr>\n",
       "      <th>co0vxQ8ecXiBy2sGDeHi8A</th>\n",
       "      <th>5</th>\n",
       "      <td>1</td>\n",
       "      <td>1</td>\n",
       "    </tr>\n",
       "    <tr>\n",
       "      <th>nhToFLPoqNixNbRK4-xFQg</th>\n",
       "      <th>4</th>\n",
       "      <td>1</td>\n",
       "      <td>1</td>\n",
       "    </tr>\n",
       "    <tr>\n",
       "      <th>vvur3WRgdgnhYoMUXMZZCA</th>\n",
       "      <th>5</th>\n",
       "      <td>1</td>\n",
       "      <td>1</td>\n",
       "    </tr>\n",
       "    <tr>\n",
       "      <th rowspan=\"2\" valign=\"top\">zzvrDmRAYdvIVRGszSFPGQ</th>\n",
       "      <th>OgnHyXXqElaPgs7isOrdBQ</th>\n",
       "      <th>5</th>\n",
       "      <td>1</td>\n",
       "      <td>1</td>\n",
       "    </tr>\n",
       "    <tr>\n",
       "      <th>_w2wIsBh-1M1ZCed2KjLlw</th>\n",
       "      <th>5</th>\n",
       "      <td>1</td>\n",
       "      <td>1</td>\n",
       "    </tr>\n",
       "    <tr>\n",
       "      <th rowspan=\"8\" valign=\"top\">zzx_41wDUNxpcgrdOtERvw</th>\n",
       "      <th>6nfTUgP3UvQ_jhnT8kCpew</th>\n",
       "      <th>3</th>\n",
       "      <td>1</td>\n",
       "      <td>1</td>\n",
       "    </tr>\n",
       "    <tr>\n",
       "      <th>Aenlydbbh9ieUGn7X-X1cw</th>\n",
       "      <th>4</th>\n",
       "      <td>1</td>\n",
       "      <td>1</td>\n",
       "    </tr>\n",
       "    <tr>\n",
       "      <th>CrwzX70X2XV1hlGhk30nYQ</th>\n",
       "      <th>3</th>\n",
       "      <td>1</td>\n",
       "      <td>1</td>\n",
       "    </tr>\n",
       "    <tr>\n",
       "      <th>IkukcWBvBl10_5VPbx-Liw</th>\n",
       "      <th>4</th>\n",
       "      <td>1</td>\n",
       "      <td>1</td>\n",
       "    </tr>\n",
       "    <tr>\n",
       "      <th rowspan=\"2\" valign=\"top\">_leflhF7uTuhDeGqXY6Kuw</th>\n",
       "      <th>2</th>\n",
       "      <td>1</td>\n",
       "      <td>1</td>\n",
       "    </tr>\n",
       "    <tr>\n",
       "      <th>4</th>\n",
       "      <td>1</td>\n",
       "      <td>1</td>\n",
       "    </tr>\n",
       "    <tr>\n",
       "      <th>cXykQLP4Sr3tNii8k-zckg</th>\n",
       "      <th>4</th>\n",
       "      <td>1</td>\n",
       "      <td>1</td>\n",
       "    </tr>\n",
       "    <tr>\n",
       "      <th>wWvInCI38F80lqLvnW26hg</th>\n",
       "      <th>3</th>\n",
       "      <td>1</td>\n",
       "      <td>1</td>\n",
       "    </tr>\n",
       "    <tr>\n",
       "      <th>zzyoUJV5QTUEuuVoICcdYQ</th>\n",
       "      <th>02sOq3KVhvbOzFFmkC4Qtw</th>\n",
       "      <th>1</th>\n",
       "      <td>1</td>\n",
       "      <td>1</td>\n",
       "    </tr>\n",
       "    <tr>\n",
       "      <th rowspan=\"2\" valign=\"top\">zzzPvz9ngot0oq9QDUMkJw</th>\n",
       "      <th>nSFZCaugV5BnkyBLnRXdhA</th>\n",
       "      <th>5</th>\n",
       "      <td>1</td>\n",
       "      <td>1</td>\n",
       "    </tr>\n",
       "    <tr>\n",
       "      <th>tyL1Sj9BgtzH7YPkA6v5ZA</th>\n",
       "      <th>5</th>\n",
       "      <td>1</td>\n",
       "      <td>1</td>\n",
       "    </tr>\n",
       "  </tbody>\n",
       "</table>\n",
       "<p>1340773 rows × 2 columns</p>\n",
       "</div>"
      ],
      "text/plain": [
       "                                                     biz_name  locale\n",
       "user_id                business_id            stars                  \n",
       "--0KsjlAThNWua2Pr4HStQ DoKUOUwAsWrlRY6ehzQV_w 4             1       1\n",
       "                       NjHwPn2d3TL_xxnheXoSmw 3             1       1\n",
       "                       UG1che-DRtvE45Ni2bqwbA 5             1       1\n",
       "                       fUlzYKXFTMFEDQtjzm6GXA 4             1       1\n",
       "                       k-ClRJsPYJtsI8NRtiLdTA 4             1       1\n",
       "                       s4QDG7jg9JafcugkggE6Xg 5             1       1\n",
       "--0mI_q_0D1CdU4P_hoImQ xxOQ7h6s3InV8o8DOVHlMA 5             1       1\n",
       "--2QZsyXGz1OhiD4-0FQLQ 0_LZEAYsexEZS-OFTjdjNQ 4             1       1\n",
       "                       IRYj1b1-mlXqABVsl9SoqQ 5             1       1\n",
       "                       tqu42L0qXzkvYKSruOz0IA 5             1       1\n",
       "--37T3V10ZeoJ1Il7D2Wzw r69rxmc9pdU4AnZkBhTNLA 3             1       1\n",
       "--4TkB_iDShmg41Y_QW9nw 0Zec6RiFV6h6TbOFb7xu3A 5             1       1\n",
       "                       9kWnvBSD2AJ2liXnvGbW1g 5             1       1\n",
       "                       AVQMHeyByhkkYEeDbH9HbQ 5             1       1\n",
       "                       AgJbkqR-wre409if4fTbWQ 5             1       1\n",
       "                       DfLML2IlhUqztTBURxOAxg 5             1       1\n",
       "                       IgQa-Ig5wWMhDQRIWpbEgQ 5             1       1\n",
       "                       JImJictLIE48_O1z-l2TGw 4             1       1\n",
       "                       NR_8LIX-oG50jUQpziBnWQ 5             1       1\n",
       "                       PdWe3jF9YEu5fWBiQXZIgg 2             1       1\n",
       "                       RShrvt5oIS40FrcX6bCHSg 4             1       1\n",
       "                       VEojEXbJ81eiPLSSF9jNEQ 4             1       1\n",
       "                       VjzclBdSXmf6uNrD0DG2bg 4             1       1\n",
       "                       WLDWl3QyQCeZ7EnHxH6Pwg 5             1       1\n",
       "                       WZNU4bQJJHr3p4SjnjVrkg 4             1       1\n",
       "                       Y9D61SRDiTAYJeaVbqvbFg 5             1       1\n",
       "                       _YswYrpv6YdO3R3CP8R8oQ 4             1       1\n",
       "                       b9dv7Q0A8XcJ44zzTDJeYw 4             1       1\n",
       "                       c28zcdBp82B9Vli3WXn8zA 5             1       1\n",
       "                       e0vubCKi8KD8zC2C6FdbuQ 5             1       1\n",
       "...                                                       ...     ...\n",
       "zztT9KKp0rmJRMeMl4CqzQ A8Khz3eeqIFFGaXurg3hxw 4             1       1\n",
       "                       ilJiRYZgxjrEu2iexKu-pQ 1             1       1\n",
       "                       sbsFamEj5wDxNAjUKrMcSw 4             1       1\n",
       "                       wP5849J1DKB2KS3M6UwOAg 1             1       1\n",
       "zzu_HGDO-nv0gHivZrKdpQ -HK7dIj7Eyx0JsfDzgbFKw 3             1       1\n",
       "                       GXqBm5N0yZ3-rCd6hgUM7w 4             1       1\n",
       "                       c_ZoCRssEFl7cKul3Wzm4Q 4             1       1\n",
       "                       wr3bTAXlo6aB5LIbIx6ueQ 5             1       1\n",
       "zzvGAKv1D1fdUwCvXEeQnA TnUgQXUHtx8LwJSfkeylGg 4             1       1\n",
       "                       gltXCxQnlgFJLFcZkwwTBA 4             1       1\n",
       "zzvflqB4xAcKFbIbS6HSOw 2e2e7WgqU1BnpxmQL5jbfw 5             1       1\n",
       "                       7_fiK6AQbcBlAXsoS7QZRw 4             1       1\n",
       "                       E-vpjU-T7ssWsswziJkJFA 3             1       1\n",
       "                       IRYj1b1-mlXqABVsl9SoqQ 4             1       1\n",
       "                       co0vxQ8ecXiBy2sGDeHi8A 5             1       1\n",
       "                       nhToFLPoqNixNbRK4-xFQg 4             1       1\n",
       "                       vvur3WRgdgnhYoMUXMZZCA 5             1       1\n",
       "zzvrDmRAYdvIVRGszSFPGQ OgnHyXXqElaPgs7isOrdBQ 5             1       1\n",
       "                       _w2wIsBh-1M1ZCed2KjLlw 5             1       1\n",
       "zzx_41wDUNxpcgrdOtERvw 6nfTUgP3UvQ_jhnT8kCpew 3             1       1\n",
       "                       Aenlydbbh9ieUGn7X-X1cw 4             1       1\n",
       "                       CrwzX70X2XV1hlGhk30nYQ 3             1       1\n",
       "                       IkukcWBvBl10_5VPbx-Liw 4             1       1\n",
       "                       _leflhF7uTuhDeGqXY6Kuw 2             1       1\n",
       "                                              4             1       1\n",
       "                       cXykQLP4Sr3tNii8k-zckg 4             1       1\n",
       "                       wWvInCI38F80lqLvnW26hg 3             1       1\n",
       "zzyoUJV5QTUEuuVoICcdYQ 02sOq3KVhvbOzFFmkC4Qtw 1             1       1\n",
       "zzzPvz9ngot0oq9QDUMkJw nSFZCaugV5BnkyBLnRXdhA 5             1       1\n",
       "                       tyL1Sj9BgtzH7YPkA6v5ZA 5             1       1\n",
       "\n",
       "[1340773 rows x 2 columns]"
      ]
     },
     "execution_count": 155,
     "metadata": {},
     "output_type": "execute_result"
    }
   ],
   "source": [
    "df.groupby(['user_id', 'business_id', 'stars']).count()"
   ]
  },
  {
   "cell_type": "code",
   "execution_count": null,
   "metadata": {
    "collapsed": false
   },
   "outputs": [],
   "source": []
  },
  {
   "cell_type": "code",
   "execution_count": null,
   "metadata": {
    "collapsed": true
   },
   "outputs": [],
   "source": []
  },
  {
   "cell_type": "code",
   "execution_count": 6,
   "metadata": {
    "collapsed": false
   },
   "outputs": [],
   "source": [
    "# store the observation data in Graphlab's SFrame type\n",
    "sf_obs = gl.SFrame(df[['user_id', 'business_id', 'stars']])"
   ]
  },
  {
   "cell_type": "code",
   "execution_count": 8,
   "metadata": {
    "collapsed": false
   },
   "outputs": [
    {
     "data": {
      "text/html": [
       "<div style=\"max-height:1000px;max-width:1500px;overflow:auto;\"><table frame=\"box\" rules=\"cols\">\n",
       "    <tr>\n",
       "        <th style=\"padding-left: 1em; padding-right: 1em; text-align: center\">user_id</th>\n",
       "        <th style=\"padding-left: 1em; padding-right: 1em; text-align: center\">business_id</th>\n",
       "        <th style=\"padding-left: 1em; padding-right: 1em; text-align: center\">stars</th>\n",
       "    </tr>\n",
       "    <tr>\n",
       "        <td style=\"padding-left: 1em; padding-right: 1em; text-align: center; vertical-align: top\">Ouus3lC3Xk3YRGx4ptd_4A</td>\n",
       "        <td style=\"padding-left: 1em; padding-right: 1em; text-align: center; vertical-align: top\">DW6SI2KxcfXBHeo9jEr4lQ</td>\n",
       "        <td style=\"padding-left: 1em; padding-right: 1em; text-align: center; vertical-align: top\">2</td>\n",
       "    </tr>\n",
       "    <tr>\n",
       "        <td style=\"padding-left: 1em; padding-right: 1em; text-align: center; vertical-align: top\">dz_sBsL69aWzsxksT2O_Mg</td>\n",
       "        <td style=\"padding-left: 1em; padding-right: 1em; text-align: center; vertical-align: top\">DW6SI2KxcfXBHeo9jEr4lQ</td>\n",
       "        <td style=\"padding-left: 1em; padding-right: 1em; text-align: center; vertical-align: top\">2</td>\n",
       "    </tr>\n",
       "    <tr>\n",
       "        <td style=\"padding-left: 1em; padding-right: 1em; text-align: center; vertical-align: top\">zyI-u0C1YOzp5v1j2wuCOQ</td>\n",
       "        <td style=\"padding-left: 1em; padding-right: 1em; text-align: center; vertical-align: top\">DW6SI2KxcfXBHeo9jEr4lQ</td>\n",
       "        <td style=\"padding-left: 1em; padding-right: 1em; text-align: center; vertical-align: top\">3</td>\n",
       "    </tr>\n",
       "    <tr>\n",
       "        <td style=\"padding-left: 1em; padding-right: 1em; text-align: center; vertical-align: top\">vyfsQo-estP8EfiIFMsL6g</td>\n",
       "        <td style=\"padding-left: 1em; padding-right: 1em; text-align: center; vertical-align: top\">DW6SI2KxcfXBHeo9jEr4lQ</td>\n",
       "        <td style=\"padding-left: 1em; padding-right: 1em; text-align: center; vertical-align: top\">3</td>\n",
       "    </tr>\n",
       "    <tr>\n",
       "        <td style=\"padding-left: 1em; padding-right: 1em; text-align: center; vertical-align: top\">lxZSVeJz6KEBW1nlA3JKJg</td>\n",
       "        <td style=\"padding-left: 1em; padding-right: 1em; text-align: center; vertical-align: top\">DW6SI2KxcfXBHeo9jEr4lQ</td>\n",
       "        <td style=\"padding-left: 1em; padding-right: 1em; text-align: center; vertical-align: top\">1</td>\n",
       "    </tr>\n",
       "</table>\n",
       "[5 rows x 3 columns]<br/>\n",
       "</div>"
      ],
      "text/plain": [
       "Columns:\n",
       "\tuser_id\tstr\n",
       "\tbusiness_id\tstr\n",
       "\tstars\tint\n",
       "\n",
       "Rows: 5\n",
       "\n",
       "Data:\n",
       "+------------------------+------------------------+-------+\n",
       "|        user_id         |      business_id       | stars |\n",
       "+------------------------+------------------------+-------+\n",
       "| Ouus3lC3Xk3YRGx4ptd_4A | DW6SI2KxcfXBHeo9jEr4lQ |   2   |\n",
       "| dz_sBsL69aWzsxksT2O_Mg | DW6SI2KxcfXBHeo9jEr4lQ |   2   |\n",
       "| zyI-u0C1YOzp5v1j2wuCOQ | DW6SI2KxcfXBHeo9jEr4lQ |   3   |\n",
       "| vyfsQo-estP8EfiIFMsL6g | DW6SI2KxcfXBHeo9jEr4lQ |   3   |\n",
       "| lxZSVeJz6KEBW1nlA3JKJg | DW6SI2KxcfXBHeo9jEr4lQ |   1   |\n",
       "+------------------------+------------------------+-------+\n",
       "[5 rows x 3 columns]"
      ]
     },
     "execution_count": 8,
     "metadata": {},
     "output_type": "execute_result"
    }
   ],
   "source": [
    "sf_obs.head(5)"
   ]
  },
  {
   "cell_type": "code",
   "execution_count": 277,
   "metadata": {
    "collapsed": false
   },
   "outputs": [
    {
     "data": {
      "text/plain": [
       "1363242"
      ]
     },
     "execution_count": 277,
     "metadata": {},
     "output_type": "execute_result"
    }
   ],
   "source": [
    "sf_obs.num_rows()"
   ]
  },
  {
   "cell_type": "markdown",
   "metadata": {},
   "source": [
    "# Quick EDA"
   ]
  },
  {
   "cell_type": "markdown",
   "metadata": {},
   "source": [
    "## Group reviews by users..."
   ]
  },
  {
   "cell_type": "code",
   "execution_count": 195,
   "metadata": {
    "collapsed": false,
    "scrolled": false
   },
   "outputs": [
    {
     "data": {
      "text/html": [
       "<div style=\"max-height:1000px;max-width:1500px;overflow:auto;\"><table frame=\"box\" rules=\"cols\">\n",
       "    <tr>\n",
       "        <th style=\"padding-left: 1em; padding-right: 1em; text-align: center\">user_id</th>\n",
       "        <th style=\"padding-left: 1em; padding-right: 1em; text-align: center\">Count</th>\n",
       "    </tr>\n",
       "    <tr>\n",
       "        <td style=\"padding-left: 1em; padding-right: 1em; text-align: center; vertical-align: top\">DrWLhrK8WMZf7Jb-Oqc7ww</td>\n",
       "        <td style=\"padding-left: 1em; padding-right: 1em; text-align: center; vertical-align: top\">817</td>\n",
       "    </tr>\n",
       "    <tr>\n",
       "        <td style=\"padding-left: 1em; padding-right: 1em; text-align: center; vertical-align: top\">9A2-wSoBUxlMd3LwmlGrrQ</td>\n",
       "        <td style=\"padding-left: 1em; padding-right: 1em; text-align: center; vertical-align: top\">782</td>\n",
       "    </tr>\n",
       "    <tr>\n",
       "        <td style=\"padding-left: 1em; padding-right: 1em; text-align: center; vertical-align: top\">3gIfcQq5KxAegwCPXc83cQ</td>\n",
       "        <td style=\"padding-left: 1em; padding-right: 1em; text-align: center; vertical-align: top\">754</td>\n",
       "    </tr>\n",
       "    <tr>\n",
       "        <td style=\"padding-left: 1em; padding-right: 1em; text-align: center; vertical-align: top\">Iu3Jo9ROp2IWC9FwtWOaUQ</td>\n",
       "        <td style=\"padding-left: 1em; padding-right: 1em; text-align: center; vertical-align: top\">666</td>\n",
       "    </tr>\n",
       "    <tr>\n",
       "        <td style=\"padding-left: 1em; padding-right: 1em; text-align: center; vertical-align: top\">kGgAARL2UmvCcTRfiscjug</td>\n",
       "        <td style=\"padding-left: 1em; padding-right: 1em; text-align: center; vertical-align: top\">665</td>\n",
       "    </tr>\n",
       "</table>\n",
       "[5 rows x 2 columns]<br/>\n",
       "</div>"
      ],
      "text/plain": [
       "Columns:\n",
       "\tuser_id\tstr\n",
       "\tCount\tint\n",
       "\n",
       "Rows: 5\n",
       "\n",
       "Data:\n",
       "+------------------------+-------+\n",
       "|        user_id         | Count |\n",
       "+------------------------+-------+\n",
       "| DrWLhrK8WMZf7Jb-Oqc7ww |  817  |\n",
       "| 9A2-wSoBUxlMd3LwmlGrrQ |  782  |\n",
       "| 3gIfcQq5KxAegwCPXc83cQ |  754  |\n",
       "| Iu3Jo9ROp2IWC9FwtWOaUQ |  666  |\n",
       "| kGgAARL2UmvCcTRfiscjug |  665  |\n",
       "+------------------------+-------+\n",
       "[5 rows x 2 columns]"
      ]
     },
     "execution_count": 195,
     "metadata": {},
     "output_type": "execute_result"
    }
   ],
   "source": [
    "# number of reviews by user (388k distinct users)\n",
    "review_count_by_user = sf_obs.groupby('user_id', [gl.aggregate.COUNT()]).sort('Count', ascending=False)#['Count']\n",
    "review_count_by_user[0:5]"
   ]
  },
  {
   "cell_type": "code",
   "execution_count": 267,
   "metadata": {
    "collapsed": false
   },
   "outputs": [
    {
     "data": {
      "text/html": [
       "<div style=\"max-height:1000px;max-width:1500px;overflow:auto;\"><table frame=\"box\" rules=\"cols\">\n",
       "    <tr>\n",
       "        <th style=\"padding-left: 1em; padding-right: 1em; text-align: center\">user_id</th>\n",
       "        <th style=\"padding-left: 1em; padding-right: 1em; text-align: center\">Count</th>\n",
       "    </tr>\n",
       "    <tr>\n",
       "        <td style=\"padding-left: 1em; padding-right: 1em; text-align: center; vertical-align: top\">DrWLhrK8WMZf7Jb-Oqc7ww</td>\n",
       "        <td style=\"padding-left: 1em; padding-right: 1em; text-align: center; vertical-align: top\">817</td>\n",
       "    </tr>\n",
       "</table>\n",
       "[1 rows x 2 columns]<br/>\n",
       "</div>"
      ],
      "text/plain": [
       "Columns:\n",
       "\tuser_id\tstr\n",
       "\tCount\tint\n",
       "\n",
       "Rows: 1\n",
       "\n",
       "Data:\n",
       "+------------------------+-------+\n",
       "|        user_id         | Count |\n",
       "+------------------------+-------+\n",
       "| DrWLhrK8WMZf7Jb-Oqc7ww |  817  |\n",
       "+------------------------+-------+\n",
       "[1 rows x 2 columns]"
      ]
     },
     "execution_count": 267,
     "metadata": {},
     "output_type": "execute_result"
    }
   ],
   "source": [
    "review_count_by_user.filter_by('DrWLhrK8WMZf7Jb-Oqc7ww', 'user_id')"
   ]
  },
  {
   "cell_type": "code",
   "execution_count": null,
   "metadata": {
    "collapsed": true
   },
   "outputs": [],
   "source": []
  },
  {
   "cell_type": "code",
   "execution_count": null,
   "metadata": {
    "collapsed": true
   },
   "outputs": [],
   "source": []
  },
  {
   "cell_type": "code",
   "execution_count": 183,
   "metadata": {
    "collapsed": false
   },
   "outputs": [
    {
     "data": {
      "text/html": [
       "<div style=\"max-height:1000px;max-width:1500px;overflow:auto;\"><table frame=\"box\" rules=\"cols\">\n",
       "    <tr>\n",
       "        <th style=\"padding-left: 1em; padding-right: 1em; text-align: center\">business_id</th>\n",
       "        <th style=\"padding-left: 1em; padding-right: 1em; text-align: center\">user_id</th>\n",
       "        <th style=\"padding-left: 1em; padding-right: 1em; text-align: center\">count</th>\n",
       "        <th style=\"padding-left: 1em; padding-right: 1em; text-align: center\">ratings</th>\n",
       "        <th style=\"padding-left: 1em; padding-right: 1em; text-align: center\">avg_rating</th>\n",
       "    </tr>\n",
       "    <tr>\n",
       "        <td style=\"padding-left: 1em; padding-right: 1em; text-align: center; vertical-align: top\">T1jYZFB_7cqdhuvzpxfFWQ</td>\n",
       "        <td style=\"padding-left: 1em; padding-right: 1em; text-align: center; vertical-align: top\">q200TCFOheJfS_MvvwMfJw</td>\n",
       "        <td style=\"padding-left: 1em; padding-right: 1em; text-align: center; vertical-align: top\">29</td>\n",
       "        <td style=\"padding-left: 1em; padding-right: 1em; text-align: center; vertical-align: top\">[3, 4, 4, 3, 2, 3, 4, 3,<br>3, 3, 4, 3, 3, 3, 3, 2, ...</td>\n",
       "        <td style=\"padding-left: 1em; padding-right: 1em; text-align: center; vertical-align: top\">3.13793103448</td>\n",
       "    </tr>\n",
       "    <tr>\n",
       "        <td style=\"padding-left: 1em; padding-right: 1em; text-align: center; vertical-align: top\">6LoNRotewF81fxka6L_8Jw</td>\n",
       "        <td style=\"padding-left: 1em; padding-right: 1em; text-align: center; vertical-align: top\">q200TCFOheJfS_MvvwMfJw</td>\n",
       "        <td style=\"padding-left: 1em; padding-right: 1em; text-align: center; vertical-align: top\">19</td>\n",
       "        <td style=\"padding-left: 1em; padding-right: 1em; text-align: center; vertical-align: top\">[5, 3, 4, 5, 5, 4, 5, 3,<br>3, 5, 5, 5, 5, 5, 5, 5, ...</td>\n",
       "        <td style=\"padding-left: 1em; padding-right: 1em; text-align: center; vertical-align: top\">4.57894736842</td>\n",
       "    </tr>\n",
       "    <tr>\n",
       "        <td style=\"padding-left: 1em; padding-right: 1em; text-align: center; vertical-align: top\">8aPTQeDYOMNEu907WfflCQ</td>\n",
       "        <td style=\"padding-left: 1em; padding-right: 1em; text-align: center; vertical-align: top\">_Q4Ks28-Jks-TjFT-YXw_A</td>\n",
       "        <td style=\"padding-left: 1em; padding-right: 1em; text-align: center; vertical-align: top\">18</td>\n",
       "        <td style=\"padding-left: 1em; padding-right: 1em; text-align: center; vertical-align: top\">[5, 4, 4, 4, 4, 4, 4, 4,<br>4, 3, 5, 4, 4, 4, 4, 4, ...</td>\n",
       "        <td style=\"padding-left: 1em; padding-right: 1em; text-align: center; vertical-align: top\">4.05555555556</td>\n",
       "    </tr>\n",
       "    <tr>\n",
       "        <td style=\"padding-left: 1em; padding-right: 1em; text-align: center; vertical-align: top\">yumgsa9m02CACzq0dHZP7Q</td>\n",
       "        <td style=\"padding-left: 1em; padding-right: 1em; text-align: center; vertical-align: top\">q200TCFOheJfS_MvvwMfJw</td>\n",
       "        <td style=\"padding-left: 1em; padding-right: 1em; text-align: center; vertical-align: top\">18</td>\n",
       "        <td style=\"padding-left: 1em; padding-right: 1em; text-align: center; vertical-align: top\">[3, 4, 4, 4, 4, 4, 4, 3,<br>3, 4, 4, 3, 3, 5, 2, 4, ...</td>\n",
       "        <td style=\"padding-left: 1em; padding-right: 1em; text-align: center; vertical-align: top\">3.55555555556</td>\n",
       "    </tr>\n",
       "    <tr>\n",
       "        <td style=\"padding-left: 1em; padding-right: 1em; text-align: center; vertical-align: top\">iaEqryy7OwAOAQkLWDBquQ</td>\n",
       "        <td style=\"padding-left: 1em; padding-right: 1em; text-align: center; vertical-align: top\">kG8jkVFgOAOq6Ht6RvAjEQ</td>\n",
       "        <td style=\"padding-left: 1em; padding-right: 1em; text-align: center; vertical-align: top\">14</td>\n",
       "        <td style=\"padding-left: 1em; padding-right: 1em; text-align: center; vertical-align: top\">[4, 4, 5, 5, 5, 5, 5, 5,<br>5, 5, 5, 5, 5, 5] ...</td>\n",
       "        <td style=\"padding-left: 1em; padding-right: 1em; text-align: center; vertical-align: top\">4.85714285714</td>\n",
       "    </tr>\n",
       "    <tr>\n",
       "        <td style=\"padding-left: 1em; padding-right: 1em; text-align: center; vertical-align: top\">QJlab4DqvBRJPUfg7Vn5ZQ</td>\n",
       "        <td style=\"padding-left: 1em; padding-right: 1em; text-align: center; vertical-align: top\">sDmgmT9RloG4sWpOu2QxnQ</td>\n",
       "        <td style=\"padding-left: 1em; padding-right: 1em; text-align: center; vertical-align: top\">13</td>\n",
       "        <td style=\"padding-left: 1em; padding-right: 1em; text-align: center; vertical-align: top\">[5, 5, 5, 5, 5, 5, 5, 5,<br>5, 4, 3, 5, 3] ...</td>\n",
       "        <td style=\"padding-left: 1em; padding-right: 1em; text-align: center; vertical-align: top\">4.61538461538</td>\n",
       "    </tr>\n",
       "    <tr>\n",
       "        <td style=\"padding-left: 1em; padding-right: 1em; text-align: center; vertical-align: top\">H9sWBAMvZFbSxbL6NmHyQQ</td>\n",
       "        <td style=\"padding-left: 1em; padding-right: 1em; text-align: center; vertical-align: top\">I3YCZ949bRqm4vVW3VJdwA</td>\n",
       "        <td style=\"padding-left: 1em; padding-right: 1em; text-align: center; vertical-align: top\">13</td>\n",
       "        <td style=\"padding-left: 1em; padding-right: 1em; text-align: center; vertical-align: top\">[1, 1, 1, 2, 4, 2, 5, 5,<br>2, 1, 5, 1, 1] ...</td>\n",
       "        <td style=\"padding-left: 1em; padding-right: 1em; text-align: center; vertical-align: top\">2.38461538462</td>\n",
       "    </tr>\n",
       "    <tr>\n",
       "        <td style=\"padding-left: 1em; padding-right: 1em; text-align: center; vertical-align: top\">puy0PzIcCgR3KWJI7llBFQ</td>\n",
       "        <td style=\"padding-left: 1em; padding-right: 1em; text-align: center; vertical-align: top\">_Q4Ks28-Jks-TjFT-YXw_A</td>\n",
       "        <td style=\"padding-left: 1em; padding-right: 1em; text-align: center; vertical-align: top\">12</td>\n",
       "        <td style=\"padding-left: 1em; padding-right: 1em; text-align: center; vertical-align: top\">[4, 4, 4, 4, 4, 4, 5, 4,<br>2, 4, 5, 3] ...</td>\n",
       "        <td style=\"padding-left: 1em; padding-right: 1em; text-align: center; vertical-align: top\">3.91666666667</td>\n",
       "    </tr>\n",
       "    <tr>\n",
       "        <td style=\"padding-left: 1em; padding-right: 1em; text-align: center; vertical-align: top\">NYg-hgqjQvq5RDRcV7iv8A</td>\n",
       "        <td style=\"padding-left: 1em; padding-right: 1em; text-align: center; vertical-align: top\">6PbjXuKOBGDe58rE85bl_g</td>\n",
       "        <td style=\"padding-left: 1em; padding-right: 1em; text-align: center; vertical-align: top\">12</td>\n",
       "        <td style=\"padding-left: 1em; padding-right: 1em; text-align: center; vertical-align: top\">[5, 5, 5, 5, 5, 5, 5, 5,<br>5, 5, 5, 5] ...</td>\n",
       "        <td style=\"padding-left: 1em; padding-right: 1em; text-align: center; vertical-align: top\">5.0</td>\n",
       "    </tr>\n",
       "    <tr>\n",
       "        <td style=\"padding-left: 1em; padding-right: 1em; text-align: center; vertical-align: top\">EQxbEKkHxNvRT_-S5A-Gcw</td>\n",
       "        <td style=\"padding-left: 1em; padding-right: 1em; text-align: center; vertical-align: top\">l-q56HHPUCi_LcJbuT-_Xw</td>\n",
       "        <td style=\"padding-left: 1em; padding-right: 1em; text-align: center; vertical-align: top\">11</td>\n",
       "        <td style=\"padding-left: 1em; padding-right: 1em; text-align: center; vertical-align: top\">[5, 1, 5, 4, 5, 5, 2, 5,<br>2, 5, 5] ...</td>\n",
       "        <td style=\"padding-left: 1em; padding-right: 1em; text-align: center; vertical-align: top\">4.0</td>\n",
       "    </tr>\n",
       "</table>\n",
       "[1319469 rows x 5 columns]<br/>Note: Only the head of the SFrame is printed.<br/>You can use print_rows(num_rows=m, num_columns=n) to print more rows and columns.\n",
       "</div>"
      ],
      "text/plain": [
       "Columns:\n",
       "\tbusiness_id\tstr\n",
       "\tuser_id\tstr\n",
       "\tcount\tint\n",
       "\tratings\tlist\n",
       "\tavg_rating\tfloat\n",
       "\n",
       "Rows: 1319469\n",
       "\n",
       "Data:\n",
       "+------------------------+------------------------+-------+\n",
       "|      business_id       |        user_id         | count |\n",
       "+------------------------+------------------------+-------+\n",
       "| T1jYZFB_7cqdhuvzpxfFWQ | q200TCFOheJfS_MvvwMfJw |   29  |\n",
       "| 6LoNRotewF81fxka6L_8Jw | q200TCFOheJfS_MvvwMfJw |   19  |\n",
       "| 8aPTQeDYOMNEu907WfflCQ | _Q4Ks28-Jks-TjFT-YXw_A |   18  |\n",
       "| yumgsa9m02CACzq0dHZP7Q | q200TCFOheJfS_MvvwMfJw |   18  |\n",
       "| iaEqryy7OwAOAQkLWDBquQ | kG8jkVFgOAOq6Ht6RvAjEQ |   14  |\n",
       "| QJlab4DqvBRJPUfg7Vn5ZQ | sDmgmT9RloG4sWpOu2QxnQ |   13  |\n",
       "| H9sWBAMvZFbSxbL6NmHyQQ | I3YCZ949bRqm4vVW3VJdwA |   13  |\n",
       "| puy0PzIcCgR3KWJI7llBFQ | _Q4Ks28-Jks-TjFT-YXw_A |   12  |\n",
       "| NYg-hgqjQvq5RDRcV7iv8A | 6PbjXuKOBGDe58rE85bl_g |   12  |\n",
       "| EQxbEKkHxNvRT_-S5A-Gcw | l-q56HHPUCi_LcJbuT-_Xw |   11  |\n",
       "+------------------------+------------------------+-------+\n",
       "+-------------------------------+---------------+\n",
       "|            ratings            |   avg_rating  |\n",
       "+-------------------------------+---------------+\n",
       "| [3, 4, 4, 3, 2, 3, 4, 3, 3... | 3.13793103448 |\n",
       "| [5, 3, 4, 5, 5, 4, 5, 3, 3... | 4.57894736842 |\n",
       "| [5, 4, 4, 4, 4, 4, 4, 4, 4... | 4.05555555556 |\n",
       "| [3, 4, 4, 4, 4, 4, 4, 3, 3... | 3.55555555556 |\n",
       "| [4, 4, 5, 5, 5, 5, 5, 5, 5... | 4.85714285714 |\n",
       "| [5, 5, 5, 5, 5, 5, 5, 5, 5... | 4.61538461538 |\n",
       "| [1, 1, 1, 2, 4, 2, 5, 5, 2... | 2.38461538462 |\n",
       "| [4, 4, 4, 4, 4, 4, 5, 4, 2... | 3.91666666667 |\n",
       "| [5, 5, 5, 5, 5, 5, 5, 5, 5... |      5.0      |\n",
       "| [5, 1, 5, 4, 5, 5, 2, 5, 2... |      4.0      |\n",
       "+-------------------------------+---------------+\n",
       "[1319469 rows x 5 columns]\n",
       "Note: Only the head of the SFrame is printed.\n",
       "You can use print_rows(num_rows=m, num_columns=n) to print more rows and columns."
      ]
     },
     "execution_count": 183,
     "metadata": {},
     "output_type": "execute_result"
    }
   ],
   "source": [
    "# how many times have the same user reviewed the same restaurant?\n",
    "unique_user_items = sf_obs.groupby(['user_id', 'business_id'],\n",
    "                                   {'count': gl.aggregate.COUNT(),\n",
    "                                    'avg_rating': gl.aggregate.AVG('stars'),\n",
    "                                    'ratings': gl.aggregate.CONCAT('stars')}) \\\n",
    "                          .sort('count', ascending=False)\n",
    "\n",
    "unique_user_items"
   ]
  },
  {
   "cell_type": "code",
   "execution_count": 268,
   "metadata": {
    "collapsed": false
   },
   "outputs": [
    {
     "data": {
      "text/html": [
       "<div style=\"max-height:1000px;max-width:1500px;overflow:auto;\"><table frame=\"box\" rules=\"cols\">\n",
       "    <tr>\n",
       "        <th style=\"padding-left: 1em; padding-right: 1em; text-align: center\">business_id</th>\n",
       "        <th style=\"padding-left: 1em; padding-right: 1em; text-align: center\">user_id</th>\n",
       "        <th style=\"padding-left: 1em; padding-right: 1em; text-align: center\">count</th>\n",
       "        <th style=\"padding-left: 1em; padding-right: 1em; text-align: center\">ratings</th>\n",
       "        <th style=\"padding-left: 1em; padding-right: 1em; text-align: center\">avg_rating</th>\n",
       "    </tr>\n",
       "    <tr>\n",
       "        <td style=\"padding-left: 1em; padding-right: 1em; text-align: center; vertical-align: top\">rVUEZpHQfWI_3kt0lBwaxQ</td>\n",
       "        <td style=\"padding-left: 1em; padding-right: 1em; text-align: center; vertical-align: top\">DrWLhrK8WMZf7Jb-Oqc7ww</td>\n",
       "        <td style=\"padding-left: 1em; padding-right: 1em; text-align: center; vertical-align: top\">5</td>\n",
       "        <td style=\"padding-left: 1em; padding-right: 1em; text-align: center; vertical-align: top\">[4, 4, 4, 4, 4]</td>\n",
       "        <td style=\"padding-left: 1em; padding-right: 1em; text-align: center; vertical-align: top\">4.0</td>\n",
       "    </tr>\n",
       "    <tr>\n",
       "        <td style=\"padding-left: 1em; padding-right: 1em; text-align: center; vertical-align: top\">vMeO4qFGHvu8ZyMsH0LDdw</td>\n",
       "        <td style=\"padding-left: 1em; padding-right: 1em; text-align: center; vertical-align: top\">DrWLhrK8WMZf7Jb-Oqc7ww</td>\n",
       "        <td style=\"padding-left: 1em; padding-right: 1em; text-align: center; vertical-align: top\">5</td>\n",
       "        <td style=\"padding-left: 1em; padding-right: 1em; text-align: center; vertical-align: top\">[1, 3, 4, 3, 2]</td>\n",
       "        <td style=\"padding-left: 1em; padding-right: 1em; text-align: center; vertical-align: top\">2.6</td>\n",
       "    </tr>\n",
       "    <tr>\n",
       "        <td style=\"padding-left: 1em; padding-right: 1em; text-align: center; vertical-align: top\">aLMStInNBczJKtIJFMlwJA</td>\n",
       "        <td style=\"padding-left: 1em; padding-right: 1em; text-align: center; vertical-align: top\">DrWLhrK8WMZf7Jb-Oqc7ww</td>\n",
       "        <td style=\"padding-left: 1em; padding-right: 1em; text-align: center; vertical-align: top\">5</td>\n",
       "        <td style=\"padding-left: 1em; padding-right: 1em; text-align: center; vertical-align: top\">[4, 4, 4, 4, 3]</td>\n",
       "        <td style=\"padding-left: 1em; padding-right: 1em; text-align: center; vertical-align: top\">3.8</td>\n",
       "    </tr>\n",
       "    <tr>\n",
       "        <td style=\"padding-left: 1em; padding-right: 1em; text-align: center; vertical-align: top\">ytpmoIty7loFB8kRYRtJHw</td>\n",
       "        <td style=\"padding-left: 1em; padding-right: 1em; text-align: center; vertical-align: top\">DrWLhrK8WMZf7Jb-Oqc7ww</td>\n",
       "        <td style=\"padding-left: 1em; padding-right: 1em; text-align: center; vertical-align: top\">4</td>\n",
       "        <td style=\"padding-left: 1em; padding-right: 1em; text-align: center; vertical-align: top\">[5, 5, 5, 4]</td>\n",
       "        <td style=\"padding-left: 1em; padding-right: 1em; text-align: center; vertical-align: top\">4.75</td>\n",
       "    </tr>\n",
       "    <tr>\n",
       "        <td style=\"padding-left: 1em; padding-right: 1em; text-align: center; vertical-align: top\">ymSMV5wMjFwcusoGRaqDWA</td>\n",
       "        <td style=\"padding-left: 1em; padding-right: 1em; text-align: center; vertical-align: top\">DrWLhrK8WMZf7Jb-Oqc7ww</td>\n",
       "        <td style=\"padding-left: 1em; padding-right: 1em; text-align: center; vertical-align: top\">4</td>\n",
       "        <td style=\"padding-left: 1em; padding-right: 1em; text-align: center; vertical-align: top\">[4, 2, 4, 5]</td>\n",
       "        <td style=\"padding-left: 1em; padding-right: 1em; text-align: center; vertical-align: top\">3.75</td>\n",
       "    </tr>\n",
       "    <tr>\n",
       "        <td style=\"padding-left: 1em; padding-right: 1em; text-align: center; vertical-align: top\">z3yFuLVrmH-3RJruPEMYKw</td>\n",
       "        <td style=\"padding-left: 1em; padding-right: 1em; text-align: center; vertical-align: top\">DrWLhrK8WMZf7Jb-Oqc7ww</td>\n",
       "        <td style=\"padding-left: 1em; padding-right: 1em; text-align: center; vertical-align: top\">4</td>\n",
       "        <td style=\"padding-left: 1em; padding-right: 1em; text-align: center; vertical-align: top\">[3, 3, 1, 3]</td>\n",
       "        <td style=\"padding-left: 1em; padding-right: 1em; text-align: center; vertical-align: top\">2.5</td>\n",
       "    </tr>\n",
       "    <tr>\n",
       "        <td style=\"padding-left: 1em; padding-right: 1em; text-align: center; vertical-align: top\">9SKdOoDHcFoxK5ZtsgHJoA</td>\n",
       "        <td style=\"padding-left: 1em; padding-right: 1em; text-align: center; vertical-align: top\">DrWLhrK8WMZf7Jb-Oqc7ww</td>\n",
       "        <td style=\"padding-left: 1em; padding-right: 1em; text-align: center; vertical-align: top\">4</td>\n",
       "        <td style=\"padding-left: 1em; padding-right: 1em; text-align: center; vertical-align: top\">[3, 4, 2, 3]</td>\n",
       "        <td style=\"padding-left: 1em; padding-right: 1em; text-align: center; vertical-align: top\">3.0</td>\n",
       "    </tr>\n",
       "    <tr>\n",
       "        <td style=\"padding-left: 1em; padding-right: 1em; text-align: center; vertical-align: top\">Q8OMwgekiTtgClSiRcQcSw</td>\n",
       "        <td style=\"padding-left: 1em; padding-right: 1em; text-align: center; vertical-align: top\">DrWLhrK8WMZf7Jb-Oqc7ww</td>\n",
       "        <td style=\"padding-left: 1em; padding-right: 1em; text-align: center; vertical-align: top\">4</td>\n",
       "        <td style=\"padding-left: 1em; padding-right: 1em; text-align: center; vertical-align: top\">[3, 3, 4, 3]</td>\n",
       "        <td style=\"padding-left: 1em; padding-right: 1em; text-align: center; vertical-align: top\">3.25</td>\n",
       "    </tr>\n",
       "    <tr>\n",
       "        <td style=\"padding-left: 1em; padding-right: 1em; text-align: center; vertical-align: top\">n6Zz_KdxcUou8b2MSoz2tw</td>\n",
       "        <td style=\"padding-left: 1em; padding-right: 1em; text-align: center; vertical-align: top\">DrWLhrK8WMZf7Jb-Oqc7ww</td>\n",
       "        <td style=\"padding-left: 1em; padding-right: 1em; text-align: center; vertical-align: top\">4</td>\n",
       "        <td style=\"padding-left: 1em; padding-right: 1em; text-align: center; vertical-align: top\">[3, 3, 3, 3]</td>\n",
       "        <td style=\"padding-left: 1em; padding-right: 1em; text-align: center; vertical-align: top\">3.0</td>\n",
       "    </tr>\n",
       "    <tr>\n",
       "        <td style=\"padding-left: 1em; padding-right: 1em; text-align: center; vertical-align: top\">v7OwbHgNgy_VQ9eP5FjvUA</td>\n",
       "        <td style=\"padding-left: 1em; padding-right: 1em; text-align: center; vertical-align: top\">DrWLhrK8WMZf7Jb-Oqc7ww</td>\n",
       "        <td style=\"padding-left: 1em; padding-right: 1em; text-align: center; vertical-align: top\">4</td>\n",
       "        <td style=\"padding-left: 1em; padding-right: 1em; text-align: center; vertical-align: top\">[5, 5, 3, 4]</td>\n",
       "        <td style=\"padding-left: 1em; padding-right: 1em; text-align: center; vertical-align: top\">4.25</td>\n",
       "    </tr>\n",
       "</table>\n",
       "[637 rows x 5 columns]<br/>Note: Only the head of the SFrame is printed.<br/>You can use print_rows(num_rows=m, num_columns=n) to print more rows and columns.\n",
       "</div>"
      ],
      "text/plain": [
       "Columns:\n",
       "\tbusiness_id\tstr\n",
       "\tuser_id\tstr\n",
       "\tcount\tint\n",
       "\tratings\tlist\n",
       "\tavg_rating\tfloat\n",
       "\n",
       "Rows: 637\n",
       "\n",
       "Data:\n",
       "+------------------------+------------------------+-------+-----------------+\n",
       "|      business_id       |        user_id         | count |     ratings     |\n",
       "+------------------------+------------------------+-------+-----------------+\n",
       "| rVUEZpHQfWI_3kt0lBwaxQ | DrWLhrK8WMZf7Jb-Oqc7ww |   5   | [4, 4, 4, 4, 4] |\n",
       "| vMeO4qFGHvu8ZyMsH0LDdw | DrWLhrK8WMZf7Jb-Oqc7ww |   5   | [1, 3, 4, 3, 2] |\n",
       "| aLMStInNBczJKtIJFMlwJA | DrWLhrK8WMZf7Jb-Oqc7ww |   5   | [4, 4, 4, 4, 3] |\n",
       "| ytpmoIty7loFB8kRYRtJHw | DrWLhrK8WMZf7Jb-Oqc7ww |   4   |   [5, 5, 5, 4]  |\n",
       "| ymSMV5wMjFwcusoGRaqDWA | DrWLhrK8WMZf7Jb-Oqc7ww |   4   |   [4, 2, 4, 5]  |\n",
       "| z3yFuLVrmH-3RJruPEMYKw | DrWLhrK8WMZf7Jb-Oqc7ww |   4   |   [3, 3, 1, 3]  |\n",
       "| 9SKdOoDHcFoxK5ZtsgHJoA | DrWLhrK8WMZf7Jb-Oqc7ww |   4   |   [3, 4, 2, 3]  |\n",
       "| Q8OMwgekiTtgClSiRcQcSw | DrWLhrK8WMZf7Jb-Oqc7ww |   4   |   [3, 3, 4, 3]  |\n",
       "| n6Zz_KdxcUou8b2MSoz2tw | DrWLhrK8WMZf7Jb-Oqc7ww |   4   |   [3, 3, 3, 3]  |\n",
       "| v7OwbHgNgy_VQ9eP5FjvUA | DrWLhrK8WMZf7Jb-Oqc7ww |   4   |   [5, 5, 3, 4]  |\n",
       "+------------------------+------------------------+-------+-----------------+\n",
       "+------------+\n",
       "| avg_rating |\n",
       "+------------+\n",
       "|    4.0     |\n",
       "|    2.6     |\n",
       "|    3.8     |\n",
       "|    4.75    |\n",
       "|    3.75    |\n",
       "|    2.5     |\n",
       "|    3.0     |\n",
       "|    3.25    |\n",
       "|    3.0     |\n",
       "|    4.25    |\n",
       "+------------+\n",
       "[637 rows x 5 columns]\n",
       "Note: Only the head of the SFrame is printed.\n",
       "You can use print_rows(num_rows=m, num_columns=n) to print more rows and columns."
      ]
     },
     "execution_count": 268,
     "metadata": {},
     "output_type": "execute_result"
    }
   ],
   "source": [
    "unique_user_items.filter_by('DrWLhrK8WMZf7Jb-Oqc7ww', 'user_id')"
   ]
  },
  {
   "cell_type": "code",
   "execution_count": 184,
   "metadata": {
    "collapsed": false
   },
   "outputs": [
    {
     "data": {
      "text/html": [
       "<div style=\"max-height:1000px;max-width:1500px;overflow:auto;\"><table frame=\"box\" rules=\"cols\">\n",
       "    <tr>\n",
       "        <th style=\"padding-left: 1em; padding-right: 1em; text-align: center\">user_id</th>\n",
       "        <th style=\"padding-left: 1em; padding-right: 1em; text-align: center\">count</th>\n",
       "        <th style=\"padding-left: 1em; padding-right: 1em; text-align: center\">restaurants</th>\n",
       "    </tr>\n",
       "    <tr>\n",
       "        <td style=\"padding-left: 1em; padding-right: 1em; text-align: center; vertical-align: top\">9A2-wSoBUxlMd3LwmlGrrQ</td>\n",
       "        <td style=\"padding-left: 1em; padding-right: 1em; text-align: center; vertical-align: top\">768</td>\n",
       "        <td style=\"padding-left: 1em; padding-right: 1em; text-align: center; vertical-align: top\">{'IjhfUYq7ipHUfm8GeMTJnA'<br>: 3.0, ...</td>\n",
       "    </tr>\n",
       "    <tr>\n",
       "        <td style=\"padding-left: 1em; padding-right: 1em; text-align: center; vertical-align: top\">3gIfcQq5KxAegwCPXc83cQ</td>\n",
       "        <td style=\"padding-left: 1em; padding-right: 1em; text-align: center; vertical-align: top\">688</td>\n",
       "        <td style=\"padding-left: 1em; padding-right: 1em; text-align: center; vertical-align: top\">{'rZbHg4ACfN3iShdsT47WKQ'<br>: 4.0, ...</td>\n",
       "    </tr>\n",
       "    <tr>\n",
       "        <td style=\"padding-left: 1em; padding-right: 1em; text-align: center; vertical-align: top\">DrWLhrK8WMZf7Jb-Oqc7ww</td>\n",
       "        <td style=\"padding-left: 1em; padding-right: 1em; text-align: center; vertical-align: top\">637</td>\n",
       "        <td style=\"padding-left: 1em; padding-right: 1em; text-align: center; vertical-align: top\">{'rZbHg4ACfN3iShdsT47WKQ'<br>: 1.0, ...</td>\n",
       "    </tr>\n",
       "    <tr>\n",
       "        <td style=\"padding-left: 1em; padding-right: 1em; text-align: center; vertical-align: top\">Iu3Jo9ROp2IWC9FwtWOaUQ</td>\n",
       "        <td style=\"padding-left: 1em; padding-right: 1em; text-align: center; vertical-align: top\">618</td>\n",
       "        <td style=\"padding-left: 1em; padding-right: 1em; text-align: center; vertical-align: top\">{'3w5gd4EuSc75UKYMJiNUPA'<br>: 5.0, ...</td>\n",
       "    </tr>\n",
       "    <tr>\n",
       "        <td style=\"padding-left: 1em; padding-right: 1em; text-align: center; vertical-align: top\">kGgAARL2UmvCcTRfiscjug</td>\n",
       "        <td style=\"padding-left: 1em; padding-right: 1em; text-align: center; vertical-align: top\">600</td>\n",
       "        <td style=\"padding-left: 1em; padding-right: 1em; text-align: center; vertical-align: top\">{'Shy4HqmyEewCLvq7Ub3Whg'<br>: 3.0, ...</td>\n",
       "    </tr>\n",
       "    <tr>\n",
       "        <td style=\"padding-left: 1em; padding-right: 1em; text-align: center; vertical-align: top\">pEVf8GRshP9HUkSpizc9LA</td>\n",
       "        <td style=\"padding-left: 1em; padding-right: 1em; text-align: center; vertical-align: top\">598</td>\n",
       "        <td style=\"padding-left: 1em; padding-right: 1em; text-align: center; vertical-align: top\">{'rZbHg4ACfN3iShdsT47WKQ'<br>: 5.0, ...</td>\n",
       "    </tr>\n",
       "    <tr>\n",
       "        <td style=\"padding-left: 1em; padding-right: 1em; text-align: center; vertical-align: top\">ia1nTRAQEaFWv0cwADeK7g</td>\n",
       "        <td style=\"padding-left: 1em; padding-right: 1em; text-align: center; vertical-align: top\">581</td>\n",
       "        <td style=\"padding-left: 1em; padding-right: 1em; text-align: center; vertical-align: top\">{'lfaZQpkJWKl_DL8FEfAvJw'<br>: 2.0, ...</td>\n",
       "    </tr>\n",
       "    <tr>\n",
       "        <td style=\"padding-left: 1em; padding-right: 1em; text-align: center; vertical-align: top\">uZbTb-u-GVjTa2gtQfry5g</td>\n",
       "        <td style=\"padding-left: 1em; padding-right: 1em; text-align: center; vertical-align: top\">524</td>\n",
       "        <td style=\"padding-left: 1em; padding-right: 1em; text-align: center; vertical-align: top\">{'1ldDbggHHgPlj3k0SpBTKQ'<br>: 2.0, 'kIco4kv- ...</td>\n",
       "    </tr>\n",
       "    <tr>\n",
       "        <td style=\"padding-left: 1em; padding-right: 1em; text-align: center; vertical-align: top\">90a6z--_CUrl84aCzZyPsg</td>\n",
       "        <td style=\"padding-left: 1em; padding-right: 1em; text-align: center; vertical-align: top\">490</td>\n",
       "        <td style=\"padding-left: 1em; padding-right: 1em; text-align: center; vertical-align: top\">{'e5gB2kDFaodtxMTa53C29g'<br>: 4.0, '5N9bWl5zWuDX- ...</td>\n",
       "    </tr>\n",
       "    <tr>\n",
       "        <td style=\"padding-left: 1em; padding-right: 1em; text-align: center; vertical-align: top\">glRXVWWD6x1EZKfjJawTOg</td>\n",
       "        <td style=\"padding-left: 1em; padding-right: 1em; text-align: center; vertical-align: top\">464</td>\n",
       "        <td style=\"padding-left: 1em; padding-right: 1em; text-align: center; vertical-align: top\">{'1ldDbggHHgPlj3k0SpBTKQ'<br>: 3.0, ...</td>\n",
       "    </tr>\n",
       "</table>\n",
       "[388612 rows x 3 columns]<br/>Note: Only the head of the SFrame is printed.<br/>You can use print_rows(num_rows=m, num_columns=n) to print more rows and columns.\n",
       "</div>"
      ],
      "text/plain": [
       "Columns:\n",
       "\tuser_id\tstr\n",
       "\tcount\tint\n",
       "\trestaurants\tdict\n",
       "\n",
       "Rows: 388612\n",
       "\n",
       "Data:\n",
       "+------------------------+-------+-------------------------------+\n",
       "|        user_id         | count |          restaurants          |\n",
       "+------------------------+-------+-------------------------------+\n",
       "| 9A2-wSoBUxlMd3LwmlGrrQ |  768  | {'IjhfUYq7ipHUfm8GeMTJnA':... |\n",
       "| 3gIfcQq5KxAegwCPXc83cQ |  688  | {'rZbHg4ACfN3iShdsT47WKQ':... |\n",
       "| DrWLhrK8WMZf7Jb-Oqc7ww |  637  | {'rZbHg4ACfN3iShdsT47WKQ':... |\n",
       "| Iu3Jo9ROp2IWC9FwtWOaUQ |  618  | {'3w5gd4EuSc75UKYMJiNUPA':... |\n",
       "| kGgAARL2UmvCcTRfiscjug |  600  | {'Shy4HqmyEewCLvq7Ub3Whg':... |\n",
       "| pEVf8GRshP9HUkSpizc9LA |  598  | {'rZbHg4ACfN3iShdsT47WKQ':... |\n",
       "| ia1nTRAQEaFWv0cwADeK7g |  581  | {'lfaZQpkJWKl_DL8FEfAvJw':... |\n",
       "| uZbTb-u-GVjTa2gtQfry5g |  524  | {'1ldDbggHHgPlj3k0SpBTKQ':... |\n",
       "| 90a6z--_CUrl84aCzZyPsg |  490  | {'e5gB2kDFaodtxMTa53C29g':... |\n",
       "| glRXVWWD6x1EZKfjJawTOg |  464  | {'1ldDbggHHgPlj3k0SpBTKQ':... |\n",
       "+------------------------+-------+-------------------------------+\n",
       "[388612 rows x 3 columns]\n",
       "Note: Only the head of the SFrame is printed.\n",
       "You can use print_rows(num_rows=m, num_columns=n) to print more rows and columns."
      ]
     },
     "execution_count": 184,
     "metadata": {},
     "output_type": "execute_result"
    }
   ],
   "source": [
    "# group reviews by users, against distinct restaurants.\n",
    "# Some users reviewed same restaurants multiple times!!!\n",
    "restaurants_by_user = unique_user_items.groupby('user_id',\n",
    "                                                {'count':gl.aggregate.COUNT(),\n",
    "                                                 'restaurants':gl.aggregate.CONCAT('business_id','avg_rating')}) \\\n",
    "                                       .sort('count', ascending=False)\n",
    "restaurants_by_user"
   ]
  },
  {
   "cell_type": "code",
   "execution_count": 266,
   "metadata": {
    "collapsed": false,
    "scrolled": false
   },
   "outputs": [
    {
     "data": {
      "text/html": [
       "<div style=\"max-height:1000px;max-width:1500px;overflow:auto;\"><table frame=\"box\" rules=\"cols\">\n",
       "    <tr>\n",
       "        <th style=\"padding-left: 1em; padding-right: 1em; text-align: center\">user_id</th>\n",
       "        <th style=\"padding-left: 1em; padding-right: 1em; text-align: center\">count</th>\n",
       "        <th style=\"padding-left: 1em; padding-right: 1em; text-align: center\">restaurants</th>\n",
       "    </tr>\n",
       "    <tr>\n",
       "        <td style=\"padding-left: 1em; padding-right: 1em; text-align: center; vertical-align: top\">q200TCFOheJfS_MvvwMfJw</td>\n",
       "        <td style=\"padding-left: 1em; padding-right: 1em; text-align: center; vertical-align: top\">38</td>\n",
       "        <td style=\"padding-left: 1em; padding-right: 1em; text-align: center; vertical-align: top\">{'paR-<br>TLy42ZmBWhahAxCWAw':  ...</td>\n",
       "    </tr>\n",
       "</table>\n",
       "[1 rows x 3 columns]<br/>\n",
       "</div>"
      ],
      "text/plain": [
       "Columns:\n",
       "\tuser_id\tstr\n",
       "\tcount\tint\n",
       "\trestaurants\tdict\n",
       "\n",
       "Rows: 1\n",
       "\n",
       "Data:\n",
       "+------------------------+-------+-------------------------------+\n",
       "|        user_id         | count |          restaurants          |\n",
       "+------------------------+-------+-------------------------------+\n",
       "| q200TCFOheJfS_MvvwMfJw |   38  | {'paR-TLy42ZmBWhahAxCWAw':... |\n",
       "+------------------------+-------+-------------------------------+\n",
       "[1 rows x 3 columns]"
      ]
     },
     "execution_count": 266,
     "metadata": {},
     "output_type": "execute_result"
    }
   ],
   "source": [
    "restaurants_by_user.filter_by('q200TCFOheJfS_MvvwMfJw', 'user_id')#['restaurants']"
   ]
  },
  {
   "cell_type": "code",
   "execution_count": 269,
   "metadata": {
    "collapsed": false
   },
   "outputs": [
    {
     "data": {
      "text/html": [
       "<div style=\"max-height:1000px;max-width:1500px;overflow:auto;\"><table frame=\"box\" rules=\"cols\">\n",
       "    <tr>\n",
       "        <th style=\"padding-left: 1em; padding-right: 1em; text-align: center\">user_id</th>\n",
       "        <th style=\"padding-left: 1em; padding-right: 1em; text-align: center\">count</th>\n",
       "        <th style=\"padding-left: 1em; padding-right: 1em; text-align: center\">restaurants</th>\n",
       "    </tr>\n",
       "    <tr>\n",
       "        <td style=\"padding-left: 1em; padding-right: 1em; text-align: center; vertical-align: top\">DrWLhrK8WMZf7Jb-Oqc7ww</td>\n",
       "        <td style=\"padding-left: 1em; padding-right: 1em; text-align: center; vertical-align: top\">637</td>\n",
       "        <td style=\"padding-left: 1em; padding-right: 1em; text-align: center; vertical-align: top\">{'rZbHg4ACfN3iShdsT47WKQ'<br>: 1.0, ...</td>\n",
       "    </tr>\n",
       "</table>\n",
       "[1 rows x 3 columns]<br/>\n",
       "</div>"
      ],
      "text/plain": [
       "Columns:\n",
       "\tuser_id\tstr\n",
       "\tcount\tint\n",
       "\trestaurants\tdict\n",
       "\n",
       "Rows: 1\n",
       "\n",
       "Data:\n",
       "+------------------------+-------+-------------------------------+\n",
       "|        user_id         | count |          restaurants          |\n",
       "+------------------------+-------+-------------------------------+\n",
       "| DrWLhrK8WMZf7Jb-Oqc7ww |  637  | {'rZbHg4ACfN3iShdsT47WKQ':... |\n",
       "+------------------------+-------+-------------------------------+\n",
       "[1 rows x 3 columns]"
      ]
     },
     "execution_count": 269,
     "metadata": {},
     "output_type": "execute_result"
    }
   ],
   "source": [
    "restaurants_by_user.filter_by('DrWLhrK8WMZf7Jb-Oqc7ww', 'user_id')"
   ]
  },
  {
   "cell_type": "markdown",
   "metadata": {},
   "source": [
    "### Save file 'restaurants_by_user.json'"
   ]
  },
  {
   "cell_type": "code",
   "execution_count": 274,
   "metadata": {
    "collapsed": true
   },
   "outputs": [],
   "source": [
    "restaurants_by_user.export_json('restaurants_by_user.json', orient='records')"
   ]
  },
  {
   "cell_type": "code",
   "execution_count": 279,
   "metadata": {
    "collapsed": true
   },
   "outputs": [],
   "source": [
    "restaurants_by_user.export_csv('restaurants_by_user.csv')"
   ]
  },
  {
   "cell_type": "code",
   "execution_count": 278,
   "metadata": {
    "collapsed": false
   },
   "outputs": [
    {
     "data": {
      "text/plain": [
       "388612"
      ]
     },
     "execution_count": 278,
     "metadata": {},
     "output_type": "execute_result"
    }
   ],
   "source": [
    "restaurants_by_user.num_rows()"
   ]
  },
  {
   "cell_type": "code",
   "execution_count": null,
   "metadata": {
    "collapsed": true
   },
   "outputs": [],
   "source": []
  },
  {
   "cell_type": "code",
   "execution_count": null,
   "metadata": {
    "collapsed": true
   },
   "outputs": [],
   "source": []
  },
  {
   "cell_type": "code",
   "execution_count": null,
   "metadata": {
    "collapsed": true
   },
   "outputs": [],
   "source": []
  },
  {
   "cell_type": "code",
   "execution_count": null,
   "metadata": {
    "collapsed": true
   },
   "outputs": [],
   "source": []
  },
  {
   "cell_type": "code",
   "execution_count": null,
   "metadata": {
    "collapsed": true
   },
   "outputs": [],
   "source": []
  },
  {
   "cell_type": "code",
   "execution_count": 128,
   "metadata": {
    "collapsed": false
   },
   "outputs": [
    {
     "name": "stdout",
     "output_type": "stream",
     "text": [
      "Canvas is accessible via web browser at the URL: http://localhost:59179/index.html\n",
      "Opening Canvas in default web browser.\n"
     ]
    }
   ],
   "source": [
    "# review_count_by_user.show()"
   ]
  },
  {
   "cell_type": "code",
   "execution_count": null,
   "metadata": {
    "collapsed": false,
    "scrolled": true
   },
   "outputs": [],
   "source": [
    "# df_cat_full.head().T[250:]"
   ]
  },
  {
   "cell_type": "code",
   "execution_count": 202,
   "metadata": {
    "collapsed": true
   },
   "outputs": [
    {
     "data": {
      "text/plain": [
       "<matplotlib.text.Text at 0x12575e210>"
      ]
     },
     "execution_count": 202,
     "metadata": {},
     "output_type": "execute_result"
    },
    {
     "data": {
      "image/png": "[encoded data removed]",
      "text/plain": [
       "<matplotlib.figure.Figure at 0x1d8990850>"
      ]
     },
     "metadata": {},
     "output_type": "display_data"
    }
   ],
   "source": [
    "plt.figure(figsize=(10,8))\n",
    "plt.semilogx(review_count_by_user['Count'], '.');\n",
    "plt.grid()\n",
    "plt.xlabel('user')\n",
    "plt.ylabel('# of reviews')\n",
    "plt.title('Plot of number of reviews, by user')"
   ]
  },
  {
   "cell_type": "code",
   "execution_count": 203,
   "metadata": {
    "collapsed": true
   },
   "outputs": [
    {
     "data": {
      "text/plain": [
       "<matplotlib.text.Text at 0x162287050>"
      ]
     },
     "execution_count": 203,
     "metadata": {},
     "output_type": "execute_result"
    },
    {
     "data": {
      "image/png": "[encoded data removed]",
      "text/plain": [
       "<matplotlib.figure.Figure at 0x162eafd50>"
      ]
     },
     "metadata": {},
     "output_type": "display_data"
    }
   ],
   "source": [
    "plt.figure(figsize=(10,8))\n",
    "plt.loglog(review_count_by_user['Count'], '.');\n",
    "plt.grid()\n",
    "plt.xlabel('user')\n",
    "plt.ylabel('# of reviews')\n",
    "plt.title('Log-Log plot of number of reviews, by user')"
   ]
  },
  {
   "cell_type": "code",
   "execution_count": 204,
   "metadata": {
    "collapsed": true
   },
   "outputs": [
    {
     "data": {
      "text/plain": [
       "<matplotlib.text.Text at 0x1275bd390>"
      ]
     },
     "execution_count": 204,
     "metadata": {},
     "output_type": "execute_result"
    },
    {
     "data": {
      "image/png": "[encoded data removed]",
      "text/plain": [
       "<matplotlib.figure.Figure at 0x1d5882f50>"
      ]
     },
     "metadata": {},
     "output_type": "display_data"
    }
   ],
   "source": [
    "plt.figure(figsize=(10,8))\n",
    "plt.hist(review_count_by_user['Count'], log=True, cumulative=False);\n",
    "plt.grid()\n",
    "plt.xlabel('# of reviews')\n",
    "plt.ylabel('# of users\\n(LOG SCALE!)')\n",
    "plt.title('(log) Histogram of number of reviews, by users')"
   ]
  },
  {
   "cell_type": "markdown",
   "metadata": {},
   "source": [
    "## Group reviews by restaurants..."
   ]
  },
  {
   "cell_type": "code",
   "execution_count": 207,
   "metadata": {
    "collapsed": false
   },
   "outputs": [
    {
     "data": {
      "text/html": [
       "<div style=\"max-height:1000px;max-width:1500px;overflow:auto;\"><table frame=\"box\" rules=\"cols\">\n",
       "    <tr>\n",
       "        <th style=\"padding-left: 1em; padding-right: 1em; text-align: center\">business_id</th>\n",
       "        <th style=\"padding-left: 1em; padding-right: 1em; text-align: center\">Count</th>\n",
       "    </tr>\n",
       "    <tr>\n",
       "        <td style=\"padding-left: 1em; padding-right: 1em; text-align: center; vertical-align: top\">4bEjOyTaDG24SY5TxsaUNQ</td>\n",
       "        <td style=\"padding-left: 1em; padding-right: 1em; text-align: center; vertical-align: top\">5042</td>\n",
       "    </tr>\n",
       "    <tr>\n",
       "        <td style=\"padding-left: 1em; padding-right: 1em; text-align: center; vertical-align: top\">zt1TpTuJ6y9n551sw9TaEg</td>\n",
       "        <td style=\"padding-left: 1em; padding-right: 1em; text-align: center; vertical-align: top\">3958</td>\n",
       "    </tr>\n",
       "    <tr>\n",
       "        <td style=\"padding-left: 1em; padding-right: 1em; text-align: center; vertical-align: top\">2e2e7WgqU1BnpxmQL5jbfw</td>\n",
       "        <td style=\"padding-left: 1em; padding-right: 1em; text-align: center; vertical-align: top\">3896</td>\n",
       "    </tr>\n",
       "    <tr>\n",
       "        <td style=\"padding-left: 1em; padding-right: 1em; text-align: center; vertical-align: top\">sIyHTizqAiGu12XMLX3N3g</td>\n",
       "        <td style=\"padding-left: 1em; padding-right: 1em; text-align: center; vertical-align: top\">3788</td>\n",
       "    </tr>\n",
       "    <tr>\n",
       "        <td style=\"padding-left: 1em; padding-right: 1em; text-align: center; vertical-align: top\">aGbjLWzcrnEx2ZmMCFm3EA</td>\n",
       "        <td style=\"padding-left: 1em; padding-right: 1em; text-align: center; vertical-align: top\">3405</td>\n",
       "    </tr>\n",
       "    <tr>\n",
       "        <td style=\"padding-left: 1em; padding-right: 1em; text-align: center; vertical-align: top\">Xhg93cMdemu5pAMkDoEdtQ</td>\n",
       "        <td style=\"padding-left: 1em; padding-right: 1em; text-align: center; vertical-align: top\">3086</td>\n",
       "    </tr>\n",
       "    <tr>\n",
       "        <td style=\"padding-left: 1em; padding-right: 1em; text-align: center; vertical-align: top\">YNQgak-ZLtYJQxlDwN-qIg</td>\n",
       "        <td style=\"padding-left: 1em; padding-right: 1em; text-align: center; vertical-align: top\">2876</td>\n",
       "    </tr>\n",
       "    <tr>\n",
       "        <td style=\"padding-left: 1em; padding-right: 1em; text-align: center; vertical-align: top\">QbmcCE_cLq4WO8ZMKImaLw</td>\n",
       "        <td style=\"padding-left: 1em; padding-right: 1em; text-align: center; vertical-align: top\">2704</td>\n",
       "    </tr>\n",
       "    <tr>\n",
       "        <td style=\"padding-left: 1em; padding-right: 1em; text-align: center; vertical-align: top\">tFU2Js_nbIZOrnKfYJYBBg</td>\n",
       "        <td style=\"padding-left: 1em; padding-right: 1em; text-align: center; vertical-align: top\">2589</td>\n",
       "    </tr>\n",
       "    <tr>\n",
       "        <td style=\"padding-left: 1em; padding-right: 1em; text-align: center; vertical-align: top\">CZjcFdvJhksq9dy58NVEzw</td>\n",
       "        <td style=\"padding-left: 1em; padding-right: 1em; text-align: center; vertical-align: top\">2576</td>\n",
       "    </tr>\n",
       "</table>\n",
       "[10 rows x 2 columns]<br/>\n",
       "</div>"
      ],
      "text/plain": [
       "Columns:\n",
       "\tbusiness_id\tstr\n",
       "\tCount\tint\n",
       "\n",
       "Rows: 10\n",
       "\n",
       "Data:\n",
       "+------------------------+-------+\n",
       "|      business_id       | Count |\n",
       "+------------------------+-------+\n",
       "| 4bEjOyTaDG24SY5TxsaUNQ |  5042 |\n",
       "| zt1TpTuJ6y9n551sw9TaEg |  3958 |\n",
       "| 2e2e7WgqU1BnpxmQL5jbfw |  3896 |\n",
       "| sIyHTizqAiGu12XMLX3N3g |  3788 |\n",
       "| aGbjLWzcrnEx2ZmMCFm3EA |  3405 |\n",
       "| Xhg93cMdemu5pAMkDoEdtQ |  3086 |\n",
       "| YNQgak-ZLtYJQxlDwN-qIg |  2876 |\n",
       "| QbmcCE_cLq4WO8ZMKImaLw |  2704 |\n",
       "| tFU2Js_nbIZOrnKfYJYBBg |  2589 |\n",
       "| CZjcFdvJhksq9dy58NVEzw |  2576 |\n",
       "+------------------------+-------+\n",
       "[10 rows x 2 columns]"
      ]
     },
     "execution_count": 207,
     "metadata": {},
     "output_type": "execute_result"
    }
   ],
   "source": [
    "# number of reviews by restaurant (25k distinct restaurants)\n",
    "review_count_by_biz = sf_obs.groupby('business_id', [gl.aggregate.COUNT()]).sort('Count', ascending=False)\n",
    "review_count_by_biz[0:10]"
   ]
  },
  {
   "cell_type": "code",
   "execution_count": 208,
   "metadata": {
    "collapsed": true
   },
   "outputs": [
    {
     "data": {
      "text/plain": [
       "<matplotlib.text.Text at 0x164ef6290>"
      ]
     },
     "execution_count": 208,
     "metadata": {},
     "output_type": "execute_result"
    },
    {
     "data": {
      "image/png": "[encoded data removed]",
      "text/plain": [
       "<matplotlib.figure.Figure at 0x162280790>"
      ]
     },
     "metadata": {},
     "output_type": "display_data"
    }
   ],
   "source": [
    "plt.figure(figsize=(10,8))\n",
    "plt.semilogx(review_count_by_biz['Count'], '.');\n",
    "plt.grid()\n",
    "plt.xlabel('business')\n",
    "plt.ylabel('# of reviews')\n",
    "plt.title('Plot of number of reviews, by business')"
   ]
  },
  {
   "cell_type": "code",
   "execution_count": 209,
   "metadata": {
    "collapsed": true
   },
   "outputs": [
    {
     "data": {
      "text/plain": [
       "<matplotlib.text.Text at 0x175499190>"
      ]
     },
     "execution_count": 209,
     "metadata": {},
     "output_type": "execute_result"
    },
    {
     "data": {
      "image/png": "[encoded data removed]",
      "text/plain": [
       "<matplotlib.figure.Figure at 0x164ec1150>"
      ]
     },
     "metadata": {},
     "output_type": "display_data"
    }
   ],
   "source": [
    "plt.figure(figsize=(10,8))\n",
    "plt.loglog(review_count_by_biz['Count'], '.');\n",
    "plt.grid()\n",
    "plt.xlabel('business')\n",
    "plt.ylabel('# of reviews')\n",
    "plt.title('Log-Log plot of number of reviews, by business')"
   ]
  },
  {
   "cell_type": "code",
   "execution_count": 210,
   "metadata": {
    "collapsed": true
   },
   "outputs": [
    {
     "data": {
      "text/plain": [
       "<matplotlib.text.Text at 0x1d967a290>"
      ]
     },
     "execution_count": 210,
     "metadata": {},
     "output_type": "execute_result"
    },
    {
     "data": {
      "image/png": "[encoded data removed]",
      "text/plain": [
       "<matplotlib.figure.Figure at 0x174c30b50>"
      ]
     },
     "metadata": {},
     "output_type": "display_data"
    }
   ],
   "source": [
    "plt.figure(figsize=(10,8))\n",
    "plt.hist(review_count_by_biz['Count'], log=True);\n",
    "plt.grid()\n",
    "plt.autoscale(tight=True)\n",
    "plt.xlabel('# of reviews')\n",
    "plt.ylabel('count of biz\\n(LOG SCALE!)')\n",
    "plt.title('(log) Histogram of number of reviews, by business')"
   ]
  },
  {
   "cell_type": "code",
   "execution_count": null,
   "metadata": {
    "collapsed": false
   },
   "outputs": [],
   "source": []
  },
  {
   "cell_type": "code",
   "execution_count": null,
   "metadata": {
    "collapsed": true
   },
   "outputs": [],
   "source": []
  },
  {
   "cell_type": "code",
   "execution_count": null,
   "metadata": {
    "collapsed": true
   },
   "outputs": [],
   "source": []
  },
  {
   "cell_type": "markdown",
   "metadata": {},
   "source": [
    "## Load in business.json file as 'item_data', for side data factorization..."
   ]
  },
  {
   "cell_type": "code",
   "execution_count": 27,
   "metadata": {
    "collapsed": false
   },
   "outputs": [
    {
     "name": "stdout",
     "output_type": "stream",
     "text": [
      "running create_sidedata()\n"
     ]
    }
   ],
   "source": [
    "from create_sidedata import create_sidedata\n",
    "sf_itemdata = create_sidedata()"
   ]
  },
  {
   "cell_type": "markdown",
   "metadata": {},
   "source": [
    "# Setup the train/test data split..."
   ]
  },
  {
   "cell_type": "code",
   "execution_count": 21,
   "metadata": {
    "collapsed": false,
    "scrolled": true
   },
   "outputs": [
    {
     "data": {
      "text/plain": [
       "(1363242, 3)"
      ]
     },
     "execution_count": 21,
     "metadata": {},
     "output_type": "execute_result"
    }
   ],
   "source": [
    "sf_obs.shape"
   ]
  },
  {
   "cell_type": "code",
   "execution_count": 22,
   "metadata": {
    "collapsed": false
   },
   "outputs": [
    {
     "data": {
      "text/plain": [
       "['user_id', 'business_id', 'stars']"
      ]
     },
     "execution_count": 22,
     "metadata": {},
     "output_type": "execute_result"
    }
   ],
   "source": [
    "sf_obs.column_names()"
   ]
  },
  {
   "cell_type": "code",
   "execution_count": 23,
   "metadata": {
    "collapsed": false
   },
   "outputs": [],
   "source": [
    "# split the test data via Graphlab's recommender tailored splitter function\n",
    "train_set, test_set = gl.recommender.util.random_split_by_user(sf_obs,\n",
    "                                                               'user_id',\n",
    "                                                               'business_id',\n",
    "                                                               max_num_users=100)"
   ]
  },
  {
   "cell_type": "code",
   "execution_count": 24,
   "metadata": {
    "collapsed": true
   },
   "outputs": [
    {
     "data": {
      "text/html": [
       "<div style=\"max-height:1000px;max-width:1500px;overflow:auto;\"><table frame=\"box\" rules=\"cols\">\n",
       "    <tr>\n",
       "        <th style=\"padding-left: 1em; padding-right: 1em; text-align: center\">user_id</th>\n",
       "        <th style=\"padding-left: 1em; padding-right: 1em; text-align: center\">business_id</th>\n",
       "        <th style=\"padding-left: 1em; padding-right: 1em; text-align: center\">stars</th>\n",
       "    </tr>\n",
       "    <tr>\n",
       "        <td style=\"padding-left: 1em; padding-right: 1em; text-align: center; vertical-align: top\">Ouus3lC3Xk3YRGx4ptd_4A</td>\n",
       "        <td style=\"padding-left: 1em; padding-right: 1em; text-align: center; vertical-align: top\">DW6SI2KxcfXBHeo9jEr4lQ</td>\n",
       "        <td style=\"padding-left: 1em; padding-right: 1em; text-align: center; vertical-align: top\">2</td>\n",
       "    </tr>\n",
       "    <tr>\n",
       "        <td style=\"padding-left: 1em; padding-right: 1em; text-align: center; vertical-align: top\">dz_sBsL69aWzsxksT2O_Mg</td>\n",
       "        <td style=\"padding-left: 1em; padding-right: 1em; text-align: center; vertical-align: top\">DW6SI2KxcfXBHeo9jEr4lQ</td>\n",
       "        <td style=\"padding-left: 1em; padding-right: 1em; text-align: center; vertical-align: top\">2</td>\n",
       "    </tr>\n",
       "    <tr>\n",
       "        <td style=\"padding-left: 1em; padding-right: 1em; text-align: center; vertical-align: top\">zyI-u0C1YOzp5v1j2wuCOQ</td>\n",
       "        <td style=\"padding-left: 1em; padding-right: 1em; text-align: center; vertical-align: top\">DW6SI2KxcfXBHeo9jEr4lQ</td>\n",
       "        <td style=\"padding-left: 1em; padding-right: 1em; text-align: center; vertical-align: top\">3</td>\n",
       "    </tr>\n",
       "    <tr>\n",
       "        <td style=\"padding-left: 1em; padding-right: 1em; text-align: center; vertical-align: top\">vyfsQo-estP8EfiIFMsL6g</td>\n",
       "        <td style=\"padding-left: 1em; padding-right: 1em; text-align: center; vertical-align: top\">DW6SI2KxcfXBHeo9jEr4lQ</td>\n",
       "        <td style=\"padding-left: 1em; padding-right: 1em; text-align: center; vertical-align: top\">3</td>\n",
       "    </tr>\n",
       "    <tr>\n",
       "        <td style=\"padding-left: 1em; padding-right: 1em; text-align: center; vertical-align: top\">lxZSVeJz6KEBW1nlA3JKJg</td>\n",
       "        <td style=\"padding-left: 1em; padding-right: 1em; text-align: center; vertical-align: top\">DW6SI2KxcfXBHeo9jEr4lQ</td>\n",
       "        <td style=\"padding-left: 1em; padding-right: 1em; text-align: center; vertical-align: top\">1</td>\n",
       "    </tr>\n",
       "    <tr>\n",
       "        <td style=\"padding-left: 1em; padding-right: 1em; text-align: center; vertical-align: top\">CbMCOeeHVeafcD-6-CJrPg</td>\n",
       "        <td style=\"padding-left: 1em; padding-right: 1em; text-align: center; vertical-align: top\">DW6SI2KxcfXBHeo9jEr4lQ</td>\n",
       "        <td style=\"padding-left: 1em; padding-right: 1em; text-align: center; vertical-align: top\">4</td>\n",
       "    </tr>\n",
       "    <tr>\n",
       "        <td style=\"padding-left: 1em; padding-right: 1em; text-align: center; vertical-align: top\">Z8DyUMojRhFbLyHBymM_rA</td>\n",
       "        <td style=\"padding-left: 1em; padding-right: 1em; text-align: center; vertical-align: top\">DW6SI2KxcfXBHeo9jEr4lQ</td>\n",
       "        <td style=\"padding-left: 1em; padding-right: 1em; text-align: center; vertical-align: top\">2</td>\n",
       "    </tr>\n",
       "    <tr>\n",
       "        <td style=\"padding-left: 1em; padding-right: 1em; text-align: center; vertical-align: top\">sXWvDlMQspjJ1zzr3cEM7Q</td>\n",
       "        <td style=\"padding-left: 1em; padding-right: 1em; text-align: center; vertical-align: top\">DW6SI2KxcfXBHeo9jEr4lQ</td>\n",
       "        <td style=\"padding-left: 1em; padding-right: 1em; text-align: center; vertical-align: top\">2</td>\n",
       "    </tr>\n",
       "    <tr>\n",
       "        <td style=\"padding-left: 1em; padding-right: 1em; text-align: center; vertical-align: top\">G8RaaiVzbyRvsBmoUx0VeA</td>\n",
       "        <td style=\"padding-left: 1em; padding-right: 1em; text-align: center; vertical-align: top\">DW6SI2KxcfXBHeo9jEr4lQ</td>\n",
       "        <td style=\"padding-left: 1em; padding-right: 1em; text-align: center; vertical-align: top\">1</td>\n",
       "    </tr>\n",
       "    <tr>\n",
       "        <td style=\"padding-left: 1em; padding-right: 1em; text-align: center; vertical-align: top\">f0isFKnJVZVmpdCPNd8Gfw</td>\n",
       "        <td style=\"padding-left: 1em; padding-right: 1em; text-align: center; vertical-align: top\">DW6SI2KxcfXBHeo9jEr4lQ</td>\n",
       "        <td style=\"padding-left: 1em; padding-right: 1em; text-align: center; vertical-align: top\">1</td>\n",
       "    </tr>\n",
       "</table>\n",
       "[1363192 rows x 3 columns]<br/>Note: Only the head of the SFrame is printed.<br/>You can use print_rows(num_rows=m, num_columns=n) to print more rows and columns.\n",
       "</div>"
      ],
      "text/plain": [
       "Columns:\n",
       "\tuser_id\tstr\n",
       "\tbusiness_id\tstr\n",
       "\tstars\tint\n",
       "\n",
       "Rows: 1363192\n",
       "\n",
       "Data:\n",
       "+------------------------+------------------------+-------+\n",
       "|        user_id         |      business_id       | stars |\n",
       "+------------------------+------------------------+-------+\n",
       "| Ouus3lC3Xk3YRGx4ptd_4A | DW6SI2KxcfXBHeo9jEr4lQ |   2   |\n",
       "| dz_sBsL69aWzsxksT2O_Mg | DW6SI2KxcfXBHeo9jEr4lQ |   2   |\n",
       "| zyI-u0C1YOzp5v1j2wuCOQ | DW6SI2KxcfXBHeo9jEr4lQ |   3   |\n",
       "| vyfsQo-estP8EfiIFMsL6g | DW6SI2KxcfXBHeo9jEr4lQ |   3   |\n",
       "| lxZSVeJz6KEBW1nlA3JKJg | DW6SI2KxcfXBHeo9jEr4lQ |   1   |\n",
       "| CbMCOeeHVeafcD-6-CJrPg | DW6SI2KxcfXBHeo9jEr4lQ |   4   |\n",
       "| Z8DyUMojRhFbLyHBymM_rA | DW6SI2KxcfXBHeo9jEr4lQ |   2   |\n",
       "| sXWvDlMQspjJ1zzr3cEM7Q | DW6SI2KxcfXBHeo9jEr4lQ |   2   |\n",
       "| G8RaaiVzbyRvsBmoUx0VeA | DW6SI2KxcfXBHeo9jEr4lQ |   1   |\n",
       "| f0isFKnJVZVmpdCPNd8Gfw | DW6SI2KxcfXBHeo9jEr4lQ |   1   |\n",
       "+------------------------+------------------------+-------+\n",
       "[1363192 rows x 3 columns]\n",
       "Note: Only the head of the SFrame is printed.\n",
       "You can use print_rows(num_rows=m, num_columns=n) to print more rows and columns."
      ]
     },
     "execution_count": 24,
     "metadata": {},
     "output_type": "execute_result"
    }
   ],
   "source": [
    "train_set"
   ]
  },
  {
   "cell_type": "code",
   "execution_count": 25,
   "metadata": {
    "collapsed": true
   },
   "outputs": [
    {
     "data": {
      "text/html": [
       "<div style=\"max-height:1000px;max-width:1500px;overflow:auto;\"><table frame=\"box\" rules=\"cols\">\n",
       "    <tr>\n",
       "        <th style=\"padding-left: 1em; padding-right: 1em; text-align: center\">user_id</th>\n",
       "        <th style=\"padding-left: 1em; padding-right: 1em; text-align: center\">business_id</th>\n",
       "        <th style=\"padding-left: 1em; padding-right: 1em; text-align: center\">stars</th>\n",
       "    </tr>\n",
       "    <tr>\n",
       "        <td style=\"padding-left: 1em; padding-right: 1em; text-align: center; vertical-align: top\">9K013bOSmGBmZqAV2YDfpA</td>\n",
       "        <td style=\"padding-left: 1em; padding-right: 1em; text-align: center; vertical-align: top\">bcW-OuYklAXeEZWBgc7TaA</td>\n",
       "        <td style=\"padding-left: 1em; padding-right: 1em; text-align: center; vertical-align: top\">5</td>\n",
       "    </tr>\n",
       "    <tr>\n",
       "        <td style=\"padding-left: 1em; padding-right: 1em; text-align: center; vertical-align: top\">xjZgADf08bQlOQnWwW_IKg</td>\n",
       "        <td style=\"padding-left: 1em; padding-right: 1em; text-align: center; vertical-align: top\">px45x27eir8RyN6YjX-VWQ</td>\n",
       "        <td style=\"padding-left: 1em; padding-right: 1em; text-align: center; vertical-align: top\">4</td>\n",
       "    </tr>\n",
       "    <tr>\n",
       "        <td style=\"padding-left: 1em; padding-right: 1em; text-align: center; vertical-align: top\">hMnwV8h15C1sfgVIP0dgQw</td>\n",
       "        <td style=\"padding-left: 1em; padding-right: 1em; text-align: center; vertical-align: top\">LXrq0Fw6MCz70KMA928ldQ</td>\n",
       "        <td style=\"padding-left: 1em; padding-right: 1em; text-align: center; vertical-align: top\">2</td>\n",
       "    </tr>\n",
       "    <tr>\n",
       "        <td style=\"padding-left: 1em; padding-right: 1em; text-align: center; vertical-align: top\">NyFFJjymTm1N6pjHp37KiQ</td>\n",
       "        <td style=\"padding-left: 1em; padding-right: 1em; text-align: center; vertical-align: top\">PWG28q4JFOc8FiRBjnfCkA</td>\n",
       "        <td style=\"padding-left: 1em; padding-right: 1em; text-align: center; vertical-align: top\">2</td>\n",
       "    </tr>\n",
       "    <tr>\n",
       "        <td style=\"padding-left: 1em; padding-right: 1em; text-align: center; vertical-align: top\">tAM6TS8Mcnqf6Ar4zcxG6A</td>\n",
       "        <td style=\"padding-left: 1em; padding-right: 1em; text-align: center; vertical-align: top\">3ZQmCHGtK6JNHlxaCeOx7g</td>\n",
       "        <td style=\"padding-left: 1em; padding-right: 1em; text-align: center; vertical-align: top\">4</td>\n",
       "    </tr>\n",
       "    <tr>\n",
       "        <td style=\"padding-left: 1em; padding-right: 1em; text-align: center; vertical-align: top\">d7Jyyd5lKGoNSV1SoSqZxg</td>\n",
       "        <td style=\"padding-left: 1em; padding-right: 1em; text-align: center; vertical-align: top\">N50HceZf1595UtU867u4uQ</td>\n",
       "        <td style=\"padding-left: 1em; padding-right: 1em; text-align: center; vertical-align: top\">5</td>\n",
       "    </tr>\n",
       "    <tr>\n",
       "        <td style=\"padding-left: 1em; padding-right: 1em; text-align: center; vertical-align: top\">RnEZs_qJf2KqosVcA2eUrQ</td>\n",
       "        <td style=\"padding-left: 1em; padding-right: 1em; text-align: center; vertical-align: top\">CKf3mf7fl5sZO9xviHU7lQ</td>\n",
       "        <td style=\"padding-left: 1em; padding-right: 1em; text-align: center; vertical-align: top\">4</td>\n",
       "    </tr>\n",
       "    <tr>\n",
       "        <td style=\"padding-left: 1em; padding-right: 1em; text-align: center; vertical-align: top\">-ff8in_34TSOnzLIFYQdaA</td>\n",
       "        <td style=\"padding-left: 1em; padding-right: 1em; text-align: center; vertical-align: top\">KJnVuzpveyDrHARVNZaYVg</td>\n",
       "        <td style=\"padding-left: 1em; padding-right: 1em; text-align: center; vertical-align: top\">1</td>\n",
       "    </tr>\n",
       "    <tr>\n",
       "        <td style=\"padding-left: 1em; padding-right: 1em; text-align: center; vertical-align: top\">WJNMh_hUymOX7CDKtCOKUA</td>\n",
       "        <td style=\"padding-left: 1em; padding-right: 1em; text-align: center; vertical-align: top\">d52zg-S0o940WUCK-nNiKw</td>\n",
       "        <td style=\"padding-left: 1em; padding-right: 1em; text-align: center; vertical-align: top\">5</td>\n",
       "    </tr>\n",
       "    <tr>\n",
       "        <td style=\"padding-left: 1em; padding-right: 1em; text-align: center; vertical-align: top\">KsHHV9UJl2zzXJ2a04gbbQ</td>\n",
       "        <td style=\"padding-left: 1em; padding-right: 1em; text-align: center; vertical-align: top\">4uGHPY-OpJN08CabtTAvNg</td>\n",
       "        <td style=\"padding-left: 1em; padding-right: 1em; text-align: center; vertical-align: top\">5</td>\n",
       "    </tr>\n",
       "</table>\n",
       "[50 rows x 3 columns]<br/>Note: Only the head of the SFrame is printed.<br/>You can use print_rows(num_rows=m, num_columns=n) to print more rows and columns.\n",
       "</div>"
      ],
      "text/plain": [
       "Columns:\n",
       "\tuser_id\tstr\n",
       "\tbusiness_id\tstr\n",
       "\tstars\tint\n",
       "\n",
       "Rows: 50\n",
       "\n",
       "Data:\n",
       "+------------------------+------------------------+-------+\n",
       "|        user_id         |      business_id       | stars |\n",
       "+------------------------+------------------------+-------+\n",
       "| 9K013bOSmGBmZqAV2YDfpA | bcW-OuYklAXeEZWBgc7TaA |   5   |\n",
       "| xjZgADf08bQlOQnWwW_IKg | px45x27eir8RyN6YjX-VWQ |   4   |\n",
       "| hMnwV8h15C1sfgVIP0dgQw | LXrq0Fw6MCz70KMA928ldQ |   2   |\n",
       "| NyFFJjymTm1N6pjHp37KiQ | PWG28q4JFOc8FiRBjnfCkA |   2   |\n",
       "| tAM6TS8Mcnqf6Ar4zcxG6A | 3ZQmCHGtK6JNHlxaCeOx7g |   4   |\n",
       "| d7Jyyd5lKGoNSV1SoSqZxg | N50HceZf1595UtU867u4uQ |   5   |\n",
       "| RnEZs_qJf2KqosVcA2eUrQ | CKf3mf7fl5sZO9xviHU7lQ |   4   |\n",
       "| -ff8in_34TSOnzLIFYQdaA | KJnVuzpveyDrHARVNZaYVg |   1   |\n",
       "| WJNMh_hUymOX7CDKtCOKUA | d52zg-S0o940WUCK-nNiKw |   5   |\n",
       "| KsHHV9UJl2zzXJ2a04gbbQ | 4uGHPY-OpJN08CabtTAvNg |   5   |\n",
       "+------------------------+------------------------+-------+\n",
       "[50 rows x 3 columns]\n",
       "Note: Only the head of the SFrame is printed.\n",
       "You can use print_rows(num_rows=m, num_columns=n) to print more rows and columns."
      ]
     },
     "execution_count": 25,
     "metadata": {},
     "output_type": "execute_result"
    }
   ],
   "source": [
    "test_set"
   ]
  },
  {
   "cell_type": "code",
   "execution_count": null,
   "metadata": {
    "collapsed": true
   },
   "outputs": [],
   "source": []
  },
  {
   "cell_type": "code",
   "execution_count": null,
   "metadata": {
    "collapsed": true
   },
   "outputs": [],
   "source": []
  },
  {
   "cell_type": "markdown",
   "metadata": {
    "collapsed": true
   },
   "source": [
    "# Run the recommender..."
   ]
  },
  {
   "cell_type": "code",
   "execution_count": 57,
   "metadata": {
    "collapsed": true
   },
   "outputs": [
    {
     "data": {
      "text/html": [
       "<pre>Recsys training: model = factorization_recommender</pre>"
      ],
      "text/plain": [
       "Recsys training: model = factorization_recommender"
      ]
     },
     "metadata": {},
     "output_type": "display_data"
    },
    {
     "data": {
      "text/html": [
       "<pre>Preparing data set.</pre>"
      ],
      "text/plain": [
       "Preparing data set."
      ]
     },
     "metadata": {},
     "output_type": "display_data"
    },
    {
     "data": {
      "text/html": [
       "<pre>    Data has 1363192 observations with 388600 users and 24974 items.</pre>"
      ],
      "text/plain": [
       "    Data has 1363192 observations with 388600 users and 24974 items."
      ]
     },
     "metadata": {},
     "output_type": "display_data"
    },
    {
     "data": {
      "text/html": [
       "<pre>    Data prepared in: 3.08026s</pre>"
      ],
      "text/plain": [
       "    Data prepared in: 3.08026s"
      ]
     },
     "metadata": {},
     "output_type": "display_data"
    },
    {
     "data": {
      "text/html": [
       "<pre>Training factorization_recommender for recommendations.</pre>"
      ],
      "text/plain": [
       "Training factorization_recommender for recommendations."
      ]
     },
     "metadata": {},
     "output_type": "display_data"
    },
    {
     "data": {
      "text/html": [
       "<pre>+--------------------------------+--------------------------------------------------+----------+</pre>"
      ],
      "text/plain": [
       "+--------------------------------+--------------------------------------------------+----------+"
      ]
     },
     "metadata": {},
     "output_type": "display_data"
    },
    {
     "data": {
      "text/html": [
       "<pre>| Parameter                      | Description                                      | Value    |</pre>"
      ],
      "text/plain": [
       "| Parameter                      | Description                                      | Value    |"
      ]
     },
     "metadata": {},
     "output_type": "display_data"
    },
    {
     "data": {
      "text/html": [
       "<pre>+--------------------------------+--------------------------------------------------+----------+</pre>"
      ],
      "text/plain": [
       "+--------------------------------+--------------------------------------------------+----------+"
      ]
     },
     "metadata": {},
     "output_type": "display_data"
    },
    {
     "data": {
      "text/html": [
       "<pre>| num_factors                    | Factor Dimension                                 | 8        |</pre>"
      ],
      "text/plain": [
       "| num_factors                    | Factor Dimension                                 | 8        |"
      ]
     },
     "metadata": {},
     "output_type": "display_data"
    },
    {
     "data": {
      "text/html": [
       "<pre>| regularization                 | L2 Regularization on Factors                     | 1e-08    |</pre>"
      ],
      "text/plain": [
       "| regularization                 | L2 Regularization on Factors                     | 1e-08    |"
      ]
     },
     "metadata": {},
     "output_type": "display_data"
    },
    {
     "data": {
      "text/html": [
       "<pre>| solver                         | Solver used for training                         | sgd      |</pre>"
      ],
      "text/plain": [
       "| solver                         | Solver used for training                         | sgd      |"
      ]
     },
     "metadata": {},
     "output_type": "display_data"
    },
    {
     "data": {
      "text/html": [
       "<pre>| linear_regularization          | L2 Regularization on Linear Coefficients         | 1e-10    |</pre>"
      ],
      "text/plain": [
       "| linear_regularization          | L2 Regularization on Linear Coefficients         | 1e-10    |"
      ]
     },
     "metadata": {},
     "output_type": "display_data"
    },
    {
     "data": {
      "text/html": [
       "<pre>| max_iterations                 | Maximum Number of Iterations                     | 50       |</pre>"
      ],
      "text/plain": [
       "| max_iterations                 | Maximum Number of Iterations                     | 50       |"
      ]
     },
     "metadata": {},
     "output_type": "display_data"
    },
    {
     "data": {
      "text/html": [
       "<pre>+--------------------------------+--------------------------------------------------+----------+</pre>"
      ],
      "text/plain": [
       "+--------------------------------+--------------------------------------------------+----------+"
      ]
     },
     "metadata": {},
     "output_type": "display_data"
    },
    {
     "data": {
      "text/html": [
       "<pre>  Optimizing model using SGD; tuning step size.</pre>"
      ],
      "text/plain": [
       "  Optimizing model using SGD; tuning step size."
      ]
     },
     "metadata": {},
     "output_type": "display_data"
    },
    {
     "data": {
      "text/html": [
       "<pre>  Using 170399 / 1363192 points for tuning the step size.</pre>"
      ],
      "text/plain": [
       "  Using 170399 / 1363192 points for tuning the step size."
      ]
     },
     "metadata": {},
     "output_type": "display_data"
    },
    {
     "data": {
      "text/html": [
       "<pre>+---------+-------------------+------------------------------------------+</pre>"
      ],
      "text/plain": [
       "+---------+-------------------+------------------------------------------+"
      ]
     },
     "metadata": {},
     "output_type": "display_data"
    },
    {
     "data": {
      "text/html": [
       "<pre>| Attempt | Initial Step Size | Estimated Objective Value                |</pre>"
      ],
      "text/plain": [
       "| Attempt | Initial Step Size | Estimated Objective Value                |"
      ]
     },
     "metadata": {},
     "output_type": "display_data"
    },
    {
     "data": {
      "text/html": [
       "<pre>+---------+-------------------+------------------------------------------+</pre>"
      ],
      "text/plain": [
       "+---------+-------------------+------------------------------------------+"
      ]
     },
     "metadata": {},
     "output_type": "display_data"
    },
    {
     "data": {
      "text/html": [
       "<pre>| 0       | 25                | Not Viable                               |</pre>"
      ],
      "text/plain": [
       "| 0       | 25                | Not Viable                               |"
      ]
     },
     "metadata": {},
     "output_type": "display_data"
    },
    {
     "data": {
      "text/html": [
       "<pre>| 1       | 6.25              | Not Viable                               |</pre>"
      ],
      "text/plain": [
       "| 1       | 6.25              | Not Viable                               |"
      ]
     },
     "metadata": {},
     "output_type": "display_data"
    },
    {
     "data": {
      "text/html": [
       "<pre>| 2       | 1.5625            | Not Viable                               |</pre>"
      ],
      "text/plain": [
       "| 2       | 1.5625            | Not Viable                               |"
      ]
     },
     "metadata": {},
     "output_type": "display_data"
    },
    {
     "data": {
      "text/html": [
       "<pre>| 3       | 0.390625          | No Decrease (4.47474 >= 1.69765)         |</pre>"
      ],
      "text/plain": [
       "| 3       | 0.390625          | No Decrease (4.47474 >= 1.69765)         |"
      ]
     },
     "metadata": {},
     "output_type": "display_data"
    },
    {
     "data": {
      "text/html": [
       "<pre>| 4       | 0.0976562         | 0.584329                                 |</pre>"
      ],
      "text/plain": [
       "| 4       | 0.0976562         | 0.584329                                 |"
      ]
     },
     "metadata": {},
     "output_type": "display_data"
    },
    {
     "data": {
      "text/html": [
       "<pre>| 5       | 0.0488281         | 0.831491                                 |</pre>"
      ],
      "text/plain": [
       "| 5       | 0.0488281         | 0.831491                                 |"
      ]
     },
     "metadata": {},
     "output_type": "display_data"
    },
    {
     "data": {
      "text/html": [
       "<pre>| 6       | 0.0244141         | 1.06137                                  |</pre>"
      ],
      "text/plain": [
       "| 6       | 0.0244141         | 1.06137                                  |"
      ]
     },
     "metadata": {},
     "output_type": "display_data"
    },
    {
     "data": {
      "text/html": [
       "<pre>| 7       | 0.012207          | 1.24622                                  |</pre>"
      ],
      "text/plain": [
       "| 7       | 0.012207          | 1.24622                                  |"
      ]
     },
     "metadata": {},
     "output_type": "display_data"
    },
    {
     "data": {
      "text/html": [
       "<pre>+---------+-------------------+------------------------------------------+</pre>"
      ],
      "text/plain": [
       "+---------+-------------------+------------------------------------------+"
      ]
     },
     "metadata": {},
     "output_type": "display_data"
    },
    {
     "data": {
      "text/html": [
       "<pre>| Final   | 0.0976562         | 0.584329                                 |</pre>"
      ],
      "text/plain": [
       "| Final   | 0.0976562         | 0.584329                                 |"
      ]
     },
     "metadata": {},
     "output_type": "display_data"
    },
    {
     "data": {
      "text/html": [
       "<pre>+---------+-------------------+------------------------------------------+</pre>"
      ],
      "text/plain": [
       "+---------+-------------------+------------------------------------------+"
      ]
     },
     "metadata": {},
     "output_type": "display_data"
    },
    {
     "data": {
      "text/html": [
       "<pre>Starting Optimization.</pre>"
      ],
      "text/plain": [
       "Starting Optimization."
      ]
     },
     "metadata": {},
     "output_type": "display_data"
    },
    {
     "data": {
      "text/html": [
       "<pre>+---------+--------------+-------------------+-----------------------+-------------+</pre>"
      ],
      "text/plain": [
       "+---------+--------------+-------------------+-----------------------+-------------+"
      ]
     },
     "metadata": {},
     "output_type": "display_data"
    },
    {
     "data": {
      "text/html": [
       "<pre>| Iter.   | Elapsed Time | Approx. Objective | Approx. Training RMSE | Step Size   |</pre>"
      ],
      "text/plain": [
       "| Iter.   | Elapsed Time | Approx. Objective | Approx. Training RMSE | Step Size   |"
      ]
     },
     "metadata": {},
     "output_type": "display_data"
    },
    {
     "data": {
      "text/html": [
       "<pre>+---------+--------------+-------------------+-----------------------+-------------+</pre>"
      ],
      "text/plain": [
       "+---------+--------------+-------------------+-----------------------+-------------+"
      ]
     },
     "metadata": {},
     "output_type": "display_data"
    },
    {
     "data": {
      "text/html": [
       "<pre>| Initial | 207us        | 1.69602           | 1.30231               |             |</pre>"
      ],
      "text/plain": [
       "| Initial | 207us        | 1.69602           | 1.30231               |             |"
      ]
     },
     "metadata": {},
     "output_type": "display_data"
    },
    {
     "data": {
      "text/html": [
       "<pre>+---------+--------------+-------------------+-----------------------+-------------+</pre>"
      ],
      "text/plain": [
       "+---------+--------------+-------------------+-----------------------+-------------+"
      ]
     },
     "metadata": {},
     "output_type": "display_data"
    },
    {
     "data": {
      "text/html": [
       "<pre>| 1       | 581.551ms    | 1.58119           | 1.2572                | 0.0976562   |</pre>"
      ],
      "text/plain": [
       "| 1       | 581.551ms    | 1.58119           | 1.2572                | 0.0976562   |"
      ]
     },
     "metadata": {},
     "output_type": "display_data"
    },
    {
     "data": {
      "text/html": [
       "<pre>| 2       | 1.01s        | 1.21103           | 1.10032               | 0.0580668   |</pre>"
      ],
      "text/plain": [
       "| 2       | 1.01s        | 1.21103           | 1.10032               | 0.0580668   |"
      ]
     },
     "metadata": {},
     "output_type": "display_data"
    },
    {
     "data": {
      "text/html": [
       "<pre>| 3       | 1.40s        | 1.06061           | 1.02974               | 0.042841    |</pre>"
      ],
      "text/plain": [
       "| 3       | 1.40s        | 1.06061           | 1.02974               | 0.042841    |"
      ]
     },
     "metadata": {},
     "output_type": "display_data"
    },
    {
     "data": {
      "text/html": [
       "<pre>| 4       | 1.68s        | 0.913813          | 0.955774              | 0.0345267   |</pre>"
      ],
      "text/plain": [
       "| 4       | 1.68s        | 0.913813          | 0.955774              | 0.0345267   |"
      ]
     },
     "metadata": {},
     "output_type": "display_data"
    },
    {
     "data": {
      "text/html": [
       "<pre>| 5       | 2.00s        | 0.775641          | 0.880453              | 0.029206    |</pre>"
      ],
      "text/plain": [
       "| 5       | 2.00s        | 0.775641          | 0.880453              | 0.029206    |"
      ]
     },
     "metadata": {},
     "output_type": "display_data"
    },
    {
     "data": {
      "text/html": [
       "<pre>| 6       | 2.37s        | 0.663122          | 0.81395               | 0.0254734   |</pre>"
      ],
      "text/plain": [
       "| 6       | 2.37s        | 0.663122          | 0.81395               | 0.0254734   |"
      ]
     },
     "metadata": {},
     "output_type": "display_data"
    },
    {
     "data": {
      "text/html": [
       "<pre>| 10      | 3.60s        | 0.422067          | 0.648821              | 0.017366    |</pre>"
      ],
      "text/plain": [
       "| 10      | 3.60s        | 0.422067          | 0.648821              | 0.017366    |"
      ]
     },
     "metadata": {},
     "output_type": "display_data"
    },
    {
     "data": {
      "text/html": [
       "<pre>| 11      | 3.88s        | 0.391121          | 0.624447              | 0.016168    |</pre>"
      ],
      "text/plain": [
       "| 11      | 3.88s        | 0.391121          | 0.624447              | 0.016168    |"
      ]
     },
     "metadata": {},
     "output_type": "display_data"
    },
    {
     "data": {
      "text/html": [
       "<pre>| 15      | 5.10s        | 0.31313           | 0.558279              | 0.0128124   |</pre>"
      ],
      "text/plain": [
       "| 15      | 5.10s        | 0.31313           | 0.558279              | 0.0128124   |"
      ]
     },
     "metadata": {},
     "output_type": "display_data"
    },
    {
     "data": {
      "text/html": [
       "<pre>| 20      | 6.45s        | 0.266009          | 0.514139              | 0.0103259   |</pre>"
      ],
      "text/plain": [
       "| 20      | 6.45s        | 0.266009          | 0.514139              | 0.0103259   |"
      ]
     },
     "metadata": {},
     "output_type": "display_data"
    },
    {
     "data": {
      "text/html": [
       "<pre>| 25      | 8.06s        | 0.24034           | 0.488392              | 0.00873464  |</pre>"
      ],
      "text/plain": [
       "| 25      | 8.06s        | 0.24034           | 0.488392              | 0.00873464  |"
      ]
     },
     "metadata": {},
     "output_type": "display_data"
    },
    {
     "data": {
      "text/html": [
       "<pre>| 30      | 9.94s        | 0.224412          | 0.471689              | 0.00761832  |</pre>"
      ],
      "text/plain": [
       "| 30      | 9.94s        | 0.224412          | 0.471689              | 0.00761832  |"
      ]
     },
     "metadata": {},
     "output_type": "display_data"
    },
    {
     "data": {
      "text/html": [
       "<pre>| 35      | 11.36s       | 0.213491          | 0.459878              | 0.00678655  |</pre>"
      ],
      "text/plain": [
       "| 35      | 11.36s       | 0.213491          | 0.459878              | 0.00678655  |"
      ]
     },
     "metadata": {},
     "output_type": "display_data"
    },
    {
     "data": {
      "text/html": [
       "<pre>| 40      | 12.82s       | 0.205517          | 0.451052              | 0.00613981  |</pre>"
      ],
      "text/plain": [
       "| 40      | 12.82s       | 0.205517          | 0.451052              | 0.00613981  |"
      ]
     },
     "metadata": {},
     "output_type": "display_data"
    },
    {
     "data": {
      "text/html": [
       "<pre>| 45      | 14.22s       | 0.19937           | 0.444122              | 0.0056207   |</pre>"
      ],
      "text/plain": [
       "| 45      | 14.22s       | 0.19937           | 0.444122              | 0.0056207   |"
      ]
     },
     "metadata": {},
     "output_type": "display_data"
    },
    {
     "data": {
      "text/html": [
       "<pre>| 50      | 16.23s       | 0.194465          | 0.438511              | 0.00519365  |</pre>"
      ],
      "text/plain": [
       "| 50      | 16.23s       | 0.194465          | 0.438511              | 0.00519365  |"
      ]
     },
     "metadata": {},
     "output_type": "display_data"
    },
    {
     "data": {
      "text/html": [
       "<pre>+---------+--------------+-------------------+-----------------------+-------------+</pre>"
      ],
      "text/plain": [
       "+---------+--------------+-------------------+-----------------------+-------------+"
      ]
     },
     "metadata": {},
     "output_type": "display_data"
    },
    {
     "data": {
      "text/html": [
       "<pre>Optimization Complete: Maximum number of passes through the data reached.</pre>"
      ],
      "text/plain": [
       "Optimization Complete: Maximum number of passes through the data reached."
      ]
     },
     "metadata": {},
     "output_type": "display_data"
    },
    {
     "data": {
      "text/html": [
       "<pre>Computing final objective value and training RMSE.</pre>"
      ],
      "text/plain": [
       "Computing final objective value and training RMSE."
      ]
     },
     "metadata": {},
     "output_type": "display_data"
    },
    {
     "data": {
      "text/html": [
       "<pre>       Final objective value: 0.179285</pre>"
      ],
      "text/plain": [
       "       Final objective value: 0.179285"
      ]
     },
     "metadata": {},
     "output_type": "display_data"
    },
    {
     "data": {
      "text/html": [
       "<pre>       Final training RMSE: 0.420848</pre>"
      ],
      "text/plain": [
       "       Final training RMSE: 0.420848"
      ]
     },
     "metadata": {},
     "output_type": "display_data"
    }
   ],
   "source": [
    "# create the recommender (will train during this step)\n",
    "rec = gl.recommender.factorization_recommender.create(\n",
    "            train_set,\n",
    "            user_id='user_id',\n",
    "            item_id='business_id',\n",
    "            target='stars',\n",
    "#             item_data=sf_itemdata\n",
    "            )"
   ]
  },
  {
   "cell_type": "markdown",
   "metadata": {},
   "source": [
    "#### Save off the model"
   ]
  },
  {
   "cell_type": "code",
   "execution_count": 58,
   "metadata": {
    "collapsed": false
   },
   "outputs": [],
   "source": [
    "rec.save('frec_without_sides')\n"
   ]
  },
  {
   "cell_type": "code",
   "execution_count": null,
   "metadata": {
    "collapsed": true
   },
   "outputs": [],
   "source": []
  },
  {
   "cell_type": "code",
   "execution_count": 252,
   "metadata": {
    "collapsed": false
   },
   "outputs": [
    {
     "data": {
      "text/plain": [
       "u'/Volumes/Macintosh_HD/Users/deanliu/git/Galvanize/capstone_project/traveler_eats_recommender'"
      ]
     },
     "execution_count": 252,
     "metadata": {},
     "output_type": "execute_result"
    }
   ],
   "source": [
    "pwd"
   ]
  },
  {
   "cell_type": "code",
   "execution_count": null,
   "metadata": {
    "collapsed": true
   },
   "outputs": [],
   "source": []
  },
  {
   "cell_type": "markdown",
   "metadata": {},
   "source": [
    "# Load the model from disk"
   ]
  },
  {
   "cell_type": "code",
   "execution_count": 263,
   "metadata": {
    "collapsed": false
   },
   "outputs": [],
   "source": [
    "mws = gl.load_model('models/frec_with_sides')\n",
    "mwos= gl.load_model('models/frec_without_sides')\n",
    "\n",
    "# mws = gl.load_model('models/frec_tmp_ws')\n",
    "# mwos= gl.load_model('models/frec_tmp_wos')"
   ]
  },
  {
   "cell_type": "code",
   "execution_count": 264,
   "metadata": {
    "collapsed": false
   },
   "outputs": [
    {
     "data": {
      "text/plain": [
       "True"
      ]
     },
     "execution_count": 264,
     "metadata": {},
     "output_type": "execute_result"
    }
   ],
   "source": [
    "'Restaurants' in mws.item_side_data_column_names"
   ]
  },
  {
   "cell_type": "code",
   "execution_count": null,
   "metadata": {
    "collapsed": true
   },
   "outputs": [],
   "source": []
  },
  {
   "cell_type": "code",
   "execution_count": 254,
   "metadata": {
    "collapsed": false
   },
   "outputs": [],
   "source": [
    "import random"
   ]
  },
  {
   "cell_type": "code",
   "execution_count": 270,
   "metadata": {
    "collapsed": false
   },
   "outputs": [
    {
     "name": "stdout",
     "output_type": "stream",
     "text": [
      "+------------------------+-------+-------------------------------+\n",
      "|        user_id         | count |          restaurants          |\n",
      "+------------------------+-------+-------------------------------+\n",
      "| xJvZjm6j8aeXG3aUEzwaag |   9   | {'W8Gjzs5mxSU9aA77l-V9fA':... |\n",
      "+------------------------+-------+-------------------------------+\n",
      "[1 rows x 3 columns]\n",
      "\n"
     ]
    }
   ],
   "source": [
    "# create a test users\n",
    "threshold_lo = 5\n",
    "threshold_hi = 10\n",
    "test_user = restaurants_by_user[(threshold_lo<restaurants_by_user['count']) &\n",
    "                                (restaurants_by_user['count']<threshold_hi)] \\\n",
    "                .sample(0.01)[0:1]\n",
    "print test_user"
   ]
  },
  {
   "cell_type": "code",
   "execution_count": 281,
   "metadata": {
    "collapsed": false,
    "scrolled": true
   },
   "outputs": [
    {
     "data": {
      "text/plain": [
       "'xJvZjm6j8aeXG3aUEzwaag'"
      ]
     },
     "execution_count": 281,
     "metadata": {},
     "output_type": "execute_result"
    }
   ],
   "source": [
    "test_user[0]['user_id']"
   ]
  },
  {
   "cell_type": "code",
   "execution_count": 273,
   "metadata": {
    "collapsed": false,
    "scrolled": false
   },
   "outputs": [
    {
     "data": {
      "text/html": [
       "<pre>Getting similar users completed in 0.018248</pre>"
      ],
      "text/plain": [
       "Getting similar users completed in 0.018248"
      ]
     },
     "metadata": {},
     "output_type": "display_data"
    },
    {
     "name": "stdout",
     "output_type": "stream",
     "text": [
      "+------------------------+------------------------+----------------+------+-------+\n",
      "|        user_id         |        similar         |     score      | rank | count |\n",
      "+------------------------+------------------------+----------------+------+-------+\n",
      "| xJvZjm6j8aeXG3aUEzwaag | bOK-LX6wCR8q1LGBbVw9rQ | 0.999969005585 |  1   |   9   |\n",
      "| xJvZjm6j8aeXG3aUEzwaag | M24Y07AyCR8hdlC3qMBNDQ | 0.999960422516 |  2   |   9   |\n",
      "| xJvZjm6j8aeXG3aUEzwaag | 2s-Y1A1G69MmMU1ENmlixA | 0.999959766865 |  3   |   9   |\n",
      "| xJvZjm6j8aeXG3aUEzwaag | m0FMb8avBMr2E7wdUyhVzA | 0.999956548214 |  4   |   9   |\n",
      "| xJvZjm6j8aeXG3aUEzwaag | DZlIxaai3wF-YgKP3Me-eA | 0.999954581261 |  5   |   9   |\n",
      "| xJvZjm6j8aeXG3aUEzwaag | d1gKL5zDbUjcwiKfF1Leug | 0.999946057796 |  6   |   9   |\n",
      "| xJvZjm6j8aeXG3aUEzwaag | nB_CErCdm_JGGwugQhsqPQ | 0.999945878983 |  7   |   9   |\n",
      "| xJvZjm6j8aeXG3aUEzwaag | X6l3f1Hye2BEcFG5RZnJ_w | 0.999945759773 |  8   |   9   |\n",
      "| xJvZjm6j8aeXG3aUEzwaag | c65RuWQ-zqku3NKK---aFw | 0.999944806099 |  9   |   9   |\n",
      "| xJvZjm6j8aeXG3aUEzwaag | W9H4G4cbPHSwleVliqhR8w | 0.999944806099 |  10  |   9   |\n",
      "+------------------------+------------------------+----------------+------+-------+\n",
      "+-------------------------------+\n",
      "|          restaurants          |\n",
      "+-------------------------------+\n",
      "| {'W8Gjzs5mxSU9aA77l-V9fA':... |\n",
      "| {'W8Gjzs5mxSU9aA77l-V9fA':... |\n",
      "| {'W8Gjzs5mxSU9aA77l-V9fA':... |\n",
      "| {'W8Gjzs5mxSU9aA77l-V9fA':... |\n",
      "| {'W8Gjzs5mxSU9aA77l-V9fA':... |\n",
      "| {'W8Gjzs5mxSU9aA77l-V9fA':... |\n",
      "| {'W8Gjzs5mxSU9aA77l-V9fA':... |\n",
      "| {'W8Gjzs5mxSU9aA77l-V9fA':... |\n",
      "| {'W8Gjzs5mxSU9aA77l-V9fA':... |\n",
      "| {'W8Gjzs5mxSU9aA77l-V9fA':... |\n",
      "+-------------------------------+\n",
      "[10 rows x 6 columns]\n",
      "\n"
     ]
    },
    {
     "data": {
      "text/html": [
       "<pre>Getting similar users completed in 0.013062</pre>"
      ],
      "text/plain": [
       "Getting similar users completed in 0.013062"
      ]
     },
     "metadata": {},
     "output_type": "display_data"
    },
    {
     "name": "stdout",
     "output_type": "stream",
     "text": [
      "+------------------------+------------------------+----------------+------+-------+\n",
      "|        user_id         |        similar         |     score      | rank | count |\n",
      "+------------------------+------------------------+----------------+------+-------+\n",
      "| xJvZjm6j8aeXG3aUEzwaag | Lzxx5eJ_WSEr-LrIc2QRPA | 0.982292890549 |  1   |   9   |\n",
      "| xJvZjm6j8aeXG3aUEzwaag | 7VqXdrmBA0J7TxGzAcNJxA | 0.97577381134  |  2   |   9   |\n",
      "| xJvZjm6j8aeXG3aUEzwaag | 0MRlubaLu5v3sI4vu_XqDg | 0.964220106602 |  3   |   9   |\n",
      "| xJvZjm6j8aeXG3aUEzwaag | b0jSP2vzSCJAvVlg_vxwtQ | 0.96025955677  |  4   |   9   |\n",
      "| xJvZjm6j8aeXG3aUEzwaag | 5fufT4_o8VTovviGAsc9_g | 0.953839600086 |  5   |   9   |\n",
      "| xJvZjm6j8aeXG3aUEzwaag | ka9L2n3jRx6_PcPun2516A | 0.952230870724 |  6   |   9   |\n",
      "| xJvZjm6j8aeXG3aUEzwaag | 54cM8ZJgbhn9PjOS0XROMA | 0.95214086771  |  7   |   9   |\n",
      "| xJvZjm6j8aeXG3aUEzwaag | vXM2lOi0iwegQlbB69VFuw | 0.951331019402 |  8   |   9   |\n",
      "| xJvZjm6j8aeXG3aUEzwaag | -cxKUTgQsKECicDIKZ_MKA | 0.951191067696 |  9   |   9   |\n",
      "| xJvZjm6j8aeXG3aUEzwaag | gvH7Plrr_HETNQDW0rKotg | 0.95099902153  |  10  |   9   |\n",
      "+------------------------+------------------------+----------------+------+-------+\n",
      "+-------------------------------+\n",
      "|          restaurants          |\n",
      "+-------------------------------+\n",
      "| {'W8Gjzs5mxSU9aA77l-V9fA':... |\n",
      "| {'W8Gjzs5mxSU9aA77l-V9fA':... |\n",
      "| {'W8Gjzs5mxSU9aA77l-V9fA':... |\n",
      "| {'W8Gjzs5mxSU9aA77l-V9fA':... |\n",
      "| {'W8Gjzs5mxSU9aA77l-V9fA':... |\n",
      "| {'W8Gjzs5mxSU9aA77l-V9fA':... |\n",
      "| {'W8Gjzs5mxSU9aA77l-V9fA':... |\n",
      "| {'W8Gjzs5mxSU9aA77l-V9fA':... |\n",
      "| {'W8Gjzs5mxSU9aA77l-V9fA':... |\n",
      "| {'W8Gjzs5mxSU9aA77l-V9fA':... |\n",
      "+-------------------------------+\n",
      "[10 rows x 6 columns]\n",
      "\n"
     ]
    }
   ],
   "source": [
    "simuser_ws = mws.get_similar_users([test_user[0]['user_id']], k=10)\n",
    "simuser_wsj = simuser_ws.join(restaurants_by_user, on={'user_id':'user_id'}, how='left')\n",
    "print simuser_wsj.head()\n",
    "\n",
    "simuser_ns = mwos.get_similar_users([test_user[0]['user_id']], k=10)\n",
    "simuser_nsj = simuser_ns.join(restaurants_by_user, on={'user_id':'user_id'}, how='left')\n",
    "print simuser_nsj.head()"
   ]
  },
  {
   "cell_type": "code",
   "execution_count": 106,
   "metadata": {
    "collapsed": false
   },
   "outputs": [
    {
     "name": "stdout",
     "output_type": "stream",
     "text": [
      "Canvas is accessible via web browser at the URL: http://localhost:49546/index.html\n",
      "Opening Canvas in default web browser.\n",
      "Canvas is updated and available in a tab in the default browser.\n"
     ]
    }
   ],
   "source": [
    "mws.show()\n",
    "mwos.show()"
   ]
  },
  {
   "cell_type": "code",
   "execution_count": 137,
   "metadata": {
    "collapsed": false
   },
   "outputs": [
    {
     "data": {
      "text/plain": [
       "[{'score': 0.9998569488525391, 'similar': 'RvA9gntdOj1UfgIO1udKdg'},\n",
       " {'score': 0.9998271465301514, 'similar': '1UKOCb-k8oMdTG821GX6gQ'},\n",
       " {'score': 0.9998024702072144, 'similar': 'jwouB3jD8kWgGPor3AfI-Q'},\n",
       " {'score': 0.9997962117195129, 'similar': 'zRuyGKh-ksUzJ1wqNU46Gw'},\n",
       " {'score': 0.9997909665107727, 'similar': 'fBE4NNPviEcn9Gm-lZsZFA'}]"
      ]
     },
     "execution_count": 137,
     "metadata": {},
     "output_type": "execute_result"
    }
   ],
   "source": [
    "list(simuser_ws['similar','score'][0:5])"
   ]
  },
  {
   "cell_type": "code",
   "execution_count": 130,
   "metadata": {
    "collapsed": false
   },
   "outputs": [
    {
     "data": {
      "text/html": [
       "<div style=\"max-height:1000px;max-width:1500px;overflow:auto;\"><table frame=\"box\" rules=\"cols\">\n",
       "    <tr>\n",
       "        <th style=\"padding-left: 1em; padding-right: 1em; text-align: center\">user_id</th>\n",
       "        <th style=\"padding-left: 1em; padding-right: 1em; text-align: center\">similar</th>\n",
       "        <th style=\"padding-left: 1em; padding-right: 1em; text-align: center\">score</th>\n",
       "        <th style=\"padding-left: 1em; padding-right: 1em; text-align: center\">rank</th>\n",
       "    </tr>\n",
       "    <tr>\n",
       "        <td style=\"padding-left: 1em; padding-right: 1em; text-align: center; vertical-align: top\">UFr-WCtnNbX8O3sI7h4qeQ</td>\n",
       "        <td style=\"padding-left: 1em; padding-right: 1em; text-align: center; vertical-align: top\">RvA9gntdOj1UfgIO1udKdg</td>\n",
       "        <td style=\"padding-left: 1em; padding-right: 1em; text-align: center; vertical-align: top\">0.999856948853</td>\n",
       "        <td style=\"padding-left: 1em; padding-right: 1em; text-align: center; vertical-align: top\">1</td>\n",
       "    </tr>\n",
       "    <tr>\n",
       "        <td style=\"padding-left: 1em; padding-right: 1em; text-align: center; vertical-align: top\">UFr-WCtnNbX8O3sI7h4qeQ</td>\n",
       "        <td style=\"padding-left: 1em; padding-right: 1em; text-align: center; vertical-align: top\">1UKOCb-k8oMdTG821GX6gQ</td>\n",
       "        <td style=\"padding-left: 1em; padding-right: 1em; text-align: center; vertical-align: top\">0.99982714653</td>\n",
       "        <td style=\"padding-left: 1em; padding-right: 1em; text-align: center; vertical-align: top\">2</td>\n",
       "    </tr>\n",
       "    <tr>\n",
       "        <td style=\"padding-left: 1em; padding-right: 1em; text-align: center; vertical-align: top\">UFr-WCtnNbX8O3sI7h4qeQ</td>\n",
       "        <td style=\"padding-left: 1em; padding-right: 1em; text-align: center; vertical-align: top\">jwouB3jD8kWgGPor3AfI-Q</td>\n",
       "        <td style=\"padding-left: 1em; padding-right: 1em; text-align: center; vertical-align: top\">0.999802470207</td>\n",
       "        <td style=\"padding-left: 1em; padding-right: 1em; text-align: center; vertical-align: top\">3</td>\n",
       "    </tr>\n",
       "    <tr>\n",
       "        <td style=\"padding-left: 1em; padding-right: 1em; text-align: center; vertical-align: top\">UFr-WCtnNbX8O3sI7h4qeQ</td>\n",
       "        <td style=\"padding-left: 1em; padding-right: 1em; text-align: center; vertical-align: top\">zRuyGKh-ksUzJ1wqNU46Gw</td>\n",
       "        <td style=\"padding-left: 1em; padding-right: 1em; text-align: center; vertical-align: top\">0.99979621172</td>\n",
       "        <td style=\"padding-left: 1em; padding-right: 1em; text-align: center; vertical-align: top\">4</td>\n",
       "    </tr>\n",
       "    <tr>\n",
       "        <td style=\"padding-left: 1em; padding-right: 1em; text-align: center; vertical-align: top\">UFr-WCtnNbX8O3sI7h4qeQ</td>\n",
       "        <td style=\"padding-left: 1em; padding-right: 1em; text-align: center; vertical-align: top\">fBE4NNPviEcn9Gm-lZsZFA</td>\n",
       "        <td style=\"padding-left: 1em; padding-right: 1em; text-align: center; vertical-align: top\">0.999790966511</td>\n",
       "        <td style=\"padding-left: 1em; padding-right: 1em; text-align: center; vertical-align: top\">5</td>\n",
       "    </tr>\n",
       "    <tr>\n",
       "        <td style=\"padding-left: 1em; padding-right: 1em; text-align: center; vertical-align: top\">UFr-WCtnNbX8O3sI7h4qeQ</td>\n",
       "        <td style=\"padding-left: 1em; padding-right: 1em; text-align: center; vertical-align: top\">FgDirdF5qYQ6dI8U-gh3kA</td>\n",
       "        <td style=\"padding-left: 1em; padding-right: 1em; text-align: center; vertical-align: top\">0.999782323837</td>\n",
       "        <td style=\"padding-left: 1em; padding-right: 1em; text-align: center; vertical-align: top\">6</td>\n",
       "    </tr>\n",
       "    <tr>\n",
       "        <td style=\"padding-left: 1em; padding-right: 1em; text-align: center; vertical-align: top\">UFr-WCtnNbX8O3sI7h4qeQ</td>\n",
       "        <td style=\"padding-left: 1em; padding-right: 1em; text-align: center; vertical-align: top\">Q3fFv_ft17OyV-NRF1iQxw</td>\n",
       "        <td style=\"padding-left: 1em; padding-right: 1em; text-align: center; vertical-align: top\">0.999769508839</td>\n",
       "        <td style=\"padding-left: 1em; padding-right: 1em; text-align: center; vertical-align: top\">7</td>\n",
       "    </tr>\n",
       "    <tr>\n",
       "        <td style=\"padding-left: 1em; padding-right: 1em; text-align: center; vertical-align: top\">UFr-WCtnNbX8O3sI7h4qeQ</td>\n",
       "        <td style=\"padding-left: 1em; padding-right: 1em; text-align: center; vertical-align: top\">g4luSu3EFv3tmEAj1XrNog</td>\n",
       "        <td style=\"padding-left: 1em; padding-right: 1em; text-align: center; vertical-align: top\">0.999766349792</td>\n",
       "        <td style=\"padding-left: 1em; padding-right: 1em; text-align: center; vertical-align: top\">8</td>\n",
       "    </tr>\n",
       "    <tr>\n",
       "        <td style=\"padding-left: 1em; padding-right: 1em; text-align: center; vertical-align: top\">UFr-WCtnNbX8O3sI7h4qeQ</td>\n",
       "        <td style=\"padding-left: 1em; padding-right: 1em; text-align: center; vertical-align: top\">-A6jF_xAyAK3pvjTjzbfIw</td>\n",
       "        <td style=\"padding-left: 1em; padding-right: 1em; text-align: center; vertical-align: top\">0.999759554863</td>\n",
       "        <td style=\"padding-left: 1em; padding-right: 1em; text-align: center; vertical-align: top\">9</td>\n",
       "    </tr>\n",
       "    <tr>\n",
       "        <td style=\"padding-left: 1em; padding-right: 1em; text-align: center; vertical-align: top\">UFr-WCtnNbX8O3sI7h4qeQ</td>\n",
       "        <td style=\"padding-left: 1em; padding-right: 1em; text-align: center; vertical-align: top\">Dorg57DfTwyLVvbECTmUOw</td>\n",
       "        <td style=\"padding-left: 1em; padding-right: 1em; text-align: center; vertical-align: top\">0.999751508236</td>\n",
       "        <td style=\"padding-left: 1em; padding-right: 1em; text-align: center; vertical-align: top\">10</td>\n",
       "    </tr>\n",
       "</table>\n",
       "[2000 rows x 4 columns]<br/>Note: Only the head of the SFrame is printed.<br/>You can use print_rows(num_rows=m, num_columns=n) to print more rows and columns.\n",
       "</div>"
      ],
      "text/plain": [
       "Columns:\n",
       "\tuser_id\tstr\n",
       "\tsimilar\tstr\n",
       "\tscore\tfloat\n",
       "\trank\tint\n",
       "\n",
       "Rows: 2000\n",
       "\n",
       "Data:\n",
       "+------------------------+------------------------+----------------+------+\n",
       "|        user_id         |        similar         |     score      | rank |\n",
       "+------------------------+------------------------+----------------+------+\n",
       "| UFr-WCtnNbX8O3sI7h4qeQ | RvA9gntdOj1UfgIO1udKdg | 0.999856948853 |  1   |\n",
       "| UFr-WCtnNbX8O3sI7h4qeQ | 1UKOCb-k8oMdTG821GX6gQ | 0.99982714653  |  2   |\n",
       "| UFr-WCtnNbX8O3sI7h4qeQ | jwouB3jD8kWgGPor3AfI-Q | 0.999802470207 |  3   |\n",
       "| UFr-WCtnNbX8O3sI7h4qeQ | zRuyGKh-ksUzJ1wqNU46Gw | 0.99979621172  |  4   |\n",
       "| UFr-WCtnNbX8O3sI7h4qeQ | fBE4NNPviEcn9Gm-lZsZFA | 0.999790966511 |  5   |\n",
       "| UFr-WCtnNbX8O3sI7h4qeQ | FgDirdF5qYQ6dI8U-gh3kA | 0.999782323837 |  6   |\n",
       "| UFr-WCtnNbX8O3sI7h4qeQ | Q3fFv_ft17OyV-NRF1iQxw | 0.999769508839 |  7   |\n",
       "| UFr-WCtnNbX8O3sI7h4qeQ | g4luSu3EFv3tmEAj1XrNog | 0.999766349792 |  8   |\n",
       "| UFr-WCtnNbX8O3sI7h4qeQ | -A6jF_xAyAK3pvjTjzbfIw | 0.999759554863 |  9   |\n",
       "| UFr-WCtnNbX8O3sI7h4qeQ | Dorg57DfTwyLVvbECTmUOw | 0.999751508236 |  10  |\n",
       "+------------------------+------------------------+----------------+------+\n",
       "[2000 rows x 4 columns]\n",
       "Note: Only the head of the SFrame is printed.\n",
       "You can use print_rows(num_rows=m, num_columns=n) to print more rows and columns."
      ]
     },
     "execution_count": 130,
     "metadata": {},
     "output_type": "execute_result"
    }
   ],
   "source": [
    "simuser_ws"
   ]
  },
  {
   "cell_type": "code",
   "execution_count": null,
   "metadata": {
    "collapsed": true
   },
   "outputs": [],
   "source": []
  },
  {
   "cell_type": "code",
   "execution_count": null,
   "metadata": {
    "collapsed": true
   },
   "outputs": [],
   "source": []
  },
  {
   "cell_type": "code",
   "execution_count": null,
   "metadata": {
    "collapsed": false,
    "scrolled": false
   },
   "outputs": [],
   "source": [
    "# rec = gl.recommender.create(\n",
    "#             sf_obj,\n",
    "#             user_id='user_id',\n",
    "#             item_id='business_id',\n",
    "#             target ='stars')"
   ]
  },
  {
   "cell_type": "code",
   "execution_count": 39,
   "metadata": {
    "collapsed": false
   },
   "outputs": [
    {
     "name": "stdout",
     "output_type": "stream",
     "text": [
      "stars: 3.73694314521\n"
     ]
    }
   ],
   "source": [
    "# evaluate 1 datapoint (user=1, business=100) for potential rating\n",
    "one_datapoint_sf = gl.SFrame({'user_id': [1], 'business_id': [100]})\n",
    "print \"stars:\", rec.predict(one_datapoint_sf)[0]   # 4.879"
   ]
  },
  {
   "cell_type": "code",
   "execution_count": 40,
   "metadata": {
    "collapsed": false,
    "scrolled": true
   },
   "outputs": [
    {
     "data": {
      "text/plain": [
       "['adagrad_momentum_weighting',\n",
       " 'additional_iterations_if_unhealthy',\n",
       " 'binary_target',\n",
       " 'coefficients',\n",
       " 'data_load_time',\n",
       " 'init_random_sigma',\n",
       " 'item_id',\n",
       " 'item_side_data_column_names',\n",
       " 'item_side_data_column_types',\n",
       " 'linear_regularization',\n",
       " 'max_iterations',\n",
       " 'model_name',\n",
       " 'nmf',\n",
       " 'num_factors',\n",
       " 'num_features',\n",
       " 'num_item_side_features',\n",
       " 'num_items',\n",
       " 'num_observations',\n",
       " 'num_tempering_iterations',\n",
       " 'num_user_side_features',\n",
       " 'num_users',\n",
       " 'observation_data_column_names',\n",
       " 'random_seed',\n",
       " 'regularization',\n",
       " 'regularization_type',\n",
       " 'sgd_convergence_interval',\n",
       " 'sgd_convergence_threshold',\n",
       " 'sgd_max_trial_iterations',\n",
       " 'sgd_sampling_block_size',\n",
       " 'sgd_step_adjustment_interval',\n",
       " 'sgd_step_size',\n",
       " 'sgd_trial_sample_minimum_size',\n",
       " 'sgd_trial_sample_proportion',\n",
       " 'side_data_factorization',\n",
       " 'solver',\n",
       " 'step_size_decrease_rate',\n",
       " 'target',\n",
       " 'tempering_regularization_start_value',\n",
       " 'track_exact_loss',\n",
       " 'training_rmse',\n",
       " 'training_stats',\n",
       " 'training_time',\n",
       " 'user_id',\n",
       " 'user_side_data_column_names',\n",
       " 'user_side_data_column_types']"
      ]
     },
     "execution_count": 40,
     "metadata": {},
     "output_type": "execute_result"
    }
   ],
   "source": [
    "rec.list_fields()"
   ]
  },
  {
   "cell_type": "code",
   "execution_count": 41,
   "metadata": {
    "collapsed": false
   },
   "outputs": [
    {
     "data": {
      "text/plain": [
       "3.7369431452062614"
      ]
     },
     "execution_count": 41,
     "metadata": {},
     "output_type": "execute_result"
    }
   ],
   "source": [
    "rec.get('coefficients')['intercept']"
   ]
  },
  {
   "cell_type": "code",
   "execution_count": 42,
   "metadata": {
    "collapsed": false,
    "scrolled": false
   },
   "outputs": [
    {
     "data": {
      "text/html": [
       "<div style=\"max-height:1000px;max-width:1500px;overflow:auto;\"><table frame=\"box\" rules=\"cols\">\n",
       "    <tr>\n",
       "        <th style=\"padding-left: 1em; padding-right: 1em; text-align: center\">user_id</th>\n",
       "        <th style=\"padding-left: 1em; padding-right: 1em; text-align: center\">linear_terms</th>\n",
       "        <th style=\"padding-left: 1em; padding-right: 1em; text-align: center\">factors</th>\n",
       "    </tr>\n",
       "    <tr>\n",
       "        <td style=\"padding-left: 1em; padding-right: 1em; text-align: center; vertical-align: top\">Ouus3lC3Xk3YRGx4ptd_4A</td>\n",
       "        <td style=\"padding-left: 1em; padding-right: 1em; text-align: center; vertical-align: top\">0.0327613838017</td>\n",
       "        <td style=\"padding-left: 1em; padding-right: 1em; text-align: center; vertical-align: top\">[0.0261160954833,<br>0.0263281986117, ...</td>\n",
       "    </tr>\n",
       "    <tr>\n",
       "        <td style=\"padding-left: 1em; padding-right: 1em; text-align: center; vertical-align: top\">dz_sBsL69aWzsxksT2O_Mg</td>\n",
       "        <td style=\"padding-left: 1em; padding-right: 1em; text-align: center; vertical-align: top\">-0.0152220064774</td>\n",
       "        <td style=\"padding-left: 1em; padding-right: 1em; text-align: center; vertical-align: top\">[-0.0241532307118,<br>-0.0241916514933, ...</td>\n",
       "    </tr>\n",
       "    <tr>\n",
       "        <td style=\"padding-left: 1em; padding-right: 1em; text-align: center; vertical-align: top\">zyI-u0C1YOzp5v1j2wuCOQ</td>\n",
       "        <td style=\"padding-left: 1em; padding-right: 1em; text-align: center; vertical-align: top\">0.0465549193323</td>\n",
       "        <td style=\"padding-left: 1em; padding-right: 1em; text-align: center; vertical-align: top\">[0.0160138569772,<br>0.0160326808691, ...</td>\n",
       "    </tr>\n",
       "    <tr>\n",
       "        <td style=\"padding-left: 1em; padding-right: 1em; text-align: center; vertical-align: top\">vyfsQo-estP8EfiIFMsL6g</td>\n",
       "        <td style=\"padding-left: 1em; padding-right: 1em; text-align: center; vertical-align: top\">0.0587146058679</td>\n",
       "        <td style=\"padding-left: 1em; padding-right: 1em; text-align: center; vertical-align: top\">[-0.0107431840152,<br>-0.0103426072747, ...</td>\n",
       "    </tr>\n",
       "    <tr>\n",
       "        <td style=\"padding-left: 1em; padding-right: 1em; text-align: center; vertical-align: top\">lxZSVeJz6KEBW1nlA3JKJg</td>\n",
       "        <td style=\"padding-left: 1em; padding-right: 1em; text-align: center; vertical-align: top\">-0.11037093401</td>\n",
       "        <td style=\"padding-left: 1em; padding-right: 1em; text-align: center; vertical-align: top\">[-0.0459412224591,<br>-0.0458470769227, ...</td>\n",
       "    </tr>\n",
       "    <tr>\n",
       "        <td style=\"padding-left: 1em; padding-right: 1em; text-align: center; vertical-align: top\">CbMCOeeHVeafcD-6-CJrPg</td>\n",
       "        <td style=\"padding-left: 1em; padding-right: 1em; text-align: center; vertical-align: top\">0.0605444423854</td>\n",
       "        <td style=\"padding-left: 1em; padding-right: 1em; text-align: center; vertical-align: top\">[-0.0185883156955,<br>-0.018461458385, ...</td>\n",
       "    </tr>\n",
       "    <tr>\n",
       "        <td style=\"padding-left: 1em; padding-right: 1em; text-align: center; vertical-align: top\">Z8DyUMojRhFbLyHBymM_rA</td>\n",
       "        <td style=\"padding-left: 1em; padding-right: 1em; text-align: center; vertical-align: top\">-0.110937416553</td>\n",
       "        <td style=\"padding-left: 1em; padding-right: 1em; text-align: center; vertical-align: top\">[-0.0106938546523,<br>-0.0105813508853, ...</td>\n",
       "    </tr>\n",
       "    <tr>\n",
       "        <td style=\"padding-left: 1em; padding-right: 1em; text-align: center; vertical-align: top\">sXWvDlMQspjJ1zzr3cEM7Q</td>\n",
       "        <td style=\"padding-left: 1em; padding-right: 1em; text-align: center; vertical-align: top\">-0.0254131220281</td>\n",
       "        <td style=\"padding-left: 1em; padding-right: 1em; text-align: center; vertical-align: top\">[0.0130900871009,<br>0.0133146680892, ...</td>\n",
       "    </tr>\n",
       "    <tr>\n",
       "        <td style=\"padding-left: 1em; padding-right: 1em; text-align: center; vertical-align: top\">G8RaaiVzbyRvsBmoUx0VeA</td>\n",
       "        <td style=\"padding-left: 1em; padding-right: 1em; text-align: center; vertical-align: top\">-0.00300458748825</td>\n",
       "        <td style=\"padding-left: 1em; padding-right: 1em; text-align: center; vertical-align: top\">[0.0119381546974,<br>0.0119537906721, ...</td>\n",
       "    </tr>\n",
       "    <tr>\n",
       "        <td style=\"padding-left: 1em; padding-right: 1em; text-align: center; vertical-align: top\">f0isFKnJVZVmpdCPNd8Gfw</td>\n",
       "        <td style=\"padding-left: 1em; padding-right: 1em; text-align: center; vertical-align: top\">-0.226664245129</td>\n",
       "        <td style=\"padding-left: 1em; padding-right: 1em; text-align: center; vertical-align: top\">[-0.00979323592037,<br>-0.00989496335387, ...</td>\n",
       "    </tr>\n",
       "</table>\n",
       "[388600 rows x 3 columns]<br/>Note: Only the head of the SFrame is printed.<br/>You can use print_rows(num_rows=m, num_columns=n) to print more rows and columns.\n",
       "</div>"
      ],
      "text/plain": [
       "Columns:\n",
       "\tuser_id\tstr\n",
       "\tlinear_terms\tfloat\n",
       "\tfactors\tarray\n",
       "\n",
       "Rows: 388600\n",
       "\n",
       "Data:\n",
       "+------------------------+-------------------+-------------------------------+\n",
       "|        user_id         |    linear_terms   |            factors            |\n",
       "+------------------------+-------------------+-------------------------------+\n",
       "| Ouus3lC3Xk3YRGx4ptd_4A |  0.0327613838017  | [0.0261160954833, 0.026328... |\n",
       "| dz_sBsL69aWzsxksT2O_Mg |  -0.0152220064774 | [-0.0241532307118, -0.0241... |\n",
       "| zyI-u0C1YOzp5v1j2wuCOQ |  0.0465549193323  | [0.0160138569772, 0.016032... |\n",
       "| vyfsQo-estP8EfiIFMsL6g |  0.0587146058679  | [-0.0107431840152, -0.0103... |\n",
       "| lxZSVeJz6KEBW1nlA3JKJg |   -0.11037093401  | [-0.0459412224591, -0.0458... |\n",
       "| CbMCOeeHVeafcD-6-CJrPg |  0.0605444423854  | [-0.0185883156955, -0.0184... |\n",
       "| Z8DyUMojRhFbLyHBymM_rA |  -0.110937416553  | [-0.0106938546523, -0.0105... |\n",
       "| sXWvDlMQspjJ1zzr3cEM7Q |  -0.0254131220281 | [0.0130900871009, 0.013314... |\n",
       "| G8RaaiVzbyRvsBmoUx0VeA | -0.00300458748825 | [0.0119381546974, 0.011953... |\n",
       "| f0isFKnJVZVmpdCPNd8Gfw |  -0.226664245129  | [-0.00979323592037, -0.009... |\n",
       "+------------------------+-------------------+-------------------------------+\n",
       "[388600 rows x 3 columns]\n",
       "Note: Only the head of the SFrame is printed.\n",
       "You can use print_rows(num_rows=m, num_columns=n) to print more rows and columns."
      ]
     },
     "execution_count": 42,
     "metadata": {},
     "output_type": "execute_result"
    }
   ],
   "source": [
    "# rec['coefficients']  # equivalent to: rec.get('coefficients')\n",
    "rec.get('coefficients')['user_id']"
   ]
  },
  {
   "cell_type": "code",
   "execution_count": 43,
   "metadata": {
    "collapsed": false,
    "scrolled": false
   },
   "outputs": [
    {
     "data": {
      "text/html": [
       "<div style=\"max-height:1000px;max-width:1500px;overflow:auto;\"><table frame=\"box\" rules=\"cols\">\n",
       "    <tr>\n",
       "        <th style=\"padding-left: 1em; padding-right: 1em; text-align: center\">business_id</th>\n",
       "        <th style=\"padding-left: 1em; padding-right: 1em; text-align: center\">linear_terms</th>\n",
       "        <th style=\"padding-left: 1em; padding-right: 1em; text-align: center\">factors</th>\n",
       "    </tr>\n",
       "    <tr>\n",
       "        <td style=\"padding-left: 1em; padding-right: 1em; text-align: center; vertical-align: top\">Yf_mKctDPfMQkig-DavQJw</td>\n",
       "        <td style=\"padding-left: 1em; padding-right: 1em; text-align: center; vertical-align: top\">-0.0407451838255</td>\n",
       "        <td style=\"padding-left: 1em; padding-right: 1em; text-align: center; vertical-align: top\">[-0.0085883019492,<br>-0.00839034561068, ...</td>\n",
       "    </tr>\n",
       "    <tr>\n",
       "        <td style=\"padding-left: 1em; padding-right: 1em; text-align: center; vertical-align: top\">Hxw3hG8Efg6WXSa5oRJhrA</td>\n",
       "        <td style=\"padding-left: 1em; padding-right: 1em; text-align: center; vertical-align: top\">-0.234818160534</td>\n",
       "        <td style=\"padding-left: 1em; padding-right: 1em; text-align: center; vertical-align: top\">[-0.06912881881,<br>-0.0693349763751, ...</td>\n",
       "    </tr>\n",
       "    <tr>\n",
       "        <td style=\"padding-left: 1em; padding-right: 1em; text-align: center; vertical-align: top\">KkdkWeTMN8q-xpWD0ckx1Q</td>\n",
       "        <td style=\"padding-left: 1em; padding-right: 1em; text-align: center; vertical-align: top\">0.222354754806</td>\n",
       "        <td style=\"padding-left: 1em; padding-right: 1em; text-align: center; vertical-align: top\">[-0.0495907403529,<br>-0.0494525320828, ...</td>\n",
       "    </tr>\n",
       "    <tr>\n",
       "        <td style=\"padding-left: 1em; padding-right: 1em; text-align: center; vertical-align: top\">sUwVz00qBevDgt2dhe_KXA</td>\n",
       "        <td style=\"padding-left: 1em; padding-right: 1em; text-align: center; vertical-align: top\">-0.0903140455484</td>\n",
       "        <td style=\"padding-left: 1em; padding-right: 1em; text-align: center; vertical-align: top\">[-0.0292513202876,<br>-0.0294271633029, ...</td>\n",
       "    </tr>\n",
       "    <tr>\n",
       "        <td style=\"padding-left: 1em; padding-right: 1em; text-align: center; vertical-align: top\">xoYY0F5hrs00h285tWmZZA</td>\n",
       "        <td style=\"padding-left: 1em; padding-right: 1em; text-align: center; vertical-align: top\">-0.0753992125392</td>\n",
       "        <td style=\"padding-left: 1em; padding-right: 1em; text-align: center; vertical-align: top\">[0.0891507640481,<br>0.0887101069093, ...</td>\n",
       "    </tr>\n",
       "    <tr>\n",
       "        <td style=\"padding-left: 1em; padding-right: 1em; text-align: center; vertical-align: top\">m6JwiGrKrs0XCmH9ij3fmA</td>\n",
       "        <td style=\"padding-left: 1em; padding-right: 1em; text-align: center; vertical-align: top\">-0.060532130301</td>\n",
       "        <td style=\"padding-left: 1em; padding-right: 1em; text-align: center; vertical-align: top\">[0.0517805144191,<br>0.0518697313964, ...</td>\n",
       "    </tr>\n",
       "    <tr>\n",
       "        <td style=\"padding-left: 1em; padding-right: 1em; text-align: center; vertical-align: top\">BaoMhBMUDnMDud6F2ZgxrA</td>\n",
       "        <td style=\"padding-left: 1em; padding-right: 1em; text-align: center; vertical-align: top\">-0.119151495397</td>\n",
       "        <td style=\"padding-left: 1em; padding-right: 1em; text-align: center; vertical-align: top\">[-0.0343846902251,<br>-0.0343868993223, ...</td>\n",
       "    </tr>\n",
       "    <tr>\n",
       "        <td style=\"padding-left: 1em; padding-right: 1em; text-align: center; vertical-align: top\">h_1xOfqdfxqNlGOG1oMwKQ</td>\n",
       "        <td style=\"padding-left: 1em; padding-right: 1em; text-align: center; vertical-align: top\">-0.197489455342</td>\n",
       "        <td style=\"padding-left: 1em; padding-right: 1em; text-align: center; vertical-align: top\">[-0.049904268235,<br>-0.0500828027725, ...</td>\n",
       "    </tr>\n",
       "    <tr>\n",
       "        <td style=\"padding-left: 1em; padding-right: 1em; text-align: center; vertical-align: top\">E4b5OC_6mZ0V7B6Nyjncsg</td>\n",
       "        <td style=\"padding-left: 1em; padding-right: 1em; text-align: center; vertical-align: top\">0.113419637084</td>\n",
       "        <td style=\"padding-left: 1em; padding-right: 1em; text-align: center; vertical-align: top\">[0.0469928234816,<br>0.0473065190017, ...</td>\n",
       "    </tr>\n",
       "    <tr>\n",
       "        <td style=\"padding-left: 1em; padding-right: 1em; text-align: center; vertical-align: top\">1xu5wFd0TeBg6xNBiRtknw</td>\n",
       "        <td style=\"padding-left: 1em; padding-right: 1em; text-align: center; vertical-align: top\">0.0979582667351</td>\n",
       "        <td style=\"padding-left: 1em; padding-right: 1em; text-align: center; vertical-align: top\">[-0.071278013289,<br>-0.0715539827943, ...</td>\n",
       "    </tr>\n",
       "</table>\n",
       "[25071 rows x 3 columns]<br/>Note: Only the head of the SFrame is printed.<br/>You can use print_rows(num_rows=m, num_columns=n) to print more rows and columns.\n",
       "</div>"
      ],
      "text/plain": [
       "Columns:\n",
       "\tbusiness_id\tstr\n",
       "\tlinear_terms\tfloat\n",
       "\tfactors\tarray\n",
       "\n",
       "Rows: 25071\n",
       "\n",
       "Data:\n",
       "+------------------------+------------------+-------------------------------+\n",
       "|      business_id       |   linear_terms   |            factors            |\n",
       "+------------------------+------------------+-------------------------------+\n",
       "| Yf_mKctDPfMQkig-DavQJw | -0.0407451838255 | [-0.0085883019492, -0.0083... |\n",
       "| Hxw3hG8Efg6WXSa5oRJhrA | -0.234818160534  | [-0.06912881881, -0.069334... |\n",
       "| KkdkWeTMN8q-xpWD0ckx1Q |  0.222354754806  | [-0.0495907403529, -0.0494... |\n",
       "| sUwVz00qBevDgt2dhe_KXA | -0.0903140455484 | [-0.0292513202876, -0.0294... |\n",
       "| xoYY0F5hrs00h285tWmZZA | -0.0753992125392 | [0.0891507640481, 0.088710... |\n",
       "| m6JwiGrKrs0XCmH9ij3fmA | -0.060532130301  | [0.0517805144191, 0.051869... |\n",
       "| BaoMhBMUDnMDud6F2ZgxrA | -0.119151495397  | [-0.0343846902251, -0.0343... |\n",
       "| h_1xOfqdfxqNlGOG1oMwKQ | -0.197489455342  | [-0.049904268235, -0.05008... |\n",
       "| E4b5OC_6mZ0V7B6Nyjncsg |  0.113419637084  | [0.0469928234816, 0.047306... |\n",
       "| 1xu5wFd0TeBg6xNBiRtknw | 0.0979582667351  | [-0.071278013289, -0.07155... |\n",
       "+------------------------+------------------+-------------------------------+\n",
       "[25071 rows x 3 columns]\n",
       "Note: Only the head of the SFrame is printed.\n",
       "You can use print_rows(num_rows=m, num_columns=n) to print more rows and columns."
      ]
     },
     "execution_count": 43,
     "metadata": {},
     "output_type": "execute_result"
    }
   ],
   "source": [
    "# rec['coefficients']  # equivalent to: rec.get('coefficients')\n",
    "rec.get('coefficients')['business_id']"
   ]
  },
  {
   "cell_type": "code",
   "execution_count": 44,
   "metadata": {
    "collapsed": false
   },
   "outputs": [
    {
     "name": "stdout",
     "output_type": "stream",
     "text": [
      "25071\n",
      "8\n",
      "388600\n",
      "8\n"
     ]
    }
   ],
   "source": [
    "business_sf = rec['coefficients']['business_id']\n",
    "print len(business_sf)                     # 1682\n",
    "print len(business_sf['factors'][0])       # 8\n",
    "user_sf = rec['coefficients']['user_id']\n",
    "print len(user_sf)                      # 943\n",
    "print len(user_sf['factors'][0])        # 8"
   ]
  },
  {
   "cell_type": "code",
   "execution_count": null,
   "metadata": {
    "collapsed": true
   },
   "outputs": [],
   "source": []
  },
  {
   "cell_type": "code",
   "execution_count": null,
   "metadata": {
    "collapsed": true
   },
   "outputs": [],
   "source": []
  },
  {
   "cell_type": "code",
   "execution_count": null,
   "metadata": {
    "collapsed": true
   },
   "outputs": [],
   "source": []
  },
  {
   "cell_type": "code",
   "execution_count": null,
   "metadata": {
    "collapsed": true
   },
   "outputs": [],
   "source": []
  },
  {
   "cell_type": "code",
   "execution_count": null,
   "metadata": {
    "collapsed": true
   },
   "outputs": [],
   "source": []
  },
  {
   "cell_type": "code",
   "execution_count": null,
   "metadata": {
    "collapsed": true
   },
   "outputs": [],
   "source": []
  },
  {
   "cell_type": "code",
   "execution_count": null,
   "metadata": {
    "collapsed": true
   },
   "outputs": [],
   "source": []
  },
  {
   "cell_type": "code",
   "execution_count": null,
   "metadata": {
    "collapsed": true
   },
   "outputs": [],
   "source": []
  },
  {
   "cell_type": "code",
   "execution_count": null,
   "metadata": {
    "collapsed": true
   },
   "outputs": [],
   "source": []
  },
  {
   "cell_type": "code",
   "execution_count": null,
   "metadata": {
    "collapsed": true
   },
   "outputs": [],
   "source": []
  },
  {
   "cell_type": "code",
   "execution_count": null,
   "metadata": {
    "collapsed": true
   },
   "outputs": [],
   "source": []
  }
 ],
 "metadata": {
  "kernelspec": {
   "display_name": "Python 2",
   "language": "python",
   "name": "python2"
  },
  "language_info": {
   "codemirror_mode": {
    "name": "ipython",
    "version": 2
   },
   "file_extension": ".py",
   "mimetype": "text/x-python",
   "name": "python",
   "nbconvert_exporter": "python",
   "pygments_lexer": "ipython2",
   "version": "2.7.11"
  }
 },
 "nbformat": 4,
 "nbformat_minor": 0
}
