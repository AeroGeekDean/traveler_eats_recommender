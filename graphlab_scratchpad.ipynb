{
 "cells": [
  {
   "cell_type": "markdown",
   "metadata": {},
   "source": [
    "# Scratchpad for testing out graphlab with project data"
   ]
  },
  {
   "cell_type": "code",
   "execution_count": null,
   "metadata": {
    "collapsed": true
   },
   "outputs": [],
   "source": []
  },
  {
   "cell_type": "code",
   "execution_count": 4,
   "metadata": {
    "collapsed": false
   },
   "outputs": [
    {
     "name": "stderr",
     "output_type": "stream",
     "text": [
      "[INFO] graphlab.cython.cy_server: GraphLab Create v1.10.1 started. Logging: /tmp/graphlab_server_1467419362.log\n"
     ]
    },
    {
     "name": "stdout",
     "output_type": "stream",
     "text": [
      "This non-commercial license of GraphLab Create is assigned to windsurf_dean@yahoo.com and will expire on May 26, 2017. For commercial licensing options, visit https://dato.com/buy/.\n"
     ]
    }
   ],
   "source": [
    "import json\n",
    "import numpy as np\n",
    "import graphlab as gl\n",
    "import pandas as pd\n",
    "import matplotlib.pyplot as plt\n",
    "%matplotlib inline"
   ]
  },
  {
   "cell_type": "markdown",
   "metadata": {},
   "source": [
    "## Load in user-item-rating data..."
   ]
  },
  {
   "cell_type": "code",
   "execution_count": 2,
   "metadata": {
    "collapsed": false
   },
   "outputs": [],
   "source": [
    "# create Pandas DF with data pulled from Postgres (restaurant only reviews)\n",
    "df = pd.read_csv('data_analysis/user_reviews.csv', header=None,\n",
    "                 names=['user_id', 'business_id', 'biz_name', 'stars', 'locale'])"
   ]
  },
  {
   "cell_type": "code",
   "execution_count": null,
   "metadata": {
    "collapsed": false,
    "scrolled": true
   },
   "outputs": [],
   "source": [
    "df.head()"
   ]
  },
  {
   "cell_type": "code",
   "execution_count": 139,
   "metadata": {
    "collapsed": false
   },
   "outputs": [
    {
     "name": "stdout",
     "output_type": "stream",
     "text": [
      "<class 'pandas.core.frame.DataFrame'>\n",
      "RangeIndex: 1363242 entries, 0 to 1363241\n",
      "Data columns (total 5 columns):\n",
      "user_id        1363242 non-null object\n",
      "business_id    1363242 non-null object\n",
      "biz_name       1363242 non-null object\n",
      "stars          1363242 non-null int64\n",
      "locale         1363242 non-null object\n",
      "dtypes: int64(1), object(4)\n",
      "memory usage: 52.0+ MB\n"
     ]
    }
   ],
   "source": [
    "df.info()"
   ]
  },
  {
   "cell_type": "code",
   "execution_count": 3,
   "metadata": {
    "collapsed": false
   },
   "outputs": [],
   "source": [
    "# store the observation data in Graphlab's SFrame type\n",
    "sf_obs = gl.SFrame(df[['user_id', 'business_id', 'stars']])"
   ]
  },
  {
   "cell_type": "code",
   "execution_count": null,
   "metadata": {
    "collapsed": false
   },
   "outputs": [],
   "source": [
    "sf_obs.head()"
   ]
  },
  {
   "cell_type": "markdown",
   "metadata": {},
   "source": [
    "# Quick EDA"
   ]
  },
  {
   "cell_type": "markdown",
   "metadata": {},
   "source": [
    "## Group reviews by users..."
   ]
  },
  {
   "cell_type": "code",
   "execution_count": 5,
   "metadata": {
    "collapsed": false,
    "scrolled": true
   },
   "outputs": [
    {
     "data": {
      "text/html": [
       "<div style=\"max-height:1000px;max-width:1500px;overflow:auto;\"><table frame=\"box\" rules=\"cols\">\n",
       "    <tr>\n",
       "        <th style=\"padding-left: 1em; padding-right: 1em; text-align: center\">user_id</th>\n",
       "        <th style=\"padding-left: 1em; padding-right: 1em; text-align: center\">Count</th>\n",
       "    </tr>\n",
       "    <tr>\n",
       "        <td style=\"padding-left: 1em; padding-right: 1em; text-align: center; vertical-align: top\">DrWLhrK8WMZf7Jb-Oqc7ww</td>\n",
       "        <td style=\"padding-left: 1em; padding-right: 1em; text-align: center; vertical-align: top\">817</td>\n",
       "    </tr>\n",
       "    <tr>\n",
       "        <td style=\"padding-left: 1em; padding-right: 1em; text-align: center; vertical-align: top\">9A2-wSoBUxlMd3LwmlGrrQ</td>\n",
       "        <td style=\"padding-left: 1em; padding-right: 1em; text-align: center; vertical-align: top\">782</td>\n",
       "    </tr>\n",
       "    <tr>\n",
       "        <td style=\"padding-left: 1em; padding-right: 1em; text-align: center; vertical-align: top\">3gIfcQq5KxAegwCPXc83cQ</td>\n",
       "        <td style=\"padding-left: 1em; padding-right: 1em; text-align: center; vertical-align: top\">754</td>\n",
       "    </tr>\n",
       "    <tr>\n",
       "        <td style=\"padding-left: 1em; padding-right: 1em; text-align: center; vertical-align: top\">Iu3Jo9ROp2IWC9FwtWOaUQ</td>\n",
       "        <td style=\"padding-left: 1em; padding-right: 1em; text-align: center; vertical-align: top\">666</td>\n",
       "    </tr>\n",
       "    <tr>\n",
       "        <td style=\"padding-left: 1em; padding-right: 1em; text-align: center; vertical-align: top\">kGgAARL2UmvCcTRfiscjug</td>\n",
       "        <td style=\"padding-left: 1em; padding-right: 1em; text-align: center; vertical-align: top\">665</td>\n",
       "    </tr>\n",
       "    <tr>\n",
       "        <td style=\"padding-left: 1em; padding-right: 1em; text-align: center; vertical-align: top\">ia1nTRAQEaFWv0cwADeK7g</td>\n",
       "        <td style=\"padding-left: 1em; padding-right: 1em; text-align: center; vertical-align: top\">655</td>\n",
       "    </tr>\n",
       "    <tr>\n",
       "        <td style=\"padding-left: 1em; padding-right: 1em; text-align: center; vertical-align: top\">pEVf8GRshP9HUkSpizc9LA</td>\n",
       "        <td style=\"padding-left: 1em; padding-right: 1em; text-align: center; vertical-align: top\">611</td>\n",
       "    </tr>\n",
       "    <tr>\n",
       "        <td style=\"padding-left: 1em; padding-right: 1em; text-align: center; vertical-align: top\">glRXVWWD6x1EZKfjJawTOg</td>\n",
       "        <td style=\"padding-left: 1em; padding-right: 1em; text-align: center; vertical-align: top\">601</td>\n",
       "    </tr>\n",
       "    <tr>\n",
       "        <td style=\"padding-left: 1em; padding-right: 1em; text-align: center; vertical-align: top\">uZbTb-u-GVjTa2gtQfry5g</td>\n",
       "        <td style=\"padding-left: 1em; padding-right: 1em; text-align: center; vertical-align: top\">563</td>\n",
       "    </tr>\n",
       "    <tr>\n",
       "        <td style=\"padding-left: 1em; padding-right: 1em; text-align: center; vertical-align: top\">0bNXP9quoJEgyVZu9ipGgQ</td>\n",
       "        <td style=\"padding-left: 1em; padding-right: 1em; text-align: center; vertical-align: top\">525</td>\n",
       "    </tr>\n",
       "</table>\n",
       "[10 rows x 2 columns]<br/>\n",
       "</div>"
      ],
      "text/plain": [
       "Columns:\n",
       "\tuser_id\tstr\n",
       "\tCount\tint\n",
       "\n",
       "Rows: 10\n",
       "\n",
       "Data:\n",
       "+------------------------+-------+\n",
       "|        user_id         | Count |\n",
       "+------------------------+-------+\n",
       "| DrWLhrK8WMZf7Jb-Oqc7ww |  817  |\n",
       "| 9A2-wSoBUxlMd3LwmlGrrQ |  782  |\n",
       "| 3gIfcQq5KxAegwCPXc83cQ |  754  |\n",
       "| Iu3Jo9ROp2IWC9FwtWOaUQ |  666  |\n",
       "| kGgAARL2UmvCcTRfiscjug |  665  |\n",
       "| ia1nTRAQEaFWv0cwADeK7g |  655  |\n",
       "| pEVf8GRshP9HUkSpizc9LA |  611  |\n",
       "| glRXVWWD6x1EZKfjJawTOg |  601  |\n",
       "| uZbTb-u-GVjTa2gtQfry5g |  563  |\n",
       "| 0bNXP9quoJEgyVZu9ipGgQ |  525  |\n",
       "+------------------------+-------+\n",
       "[10 rows x 2 columns]"
      ]
     },
     "execution_count": 5,
     "metadata": {},
     "output_type": "execute_result"
    }
   ],
   "source": [
    "# number of reviews by user (388k distinct users)\n",
    "reviews_by_user = sf_obs.groupby('user_id', [gl.aggregate.COUNT()]).sort('Count', ascending=False)#['Count']\n",
    "reviews_by_user[0:10]"
   ]
  },
  {
   "cell_type": "code",
   "execution_count": 6,
   "metadata": {
    "collapsed": false
   },
   "outputs": [
    {
     "data": {
      "text/html": [
       "<div style=\"max-height:1000px;max-width:1500px;overflow:auto;\"><table frame=\"box\" rules=\"cols\">\n",
       "    <tr>\n",
       "        <th style=\"padding-left: 1em; padding-right: 1em; text-align: center\">user_id</th>\n",
       "        <th style=\"padding-left: 1em; padding-right: 1em; text-align: center\">Count</th>\n",
       "    </tr>\n",
       "    <tr>\n",
       "        <td style=\"padding-left: 1em; padding-right: 1em; text-align: center; vertical-align: top\">Rtg76jfmQPvV_oR8-p8KTw</td>\n",
       "        <td style=\"padding-left: 1em; padding-right: 1em; text-align: center; vertical-align: top\">1</td>\n",
       "    </tr>\n",
       "    <tr>\n",
       "        <td style=\"padding-left: 1em; padding-right: 1em; text-align: center; vertical-align: top\">UhR_BNjo9D7TjodphHO_Xw</td>\n",
       "        <td style=\"padding-left: 1em; padding-right: 1em; text-align: center; vertical-align: top\">1</td>\n",
       "    </tr>\n",
       "    <tr>\n",
       "        <td style=\"padding-left: 1em; padding-right: 1em; text-align: center; vertical-align: top\">vdSENJiX3ba39bT62_K2Ww</td>\n",
       "        <td style=\"padding-left: 1em; padding-right: 1em; text-align: center; vertical-align: top\">1</td>\n",
       "    </tr>\n",
       "    <tr>\n",
       "        <td style=\"padding-left: 1em; padding-right: 1em; text-align: center; vertical-align: top\">8vL_O9a2kyTYLwWS76jC6w</td>\n",
       "        <td style=\"padding-left: 1em; padding-right: 1em; text-align: center; vertical-align: top\">1</td>\n",
       "    </tr>\n",
       "    <tr>\n",
       "        <td style=\"padding-left: 1em; padding-right: 1em; text-align: center; vertical-align: top\">i8q5Jyqo2sx77H3lfbXyAA</td>\n",
       "        <td style=\"padding-left: 1em; padding-right: 1em; text-align: center; vertical-align: top\">1</td>\n",
       "    </tr>\n",
       "    <tr>\n",
       "        <td style=\"padding-left: 1em; padding-right: 1em; text-align: center; vertical-align: top\">r-Nj2eaow23g2tDJuBPj3w</td>\n",
       "        <td style=\"padding-left: 1em; padding-right: 1em; text-align: center; vertical-align: top\">1</td>\n",
       "    </tr>\n",
       "    <tr>\n",
       "        <td style=\"padding-left: 1em; padding-right: 1em; text-align: center; vertical-align: top\">-ZpbWAg4NOa6DkXLYZTVZQ</td>\n",
       "        <td style=\"padding-left: 1em; padding-right: 1em; text-align: center; vertical-align: top\">1</td>\n",
       "    </tr>\n",
       "    <tr>\n",
       "        <td style=\"padding-left: 1em; padding-right: 1em; text-align: center; vertical-align: top\">gJtHSP48N_MmQPBxjJi_Nw</td>\n",
       "        <td style=\"padding-left: 1em; padding-right: 1em; text-align: center; vertical-align: top\">1</td>\n",
       "    </tr>\n",
       "    <tr>\n",
       "        <td style=\"padding-left: 1em; padding-right: 1em; text-align: center; vertical-align: top\">JtH5Axhtzkn6OxYL_jCgrg</td>\n",
       "        <td style=\"padding-left: 1em; padding-right: 1em; text-align: center; vertical-align: top\">1</td>\n",
       "    </tr>\n",
       "    <tr>\n",
       "        <td style=\"padding-left: 1em; padding-right: 1em; text-align: center; vertical-align: top\">ccLq_11c5ZG-xdGb8ClUxA</td>\n",
       "        <td style=\"padding-left: 1em; padding-right: 1em; text-align: center; vertical-align: top\">1</td>\n",
       "    </tr>\n",
       "</table>\n",
       "[10 rows x 2 columns]<br/>\n",
       "</div>"
      ],
      "text/plain": [
       "Columns:\n",
       "\tuser_id\tstr\n",
       "\tCount\tint\n",
       "\n",
       "Rows: 10\n",
       "\n",
       "Data:\n",
       "+------------------------+-------+\n",
       "|        user_id         | Count |\n",
       "+------------------------+-------+\n",
       "| Rtg76jfmQPvV_oR8-p8KTw |   1   |\n",
       "| UhR_BNjo9D7TjodphHO_Xw |   1   |\n",
       "| vdSENJiX3ba39bT62_K2Ww |   1   |\n",
       "| 8vL_O9a2kyTYLwWS76jC6w |   1   |\n",
       "| i8q5Jyqo2sx77H3lfbXyAA |   1   |\n",
       "| r-Nj2eaow23g2tDJuBPj3w |   1   |\n",
       "| -ZpbWAg4NOa6DkXLYZTVZQ |   1   |\n",
       "| gJtHSP48N_MmQPBxjJi_Nw |   1   |\n",
       "| JtH5Axhtzkn6OxYL_jCgrg |   1   |\n",
       "| ccLq_11c5ZG-xdGb8ClUxA |   1   |\n",
       "+------------------------+-------+\n",
       "[10 rows x 2 columns]"
      ]
     },
     "execution_count": 6,
     "metadata": {},
     "output_type": "execute_result"
    }
   ],
   "source": [
    "reviews_by_user[-10:]"
   ]
  },
  {
   "cell_type": "code",
   "execution_count": 131,
   "metadata": {
    "collapsed": false
   },
   "outputs": [
    {
     "name": "stdout",
     "output_type": "stream",
     "text": [
      "Canvas is updated and available in a tab in the default browser.\n"
     ]
    }
   ],
   "source": [
    "reviews_by_user.show()"
   ]
  },
  {
   "cell_type": "code",
   "execution_count": null,
   "metadata": {
    "collapsed": false,
    "scrolled": true
   },
   "outputs": [],
   "source": [
    "# df_cat_full.head().T[250:]"
   ]
  },
  {
   "cell_type": "code",
   "execution_count": null,
   "metadata": {
    "collapsed": false
   },
   "outputs": [],
   "source": [
    "plt.figure(figsize=(15,10))\n",
    "plt.semilogx(reviews_by_user, '.');\n",
    "plt.grid()\n",
    "plt.xlabel('user number')\n",
    "plt.ylabel('number of reviews')\n",
    "plt.title('Plot of number of reviews, by user')"
   ]
  },
  {
   "cell_type": "code",
   "execution_count": null,
   "metadata": {
    "collapsed": false
   },
   "outputs": [],
   "source": [
    "plt.loglog(reviews_by_user, '.');\n",
    "plt.grid()\n",
    "plt.xlabel('user number')\n",
    "plt.ylabel('number of reviews')\n",
    "plt.title('Log-Log plot of number of reviews, by user')"
   ]
  },
  {
   "cell_type": "code",
   "execution_count": null,
   "metadata": {
    "collapsed": false,
    "scrolled": false
   },
   "outputs": [],
   "source": [
    "plt.figure(figsize=(15,10))\n",
    "plt.hist(reviews_by_user, bins=100, log=True, cumulative=False);\n",
    "plt.grid()\n",
    "plt.xlabel('number of reviews')\n",
    "plt.ylabel('count of users')\n",
    "plt.title('(log) Histogram of number of reviews, by users')"
   ]
  },
  {
   "cell_type": "markdown",
   "metadata": {},
   "source": [
    "## Group reviews by restaurants..."
   ]
  },
  {
   "cell_type": "code",
   "execution_count": null,
   "metadata": {
    "collapsed": false
   },
   "outputs": [],
   "source": [
    "# number of reviews by restaurant (25k distinct restaurants)\n",
    "reviews_by_biz = sf_obs.groupby('business_id', [gl.aggregate.COUNT()]).sort('Count', ascending=False)['Count']\n",
    "reviews_by_biz[0:10]"
   ]
  },
  {
   "cell_type": "code",
   "execution_count": null,
   "metadata": {
    "collapsed": false
   },
   "outputs": [],
   "source": [
    "plt.semilogx(reviews_by_biz, '.');\n",
    "plt.grid()\n",
    "plt.xlabel('biz number')\n",
    "plt.ylabel('number of reviews')\n",
    "plt.title('Plot of number of reviews, by business')"
   ]
  },
  {
   "cell_type": "code",
   "execution_count": null,
   "metadata": {
    "collapsed": false
   },
   "outputs": [],
   "source": [
    "plt.loglog(reviews_by_biz, '.');\n",
    "plt.grid()\n",
    "plt.xlabel('biz number')\n",
    "plt.ylabel('number of reviews')\n",
    "plt.title('Log-Log plot of number of reviews, by business')"
   ]
  },
  {
   "cell_type": "code",
   "execution_count": null,
   "metadata": {
    "collapsed": false,
    "scrolled": false
   },
   "outputs": [],
   "source": [
    "plt.hist(reviews_by_biz, bins=50, log=True);\n",
    "plt.grid()\n",
    "plt.autoscale(tight=True)\n",
    "plt.xlabel('number of reviews')\n",
    "plt.ylabel('count of biz')\n",
    "plt.title('(log) Histogram of number of reviews, by business')"
   ]
  },
  {
   "cell_type": "code",
   "execution_count": null,
   "metadata": {
    "collapsed": false
   },
   "outputs": [],
   "source": []
  },
  {
   "cell_type": "code",
   "execution_count": null,
   "metadata": {
    "collapsed": true
   },
   "outputs": [],
   "source": []
  },
  {
   "cell_type": "code",
   "execution_count": null,
   "metadata": {
    "collapsed": true
   },
   "outputs": [],
   "source": []
  },
  {
   "cell_type": "markdown",
   "metadata": {},
   "source": [
    "## Load in business.json file as 'item_data', for side data factorization..."
   ]
  },
  {
   "cell_type": "code",
   "execution_count": 27,
   "metadata": {
    "collapsed": false
   },
   "outputs": [
    {
     "name": "stdout",
     "output_type": "stream",
     "text": [
      "running create_sidedata()\n"
     ]
    }
   ],
   "source": [
    "from create_sidedata import create_sidedata\n",
    "sf_itemdata = create_sidedata()"
   ]
  },
  {
   "cell_type": "markdown",
   "metadata": {},
   "source": [
    "# Setup the train/test data split..."
   ]
  },
  {
   "cell_type": "code",
   "execution_count": 21,
   "metadata": {
    "collapsed": false
   },
   "outputs": [
    {
     "data": {
      "text/plain": [
       "(1363242, 3)"
      ]
     },
     "execution_count": 21,
     "metadata": {},
     "output_type": "execute_result"
    }
   ],
   "source": [
    "sf_obs.shape"
   ]
  },
  {
   "cell_type": "code",
   "execution_count": 22,
   "metadata": {
    "collapsed": false
   },
   "outputs": [
    {
     "data": {
      "text/plain": [
       "['user_id', 'business_id', 'stars']"
      ]
     },
     "execution_count": 22,
     "metadata": {},
     "output_type": "execute_result"
    }
   ],
   "source": [
    "sf_obs.column_names()"
   ]
  },
  {
   "cell_type": "code",
   "execution_count": 23,
   "metadata": {
    "collapsed": false
   },
   "outputs": [],
   "source": [
    "# split the test data via Graphlab's recommender tailored splitter function\n",
    "train_set, test_set = gl.recommender.util.random_split_by_user(sf_obs,\n",
    "                                                               'user_id',\n",
    "                                                               'business_id',\n",
    "                                                               max_num_users=100)"
   ]
  },
  {
   "cell_type": "code",
   "execution_count": 24,
   "metadata": {
    "collapsed": false,
    "scrolled": false
   },
   "outputs": [
    {
     "data": {
      "text/html": [
       "<div style=\"max-height:1000px;max-width:1500px;overflow:auto;\"><table frame=\"box\" rules=\"cols\">\n",
       "    <tr>\n",
       "        <th style=\"padding-left: 1em; padding-right: 1em; text-align: center\">user_id</th>\n",
       "        <th style=\"padding-left: 1em; padding-right: 1em; text-align: center\">business_id</th>\n",
       "        <th style=\"padding-left: 1em; padding-right: 1em; text-align: center\">stars</th>\n",
       "    </tr>\n",
       "    <tr>\n",
       "        <td style=\"padding-left: 1em; padding-right: 1em; text-align: center; vertical-align: top\">Ouus3lC3Xk3YRGx4ptd_4A</td>\n",
       "        <td style=\"padding-left: 1em; padding-right: 1em; text-align: center; vertical-align: top\">DW6SI2KxcfXBHeo9jEr4lQ</td>\n",
       "        <td style=\"padding-left: 1em; padding-right: 1em; text-align: center; vertical-align: top\">2</td>\n",
       "    </tr>\n",
       "    <tr>\n",
       "        <td style=\"padding-left: 1em; padding-right: 1em; text-align: center; vertical-align: top\">dz_sBsL69aWzsxksT2O_Mg</td>\n",
       "        <td style=\"padding-left: 1em; padding-right: 1em; text-align: center; vertical-align: top\">DW6SI2KxcfXBHeo9jEr4lQ</td>\n",
       "        <td style=\"padding-left: 1em; padding-right: 1em; text-align: center; vertical-align: top\">2</td>\n",
       "    </tr>\n",
       "    <tr>\n",
       "        <td style=\"padding-left: 1em; padding-right: 1em; text-align: center; vertical-align: top\">zyI-u0C1YOzp5v1j2wuCOQ</td>\n",
       "        <td style=\"padding-left: 1em; padding-right: 1em; text-align: center; vertical-align: top\">DW6SI2KxcfXBHeo9jEr4lQ</td>\n",
       "        <td style=\"padding-left: 1em; padding-right: 1em; text-align: center; vertical-align: top\">3</td>\n",
       "    </tr>\n",
       "    <tr>\n",
       "        <td style=\"padding-left: 1em; padding-right: 1em; text-align: center; vertical-align: top\">vyfsQo-estP8EfiIFMsL6g</td>\n",
       "        <td style=\"padding-left: 1em; padding-right: 1em; text-align: center; vertical-align: top\">DW6SI2KxcfXBHeo9jEr4lQ</td>\n",
       "        <td style=\"padding-left: 1em; padding-right: 1em; text-align: center; vertical-align: top\">3</td>\n",
       "    </tr>\n",
       "    <tr>\n",
       "        <td style=\"padding-left: 1em; padding-right: 1em; text-align: center; vertical-align: top\">lxZSVeJz6KEBW1nlA3JKJg</td>\n",
       "        <td style=\"padding-left: 1em; padding-right: 1em; text-align: center; vertical-align: top\">DW6SI2KxcfXBHeo9jEr4lQ</td>\n",
       "        <td style=\"padding-left: 1em; padding-right: 1em; text-align: center; vertical-align: top\">1</td>\n",
       "    </tr>\n",
       "    <tr>\n",
       "        <td style=\"padding-left: 1em; padding-right: 1em; text-align: center; vertical-align: top\">CbMCOeeHVeafcD-6-CJrPg</td>\n",
       "        <td style=\"padding-left: 1em; padding-right: 1em; text-align: center; vertical-align: top\">DW6SI2KxcfXBHeo9jEr4lQ</td>\n",
       "        <td style=\"padding-left: 1em; padding-right: 1em; text-align: center; vertical-align: top\">4</td>\n",
       "    </tr>\n",
       "    <tr>\n",
       "        <td style=\"padding-left: 1em; padding-right: 1em; text-align: center; vertical-align: top\">Z8DyUMojRhFbLyHBymM_rA</td>\n",
       "        <td style=\"padding-left: 1em; padding-right: 1em; text-align: center; vertical-align: top\">DW6SI2KxcfXBHeo9jEr4lQ</td>\n",
       "        <td style=\"padding-left: 1em; padding-right: 1em; text-align: center; vertical-align: top\">2</td>\n",
       "    </tr>\n",
       "    <tr>\n",
       "        <td style=\"padding-left: 1em; padding-right: 1em; text-align: center; vertical-align: top\">sXWvDlMQspjJ1zzr3cEM7Q</td>\n",
       "        <td style=\"padding-left: 1em; padding-right: 1em; text-align: center; vertical-align: top\">DW6SI2KxcfXBHeo9jEr4lQ</td>\n",
       "        <td style=\"padding-left: 1em; padding-right: 1em; text-align: center; vertical-align: top\">2</td>\n",
       "    </tr>\n",
       "    <tr>\n",
       "        <td style=\"padding-left: 1em; padding-right: 1em; text-align: center; vertical-align: top\">G8RaaiVzbyRvsBmoUx0VeA</td>\n",
       "        <td style=\"padding-left: 1em; padding-right: 1em; text-align: center; vertical-align: top\">DW6SI2KxcfXBHeo9jEr4lQ</td>\n",
       "        <td style=\"padding-left: 1em; padding-right: 1em; text-align: center; vertical-align: top\">1</td>\n",
       "    </tr>\n",
       "    <tr>\n",
       "        <td style=\"padding-left: 1em; padding-right: 1em; text-align: center; vertical-align: top\">f0isFKnJVZVmpdCPNd8Gfw</td>\n",
       "        <td style=\"padding-left: 1em; padding-right: 1em; text-align: center; vertical-align: top\">DW6SI2KxcfXBHeo9jEr4lQ</td>\n",
       "        <td style=\"padding-left: 1em; padding-right: 1em; text-align: center; vertical-align: top\">1</td>\n",
       "    </tr>\n",
       "</table>\n",
       "[1363192 rows x 3 columns]<br/>Note: Only the head of the SFrame is printed.<br/>You can use print_rows(num_rows=m, num_columns=n) to print more rows and columns.\n",
       "</div>"
      ],
      "text/plain": [
       "Columns:\n",
       "\tuser_id\tstr\n",
       "\tbusiness_id\tstr\n",
       "\tstars\tint\n",
       "\n",
       "Rows: 1363192\n",
       "\n",
       "Data:\n",
       "+------------------------+------------------------+-------+\n",
       "|        user_id         |      business_id       | stars |\n",
       "+------------------------+------------------------+-------+\n",
       "| Ouus3lC3Xk3YRGx4ptd_4A | DW6SI2KxcfXBHeo9jEr4lQ |   2   |\n",
       "| dz_sBsL69aWzsxksT2O_Mg | DW6SI2KxcfXBHeo9jEr4lQ |   2   |\n",
       "| zyI-u0C1YOzp5v1j2wuCOQ | DW6SI2KxcfXBHeo9jEr4lQ |   3   |\n",
       "| vyfsQo-estP8EfiIFMsL6g | DW6SI2KxcfXBHeo9jEr4lQ |   3   |\n",
       "| lxZSVeJz6KEBW1nlA3JKJg | DW6SI2KxcfXBHeo9jEr4lQ |   1   |\n",
       "| CbMCOeeHVeafcD-6-CJrPg | DW6SI2KxcfXBHeo9jEr4lQ |   4   |\n",
       "| Z8DyUMojRhFbLyHBymM_rA | DW6SI2KxcfXBHeo9jEr4lQ |   2   |\n",
       "| sXWvDlMQspjJ1zzr3cEM7Q | DW6SI2KxcfXBHeo9jEr4lQ |   2   |\n",
       "| G8RaaiVzbyRvsBmoUx0VeA | DW6SI2KxcfXBHeo9jEr4lQ |   1   |\n",
       "| f0isFKnJVZVmpdCPNd8Gfw | DW6SI2KxcfXBHeo9jEr4lQ |   1   |\n",
       "+------------------------+------------------------+-------+\n",
       "[1363192 rows x 3 columns]\n",
       "Note: Only the head of the SFrame is printed.\n",
       "You can use print_rows(num_rows=m, num_columns=n) to print more rows and columns."
      ]
     },
     "execution_count": 24,
     "metadata": {},
     "output_type": "execute_result"
    }
   ],
   "source": [
    "train_set"
   ]
  },
  {
   "cell_type": "code",
   "execution_count": 25,
   "metadata": {
    "collapsed": false
   },
   "outputs": [
    {
     "data": {
      "text/html": [
       "<div style=\"max-height:1000px;max-width:1500px;overflow:auto;\"><table frame=\"box\" rules=\"cols\">\n",
       "    <tr>\n",
       "        <th style=\"padding-left: 1em; padding-right: 1em; text-align: center\">user_id</th>\n",
       "        <th style=\"padding-left: 1em; padding-right: 1em; text-align: center\">business_id</th>\n",
       "        <th style=\"padding-left: 1em; padding-right: 1em; text-align: center\">stars</th>\n",
       "    </tr>\n",
       "    <tr>\n",
       "        <td style=\"padding-left: 1em; padding-right: 1em; text-align: center; vertical-align: top\">9K013bOSmGBmZqAV2YDfpA</td>\n",
       "        <td style=\"padding-left: 1em; padding-right: 1em; text-align: center; vertical-align: top\">bcW-OuYklAXeEZWBgc7TaA</td>\n",
       "        <td style=\"padding-left: 1em; padding-right: 1em; text-align: center; vertical-align: top\">5</td>\n",
       "    </tr>\n",
       "    <tr>\n",
       "        <td style=\"padding-left: 1em; padding-right: 1em; text-align: center; vertical-align: top\">xjZgADf08bQlOQnWwW_IKg</td>\n",
       "        <td style=\"padding-left: 1em; padding-right: 1em; text-align: center; vertical-align: top\">px45x27eir8RyN6YjX-VWQ</td>\n",
       "        <td style=\"padding-left: 1em; padding-right: 1em; text-align: center; vertical-align: top\">4</td>\n",
       "    </tr>\n",
       "    <tr>\n",
       "        <td style=\"padding-left: 1em; padding-right: 1em; text-align: center; vertical-align: top\">hMnwV8h15C1sfgVIP0dgQw</td>\n",
       "        <td style=\"padding-left: 1em; padding-right: 1em; text-align: center; vertical-align: top\">LXrq0Fw6MCz70KMA928ldQ</td>\n",
       "        <td style=\"padding-left: 1em; padding-right: 1em; text-align: center; vertical-align: top\">2</td>\n",
       "    </tr>\n",
       "    <tr>\n",
       "        <td style=\"padding-left: 1em; padding-right: 1em; text-align: center; vertical-align: top\">NyFFJjymTm1N6pjHp37KiQ</td>\n",
       "        <td style=\"padding-left: 1em; padding-right: 1em; text-align: center; vertical-align: top\">PWG28q4JFOc8FiRBjnfCkA</td>\n",
       "        <td style=\"padding-left: 1em; padding-right: 1em; text-align: center; vertical-align: top\">2</td>\n",
       "    </tr>\n",
       "    <tr>\n",
       "        <td style=\"padding-left: 1em; padding-right: 1em; text-align: center; vertical-align: top\">tAM6TS8Mcnqf6Ar4zcxG6A</td>\n",
       "        <td style=\"padding-left: 1em; padding-right: 1em; text-align: center; vertical-align: top\">3ZQmCHGtK6JNHlxaCeOx7g</td>\n",
       "        <td style=\"padding-left: 1em; padding-right: 1em; text-align: center; vertical-align: top\">4</td>\n",
       "    </tr>\n",
       "    <tr>\n",
       "        <td style=\"padding-left: 1em; padding-right: 1em; text-align: center; vertical-align: top\">d7Jyyd5lKGoNSV1SoSqZxg</td>\n",
       "        <td style=\"padding-left: 1em; padding-right: 1em; text-align: center; vertical-align: top\">N50HceZf1595UtU867u4uQ</td>\n",
       "        <td style=\"padding-left: 1em; padding-right: 1em; text-align: center; vertical-align: top\">5</td>\n",
       "    </tr>\n",
       "    <tr>\n",
       "        <td style=\"padding-left: 1em; padding-right: 1em; text-align: center; vertical-align: top\">RnEZs_qJf2KqosVcA2eUrQ</td>\n",
       "        <td style=\"padding-left: 1em; padding-right: 1em; text-align: center; vertical-align: top\">CKf3mf7fl5sZO9xviHU7lQ</td>\n",
       "        <td style=\"padding-left: 1em; padding-right: 1em; text-align: center; vertical-align: top\">4</td>\n",
       "    </tr>\n",
       "    <tr>\n",
       "        <td style=\"padding-left: 1em; padding-right: 1em; text-align: center; vertical-align: top\">-ff8in_34TSOnzLIFYQdaA</td>\n",
       "        <td style=\"padding-left: 1em; padding-right: 1em; text-align: center; vertical-align: top\">KJnVuzpveyDrHARVNZaYVg</td>\n",
       "        <td style=\"padding-left: 1em; padding-right: 1em; text-align: center; vertical-align: top\">1</td>\n",
       "    </tr>\n",
       "    <tr>\n",
       "        <td style=\"padding-left: 1em; padding-right: 1em; text-align: center; vertical-align: top\">WJNMh_hUymOX7CDKtCOKUA</td>\n",
       "        <td style=\"padding-left: 1em; padding-right: 1em; text-align: center; vertical-align: top\">d52zg-S0o940WUCK-nNiKw</td>\n",
       "        <td style=\"padding-left: 1em; padding-right: 1em; text-align: center; vertical-align: top\">5</td>\n",
       "    </tr>\n",
       "    <tr>\n",
       "        <td style=\"padding-left: 1em; padding-right: 1em; text-align: center; vertical-align: top\">KsHHV9UJl2zzXJ2a04gbbQ</td>\n",
       "        <td style=\"padding-left: 1em; padding-right: 1em; text-align: center; vertical-align: top\">4uGHPY-OpJN08CabtTAvNg</td>\n",
       "        <td style=\"padding-left: 1em; padding-right: 1em; text-align: center; vertical-align: top\">5</td>\n",
       "    </tr>\n",
       "</table>\n",
       "[50 rows x 3 columns]<br/>Note: Only the head of the SFrame is printed.<br/>You can use print_rows(num_rows=m, num_columns=n) to print more rows and columns.\n",
       "</div>"
      ],
      "text/plain": [
       "Columns:\n",
       "\tuser_id\tstr\n",
       "\tbusiness_id\tstr\n",
       "\tstars\tint\n",
       "\n",
       "Rows: 50\n",
       "\n",
       "Data:\n",
       "+------------------------+------------------------+-------+\n",
       "|        user_id         |      business_id       | stars |\n",
       "+------------------------+------------------------+-------+\n",
       "| 9K013bOSmGBmZqAV2YDfpA | bcW-OuYklAXeEZWBgc7TaA |   5   |\n",
       "| xjZgADf08bQlOQnWwW_IKg | px45x27eir8RyN6YjX-VWQ |   4   |\n",
       "| hMnwV8h15C1sfgVIP0dgQw | LXrq0Fw6MCz70KMA928ldQ |   2   |\n",
       "| NyFFJjymTm1N6pjHp37KiQ | PWG28q4JFOc8FiRBjnfCkA |   2   |\n",
       "| tAM6TS8Mcnqf6Ar4zcxG6A | 3ZQmCHGtK6JNHlxaCeOx7g |   4   |\n",
       "| d7Jyyd5lKGoNSV1SoSqZxg | N50HceZf1595UtU867u4uQ |   5   |\n",
       "| RnEZs_qJf2KqosVcA2eUrQ | CKf3mf7fl5sZO9xviHU7lQ |   4   |\n",
       "| -ff8in_34TSOnzLIFYQdaA | KJnVuzpveyDrHARVNZaYVg |   1   |\n",
       "| WJNMh_hUymOX7CDKtCOKUA | d52zg-S0o940WUCK-nNiKw |   5   |\n",
       "| KsHHV9UJl2zzXJ2a04gbbQ | 4uGHPY-OpJN08CabtTAvNg |   5   |\n",
       "+------------------------+------------------------+-------+\n",
       "[50 rows x 3 columns]\n",
       "Note: Only the head of the SFrame is printed.\n",
       "You can use print_rows(num_rows=m, num_columns=n) to print more rows and columns."
      ]
     },
     "execution_count": 25,
     "metadata": {},
     "output_type": "execute_result"
    }
   ],
   "source": [
    "test_set"
   ]
  },
  {
   "cell_type": "code",
   "execution_count": null,
   "metadata": {
    "collapsed": true
   },
   "outputs": [],
   "source": []
  },
  {
   "cell_type": "code",
   "execution_count": null,
   "metadata": {
    "collapsed": true
   },
   "outputs": [],
   "source": []
  },
  {
   "cell_type": "markdown",
   "metadata": {
    "collapsed": true
   },
   "source": [
    "# Run the recommender..."
   ]
  },
  {
   "cell_type": "code",
   "execution_count": 57,
   "metadata": {
    "collapsed": false,
    "scrolled": true
   },
   "outputs": [
    {
     "data": {
      "text/html": [
       "<pre>Recsys training: model = factorization_recommender</pre>"
      ],
      "text/plain": [
       "Recsys training: model = factorization_recommender"
      ]
     },
     "metadata": {},
     "output_type": "display_data"
    },
    {
     "data": {
      "text/html": [
       "<pre>Preparing data set.</pre>"
      ],
      "text/plain": [
       "Preparing data set."
      ]
     },
     "metadata": {},
     "output_type": "display_data"
    },
    {
     "data": {
      "text/html": [
       "<pre>    Data has 1363192 observations with 388600 users and 24974 items.</pre>"
      ],
      "text/plain": [
       "    Data has 1363192 observations with 388600 users and 24974 items."
      ]
     },
     "metadata": {},
     "output_type": "display_data"
    },
    {
     "data": {
      "text/html": [
       "<pre>    Data prepared in: 3.08026s</pre>"
      ],
      "text/plain": [
       "    Data prepared in: 3.08026s"
      ]
     },
     "metadata": {},
     "output_type": "display_data"
    },
    {
     "data": {
      "text/html": [
       "<pre>Training factorization_recommender for recommendations.</pre>"
      ],
      "text/plain": [
       "Training factorization_recommender for recommendations."
      ]
     },
     "metadata": {},
     "output_type": "display_data"
    },
    {
     "data": {
      "text/html": [
       "<pre>+--------------------------------+--------------------------------------------------+----------+</pre>"
      ],
      "text/plain": [
       "+--------------------------------+--------------------------------------------------+----------+"
      ]
     },
     "metadata": {},
     "output_type": "display_data"
    },
    {
     "data": {
      "text/html": [
       "<pre>| Parameter                      | Description                                      | Value    |</pre>"
      ],
      "text/plain": [
       "| Parameter                      | Description                                      | Value    |"
      ]
     },
     "metadata": {},
     "output_type": "display_data"
    },
    {
     "data": {
      "text/html": [
       "<pre>+--------------------------------+--------------------------------------------------+----------+</pre>"
      ],
      "text/plain": [
       "+--------------------------------+--------------------------------------------------+----------+"
      ]
     },
     "metadata": {},
     "output_type": "display_data"
    },
    {
     "data": {
      "text/html": [
       "<pre>| num_factors                    | Factor Dimension                                 | 8        |</pre>"
      ],
      "text/plain": [
       "| num_factors                    | Factor Dimension                                 | 8        |"
      ]
     },
     "metadata": {},
     "output_type": "display_data"
    },
    {
     "data": {
      "text/html": [
       "<pre>| regularization                 | L2 Regularization on Factors                     | 1e-08    |</pre>"
      ],
      "text/plain": [
       "| regularization                 | L2 Regularization on Factors                     | 1e-08    |"
      ]
     },
     "metadata": {},
     "output_type": "display_data"
    },
    {
     "data": {
      "text/html": [
       "<pre>| solver                         | Solver used for training                         | sgd      |</pre>"
      ],
      "text/plain": [
       "| solver                         | Solver used for training                         | sgd      |"
      ]
     },
     "metadata": {},
     "output_type": "display_data"
    },
    {
     "data": {
      "text/html": [
       "<pre>| linear_regularization          | L2 Regularization on Linear Coefficients         | 1e-10    |</pre>"
      ],
      "text/plain": [
       "| linear_regularization          | L2 Regularization on Linear Coefficients         | 1e-10    |"
      ]
     },
     "metadata": {},
     "output_type": "display_data"
    },
    {
     "data": {
      "text/html": [
       "<pre>| max_iterations                 | Maximum Number of Iterations                     | 50       |</pre>"
      ],
      "text/plain": [
       "| max_iterations                 | Maximum Number of Iterations                     | 50       |"
      ]
     },
     "metadata": {},
     "output_type": "display_data"
    },
    {
     "data": {
      "text/html": [
       "<pre>+--------------------------------+--------------------------------------------------+----------+</pre>"
      ],
      "text/plain": [
       "+--------------------------------+--------------------------------------------------+----------+"
      ]
     },
     "metadata": {},
     "output_type": "display_data"
    },
    {
     "data": {
      "text/html": [
       "<pre>  Optimizing model using SGD; tuning step size.</pre>"
      ],
      "text/plain": [
       "  Optimizing model using SGD; tuning step size."
      ]
     },
     "metadata": {},
     "output_type": "display_data"
    },
    {
     "data": {
      "text/html": [
       "<pre>  Using 170399 / 1363192 points for tuning the step size.</pre>"
      ],
      "text/plain": [
       "  Using 170399 / 1363192 points for tuning the step size."
      ]
     },
     "metadata": {},
     "output_type": "display_data"
    },
    {
     "data": {
      "text/html": [
       "<pre>+---------+-------------------+------------------------------------------+</pre>"
      ],
      "text/plain": [
       "+---------+-------------------+------------------------------------------+"
      ]
     },
     "metadata": {},
     "output_type": "display_data"
    },
    {
     "data": {
      "text/html": [
       "<pre>| Attempt | Initial Step Size | Estimated Objective Value                |</pre>"
      ],
      "text/plain": [
       "| Attempt | Initial Step Size | Estimated Objective Value                |"
      ]
     },
     "metadata": {},
     "output_type": "display_data"
    },
    {
     "data": {
      "text/html": [
       "<pre>+---------+-------------------+------------------------------------------+</pre>"
      ],
      "text/plain": [
       "+---------+-------------------+------------------------------------------+"
      ]
     },
     "metadata": {},
     "output_type": "display_data"
    },
    {
     "data": {
      "text/html": [
       "<pre>| 0       | 25                | Not Viable                               |</pre>"
      ],
      "text/plain": [
       "| 0       | 25                | Not Viable                               |"
      ]
     },
     "metadata": {},
     "output_type": "display_data"
    },
    {
     "data": {
      "text/html": [
       "<pre>| 1       | 6.25              | Not Viable                               |</pre>"
      ],
      "text/plain": [
       "| 1       | 6.25              | Not Viable                               |"
      ]
     },
     "metadata": {},
     "output_type": "display_data"
    },
    {
     "data": {
      "text/html": [
       "<pre>| 2       | 1.5625            | Not Viable                               |</pre>"
      ],
      "text/plain": [
       "| 2       | 1.5625            | Not Viable                               |"
      ]
     },
     "metadata": {},
     "output_type": "display_data"
    },
    {
     "data": {
      "text/html": [
       "<pre>| 3       | 0.390625          | No Decrease (4.47474 >= 1.69765)         |</pre>"
      ],
      "text/plain": [
       "| 3       | 0.390625          | No Decrease (4.47474 >= 1.69765)         |"
      ]
     },
     "metadata": {},
     "output_type": "display_data"
    },
    {
     "data": {
      "text/html": [
       "<pre>| 4       | 0.0976562         | 0.584329                                 |</pre>"
      ],
      "text/plain": [
       "| 4       | 0.0976562         | 0.584329                                 |"
      ]
     },
     "metadata": {},
     "output_type": "display_data"
    },
    {
     "data": {
      "text/html": [
       "<pre>| 5       | 0.0488281         | 0.831491                                 |</pre>"
      ],
      "text/plain": [
       "| 5       | 0.0488281         | 0.831491                                 |"
      ]
     },
     "metadata": {},
     "output_type": "display_data"
    },
    {
     "data": {
      "text/html": [
       "<pre>| 6       | 0.0244141         | 1.06137                                  |</pre>"
      ],
      "text/plain": [
       "| 6       | 0.0244141         | 1.06137                                  |"
      ]
     },
     "metadata": {},
     "output_type": "display_data"
    },
    {
     "data": {
      "text/html": [
       "<pre>| 7       | 0.012207          | 1.24622                                  |</pre>"
      ],
      "text/plain": [
       "| 7       | 0.012207          | 1.24622                                  |"
      ]
     },
     "metadata": {},
     "output_type": "display_data"
    },
    {
     "data": {
      "text/html": [
       "<pre>+---------+-------------------+------------------------------------------+</pre>"
      ],
      "text/plain": [
       "+---------+-------------------+------------------------------------------+"
      ]
     },
     "metadata": {},
     "output_type": "display_data"
    },
    {
     "data": {
      "text/html": [
       "<pre>| Final   | 0.0976562         | 0.584329                                 |</pre>"
      ],
      "text/plain": [
       "| Final   | 0.0976562         | 0.584329                                 |"
      ]
     },
     "metadata": {},
     "output_type": "display_data"
    },
    {
     "data": {
      "text/html": [
       "<pre>+---------+-------------------+------------------------------------------+</pre>"
      ],
      "text/plain": [
       "+---------+-------------------+------------------------------------------+"
      ]
     },
     "metadata": {},
     "output_type": "display_data"
    },
    {
     "data": {
      "text/html": [
       "<pre>Starting Optimization.</pre>"
      ],
      "text/plain": [
       "Starting Optimization."
      ]
     },
     "metadata": {},
     "output_type": "display_data"
    },
    {
     "data": {
      "text/html": [
       "<pre>+---------+--------------+-------------------+-----------------------+-------------+</pre>"
      ],
      "text/plain": [
       "+---------+--------------+-------------------+-----------------------+-------------+"
      ]
     },
     "metadata": {},
     "output_type": "display_data"
    },
    {
     "data": {
      "text/html": [
       "<pre>| Iter.   | Elapsed Time | Approx. Objective | Approx. Training RMSE | Step Size   |</pre>"
      ],
      "text/plain": [
       "| Iter.   | Elapsed Time | Approx. Objective | Approx. Training RMSE | Step Size   |"
      ]
     },
     "metadata": {},
     "output_type": "display_data"
    },
    {
     "data": {
      "text/html": [
       "<pre>+---------+--------------+-------------------+-----------------------+-------------+</pre>"
      ],
      "text/plain": [
       "+---------+--------------+-------------------+-----------------------+-------------+"
      ]
     },
     "metadata": {},
     "output_type": "display_data"
    },
    {
     "data": {
      "text/html": [
       "<pre>| Initial | 207us        | 1.69602           | 1.30231               |             |</pre>"
      ],
      "text/plain": [
       "| Initial | 207us        | 1.69602           | 1.30231               |             |"
      ]
     },
     "metadata": {},
     "output_type": "display_data"
    },
    {
     "data": {
      "text/html": [
       "<pre>+---------+--------------+-------------------+-----------------------+-------------+</pre>"
      ],
      "text/plain": [
       "+---------+--------------+-------------------+-----------------------+-------------+"
      ]
     },
     "metadata": {},
     "output_type": "display_data"
    },
    {
     "data": {
      "text/html": [
       "<pre>| 1       | 581.551ms    | 1.58119           | 1.2572                | 0.0976562   |</pre>"
      ],
      "text/plain": [
       "| 1       | 581.551ms    | 1.58119           | 1.2572                | 0.0976562   |"
      ]
     },
     "metadata": {},
     "output_type": "display_data"
    },
    {
     "data": {
      "text/html": [
       "<pre>| 2       | 1.01s        | 1.21103           | 1.10032               | 0.0580668   |</pre>"
      ],
      "text/plain": [
       "| 2       | 1.01s        | 1.21103           | 1.10032               | 0.0580668   |"
      ]
     },
     "metadata": {},
     "output_type": "display_data"
    },
    {
     "data": {
      "text/html": [
       "<pre>| 3       | 1.40s        | 1.06061           | 1.02974               | 0.042841    |</pre>"
      ],
      "text/plain": [
       "| 3       | 1.40s        | 1.06061           | 1.02974               | 0.042841    |"
      ]
     },
     "metadata": {},
     "output_type": "display_data"
    },
    {
     "data": {
      "text/html": [
       "<pre>| 4       | 1.68s        | 0.913813          | 0.955774              | 0.0345267   |</pre>"
      ],
      "text/plain": [
       "| 4       | 1.68s        | 0.913813          | 0.955774              | 0.0345267   |"
      ]
     },
     "metadata": {},
     "output_type": "display_data"
    },
    {
     "data": {
      "text/html": [
       "<pre>| 5       | 2.00s        | 0.775641          | 0.880453              | 0.029206    |</pre>"
      ],
      "text/plain": [
       "| 5       | 2.00s        | 0.775641          | 0.880453              | 0.029206    |"
      ]
     },
     "metadata": {},
     "output_type": "display_data"
    },
    {
     "data": {
      "text/html": [
       "<pre>| 6       | 2.37s        | 0.663122          | 0.81395               | 0.0254734   |</pre>"
      ],
      "text/plain": [
       "| 6       | 2.37s        | 0.663122          | 0.81395               | 0.0254734   |"
      ]
     },
     "metadata": {},
     "output_type": "display_data"
    },
    {
     "data": {
      "text/html": [
       "<pre>| 10      | 3.60s        | 0.422067          | 0.648821              | 0.017366    |</pre>"
      ],
      "text/plain": [
       "| 10      | 3.60s        | 0.422067          | 0.648821              | 0.017366    |"
      ]
     },
     "metadata": {},
     "output_type": "display_data"
    },
    {
     "data": {
      "text/html": [
       "<pre>| 11      | 3.88s        | 0.391121          | 0.624447              | 0.016168    |</pre>"
      ],
      "text/plain": [
       "| 11      | 3.88s        | 0.391121          | 0.624447              | 0.016168    |"
      ]
     },
     "metadata": {},
     "output_type": "display_data"
    },
    {
     "data": {
      "text/html": [
       "<pre>| 15      | 5.10s        | 0.31313           | 0.558279              | 0.0128124   |</pre>"
      ],
      "text/plain": [
       "| 15      | 5.10s        | 0.31313           | 0.558279              | 0.0128124   |"
      ]
     },
     "metadata": {},
     "output_type": "display_data"
    },
    {
     "data": {
      "text/html": [
       "<pre>| 20      | 6.45s        | 0.266009          | 0.514139              | 0.0103259   |</pre>"
      ],
      "text/plain": [
       "| 20      | 6.45s        | 0.266009          | 0.514139              | 0.0103259   |"
      ]
     },
     "metadata": {},
     "output_type": "display_data"
    },
    {
     "data": {
      "text/html": [
       "<pre>| 25      | 8.06s        | 0.24034           | 0.488392              | 0.00873464  |</pre>"
      ],
      "text/plain": [
       "| 25      | 8.06s        | 0.24034           | 0.488392              | 0.00873464  |"
      ]
     },
     "metadata": {},
     "output_type": "display_data"
    },
    {
     "data": {
      "text/html": [
       "<pre>| 30      | 9.94s        | 0.224412          | 0.471689              | 0.00761832  |</pre>"
      ],
      "text/plain": [
       "| 30      | 9.94s        | 0.224412          | 0.471689              | 0.00761832  |"
      ]
     },
     "metadata": {},
     "output_type": "display_data"
    },
    {
     "data": {
      "text/html": [
       "<pre>| 35      | 11.36s       | 0.213491          | 0.459878              | 0.00678655  |</pre>"
      ],
      "text/plain": [
       "| 35      | 11.36s       | 0.213491          | 0.459878              | 0.00678655  |"
      ]
     },
     "metadata": {},
     "output_type": "display_data"
    },
    {
     "data": {
      "text/html": [
       "<pre>| 40      | 12.82s       | 0.205517          | 0.451052              | 0.00613981  |</pre>"
      ],
      "text/plain": [
       "| 40      | 12.82s       | 0.205517          | 0.451052              | 0.00613981  |"
      ]
     },
     "metadata": {},
     "output_type": "display_data"
    },
    {
     "data": {
      "text/html": [
       "<pre>| 45      | 14.22s       | 0.19937           | 0.444122              | 0.0056207   |</pre>"
      ],
      "text/plain": [
       "| 45      | 14.22s       | 0.19937           | 0.444122              | 0.0056207   |"
      ]
     },
     "metadata": {},
     "output_type": "display_data"
    },
    {
     "data": {
      "text/html": [
       "<pre>| 50      | 16.23s       | 0.194465          | 0.438511              | 0.00519365  |</pre>"
      ],
      "text/plain": [
       "| 50      | 16.23s       | 0.194465          | 0.438511              | 0.00519365  |"
      ]
     },
     "metadata": {},
     "output_type": "display_data"
    },
    {
     "data": {
      "text/html": [
       "<pre>+---------+--------------+-------------------+-----------------------+-------------+</pre>"
      ],
      "text/plain": [
       "+---------+--------------+-------------------+-----------------------+-------------+"
      ]
     },
     "metadata": {},
     "output_type": "display_data"
    },
    {
     "data": {
      "text/html": [
       "<pre>Optimization Complete: Maximum number of passes through the data reached.</pre>"
      ],
      "text/plain": [
       "Optimization Complete: Maximum number of passes through the data reached."
      ]
     },
     "metadata": {},
     "output_type": "display_data"
    },
    {
     "data": {
      "text/html": [
       "<pre>Computing final objective value and training RMSE.</pre>"
      ],
      "text/plain": [
       "Computing final objective value and training RMSE."
      ]
     },
     "metadata": {},
     "output_type": "display_data"
    },
    {
     "data": {
      "text/html": [
       "<pre>       Final objective value: 0.179285</pre>"
      ],
      "text/plain": [
       "       Final objective value: 0.179285"
      ]
     },
     "metadata": {},
     "output_type": "display_data"
    },
    {
     "data": {
      "text/html": [
       "<pre>       Final training RMSE: 0.420848</pre>"
      ],
      "text/plain": [
       "       Final training RMSE: 0.420848"
      ]
     },
     "metadata": {},
     "output_type": "display_data"
    }
   ],
   "source": [
    "# create the recommender (will train during this step)\n",
    "rec = gl.recommender.factorization_recommender.create(\n",
    "            train_set,\n",
    "            user_id='user_id',\n",
    "            item_id='business_id',\n",
    "            target='stars',\n",
    "#             item_data=sf_itemdata\n",
    "            )"
   ]
  },
  {
   "cell_type": "code",
   "execution_count": 58,
   "metadata": {
    "collapsed": false
   },
   "outputs": [],
   "source": [
    "rec.save('frec_without_sides')\n"
   ]
  },
  {
   "cell_type": "code",
   "execution_count": null,
   "metadata": {
    "collapsed": true
   },
   "outputs": [],
   "source": []
  },
  {
   "cell_type": "code",
   "execution_count": null,
   "metadata": {
    "collapsed": true
   },
   "outputs": [],
   "source": []
  },
  {
   "cell_type": "code",
   "execution_count": null,
   "metadata": {
    "collapsed": true
   },
   "outputs": [],
   "source": []
  },
  {
   "cell_type": "code",
   "execution_count": 7,
   "metadata": {
    "collapsed": false
   },
   "outputs": [],
   "source": [
    "mws = gl.load_model('frec_with_sides')\n",
    "mwos= gl.load_model('frec_without_sides')"
   ]
  },
  {
   "cell_type": "code",
   "execution_count": 42,
   "metadata": {
    "collapsed": false
   },
   "outputs": [],
   "source": [
    "import random"
   ]
  },
  {
   "cell_type": "code",
   "execution_count": 81,
   "metadata": {
    "collapsed": false,
    "scrolled": false
   },
   "outputs": [
    {
     "name": "stdout",
     "output_type": "stream",
     "text": [
      "{'Count': 79, 'user_id': 'UFr-WCtnNbX8O3sI7h4qeQ'}\n"
     ]
    },
    {
     "data": {
      "text/html": [
       "<pre>Getting similar users completed in 0.024401</pre>"
      ],
      "text/plain": [
       "Getting similar users completed in 0.024401"
      ]
     },
     "metadata": {},
     "output_type": "display_data"
    },
    {
     "data": {
      "text/html": [
       "<pre>Getting similar users completed in 0.02198</pre>"
      ],
      "text/plain": [
       "Getting similar users completed in 0.02198"
      ]
     },
     "metadata": {},
     "output_type": "display_data"
    },
    {
     "name": "stdout",
     "output_type": "stream",
     "text": [
      "+------------------------+------------------------+----------------+------+\n",
      "|        user_id         |        similar         |     score      | rank |\n",
      "+------------------------+------------------------+----------------+------+\n",
      "| UFr-WCtnNbX8O3sI7h4qeQ | DvwpzNEPln8ywGd7xtryfg | 0.999362170696 | 1991 |\n",
      "| UFr-WCtnNbX8O3sI7h4qeQ | cXiMY-Xb4ZdLS8tM9ksQqg | 0.999362051487 | 1992 |\n",
      "| UFr-WCtnNbX8O3sI7h4qeQ | 37DAW26R2LI0p9mQdFX1xg | 0.999362051487 | 1993 |\n",
      "| UFr-WCtnNbX8O3sI7h4qeQ | y7NxB1I19YIxTSeZLfk6PA | 0.999362051487 | 1994 |\n",
      "| UFr-WCtnNbX8O3sI7h4qeQ | TWZ0qe64v-lXVa-TdYycKg | 0.999362051487 | 1995 |\n",
      "| UFr-WCtnNbX8O3sI7h4qeQ | Xd7vmJdko39h6zY_R4K8CQ | 0.999362051487 | 1996 |\n",
      "| UFr-WCtnNbX8O3sI7h4qeQ | WxSMeBeDgXx6lylvx_OjoQ | 0.999362051487 | 1997 |\n",
      "| UFr-WCtnNbX8O3sI7h4qeQ | kGJ-3vLFUHv-rvK3jmLClQ | 0.999361991882 | 1998 |\n",
      "| UFr-WCtnNbX8O3sI7h4qeQ | JasjEgtuuKG9WflCV4lyqA | 0.999361991882 | 1999 |\n",
      "| UFr-WCtnNbX8O3sI7h4qeQ | DG9WLmbw3tev5agizBAUVQ | 0.999361991882 | 2000 |\n",
      "+------------------------+------------------------+----------------+------+\n",
      "[10 rows x 4 columns]\n",
      "\n",
      "+------------------------+------------------------+----------------+------+\n",
      "|        user_id         |        similar         |     score      | rank |\n",
      "+------------------------+------------------------+----------------+------+\n",
      "| UFr-WCtnNbX8O3sI7h4qeQ | RkbRf7K2UuxFkiiZ_K3TKw | 0.801877558231 | 1991 |\n",
      "| UFr-WCtnNbX8O3sI7h4qeQ | 02NCsIfK64rDjRygG-r1Ug | 0.801870763302 | 1992 |\n",
      "| UFr-WCtnNbX8O3sI7h4qeQ | msfnYSMRCO7xzLghzjl5kA | 0.801870584488 | 1993 |\n",
      "| UFr-WCtnNbX8O3sI7h4qeQ | HMV9e0hBpvCvMlzE_pw-hA | 0.801852405071 | 1994 |\n",
      "| UFr-WCtnNbX8O3sI7h4qeQ | m1KJQhlceh3zhuODXvVMZg | 0.801831662655 | 1995 |\n",
      "| UFr-WCtnNbX8O3sI7h4qeQ | 7WvkhSfB8lQGv5S4gUlnuA | 0.801778554916 | 1996 |\n",
      "| UFr-WCtnNbX8O3sI7h4qeQ | 31Xvp4AzKW6BzOjRPh8F1w | 0.80177718401  | 1997 |\n",
      "| UFr-WCtnNbX8O3sI7h4qeQ | tISOyRNfrWWHdm7rirvXIQ | 0.801771819592 | 1998 |\n",
      "| UFr-WCtnNbX8O3sI7h4qeQ | Lxb52KR4LLoFI0KqW8pxEQ | 0.801761269569 | 1999 |\n",
      "| UFr-WCtnNbX8O3sI7h4qeQ | VML2t76ix0v7N2VSIt5OFw | 0.801738262177 | 2000 |\n",
      "+------------------------+------------------------+----------------+------+\n",
      "[10 rows x 4 columns]\n",
      "\n"
     ]
    }
   ],
   "source": [
    "# find similar users (via cosine similiarity) to the given user\n",
    "test_user = reviews_by_user[random.randint(0,len(reviews_by_user))]\n",
    "print test_user\n",
    "simuser_ws = mws.get_similar_users([test_user['user_id']], k=2000)\n",
    "simuser_ns = mwos.get_similar_users([test_user['user_id']], k=2000)\n",
    "print simuser_ws.tail()\n",
    "print simuser_ns.tail()"
   ]
  },
  {
   "cell_type": "code",
   "execution_count": 106,
   "metadata": {
    "collapsed": false
   },
   "outputs": [
    {
     "name": "stdout",
     "output_type": "stream",
     "text": [
      "Canvas is accessible via web browser at the URL: http://localhost:49546/index.html\n",
      "Opening Canvas in default web browser.\n",
      "Canvas is updated and available in a tab in the default browser.\n"
     ]
    }
   ],
   "source": [
    "mws.show()\n",
    "mwos.show()"
   ]
  },
  {
   "cell_type": "code",
   "execution_count": 137,
   "metadata": {
    "collapsed": false
   },
   "outputs": [
    {
     "data": {
      "text/plain": [
       "[{'score': 0.9998569488525391, 'similar': 'RvA9gntdOj1UfgIO1udKdg'},\n",
       " {'score': 0.9998271465301514, 'similar': '1UKOCb-k8oMdTG821GX6gQ'},\n",
       " {'score': 0.9998024702072144, 'similar': 'jwouB3jD8kWgGPor3AfI-Q'},\n",
       " {'score': 0.9997962117195129, 'similar': 'zRuyGKh-ksUzJ1wqNU46Gw'},\n",
       " {'score': 0.9997909665107727, 'similar': 'fBE4NNPviEcn9Gm-lZsZFA'}]"
      ]
     },
     "execution_count": 137,
     "metadata": {},
     "output_type": "execute_result"
    }
   ],
   "source": [
    "list(simuser_ws['similar','score'][0:5])"
   ]
  },
  {
   "cell_type": "code",
   "execution_count": 130,
   "metadata": {
    "collapsed": false
   },
   "outputs": [
    {
     "data": {
      "text/html": [
       "<div style=\"max-height:1000px;max-width:1500px;overflow:auto;\"><table frame=\"box\" rules=\"cols\">\n",
       "    <tr>\n",
       "        <th style=\"padding-left: 1em; padding-right: 1em; text-align: center\">user_id</th>\n",
       "        <th style=\"padding-left: 1em; padding-right: 1em; text-align: center\">similar</th>\n",
       "        <th style=\"padding-left: 1em; padding-right: 1em; text-align: center\">score</th>\n",
       "        <th style=\"padding-left: 1em; padding-right: 1em; text-align: center\">rank</th>\n",
       "    </tr>\n",
       "    <tr>\n",
       "        <td style=\"padding-left: 1em; padding-right: 1em; text-align: center; vertical-align: top\">UFr-WCtnNbX8O3sI7h4qeQ</td>\n",
       "        <td style=\"padding-left: 1em; padding-right: 1em; text-align: center; vertical-align: top\">RvA9gntdOj1UfgIO1udKdg</td>\n",
       "        <td style=\"padding-left: 1em; padding-right: 1em; text-align: center; vertical-align: top\">0.999856948853</td>\n",
       "        <td style=\"padding-left: 1em; padding-right: 1em; text-align: center; vertical-align: top\">1</td>\n",
       "    </tr>\n",
       "    <tr>\n",
       "        <td style=\"padding-left: 1em; padding-right: 1em; text-align: center; vertical-align: top\">UFr-WCtnNbX8O3sI7h4qeQ</td>\n",
       "        <td style=\"padding-left: 1em; padding-right: 1em; text-align: center; vertical-align: top\">1UKOCb-k8oMdTG821GX6gQ</td>\n",
       "        <td style=\"padding-left: 1em; padding-right: 1em; text-align: center; vertical-align: top\">0.99982714653</td>\n",
       "        <td style=\"padding-left: 1em; padding-right: 1em; text-align: center; vertical-align: top\">2</td>\n",
       "    </tr>\n",
       "    <tr>\n",
       "        <td style=\"padding-left: 1em; padding-right: 1em; text-align: center; vertical-align: top\">UFr-WCtnNbX8O3sI7h4qeQ</td>\n",
       "        <td style=\"padding-left: 1em; padding-right: 1em; text-align: center; vertical-align: top\">jwouB3jD8kWgGPor3AfI-Q</td>\n",
       "        <td style=\"padding-left: 1em; padding-right: 1em; text-align: center; vertical-align: top\">0.999802470207</td>\n",
       "        <td style=\"padding-left: 1em; padding-right: 1em; text-align: center; vertical-align: top\">3</td>\n",
       "    </tr>\n",
       "    <tr>\n",
       "        <td style=\"padding-left: 1em; padding-right: 1em; text-align: center; vertical-align: top\">UFr-WCtnNbX8O3sI7h4qeQ</td>\n",
       "        <td style=\"padding-left: 1em; padding-right: 1em; text-align: center; vertical-align: top\">zRuyGKh-ksUzJ1wqNU46Gw</td>\n",
       "        <td style=\"padding-left: 1em; padding-right: 1em; text-align: center; vertical-align: top\">0.99979621172</td>\n",
       "        <td style=\"padding-left: 1em; padding-right: 1em; text-align: center; vertical-align: top\">4</td>\n",
       "    </tr>\n",
       "    <tr>\n",
       "        <td style=\"padding-left: 1em; padding-right: 1em; text-align: center; vertical-align: top\">UFr-WCtnNbX8O3sI7h4qeQ</td>\n",
       "        <td style=\"padding-left: 1em; padding-right: 1em; text-align: center; vertical-align: top\">fBE4NNPviEcn9Gm-lZsZFA</td>\n",
       "        <td style=\"padding-left: 1em; padding-right: 1em; text-align: center; vertical-align: top\">0.999790966511</td>\n",
       "        <td style=\"padding-left: 1em; padding-right: 1em; text-align: center; vertical-align: top\">5</td>\n",
       "    </tr>\n",
       "    <tr>\n",
       "        <td style=\"padding-left: 1em; padding-right: 1em; text-align: center; vertical-align: top\">UFr-WCtnNbX8O3sI7h4qeQ</td>\n",
       "        <td style=\"padding-left: 1em; padding-right: 1em; text-align: center; vertical-align: top\">FgDirdF5qYQ6dI8U-gh3kA</td>\n",
       "        <td style=\"padding-left: 1em; padding-right: 1em; text-align: center; vertical-align: top\">0.999782323837</td>\n",
       "        <td style=\"padding-left: 1em; padding-right: 1em; text-align: center; vertical-align: top\">6</td>\n",
       "    </tr>\n",
       "    <tr>\n",
       "        <td style=\"padding-left: 1em; padding-right: 1em; text-align: center; vertical-align: top\">UFr-WCtnNbX8O3sI7h4qeQ</td>\n",
       "        <td style=\"padding-left: 1em; padding-right: 1em; text-align: center; vertical-align: top\">Q3fFv_ft17OyV-NRF1iQxw</td>\n",
       "        <td style=\"padding-left: 1em; padding-right: 1em; text-align: center; vertical-align: top\">0.999769508839</td>\n",
       "        <td style=\"padding-left: 1em; padding-right: 1em; text-align: center; vertical-align: top\">7</td>\n",
       "    </tr>\n",
       "    <tr>\n",
       "        <td style=\"padding-left: 1em; padding-right: 1em; text-align: center; vertical-align: top\">UFr-WCtnNbX8O3sI7h4qeQ</td>\n",
       "        <td style=\"padding-left: 1em; padding-right: 1em; text-align: center; vertical-align: top\">g4luSu3EFv3tmEAj1XrNog</td>\n",
       "        <td style=\"padding-left: 1em; padding-right: 1em; text-align: center; vertical-align: top\">0.999766349792</td>\n",
       "        <td style=\"padding-left: 1em; padding-right: 1em; text-align: center; vertical-align: top\">8</td>\n",
       "    </tr>\n",
       "    <tr>\n",
       "        <td style=\"padding-left: 1em; padding-right: 1em; text-align: center; vertical-align: top\">UFr-WCtnNbX8O3sI7h4qeQ</td>\n",
       "        <td style=\"padding-left: 1em; padding-right: 1em; text-align: center; vertical-align: top\">-A6jF_xAyAK3pvjTjzbfIw</td>\n",
       "        <td style=\"padding-left: 1em; padding-right: 1em; text-align: center; vertical-align: top\">0.999759554863</td>\n",
       "        <td style=\"padding-left: 1em; padding-right: 1em; text-align: center; vertical-align: top\">9</td>\n",
       "    </tr>\n",
       "    <tr>\n",
       "        <td style=\"padding-left: 1em; padding-right: 1em; text-align: center; vertical-align: top\">UFr-WCtnNbX8O3sI7h4qeQ</td>\n",
       "        <td style=\"padding-left: 1em; padding-right: 1em; text-align: center; vertical-align: top\">Dorg57DfTwyLVvbECTmUOw</td>\n",
       "        <td style=\"padding-left: 1em; padding-right: 1em; text-align: center; vertical-align: top\">0.999751508236</td>\n",
       "        <td style=\"padding-left: 1em; padding-right: 1em; text-align: center; vertical-align: top\">10</td>\n",
       "    </tr>\n",
       "</table>\n",
       "[2000 rows x 4 columns]<br/>Note: Only the head of the SFrame is printed.<br/>You can use print_rows(num_rows=m, num_columns=n) to print more rows and columns.\n",
       "</div>"
      ],
      "text/plain": [
       "Columns:\n",
       "\tuser_id\tstr\n",
       "\tsimilar\tstr\n",
       "\tscore\tfloat\n",
       "\trank\tint\n",
       "\n",
       "Rows: 2000\n",
       "\n",
       "Data:\n",
       "+------------------------+------------------------+----------------+------+\n",
       "|        user_id         |        similar         |     score      | rank |\n",
       "+------------------------+------------------------+----------------+------+\n",
       "| UFr-WCtnNbX8O3sI7h4qeQ | RvA9gntdOj1UfgIO1udKdg | 0.999856948853 |  1   |\n",
       "| UFr-WCtnNbX8O3sI7h4qeQ | 1UKOCb-k8oMdTG821GX6gQ | 0.99982714653  |  2   |\n",
       "| UFr-WCtnNbX8O3sI7h4qeQ | jwouB3jD8kWgGPor3AfI-Q | 0.999802470207 |  3   |\n",
       "| UFr-WCtnNbX8O3sI7h4qeQ | zRuyGKh-ksUzJ1wqNU46Gw | 0.99979621172  |  4   |\n",
       "| UFr-WCtnNbX8O3sI7h4qeQ | fBE4NNPviEcn9Gm-lZsZFA | 0.999790966511 |  5   |\n",
       "| UFr-WCtnNbX8O3sI7h4qeQ | FgDirdF5qYQ6dI8U-gh3kA | 0.999782323837 |  6   |\n",
       "| UFr-WCtnNbX8O3sI7h4qeQ | Q3fFv_ft17OyV-NRF1iQxw | 0.999769508839 |  7   |\n",
       "| UFr-WCtnNbX8O3sI7h4qeQ | g4luSu3EFv3tmEAj1XrNog | 0.999766349792 |  8   |\n",
       "| UFr-WCtnNbX8O3sI7h4qeQ | -A6jF_xAyAK3pvjTjzbfIw | 0.999759554863 |  9   |\n",
       "| UFr-WCtnNbX8O3sI7h4qeQ | Dorg57DfTwyLVvbECTmUOw | 0.999751508236 |  10  |\n",
       "+------------------------+------------------------+----------------+------+\n",
       "[2000 rows x 4 columns]\n",
       "Note: Only the head of the SFrame is printed.\n",
       "You can use print_rows(num_rows=m, num_columns=n) to print more rows and columns."
      ]
     },
     "execution_count": 130,
     "metadata": {},
     "output_type": "execute_result"
    }
   ],
   "source": [
    "simuser_ws"
   ]
  },
  {
   "cell_type": "code",
   "execution_count": null,
   "metadata": {
    "collapsed": true
   },
   "outputs": [],
   "source": []
  },
  {
   "cell_type": "code",
   "execution_count": null,
   "metadata": {
    "collapsed": true
   },
   "outputs": [],
   "source": []
  },
  {
   "cell_type": "code",
   "execution_count": null,
   "metadata": {
    "collapsed": false,
    "scrolled": false
   },
   "outputs": [],
   "source": [
    "# rec = gl.recommender.create(\n",
    "#             sf_obj,\n",
    "#             user_id='user_id',\n",
    "#             item_id='business_id',\n",
    "#             target ='stars')"
   ]
  },
  {
   "cell_type": "code",
   "execution_count": 39,
   "metadata": {
    "collapsed": false
   },
   "outputs": [
    {
     "name": "stdout",
     "output_type": "stream",
     "text": [
      "stars: 3.73694314521\n"
     ]
    }
   ],
   "source": [
    "# evaluate 1 datapoint (user=1, business=100) for potential rating\n",
    "one_datapoint_sf = gl.SFrame({'user_id': [1], 'business_id': [100]})\n",
    "print \"stars:\", rec.predict(one_datapoint_sf)[0]   # 4.879"
   ]
  },
  {
   "cell_type": "code",
   "execution_count": 40,
   "metadata": {
    "collapsed": false,
    "scrolled": true
   },
   "outputs": [
    {
     "data": {
      "text/plain": [
       "['adagrad_momentum_weighting',\n",
       " 'additional_iterations_if_unhealthy',\n",
       " 'binary_target',\n",
       " 'coefficients',\n",
       " 'data_load_time',\n",
       " 'init_random_sigma',\n",
       " 'item_id',\n",
       " 'item_side_data_column_names',\n",
       " 'item_side_data_column_types',\n",
       " 'linear_regularization',\n",
       " 'max_iterations',\n",
       " 'model_name',\n",
       " 'nmf',\n",
       " 'num_factors',\n",
       " 'num_features',\n",
       " 'num_item_side_features',\n",
       " 'num_items',\n",
       " 'num_observations',\n",
       " 'num_tempering_iterations',\n",
       " 'num_user_side_features',\n",
       " 'num_users',\n",
       " 'observation_data_column_names',\n",
       " 'random_seed',\n",
       " 'regularization',\n",
       " 'regularization_type',\n",
       " 'sgd_convergence_interval',\n",
       " 'sgd_convergence_threshold',\n",
       " 'sgd_max_trial_iterations',\n",
       " 'sgd_sampling_block_size',\n",
       " 'sgd_step_adjustment_interval',\n",
       " 'sgd_step_size',\n",
       " 'sgd_trial_sample_minimum_size',\n",
       " 'sgd_trial_sample_proportion',\n",
       " 'side_data_factorization',\n",
       " 'solver',\n",
       " 'step_size_decrease_rate',\n",
       " 'target',\n",
       " 'tempering_regularization_start_value',\n",
       " 'track_exact_loss',\n",
       " 'training_rmse',\n",
       " 'training_stats',\n",
       " 'training_time',\n",
       " 'user_id',\n",
       " 'user_side_data_column_names',\n",
       " 'user_side_data_column_types']"
      ]
     },
     "execution_count": 40,
     "metadata": {},
     "output_type": "execute_result"
    }
   ],
   "source": [
    "rec.list_fields()"
   ]
  },
  {
   "cell_type": "code",
   "execution_count": 41,
   "metadata": {
    "collapsed": false
   },
   "outputs": [
    {
     "data": {
      "text/plain": [
       "3.7369431452062614"
      ]
     },
     "execution_count": 41,
     "metadata": {},
     "output_type": "execute_result"
    }
   ],
   "source": [
    "rec.get('coefficients')['intercept']"
   ]
  },
  {
   "cell_type": "code",
   "execution_count": 42,
   "metadata": {
    "collapsed": false,
    "scrolled": false
   },
   "outputs": [
    {
     "data": {
      "text/html": [
       "<div style=\"max-height:1000px;max-width:1500px;overflow:auto;\"><table frame=\"box\" rules=\"cols\">\n",
       "    <tr>\n",
       "        <th style=\"padding-left: 1em; padding-right: 1em; text-align: center\">user_id</th>\n",
       "        <th style=\"padding-left: 1em; padding-right: 1em; text-align: center\">linear_terms</th>\n",
       "        <th style=\"padding-left: 1em; padding-right: 1em; text-align: center\">factors</th>\n",
       "    </tr>\n",
       "    <tr>\n",
       "        <td style=\"padding-left: 1em; padding-right: 1em; text-align: center; vertical-align: top\">Ouus3lC3Xk3YRGx4ptd_4A</td>\n",
       "        <td style=\"padding-left: 1em; padding-right: 1em; text-align: center; vertical-align: top\">0.0327613838017</td>\n",
       "        <td style=\"padding-left: 1em; padding-right: 1em; text-align: center; vertical-align: top\">[0.0261160954833,<br>0.0263281986117, ...</td>\n",
       "    </tr>\n",
       "    <tr>\n",
       "        <td style=\"padding-left: 1em; padding-right: 1em; text-align: center; vertical-align: top\">dz_sBsL69aWzsxksT2O_Mg</td>\n",
       "        <td style=\"padding-left: 1em; padding-right: 1em; text-align: center; vertical-align: top\">-0.0152220064774</td>\n",
       "        <td style=\"padding-left: 1em; padding-right: 1em; text-align: center; vertical-align: top\">[-0.0241532307118,<br>-0.0241916514933, ...</td>\n",
       "    </tr>\n",
       "    <tr>\n",
       "        <td style=\"padding-left: 1em; padding-right: 1em; text-align: center; vertical-align: top\">zyI-u0C1YOzp5v1j2wuCOQ</td>\n",
       "        <td style=\"padding-left: 1em; padding-right: 1em; text-align: center; vertical-align: top\">0.0465549193323</td>\n",
       "        <td style=\"padding-left: 1em; padding-right: 1em; text-align: center; vertical-align: top\">[0.0160138569772,<br>0.0160326808691, ...</td>\n",
       "    </tr>\n",
       "    <tr>\n",
       "        <td style=\"padding-left: 1em; padding-right: 1em; text-align: center; vertical-align: top\">vyfsQo-estP8EfiIFMsL6g</td>\n",
       "        <td style=\"padding-left: 1em; padding-right: 1em; text-align: center; vertical-align: top\">0.0587146058679</td>\n",
       "        <td style=\"padding-left: 1em; padding-right: 1em; text-align: center; vertical-align: top\">[-0.0107431840152,<br>-0.0103426072747, ...</td>\n",
       "    </tr>\n",
       "    <tr>\n",
       "        <td style=\"padding-left: 1em; padding-right: 1em; text-align: center; vertical-align: top\">lxZSVeJz6KEBW1nlA3JKJg</td>\n",
       "        <td style=\"padding-left: 1em; padding-right: 1em; text-align: center; vertical-align: top\">-0.11037093401</td>\n",
       "        <td style=\"padding-left: 1em; padding-right: 1em; text-align: center; vertical-align: top\">[-0.0459412224591,<br>-0.0458470769227, ...</td>\n",
       "    </tr>\n",
       "    <tr>\n",
       "        <td style=\"padding-left: 1em; padding-right: 1em; text-align: center; vertical-align: top\">CbMCOeeHVeafcD-6-CJrPg</td>\n",
       "        <td style=\"padding-left: 1em; padding-right: 1em; text-align: center; vertical-align: top\">0.0605444423854</td>\n",
       "        <td style=\"padding-left: 1em; padding-right: 1em; text-align: center; vertical-align: top\">[-0.0185883156955,<br>-0.018461458385, ...</td>\n",
       "    </tr>\n",
       "    <tr>\n",
       "        <td style=\"padding-left: 1em; padding-right: 1em; text-align: center; vertical-align: top\">Z8DyUMojRhFbLyHBymM_rA</td>\n",
       "        <td style=\"padding-left: 1em; padding-right: 1em; text-align: center; vertical-align: top\">-0.110937416553</td>\n",
       "        <td style=\"padding-left: 1em; padding-right: 1em; text-align: center; vertical-align: top\">[-0.0106938546523,<br>-0.0105813508853, ...</td>\n",
       "    </tr>\n",
       "    <tr>\n",
       "        <td style=\"padding-left: 1em; padding-right: 1em; text-align: center; vertical-align: top\">sXWvDlMQspjJ1zzr3cEM7Q</td>\n",
       "        <td style=\"padding-left: 1em; padding-right: 1em; text-align: center; vertical-align: top\">-0.0254131220281</td>\n",
       "        <td style=\"padding-left: 1em; padding-right: 1em; text-align: center; vertical-align: top\">[0.0130900871009,<br>0.0133146680892, ...</td>\n",
       "    </tr>\n",
       "    <tr>\n",
       "        <td style=\"padding-left: 1em; padding-right: 1em; text-align: center; vertical-align: top\">G8RaaiVzbyRvsBmoUx0VeA</td>\n",
       "        <td style=\"padding-left: 1em; padding-right: 1em; text-align: center; vertical-align: top\">-0.00300458748825</td>\n",
       "        <td style=\"padding-left: 1em; padding-right: 1em; text-align: center; vertical-align: top\">[0.0119381546974,<br>0.0119537906721, ...</td>\n",
       "    </tr>\n",
       "    <tr>\n",
       "        <td style=\"padding-left: 1em; padding-right: 1em; text-align: center; vertical-align: top\">f0isFKnJVZVmpdCPNd8Gfw</td>\n",
       "        <td style=\"padding-left: 1em; padding-right: 1em; text-align: center; vertical-align: top\">-0.226664245129</td>\n",
       "        <td style=\"padding-left: 1em; padding-right: 1em; text-align: center; vertical-align: top\">[-0.00979323592037,<br>-0.00989496335387, ...</td>\n",
       "    </tr>\n",
       "</table>\n",
       "[388600 rows x 3 columns]<br/>Note: Only the head of the SFrame is printed.<br/>You can use print_rows(num_rows=m, num_columns=n) to print more rows and columns.\n",
       "</div>"
      ],
      "text/plain": [
       "Columns:\n",
       "\tuser_id\tstr\n",
       "\tlinear_terms\tfloat\n",
       "\tfactors\tarray\n",
       "\n",
       "Rows: 388600\n",
       "\n",
       "Data:\n",
       "+------------------------+-------------------+-------------------------------+\n",
       "|        user_id         |    linear_terms   |            factors            |\n",
       "+------------------------+-------------------+-------------------------------+\n",
       "| Ouus3lC3Xk3YRGx4ptd_4A |  0.0327613838017  | [0.0261160954833, 0.026328... |\n",
       "| dz_sBsL69aWzsxksT2O_Mg |  -0.0152220064774 | [-0.0241532307118, -0.0241... |\n",
       "| zyI-u0C1YOzp5v1j2wuCOQ |  0.0465549193323  | [0.0160138569772, 0.016032... |\n",
       "| vyfsQo-estP8EfiIFMsL6g |  0.0587146058679  | [-0.0107431840152, -0.0103... |\n",
       "| lxZSVeJz6KEBW1nlA3JKJg |   -0.11037093401  | [-0.0459412224591, -0.0458... |\n",
       "| CbMCOeeHVeafcD-6-CJrPg |  0.0605444423854  | [-0.0185883156955, -0.0184... |\n",
       "| Z8DyUMojRhFbLyHBymM_rA |  -0.110937416553  | [-0.0106938546523, -0.0105... |\n",
       "| sXWvDlMQspjJ1zzr3cEM7Q |  -0.0254131220281 | [0.0130900871009, 0.013314... |\n",
       "| G8RaaiVzbyRvsBmoUx0VeA | -0.00300458748825 | [0.0119381546974, 0.011953... |\n",
       "| f0isFKnJVZVmpdCPNd8Gfw |  -0.226664245129  | [-0.00979323592037, -0.009... |\n",
       "+------------------------+-------------------+-------------------------------+\n",
       "[388600 rows x 3 columns]\n",
       "Note: Only the head of the SFrame is printed.\n",
       "You can use print_rows(num_rows=m, num_columns=n) to print more rows and columns."
      ]
     },
     "execution_count": 42,
     "metadata": {},
     "output_type": "execute_result"
    }
   ],
   "source": [
    "# rec['coefficients']  # equivalent to: rec.get('coefficients')\n",
    "rec.get('coefficients')['user_id']"
   ]
  },
  {
   "cell_type": "code",
   "execution_count": 43,
   "metadata": {
    "collapsed": false,
    "scrolled": false
   },
   "outputs": [
    {
     "data": {
      "text/html": [
       "<div style=\"max-height:1000px;max-width:1500px;overflow:auto;\"><table frame=\"box\" rules=\"cols\">\n",
       "    <tr>\n",
       "        <th style=\"padding-left: 1em; padding-right: 1em; text-align: center\">business_id</th>\n",
       "        <th style=\"padding-left: 1em; padding-right: 1em; text-align: center\">linear_terms</th>\n",
       "        <th style=\"padding-left: 1em; padding-right: 1em; text-align: center\">factors</th>\n",
       "    </tr>\n",
       "    <tr>\n",
       "        <td style=\"padding-left: 1em; padding-right: 1em; text-align: center; vertical-align: top\">Yf_mKctDPfMQkig-DavQJw</td>\n",
       "        <td style=\"padding-left: 1em; padding-right: 1em; text-align: center; vertical-align: top\">-0.0407451838255</td>\n",
       "        <td style=\"padding-left: 1em; padding-right: 1em; text-align: center; vertical-align: top\">[-0.0085883019492,<br>-0.00839034561068, ...</td>\n",
       "    </tr>\n",
       "    <tr>\n",
       "        <td style=\"padding-left: 1em; padding-right: 1em; text-align: center; vertical-align: top\">Hxw3hG8Efg6WXSa5oRJhrA</td>\n",
       "        <td style=\"padding-left: 1em; padding-right: 1em; text-align: center; vertical-align: top\">-0.234818160534</td>\n",
       "        <td style=\"padding-left: 1em; padding-right: 1em; text-align: center; vertical-align: top\">[-0.06912881881,<br>-0.0693349763751, ...</td>\n",
       "    </tr>\n",
       "    <tr>\n",
       "        <td style=\"padding-left: 1em; padding-right: 1em; text-align: center; vertical-align: top\">KkdkWeTMN8q-xpWD0ckx1Q</td>\n",
       "        <td style=\"padding-left: 1em; padding-right: 1em; text-align: center; vertical-align: top\">0.222354754806</td>\n",
       "        <td style=\"padding-left: 1em; padding-right: 1em; text-align: center; vertical-align: top\">[-0.0495907403529,<br>-0.0494525320828, ...</td>\n",
       "    </tr>\n",
       "    <tr>\n",
       "        <td style=\"padding-left: 1em; padding-right: 1em; text-align: center; vertical-align: top\">sUwVz00qBevDgt2dhe_KXA</td>\n",
       "        <td style=\"padding-left: 1em; padding-right: 1em; text-align: center; vertical-align: top\">-0.0903140455484</td>\n",
       "        <td style=\"padding-left: 1em; padding-right: 1em; text-align: center; vertical-align: top\">[-0.0292513202876,<br>-0.0294271633029, ...</td>\n",
       "    </tr>\n",
       "    <tr>\n",
       "        <td style=\"padding-left: 1em; padding-right: 1em; text-align: center; vertical-align: top\">xoYY0F5hrs00h285tWmZZA</td>\n",
       "        <td style=\"padding-left: 1em; padding-right: 1em; text-align: center; vertical-align: top\">-0.0753992125392</td>\n",
       "        <td style=\"padding-left: 1em; padding-right: 1em; text-align: center; vertical-align: top\">[0.0891507640481,<br>0.0887101069093, ...</td>\n",
       "    </tr>\n",
       "    <tr>\n",
       "        <td style=\"padding-left: 1em; padding-right: 1em; text-align: center; vertical-align: top\">m6JwiGrKrs0XCmH9ij3fmA</td>\n",
       "        <td style=\"padding-left: 1em; padding-right: 1em; text-align: center; vertical-align: top\">-0.060532130301</td>\n",
       "        <td style=\"padding-left: 1em; padding-right: 1em; text-align: center; vertical-align: top\">[0.0517805144191,<br>0.0518697313964, ...</td>\n",
       "    </tr>\n",
       "    <tr>\n",
       "        <td style=\"padding-left: 1em; padding-right: 1em; text-align: center; vertical-align: top\">BaoMhBMUDnMDud6F2ZgxrA</td>\n",
       "        <td style=\"padding-left: 1em; padding-right: 1em; text-align: center; vertical-align: top\">-0.119151495397</td>\n",
       "        <td style=\"padding-left: 1em; padding-right: 1em; text-align: center; vertical-align: top\">[-0.0343846902251,<br>-0.0343868993223, ...</td>\n",
       "    </tr>\n",
       "    <tr>\n",
       "        <td style=\"padding-left: 1em; padding-right: 1em; text-align: center; vertical-align: top\">h_1xOfqdfxqNlGOG1oMwKQ</td>\n",
       "        <td style=\"padding-left: 1em; padding-right: 1em; text-align: center; vertical-align: top\">-0.197489455342</td>\n",
       "        <td style=\"padding-left: 1em; padding-right: 1em; text-align: center; vertical-align: top\">[-0.049904268235,<br>-0.0500828027725, ...</td>\n",
       "    </tr>\n",
       "    <tr>\n",
       "        <td style=\"padding-left: 1em; padding-right: 1em; text-align: center; vertical-align: top\">E4b5OC_6mZ0V7B6Nyjncsg</td>\n",
       "        <td style=\"padding-left: 1em; padding-right: 1em; text-align: center; vertical-align: top\">0.113419637084</td>\n",
       "        <td style=\"padding-left: 1em; padding-right: 1em; text-align: center; vertical-align: top\">[0.0469928234816,<br>0.0473065190017, ...</td>\n",
       "    </tr>\n",
       "    <tr>\n",
       "        <td style=\"padding-left: 1em; padding-right: 1em; text-align: center; vertical-align: top\">1xu5wFd0TeBg6xNBiRtknw</td>\n",
       "        <td style=\"padding-left: 1em; padding-right: 1em; text-align: center; vertical-align: top\">0.0979582667351</td>\n",
       "        <td style=\"padding-left: 1em; padding-right: 1em; text-align: center; vertical-align: top\">[-0.071278013289,<br>-0.0715539827943, ...</td>\n",
       "    </tr>\n",
       "</table>\n",
       "[25071 rows x 3 columns]<br/>Note: Only the head of the SFrame is printed.<br/>You can use print_rows(num_rows=m, num_columns=n) to print more rows and columns.\n",
       "</div>"
      ],
      "text/plain": [
       "Columns:\n",
       "\tbusiness_id\tstr\n",
       "\tlinear_terms\tfloat\n",
       "\tfactors\tarray\n",
       "\n",
       "Rows: 25071\n",
       "\n",
       "Data:\n",
       "+------------------------+------------------+-------------------------------+\n",
       "|      business_id       |   linear_terms   |            factors            |\n",
       "+------------------------+------------------+-------------------------------+\n",
       "| Yf_mKctDPfMQkig-DavQJw | -0.0407451838255 | [-0.0085883019492, -0.0083... |\n",
       "| Hxw3hG8Efg6WXSa5oRJhrA | -0.234818160534  | [-0.06912881881, -0.069334... |\n",
       "| KkdkWeTMN8q-xpWD0ckx1Q |  0.222354754806  | [-0.0495907403529, -0.0494... |\n",
       "| sUwVz00qBevDgt2dhe_KXA | -0.0903140455484 | [-0.0292513202876, -0.0294... |\n",
       "| xoYY0F5hrs00h285tWmZZA | -0.0753992125392 | [0.0891507640481, 0.088710... |\n",
       "| m6JwiGrKrs0XCmH9ij3fmA | -0.060532130301  | [0.0517805144191, 0.051869... |\n",
       "| BaoMhBMUDnMDud6F2ZgxrA | -0.119151495397  | [-0.0343846902251, -0.0343... |\n",
       "| h_1xOfqdfxqNlGOG1oMwKQ | -0.197489455342  | [-0.049904268235, -0.05008... |\n",
       "| E4b5OC_6mZ0V7B6Nyjncsg |  0.113419637084  | [0.0469928234816, 0.047306... |\n",
       "| 1xu5wFd0TeBg6xNBiRtknw | 0.0979582667351  | [-0.071278013289, -0.07155... |\n",
       "+------------------------+------------------+-------------------------------+\n",
       "[25071 rows x 3 columns]\n",
       "Note: Only the head of the SFrame is printed.\n",
       "You can use print_rows(num_rows=m, num_columns=n) to print more rows and columns."
      ]
     },
     "execution_count": 43,
     "metadata": {},
     "output_type": "execute_result"
    }
   ],
   "source": [
    "# rec['coefficients']  # equivalent to: rec.get('coefficients')\n",
    "rec.get('coefficients')['business_id']"
   ]
  },
  {
   "cell_type": "code",
   "execution_count": 44,
   "metadata": {
    "collapsed": false
   },
   "outputs": [
    {
     "name": "stdout",
     "output_type": "stream",
     "text": [
      "25071\n",
      "8\n",
      "388600\n",
      "8\n"
     ]
    }
   ],
   "source": [
    "business_sf = rec['coefficients']['business_id']\n",
    "print len(business_sf)                     # 1682\n",
    "print len(business_sf['factors'][0])       # 8\n",
    "user_sf = rec['coefficients']['user_id']\n",
    "print len(user_sf)                      # 943\n",
    "print len(user_sf['factors'][0])        # 8"
   ]
  },
  {
   "cell_type": "code",
   "execution_count": null,
   "metadata": {
    "collapsed": true
   },
   "outputs": [],
   "source": []
  },
  {
   "cell_type": "code",
   "execution_count": null,
   "metadata": {
    "collapsed": true
   },
   "outputs": [],
   "source": []
  },
  {
   "cell_type": "code",
   "execution_count": null,
   "metadata": {
    "collapsed": true
   },
   "outputs": [],
   "source": []
  },
  {
   "cell_type": "code",
   "execution_count": null,
   "metadata": {
    "collapsed": true
   },
   "outputs": [],
   "source": []
  },
  {
   "cell_type": "code",
   "execution_count": null,
   "metadata": {
    "collapsed": true
   },
   "outputs": [],
   "source": []
  },
  {
   "cell_type": "code",
   "execution_count": null,
   "metadata": {
    "collapsed": true
   },
   "outputs": [],
   "source": []
  },
  {
   "cell_type": "code",
   "execution_count": null,
   "metadata": {
    "collapsed": true
   },
   "outputs": [],
   "source": []
  },
  {
   "cell_type": "code",
   "execution_count": null,
   "metadata": {
    "collapsed": true
   },
   "outputs": [],
   "source": []
  },
  {
   "cell_type": "code",
   "execution_count": null,
   "metadata": {
    "collapsed": true
   },
   "outputs": [],
   "source": []
  },
  {
   "cell_type": "code",
   "execution_count": null,
   "metadata": {
    "collapsed": true
   },
   "outputs": [],
   "source": []
  },
  {
   "cell_type": "code",
   "execution_count": null,
   "metadata": {
    "collapsed": true
   },
   "outputs": [],
   "source": []
  }
 ],
 "metadata": {
  "kernelspec": {
   "display_name": "Python 2",
   "language": "python",
   "name": "python2"
  },
  "language_info": {
   "codemirror_mode": {
    "name": "ipython",
    "version": 2
   },
   "file_extension": ".py",
   "mimetype": "text/x-python",
   "name": "python",
   "nbconvert_exporter": "python",
   "pygments_lexer": "ipython2",
   "version": "2.7.11"
  }
 },
 "nbformat": 4,
 "nbformat_minor": 0
}
