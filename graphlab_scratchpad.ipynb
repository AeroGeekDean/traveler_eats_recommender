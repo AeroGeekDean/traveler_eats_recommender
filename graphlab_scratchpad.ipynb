{
 "cells": [
  {
   "cell_type": "markdown",
   "metadata": {},
   "source": [
    "# Scratchpad for testing out graphlab with project data"
   ]
  },
  {
   "cell_type": "code",
   "execution_count": null,
   "metadata": {
    "collapsed": true
   },
   "outputs": [],
   "source": []
  },
  {
   "cell_type": "code",
   "execution_count": 81,
   "metadata": {
    "collapsed": false
   },
   "outputs": [],
   "source": [
    "import json\n",
    "import numpy as np\n",
    "import graphlab as gl\n",
    "import pandas as pd\n",
    "import matplotlib.pyplot as plt\n",
    "%matplotlib inline"
   ]
  },
  {
   "cell_type": "markdown",
   "metadata": {},
   "source": [
    "## Load in user-item-rating data..."
   ]
  },
  {
   "cell_type": "code",
   "execution_count": 82,
   "metadata": {
    "collapsed": false
   },
   "outputs": [],
   "source": [
    "# create Pandas DF with data pulled from Postgres (restaurant only reviews)\n",
    "df = pd.read_csv('data_analysis/user_reviews.csv', header=None,\n",
    "                 names=['user_id', 'business_id', 'bus_name', 'stars', 'locale'])"
   ]
  },
  {
   "cell_type": "code",
   "execution_count": 83,
   "metadata": {
    "collapsed": false,
    "scrolled": true
   },
   "outputs": [
    {
     "data": {
      "text/html": [
       "<div>\n",
       "<table border=\"1\" class=\"dataframe\">\n",
       "  <thead>\n",
       "    <tr style=\"text-align: right;\">\n",
       "      <th></th>\n",
       "      <th>user_id</th>\n",
       "      <th>business_id</th>\n",
       "      <th>bus_name</th>\n",
       "      <th>stars</th>\n",
       "      <th>locale</th>\n",
       "    </tr>\n",
       "  </thead>\n",
       "  <tbody>\n",
       "    <tr>\n",
       "      <th>0</th>\n",
       "      <td>Ouus3lC3Xk3YRGx4ptd_4A</td>\n",
       "      <td>DW6SI2KxcfXBHeo9jEr4lQ</td>\n",
       "      <td>Pyramid Cafe</td>\n",
       "      <td>2</td>\n",
       "      <td>Las Vegas, NV</td>\n",
       "    </tr>\n",
       "    <tr>\n",
       "      <th>1</th>\n",
       "      <td>dz_sBsL69aWzsxksT2O_Mg</td>\n",
       "      <td>DW6SI2KxcfXBHeo9jEr4lQ</td>\n",
       "      <td>Pyramid Cafe</td>\n",
       "      <td>2</td>\n",
       "      <td>Las Vegas, NV</td>\n",
       "    </tr>\n",
       "    <tr>\n",
       "      <th>2</th>\n",
       "      <td>zyI-u0C1YOzp5v1j2wuCOQ</td>\n",
       "      <td>DW6SI2KxcfXBHeo9jEr4lQ</td>\n",
       "      <td>Pyramid Cafe</td>\n",
       "      <td>3</td>\n",
       "      <td>Las Vegas, NV</td>\n",
       "    </tr>\n",
       "    <tr>\n",
       "      <th>3</th>\n",
       "      <td>vyfsQo-estP8EfiIFMsL6g</td>\n",
       "      <td>DW6SI2KxcfXBHeo9jEr4lQ</td>\n",
       "      <td>Pyramid Cafe</td>\n",
       "      <td>3</td>\n",
       "      <td>Las Vegas, NV</td>\n",
       "    </tr>\n",
       "    <tr>\n",
       "      <th>4</th>\n",
       "      <td>lxZSVeJz6KEBW1nlA3JKJg</td>\n",
       "      <td>DW6SI2KxcfXBHeo9jEr4lQ</td>\n",
       "      <td>Pyramid Cafe</td>\n",
       "      <td>1</td>\n",
       "      <td>Las Vegas, NV</td>\n",
       "    </tr>\n",
       "  </tbody>\n",
       "</table>\n",
       "</div>"
      ],
      "text/plain": [
       "                  user_id             business_id      bus_name  stars  \\\n",
       "0  Ouus3lC3Xk3YRGx4ptd_4A  DW6SI2KxcfXBHeo9jEr4lQ  Pyramid Cafe      2   \n",
       "1  dz_sBsL69aWzsxksT2O_Mg  DW6SI2KxcfXBHeo9jEr4lQ  Pyramid Cafe      2   \n",
       "2  zyI-u0C1YOzp5v1j2wuCOQ  DW6SI2KxcfXBHeo9jEr4lQ  Pyramid Cafe      3   \n",
       "3  vyfsQo-estP8EfiIFMsL6g  DW6SI2KxcfXBHeo9jEr4lQ  Pyramid Cafe      3   \n",
       "4  lxZSVeJz6KEBW1nlA3JKJg  DW6SI2KxcfXBHeo9jEr4lQ  Pyramid Cafe      1   \n",
       "\n",
       "          locale  \n",
       "0  Las Vegas, NV  \n",
       "1  Las Vegas, NV  \n",
       "2  Las Vegas, NV  \n",
       "3  Las Vegas, NV  \n",
       "4  Las Vegas, NV  "
      ]
     },
     "execution_count": 83,
     "metadata": {},
     "output_type": "execute_result"
    }
   ],
   "source": [
    "df.head()"
   ]
  },
  {
   "cell_type": "code",
   "execution_count": 87,
   "metadata": {
    "collapsed": false
   },
   "outputs": [
    {
     "name": "stdout",
     "output_type": "stream",
     "text": [
      "<class 'pandas.core.frame.DataFrame'>\n",
      "RangeIndex: 1363242 entries, 0 to 1363241\n",
      "Data columns (total 5 columns):\n",
      "user_id        1363242 non-null object\n",
      "business_id    1363242 non-null object\n",
      "bus_name       1363242 non-null object\n",
      "stars          1363242 non-null int64\n",
      "locale         1363242 non-null object\n",
      "dtypes: int64(1), object(4)\n",
      "memory usage: 52.0+ MB\n"
     ]
    }
   ],
   "source": [
    "df.info()"
   ]
  },
  {
   "cell_type": "code",
   "execution_count": 84,
   "metadata": {
    "collapsed": false
   },
   "outputs": [],
   "source": [
    "# store the observation data in Graphlab's SFrame type\n",
    "sf_obs = gl.SFrame(df[['user_id', 'business_id', 'stars']])"
   ]
  },
  {
   "cell_type": "code",
   "execution_count": 85,
   "metadata": {
    "collapsed": false
   },
   "outputs": [
    {
     "data": {
      "text/html": [
       "<div style=\"max-height:1000px;max-width:1500px;overflow:auto;\"><table frame=\"box\" rules=\"cols\">\n",
       "    <tr>\n",
       "        <th style=\"padding-left: 1em; padding-right: 1em; text-align: center\">user_id</th>\n",
       "        <th style=\"padding-left: 1em; padding-right: 1em; text-align: center\">business_id</th>\n",
       "        <th style=\"padding-left: 1em; padding-right: 1em; text-align: center\">stars</th>\n",
       "    </tr>\n",
       "    <tr>\n",
       "        <td style=\"padding-left: 1em; padding-right: 1em; text-align: center; vertical-align: top\">Ouus3lC3Xk3YRGx4ptd_4A</td>\n",
       "        <td style=\"padding-left: 1em; padding-right: 1em; text-align: center; vertical-align: top\">DW6SI2KxcfXBHeo9jEr4lQ</td>\n",
       "        <td style=\"padding-left: 1em; padding-right: 1em; text-align: center; vertical-align: top\">2</td>\n",
       "    </tr>\n",
       "    <tr>\n",
       "        <td style=\"padding-left: 1em; padding-right: 1em; text-align: center; vertical-align: top\">dz_sBsL69aWzsxksT2O_Mg</td>\n",
       "        <td style=\"padding-left: 1em; padding-right: 1em; text-align: center; vertical-align: top\">DW6SI2KxcfXBHeo9jEr4lQ</td>\n",
       "        <td style=\"padding-left: 1em; padding-right: 1em; text-align: center; vertical-align: top\">2</td>\n",
       "    </tr>\n",
       "    <tr>\n",
       "        <td style=\"padding-left: 1em; padding-right: 1em; text-align: center; vertical-align: top\">zyI-u0C1YOzp5v1j2wuCOQ</td>\n",
       "        <td style=\"padding-left: 1em; padding-right: 1em; text-align: center; vertical-align: top\">DW6SI2KxcfXBHeo9jEr4lQ</td>\n",
       "        <td style=\"padding-left: 1em; padding-right: 1em; text-align: center; vertical-align: top\">3</td>\n",
       "    </tr>\n",
       "    <tr>\n",
       "        <td style=\"padding-left: 1em; padding-right: 1em; text-align: center; vertical-align: top\">vyfsQo-estP8EfiIFMsL6g</td>\n",
       "        <td style=\"padding-left: 1em; padding-right: 1em; text-align: center; vertical-align: top\">DW6SI2KxcfXBHeo9jEr4lQ</td>\n",
       "        <td style=\"padding-left: 1em; padding-right: 1em; text-align: center; vertical-align: top\">3</td>\n",
       "    </tr>\n",
       "    <tr>\n",
       "        <td style=\"padding-left: 1em; padding-right: 1em; text-align: center; vertical-align: top\">lxZSVeJz6KEBW1nlA3JKJg</td>\n",
       "        <td style=\"padding-left: 1em; padding-right: 1em; text-align: center; vertical-align: top\">DW6SI2KxcfXBHeo9jEr4lQ</td>\n",
       "        <td style=\"padding-left: 1em; padding-right: 1em; text-align: center; vertical-align: top\">1</td>\n",
       "    </tr>\n",
       "    <tr>\n",
       "        <td style=\"padding-left: 1em; padding-right: 1em; text-align: center; vertical-align: top\">CbMCOeeHVeafcD-6-CJrPg</td>\n",
       "        <td style=\"padding-left: 1em; padding-right: 1em; text-align: center; vertical-align: top\">DW6SI2KxcfXBHeo9jEr4lQ</td>\n",
       "        <td style=\"padding-left: 1em; padding-right: 1em; text-align: center; vertical-align: top\">4</td>\n",
       "    </tr>\n",
       "    <tr>\n",
       "        <td style=\"padding-left: 1em; padding-right: 1em; text-align: center; vertical-align: top\">Z8DyUMojRhFbLyHBymM_rA</td>\n",
       "        <td style=\"padding-left: 1em; padding-right: 1em; text-align: center; vertical-align: top\">DW6SI2KxcfXBHeo9jEr4lQ</td>\n",
       "        <td style=\"padding-left: 1em; padding-right: 1em; text-align: center; vertical-align: top\">2</td>\n",
       "    </tr>\n",
       "    <tr>\n",
       "        <td style=\"padding-left: 1em; padding-right: 1em; text-align: center; vertical-align: top\">sXWvDlMQspjJ1zzr3cEM7Q</td>\n",
       "        <td style=\"padding-left: 1em; padding-right: 1em; text-align: center; vertical-align: top\">DW6SI2KxcfXBHeo9jEr4lQ</td>\n",
       "        <td style=\"padding-left: 1em; padding-right: 1em; text-align: center; vertical-align: top\">2</td>\n",
       "    </tr>\n",
       "    <tr>\n",
       "        <td style=\"padding-left: 1em; padding-right: 1em; text-align: center; vertical-align: top\">G8RaaiVzbyRvsBmoUx0VeA</td>\n",
       "        <td style=\"padding-left: 1em; padding-right: 1em; text-align: center; vertical-align: top\">DW6SI2KxcfXBHeo9jEr4lQ</td>\n",
       "        <td style=\"padding-left: 1em; padding-right: 1em; text-align: center; vertical-align: top\">1</td>\n",
       "    </tr>\n",
       "    <tr>\n",
       "        <td style=\"padding-left: 1em; padding-right: 1em; text-align: center; vertical-align: top\">f0isFKnJVZVmpdCPNd8Gfw</td>\n",
       "        <td style=\"padding-left: 1em; padding-right: 1em; text-align: center; vertical-align: top\">DW6SI2KxcfXBHeo9jEr4lQ</td>\n",
       "        <td style=\"padding-left: 1em; padding-right: 1em; text-align: center; vertical-align: top\">1</td>\n",
       "    </tr>\n",
       "</table>\n",
       "[10 rows x 3 columns]<br/>\n",
       "</div>"
      ],
      "text/plain": [
       "Columns:\n",
       "\tuser_id\tstr\n",
       "\tbusiness_id\tstr\n",
       "\tstars\tint\n",
       "\n",
       "Rows: 10\n",
       "\n",
       "Data:\n",
       "+------------------------+------------------------+-------+\n",
       "|        user_id         |      business_id       | stars |\n",
       "+------------------------+------------------------+-------+\n",
       "| Ouus3lC3Xk3YRGx4ptd_4A | DW6SI2KxcfXBHeo9jEr4lQ |   2   |\n",
       "| dz_sBsL69aWzsxksT2O_Mg | DW6SI2KxcfXBHeo9jEr4lQ |   2   |\n",
       "| zyI-u0C1YOzp5v1j2wuCOQ | DW6SI2KxcfXBHeo9jEr4lQ |   3   |\n",
       "| vyfsQo-estP8EfiIFMsL6g | DW6SI2KxcfXBHeo9jEr4lQ |   3   |\n",
       "| lxZSVeJz6KEBW1nlA3JKJg | DW6SI2KxcfXBHeo9jEr4lQ |   1   |\n",
       "| CbMCOeeHVeafcD-6-CJrPg | DW6SI2KxcfXBHeo9jEr4lQ |   4   |\n",
       "| Z8DyUMojRhFbLyHBymM_rA | DW6SI2KxcfXBHeo9jEr4lQ |   2   |\n",
       "| sXWvDlMQspjJ1zzr3cEM7Q | DW6SI2KxcfXBHeo9jEr4lQ |   2   |\n",
       "| G8RaaiVzbyRvsBmoUx0VeA | DW6SI2KxcfXBHeo9jEr4lQ |   1   |\n",
       "| f0isFKnJVZVmpdCPNd8Gfw | DW6SI2KxcfXBHeo9jEr4lQ |   1   |\n",
       "+------------------------+------------------------+-------+\n",
       "[10 rows x 3 columns]"
      ]
     },
     "execution_count": 85,
     "metadata": {},
     "output_type": "execute_result"
    }
   ],
   "source": [
    "sf_obs.head()"
   ]
  },
  {
   "cell_type": "markdown",
   "metadata": {},
   "source": [
    "# Quick EDA"
   ]
  },
  {
   "cell_type": "markdown",
   "metadata": {},
   "source": [
    "## Group reviews by users..."
   ]
  },
  {
   "cell_type": "code",
   "execution_count": 77,
   "metadata": {
    "collapsed": false
   },
   "outputs": [
    {
     "data": {
      "text/plain": [
       "dtype: int\n",
       "Rows: 10\n",
       "[817, 782, 754, 666, 665, 655, 611, 601, 563, 525]"
      ]
     },
     "execution_count": 77,
     "metadata": {},
     "output_type": "execute_result"
    }
   ],
   "source": [
    "# number of reviews by user (388k distinct users)\n",
    "reviews_by_user = sf_obs.groupby('user_id', [gl.aggregate.COUNT()]).sort('Count', ascending=False)['Count']\n",
    "reviews_by_user[0:10]"
   ]
  },
  {
   "cell_type": "code",
   "execution_count": 95,
   "metadata": {
    "collapsed": false
   },
   "outputs": [
    {
     "data": {
      "text/plain": [
       "<matplotlib.text.Text at 0x12afed350>"
      ]
     },
     "execution_count": 95,
     "metadata": {},
     "output_type": "execute_result"
    },
    {
     "data": {
      "image/png": "[encoded data removed]",
      "text/plain": [
       "<matplotlib.figure.Figure at 0x12af28b90>"
      ]
     },
     "metadata": {},
     "output_type": "display_data"
    }
   ],
   "source": [
    "plt.figure(figsize=(15,10))\n",
    "plt.semilogx(reviews_by_user, '.');\n",
    "plt.grid()\n",
    "plt.xlabel('user number')\n",
    "plt.ylabel('number of reviews')\n",
    "plt.title('Plot of number of reviews, by user')"
   ]
  },
  {
   "cell_type": "code",
   "execution_count": 62,
   "metadata": {
    "collapsed": false
   },
   "outputs": [
    {
     "data": {
      "text/plain": [
       "<matplotlib.text.Text at 0x15d5cc550>"
      ]
     },
     "execution_count": 62,
     "metadata": {},
     "output_type": "execute_result"
    },
    {
     "data": {
      "image/png": "[encoded data removed]",
      "text/plain": [
       "<matplotlib.figure.Figure at 0x15d145dd0>"
      ]
     },
     "metadata": {},
     "output_type": "display_data"
    }
   ],
   "source": [
    "plt.loglog(reviews_by_user, '.');\n",
    "plt.grid()\n",
    "plt.xlabel('user number')\n",
    "plt.ylabel('number of reviews')\n",
    "plt.title('Log-Log plot of number of reviews, by user')"
   ]
  },
  {
   "cell_type": "code",
   "execution_count": 98,
   "metadata": {
    "collapsed": false,
    "scrolled": false
   },
   "outputs": [
    {
     "data": {
      "text/plain": [
       "<matplotlib.text.Text at 0x17f757210>"
      ]
     },
     "execution_count": 98,
     "metadata": {},
     "output_type": "execute_result"
    },
    {
     "data": {
      "image/png": "[encoded data removed]",
      "text/plain": [
       "<matplotlib.figure.Figure at 0x17a6cd7d0>"
      ]
     },
     "metadata": {},
     "output_type": "display_data"
    }
   ],
   "source": [
    "plt.figure(figsize=(15,10))\n",
    "plt.hist(reviews_by_user, bins=100, log=True, cumulative=False);\n",
    "plt.grid()\n",
    "plt.xlabel('number of reviews')\n",
    "plt.ylabel('count of users')\n",
    "plt.title('(log) Histogram of number of reviews, by users')"
   ]
  },
  {
   "cell_type": "markdown",
   "metadata": {},
   "source": [
    "## Group reviews by restaurants..."
   ]
  },
  {
   "cell_type": "code",
   "execution_count": 78,
   "metadata": {
    "collapsed": false
   },
   "outputs": [
    {
     "data": {
      "text/plain": [
       "dtype: int\n",
       "Rows: 10\n",
       "[5042, 3958, 3896, 3788, 3405, 3086, 2876, 2704, 2589, 2576]"
      ]
     },
     "execution_count": 78,
     "metadata": {},
     "output_type": "execute_result"
    }
   ],
   "source": [
    "# number of reviews by restaurant (25k distinct restaurants)\n",
    "reviews_by_biz = sf_obs.groupby('business_id', [gl.aggregate.COUNT()]).sort('Count', ascending=False)['Count']\n",
    "reviews_by_biz[0:10]"
   ]
  },
  {
   "cell_type": "code",
   "execution_count": 57,
   "metadata": {
    "collapsed": false
   },
   "outputs": [
    {
     "data": {
      "text/plain": [
       "<matplotlib.text.Text at 0x16a098d90>"
      ]
     },
     "execution_count": 57,
     "metadata": {},
     "output_type": "execute_result"
    },
    {
     "data": {
      "image/png": "[encoded data removed]",
      "text/plain": [
       "<matplotlib.figure.Figure at 0x15d854d10>"
      ]
     },
     "metadata": {},
     "output_type": "display_data"
    }
   ],
   "source": [
    "plt.semilogx(reviews_by_biz, '.');\n",
    "plt.grid()\n",
    "plt.xlabel('biz number')\n",
    "plt.ylabel('number of reviews')\n",
    "plt.title('Plot of number of reviews, by business')"
   ]
  },
  {
   "cell_type": "code",
   "execution_count": 63,
   "metadata": {
    "collapsed": false
   },
   "outputs": [
    {
     "data": {
      "text/plain": [
       "<matplotlib.text.Text at 0x1692ee090>"
      ]
     },
     "execution_count": 63,
     "metadata": {},
     "output_type": "execute_result"
    },
    {
     "data": {
      "image/png": "[encoded data removed]",
      "text/plain": [
       "<matplotlib.figure.Figure at 0x1691cb350>"
      ]
     },
     "metadata": {},
     "output_type": "display_data"
    }
   ],
   "source": [
    "plt.loglog(reviews_by_biz, '.');\n",
    "plt.grid()\n",
    "plt.xlabel('biz number')\n",
    "plt.ylabel('number of reviews')\n",
    "plt.title('Log-Log plot of number of reviews, by business')"
   ]
  },
  {
   "cell_type": "code",
   "execution_count": 67,
   "metadata": {
    "collapsed": false,
    "scrolled": false
   },
   "outputs": [
    {
     "data": {
      "text/plain": [
       "<matplotlib.text.Text at 0x170d95ad0>"
      ]
     },
     "execution_count": 67,
     "metadata": {},
     "output_type": "execute_result"
    },
    {
     "data": {
      "image/png": "[encoded data removed]",
      "text/plain": [
       "<matplotlib.figure.Figure at 0x16a643510>"
      ]
     },
     "metadata": {},
     "output_type": "display_data"
    }
   ],
   "source": [
    "plt.hist(reviews_by_biz, bins=50, log=True);\n",
    "plt.grid()\n",
    "plt.autoscale(tight=True)\n",
    "plt.xlabel('number of reviews')\n",
    "plt.ylabel('count of biz')\n",
    "plt.title('(log) Histogram of number of reviews, by business')"
   ]
  },
  {
   "cell_type": "code",
   "execution_count": 79,
   "metadata": {
    "collapsed": false
   },
   "outputs": [
    {
     "data": {
      "text/plain": [
       "1"
      ]
     },
     "execution_count": 79,
     "metadata": {},
     "output_type": "execute_result"
    }
   ],
   "source": []
  },
  {
   "cell_type": "code",
   "execution_count": null,
   "metadata": {
    "collapsed": true
   },
   "outputs": [],
   "source": []
  },
  {
   "cell_type": "code",
   "execution_count": null,
   "metadata": {
    "collapsed": true
   },
   "outputs": [],
   "source": []
  },
  {
   "cell_type": "markdown",
   "metadata": {},
   "source": [
    "## Load in business.json file as 'item_data', for side data factorization..."
   ]
  },
  {
   "cell_type": "code",
   "execution_count": 12,
   "metadata": {
    "collapsed": true
   },
   "outputs": [],
   "source": [
    "# create Pandas DF from json business data\n",
    "fname_test = 'data_analysis/test_data/test100_business.json'\n",
    "fname_full = '../data/Yelp/yelp_dataset_challenge_academic_dataset/yelp_academic_dataset_business.json'\n",
    "# 'data_analysis/full_data/yelp_academic_dataset_business.json'"
   ]
  },
  {
   "cell_type": "code",
   "execution_count": 13,
   "metadata": {
    "collapsed": false
   },
   "outputs": [],
   "source": [
    "fname = fname_full\n",
    "with open(fname) as js_file:\n",
    "    js_list = [json.loads(js_line) for js_line in js_file]\n",
    "    js_list_filtered = [js for js in js_list if 'Restaurants' in js['categories']]\n",
    "    dfb = pd.DataFrame(js_list_filtered)"
   ]
  },
  {
   "cell_type": "code",
   "execution_count": 14,
   "metadata": {
    "collapsed": false
   },
   "outputs": [
    {
     "name": "stdout",
     "output_type": "stream",
     "text": [
      "77445 = Orig business list size\n",
      "25071 = Restaurant list size\n"
     ]
    }
   ],
   "source": [
    "print '{} = Orig business list size'.format(len(js_list))\n",
    "print '{} = Restaurant list size'.format(len(js_list_filtered))"
   ]
  },
  {
   "cell_type": "code",
   "execution_count": 15,
   "metadata": {
    "collapsed": false,
    "scrolled": true
   },
   "outputs": [
    {
     "data": {
      "text/html": [
       "<div>\n",
       "<table border=\"1\" class=\"dataframe\">\n",
       "  <thead>\n",
       "    <tr style=\"text-align: right;\">\n",
       "      <th></th>\n",
       "      <th>attributes</th>\n",
       "      <th>business_id</th>\n",
       "      <th>categories</th>\n",
       "      <th>city</th>\n",
       "      <th>full_address</th>\n",
       "      <th>hours</th>\n",
       "      <th>latitude</th>\n",
       "      <th>longitude</th>\n",
       "      <th>name</th>\n",
       "      <th>neighborhoods</th>\n",
       "      <th>open</th>\n",
       "      <th>review_count</th>\n",
       "      <th>stars</th>\n",
       "      <th>state</th>\n",
       "      <th>type</th>\n",
       "    </tr>\n",
       "  </thead>\n",
       "  <tbody>\n",
       "    <tr>\n",
       "      <th>0</th>\n",
       "      <td>{u'Take-out': True, u'Drive-Thru': False, u'Ou...</td>\n",
       "      <td>5UmKMjUEUNdYWqANhGckJw</td>\n",
       "      <td>[Fast Food, Restaurants]</td>\n",
       "      <td>Dravosburg</td>\n",
       "      <td>4734 Lebanon Church Rd\\nDravosburg, PA 15034</td>\n",
       "      <td>{u'Tuesday': {u'close': u'21:00', u'open': u'1...</td>\n",
       "      <td>40.354327</td>\n",
       "      <td>-79.900706</td>\n",
       "      <td>Mr Hoagie</td>\n",
       "      <td>[]</td>\n",
       "      <td>True</td>\n",
       "      <td>4</td>\n",
       "      <td>4.5</td>\n",
       "      <td>PA</td>\n",
       "      <td>business</td>\n",
       "    </tr>\n",
       "    <tr>\n",
       "      <th>1</th>\n",
       "      <td>{u'Alcohol': u'full_bar', u'Noise Level': u'av...</td>\n",
       "      <td>mVHrayjG3uZ_RLHkLj-AMg</td>\n",
       "      <td>[Bars, American (New), Nightlife, Lounges, Res...</td>\n",
       "      <td>rankin</td>\n",
       "      <td>414 Hawkins Ave\\nrankin, PA 15104</td>\n",
       "      <td>{u'Tuesday': {u'close': u'19:00', u'open': u'1...</td>\n",
       "      <td>40.413464</td>\n",
       "      <td>-79.880247</td>\n",
       "      <td>Emil's Lounge</td>\n",
       "      <td>[]</td>\n",
       "      <td>True</td>\n",
       "      <td>20</td>\n",
       "      <td>5.0</td>\n",
       "      <td>PA</td>\n",
       "      <td>business</td>\n",
       "    </tr>\n",
       "    <tr>\n",
       "      <th>2</th>\n",
       "      <td>{u'Alcohol': u'full_bar', u'Noise Level': u'lo...</td>\n",
       "      <td>KayYbHCt-RkbGcPdGOThNg</td>\n",
       "      <td>[Bars, American (Traditional), Nightlife, Rest...</td>\n",
       "      <td>Carnegie</td>\n",
       "      <td>141 Hawthorne St\\nGreentree\\nCarnegie, PA 15106</td>\n",
       "      <td>{u'Monday': {u'close': u'02:00', u'open': u'11...</td>\n",
       "      <td>40.415517</td>\n",
       "      <td>-80.067534</td>\n",
       "      <td>Alexion's Bar &amp; Grill</td>\n",
       "      <td>[Greentree]</td>\n",
       "      <td>True</td>\n",
       "      <td>21</td>\n",
       "      <td>4.0</td>\n",
       "      <td>PA</td>\n",
       "      <td>business</td>\n",
       "    </tr>\n",
       "  </tbody>\n",
       "</table>\n",
       "</div>"
      ],
      "text/plain": [
       "                                          attributes             business_id  \\\n",
       "0  {u'Take-out': True, u'Drive-Thru': False, u'Ou...  5UmKMjUEUNdYWqANhGckJw   \n",
       "1  {u'Alcohol': u'full_bar', u'Noise Level': u'av...  mVHrayjG3uZ_RLHkLj-AMg   \n",
       "2  {u'Alcohol': u'full_bar', u'Noise Level': u'lo...  KayYbHCt-RkbGcPdGOThNg   \n",
       "\n",
       "                                          categories        city  \\\n",
       "0                           [Fast Food, Restaurants]  Dravosburg   \n",
       "1  [Bars, American (New), Nightlife, Lounges, Res...      rankin   \n",
       "2  [Bars, American (Traditional), Nightlife, Rest...    Carnegie   \n",
       "\n",
       "                                      full_address  \\\n",
       "0     4734 Lebanon Church Rd\\nDravosburg, PA 15034   \n",
       "1                414 Hawkins Ave\\nrankin, PA 15104   \n",
       "2  141 Hawthorne St\\nGreentree\\nCarnegie, PA 15106   \n",
       "\n",
       "                                               hours   latitude  longitude  \\\n",
       "0  {u'Tuesday': {u'close': u'21:00', u'open': u'1...  40.354327 -79.900706   \n",
       "1  {u'Tuesday': {u'close': u'19:00', u'open': u'1...  40.413464 -79.880247   \n",
       "2  {u'Monday': {u'close': u'02:00', u'open': u'11...  40.415517 -80.067534   \n",
       "\n",
       "                    name neighborhoods  open  review_count  stars state  \\\n",
       "0              Mr Hoagie            []  True             4    4.5    PA   \n",
       "1          Emil's Lounge            []  True            20    5.0    PA   \n",
       "2  Alexion's Bar & Grill   [Greentree]  True            21    4.0    PA   \n",
       "\n",
       "       type  \n",
       "0  business  \n",
       "1  business  \n",
       "2  business  "
      ]
     },
     "execution_count": 15,
     "metadata": {},
     "output_type": "execute_result"
    }
   ],
   "source": [
    "dfb.head(3)"
   ]
  },
  {
   "cell_type": "code",
   "execution_count": 16,
   "metadata": {
    "collapsed": false
   },
   "outputs": [
    {
     "data": {
      "text/html": [
       "<div>\n",
       "<table border=\"1\" class=\"dataframe\">\n",
       "  <thead>\n",
       "    <tr style=\"text-align: right;\">\n",
       "      <th></th>\n",
       "      <th>business_id</th>\n",
       "      <th>name</th>\n",
       "    </tr>\n",
       "  </thead>\n",
       "  <tbody>\n",
       "    <tr>\n",
       "      <th>0</th>\n",
       "      <td>5UmKMjUEUNdYWqANhGckJw</td>\n",
       "      <td>Mr Hoagie</td>\n",
       "    </tr>\n",
       "    <tr>\n",
       "      <th>1</th>\n",
       "      <td>mVHrayjG3uZ_RLHkLj-AMg</td>\n",
       "      <td>Emil's Lounge</td>\n",
       "    </tr>\n",
       "    <tr>\n",
       "      <th>2</th>\n",
       "      <td>KayYbHCt-RkbGcPdGOThNg</td>\n",
       "      <td>Alexion's Bar &amp; Grill</td>\n",
       "    </tr>\n",
       "    <tr>\n",
       "      <th>3</th>\n",
       "      <td>wJr6kSA5dchdgOdwH6dZ2w</td>\n",
       "      <td>Kings Family Restaurant</td>\n",
       "    </tr>\n",
       "    <tr>\n",
       "      <th>4</th>\n",
       "      <td>fNGIbpazjTRdXgwRY_NIXA</td>\n",
       "      <td>Rocky's Lounge</td>\n",
       "    </tr>\n",
       "  </tbody>\n",
       "</table>\n",
       "</div>"
      ],
      "text/plain": [
       "              business_id                     name\n",
       "0  5UmKMjUEUNdYWqANhGckJw                Mr Hoagie\n",
       "1  mVHrayjG3uZ_RLHkLj-AMg            Emil's Lounge\n",
       "2  KayYbHCt-RkbGcPdGOThNg    Alexion's Bar & Grill\n",
       "3  wJr6kSA5dchdgOdwH6dZ2w  Kings Family Restaurant\n",
       "4  fNGIbpazjTRdXgwRY_NIXA           Rocky's Lounge"
      ]
     },
     "execution_count": 16,
     "metadata": {},
     "output_type": "execute_result"
    }
   ],
   "source": [
    "# quick peek at business_id and name\n",
    "dfb[['business_id', 'name']].head()"
   ]
  },
  {
   "cell_type": "markdown",
   "metadata": {},
   "source": [
    "### Handle the 'attribute' field\n",
    "\n",
    "which contains nested json fields..."
   ]
  },
  {
   "cell_type": "code",
   "execution_count": 17,
   "metadata": {
    "collapsed": false
   },
   "outputs": [
    {
     "data": {
      "text/html": [
       "<div>\n",
       "<table border=\"1\" class=\"dataframe\">\n",
       "  <thead>\n",
       "    <tr style=\"text-align: right;\">\n",
       "      <th></th>\n",
       "      <th>Attributes.Accepts Credit Cards</th>\n",
       "      <th>Attributes.Accepts Insurance</th>\n",
       "      <th>Attributes.Ages Allowed</th>\n",
       "      <th>Attributes.Alcohol</th>\n",
       "      <th>Attributes.Ambience.casual</th>\n",
       "      <th>Attributes.Ambience.classy</th>\n",
       "      <th>Attributes.Ambience.divey</th>\n",
       "      <th>Attributes.Ambience.hipster</th>\n",
       "      <th>Attributes.Ambience.intimate</th>\n",
       "      <th>Attributes.Ambience.romantic</th>\n",
       "      <th>...</th>\n",
       "      <th>Attributes.Parking.street</th>\n",
       "      <th>Attributes.Parking.valet</th>\n",
       "      <th>Attributes.Parking.validated</th>\n",
       "      <th>Attributes.Price Range</th>\n",
       "      <th>Attributes.Smoking</th>\n",
       "      <th>Attributes.Take-out</th>\n",
       "      <th>Attributes.Takes Reservations</th>\n",
       "      <th>Attributes.Waiter Service</th>\n",
       "      <th>Attributes.Wheelchair Accessible</th>\n",
       "      <th>Attributes.Wi-Fi</th>\n",
       "    </tr>\n",
       "  </thead>\n",
       "  <tbody>\n",
       "    <tr>\n",
       "      <th>0</th>\n",
       "      <td>True</td>\n",
       "      <td>NaN</td>\n",
       "      <td>NaN</td>\n",
       "      <td>none</td>\n",
       "      <td>False</td>\n",
       "      <td>False</td>\n",
       "      <td>False</td>\n",
       "      <td>False</td>\n",
       "      <td>False</td>\n",
       "      <td>False</td>\n",
       "      <td>...</td>\n",
       "      <td>False</td>\n",
       "      <td>False</td>\n",
       "      <td>False</td>\n",
       "      <td>1.0</td>\n",
       "      <td>NaN</td>\n",
       "      <td>True</td>\n",
       "      <td>False</td>\n",
       "      <td>False</td>\n",
       "      <td>NaN</td>\n",
       "      <td>NaN</td>\n",
       "    </tr>\n",
       "    <tr>\n",
       "      <th>1</th>\n",
       "      <td>True</td>\n",
       "      <td>NaN</td>\n",
       "      <td>NaN</td>\n",
       "      <td>full_bar</td>\n",
       "      <td>False</td>\n",
       "      <td>False</td>\n",
       "      <td>False</td>\n",
       "      <td>False</td>\n",
       "      <td>False</td>\n",
       "      <td>False</td>\n",
       "      <td>...</td>\n",
       "      <td>False</td>\n",
       "      <td>False</td>\n",
       "      <td>False</td>\n",
       "      <td>1.0</td>\n",
       "      <td>no</td>\n",
       "      <td>True</td>\n",
       "      <td>False</td>\n",
       "      <td>True</td>\n",
       "      <td>NaN</td>\n",
       "      <td>no</td>\n",
       "    </tr>\n",
       "    <tr>\n",
       "      <th>2</th>\n",
       "      <td>True</td>\n",
       "      <td>NaN</td>\n",
       "      <td>NaN</td>\n",
       "      <td>full_bar</td>\n",
       "      <td>True</td>\n",
       "      <td>False</td>\n",
       "      <td>False</td>\n",
       "      <td>False</td>\n",
       "      <td>False</td>\n",
       "      <td>False</td>\n",
       "      <td>...</td>\n",
       "      <td>False</td>\n",
       "      <td>False</td>\n",
       "      <td>False</td>\n",
       "      <td>1.0</td>\n",
       "      <td>outdoor</td>\n",
       "      <td>True</td>\n",
       "      <td>False</td>\n",
       "      <td>True</td>\n",
       "      <td>NaN</td>\n",
       "      <td>free</td>\n",
       "    </tr>\n",
       "    <tr>\n",
       "      <th>3</th>\n",
       "      <td>True</td>\n",
       "      <td>NaN</td>\n",
       "      <td>NaN</td>\n",
       "      <td>none</td>\n",
       "      <td>NaN</td>\n",
       "      <td>NaN</td>\n",
       "      <td>NaN</td>\n",
       "      <td>NaN</td>\n",
       "      <td>NaN</td>\n",
       "      <td>NaN</td>\n",
       "      <td>...</td>\n",
       "      <td>False</td>\n",
       "      <td>False</td>\n",
       "      <td>False</td>\n",
       "      <td>1.0</td>\n",
       "      <td>NaN</td>\n",
       "      <td>True</td>\n",
       "      <td>False</td>\n",
       "      <td>True</td>\n",
       "      <td>True</td>\n",
       "      <td>NaN</td>\n",
       "    </tr>\n",
       "    <tr>\n",
       "      <th>4</th>\n",
       "      <td>True</td>\n",
       "      <td>NaN</td>\n",
       "      <td>NaN</td>\n",
       "      <td>full_bar</td>\n",
       "      <td>False</td>\n",
       "      <td>False</td>\n",
       "      <td>False</td>\n",
       "      <td>False</td>\n",
       "      <td>False</td>\n",
       "      <td>False</td>\n",
       "      <td>...</td>\n",
       "      <td>False</td>\n",
       "      <td>False</td>\n",
       "      <td>False</td>\n",
       "      <td>1.0</td>\n",
       "      <td>no</td>\n",
       "      <td>True</td>\n",
       "      <td>False</td>\n",
       "      <td>True</td>\n",
       "      <td>True</td>\n",
       "      <td>free</td>\n",
       "    </tr>\n",
       "  </tbody>\n",
       "</table>\n",
       "<p>5 rows × 63 columns</p>\n",
       "</div>"
      ],
      "text/plain": [
       "  Attributes.Accepts Credit Cards Attributes.Accepts Insurance  \\\n",
       "0                            True                          NaN   \n",
       "1                            True                          NaN   \n",
       "2                            True                          NaN   \n",
       "3                            True                          NaN   \n",
       "4                            True                          NaN   \n",
       "\n",
       "  Attributes.Ages Allowed Attributes.Alcohol Attributes.Ambience.casual  \\\n",
       "0                     NaN               none                      False   \n",
       "1                     NaN           full_bar                      False   \n",
       "2                     NaN           full_bar                       True   \n",
       "3                     NaN               none                        NaN   \n",
       "4                     NaN           full_bar                      False   \n",
       "\n",
       "  Attributes.Ambience.classy Attributes.Ambience.divey  \\\n",
       "0                      False                     False   \n",
       "1                      False                     False   \n",
       "2                      False                     False   \n",
       "3                        NaN                       NaN   \n",
       "4                      False                     False   \n",
       "\n",
       "  Attributes.Ambience.hipster Attributes.Ambience.intimate  \\\n",
       "0                       False                        False   \n",
       "1                       False                        False   \n",
       "2                       False                        False   \n",
       "3                         NaN                          NaN   \n",
       "4                       False                        False   \n",
       "\n",
       "  Attributes.Ambience.romantic       ...        Attributes.Parking.street  \\\n",
       "0                        False       ...                            False   \n",
       "1                        False       ...                            False   \n",
       "2                        False       ...                            False   \n",
       "3                          NaN       ...                            False   \n",
       "4                        False       ...                            False   \n",
       "\n",
       "  Attributes.Parking.valet Attributes.Parking.validated  \\\n",
       "0                    False                        False   \n",
       "1                    False                        False   \n",
       "2                    False                        False   \n",
       "3                    False                        False   \n",
       "4                    False                        False   \n",
       "\n",
       "  Attributes.Price Range Attributes.Smoking Attributes.Take-out  \\\n",
       "0                    1.0                NaN                True   \n",
       "1                    1.0                 no                True   \n",
       "2                    1.0            outdoor                True   \n",
       "3                    1.0                NaN                True   \n",
       "4                    1.0                 no                True   \n",
       "\n",
       "  Attributes.Takes Reservations Attributes.Waiter Service  \\\n",
       "0                         False                     False   \n",
       "1                         False                      True   \n",
       "2                         False                      True   \n",
       "3                         False                      True   \n",
       "4                         False                      True   \n",
       "\n",
       "  Attributes.Wheelchair Accessible Attributes.Wi-Fi  \n",
       "0                              NaN              NaN  \n",
       "1                              NaN               no  \n",
       "2                              NaN             free  \n",
       "3                             True              NaN  \n",
       "4                             True             free  \n",
       "\n",
       "[5 rows x 63 columns]"
      ]
     },
     "execution_count": 17,
     "metadata": {},
     "output_type": "execute_result"
    }
   ],
   "source": [
    "# handle the attribute field...\n",
    "df_att = pd.io.json.json_normalize(dfb['attributes'])\n",
    "df_att.columns = ['Attributes.'+col for col in df_att.columns]\n",
    "df_att.head()"
   ]
  },
  {
   "cell_type": "code",
   "execution_count": 18,
   "metadata": {
    "collapsed": false
   },
   "outputs": [
    {
     "name": "stdout",
     "output_type": "stream",
     "text": [
      "<class 'pandas.core.frame.DataFrame'>\n",
      "RangeIndex: 25071 entries, 0 to 25070\n",
      "Data columns (total 63 columns):\n",
      "Attributes.Accepts Credit Cards                23547 non-null object\n",
      "Attributes.Accepts Insurance                   2 non-null object\n",
      "Attributes.Ages Allowed                        27 non-null object\n",
      "Attributes.Alcohol                             20531 non-null object\n",
      "Attributes.Ambience.casual                     19136 non-null object\n",
      "Attributes.Ambience.classy                     19136 non-null object\n",
      "Attributes.Ambience.divey                      18548 non-null object\n",
      "Attributes.Ambience.hipster                    19012 non-null object\n",
      "Attributes.Ambience.intimate                   19136 non-null object\n",
      "Attributes.Ambience.romantic                   19136 non-null object\n",
      "Attributes.Ambience.touristy                   19136 non-null object\n",
      "Attributes.Ambience.trendy                     19136 non-null object\n",
      "Attributes.Ambience.upscale                    19029 non-null object\n",
      "Attributes.Attire                              22779 non-null object\n",
      "Attributes.BYOB                                831 non-null object\n",
      "Attributes.BYOB/Corkage                        1291 non-null object\n",
      "Attributes.By Appointment Only                 26 non-null object\n",
      "Attributes.Caters                              15398 non-null object\n",
      "Attributes.Coat Check                          2266 non-null object\n",
      "Attributes.Corkage                             619 non-null object\n",
      "Attributes.Delivery                            22325 non-null object\n",
      "Attributes.Dietary Restrictions.dairy-free     147 non-null object\n",
      "Attributes.Dietary Restrictions.gluten-free    147 non-null object\n",
      "Attributes.Dietary Restrictions.halal          147 non-null object\n",
      "Attributes.Dietary Restrictions.kosher         147 non-null object\n",
      "Attributes.Dietary Restrictions.soy-free       147 non-null object\n",
      "Attributes.Dietary Restrictions.vegan          147 non-null object\n",
      "Attributes.Dietary Restrictions.vegetarian     147 non-null object\n",
      "Attributes.Dogs Allowed                        2459 non-null object\n",
      "Attributes.Drive-Thru                          3302 non-null object\n",
      "Attributes.Good For Dancing                    2326 non-null object\n",
      "Attributes.Good For Groups                     23052 non-null object\n",
      "Attributes.Good For.breakfast                  21517 non-null object\n",
      "Attributes.Good For.brunch                     21456 non-null object\n",
      "Attributes.Good For.dessert                    21454 non-null object\n",
      "Attributes.Good For.dinner                     21509 non-null object\n",
      "Attributes.Good For.latenight                  21509 non-null object\n",
      "Attributes.Good For.lunch                      21509 non-null object\n",
      "Attributes.Good for Kids                       22801 non-null object\n",
      "Attributes.Happy Hour                          2383 non-null object\n",
      "Attributes.Has TV                              20216 non-null object\n",
      "Attributes.Music.background_music              861 non-null object\n",
      "Attributes.Music.dj                            1869 non-null object\n",
      "Attributes.Music.jukebox                       1281 non-null object\n",
      "Attributes.Music.karaoke                       873 non-null object\n",
      "Attributes.Music.live                          1267 non-null object\n",
      "Attributes.Music.video                         1173 non-null object\n",
      "Attributes.Noise Level                         19086 non-null object\n",
      "Attributes.Open 24 Hours                       241 non-null object\n",
      "Attributes.Order at Counter                    366 non-null object\n",
      "Attributes.Outdoor Seating                     22253 non-null object\n",
      "Attributes.Parking.garage                      20798 non-null object\n",
      "Attributes.Parking.lot                         20796 non-null object\n",
      "Attributes.Parking.street                      20796 non-null object\n",
      "Attributes.Parking.valet                       20796 non-null object\n",
      "Attributes.Parking.validated                   20597 non-null object\n",
      "Attributes.Price Range                         23404 non-null float64\n",
      "Attributes.Smoking                             2603 non-null object\n",
      "Attributes.Take-out                            22919 non-null object\n",
      "Attributes.Takes Reservations                  22370 non-null object\n",
      "Attributes.Waiter Service                      20769 non-null object\n",
      "Attributes.Wheelchair Accessible               11574 non-null object\n",
      "Attributes.Wi-Fi                               16983 non-null object\n",
      "dtypes: float64(1), object(62)\n",
      "memory usage: 12.1+ MB\n"
     ]
    }
   ],
   "source": [
    "df_att.info()"
   ]
  },
  {
   "cell_type": "markdown",
   "metadata": {},
   "source": [
    "Wow... lot of NaN / Null. How to handle this?"
   ]
  },
  {
   "cell_type": "markdown",
   "metadata": {},
   "source": [
    "### Handle the 'categories' field\n",
    "\n",
    "Which is a flat list of categories.\n",
    "\n",
    "The data has already been filtered down to contain 'Restaurants' in the field.\n",
    "\n",
    "Found hint/solution here: http://datascience.stackexchange.com/questions/8253/how-to-binary-encode-multi-valued-categorical-variable-from-pandas-dataframe"
   ]
  },
  {
   "cell_type": "code",
   "execution_count": 19,
   "metadata": {
    "collapsed": true
   },
   "outputs": [],
   "source": [
    "import collections"
   ]
  },
  {
   "cell_type": "code",
   "execution_count": 20,
   "metadata": {
    "collapsed": false,
    "scrolled": true
   },
   "outputs": [
    {
     "data": {
      "text/html": [
       "<div>\n",
       "<table border=\"1\" class=\"dataframe\">\n",
       "  <thead>\n",
       "    <tr style=\"text-align: right;\">\n",
       "      <th></th>\n",
       "      <th>categories</th>\n",
       "    </tr>\n",
       "  </thead>\n",
       "  <tbody>\n",
       "    <tr>\n",
       "      <th>0</th>\n",
       "      <td>[Fast Food, Restaurants]</td>\n",
       "    </tr>\n",
       "    <tr>\n",
       "      <th>1</th>\n",
       "      <td>[Bars, American (New), Nightlife, Lounges, Res...</td>\n",
       "    </tr>\n",
       "    <tr>\n",
       "      <th>2</th>\n",
       "      <td>[Bars, American (Traditional), Nightlife, Rest...</td>\n",
       "    </tr>\n",
       "    <tr>\n",
       "      <th>3</th>\n",
       "      <td>[Burgers, Breakfast &amp; Brunch, American (Tradit...</td>\n",
       "    </tr>\n",
       "    <tr>\n",
       "      <th>4</th>\n",
       "      <td>[Bars, American (Traditional), Nightlife, Loun...</td>\n",
       "    </tr>\n",
       "  </tbody>\n",
       "</table>\n",
       "</div>"
      ],
      "text/plain": [
       "                                          categories\n",
       "0                           [Fast Food, Restaurants]\n",
       "1  [Bars, American (New), Nightlife, Lounges, Res...\n",
       "2  [Bars, American (Traditional), Nightlife, Rest...\n",
       "3  [Burgers, Breakfast & Brunch, American (Tradit...\n",
       "4  [Bars, American (Traditional), Nightlife, Loun..."
      ]
     },
     "execution_count": 20,
     "metadata": {},
     "output_type": "execute_result"
    }
   ],
   "source": [
    "dfb[['categories']].head()"
   ]
  },
  {
   "cell_type": "code",
   "execution_count": 21,
   "metadata": {
    "collapsed": false
   },
   "outputs": [
    {
     "data": {
      "text/plain": [
       "0                 {u'Restaurants': 1, u'Fast Food': 1}\n",
       "1    {u'Bars': 1, u'Restaurants': 1, u'Nightlife': ...\n",
       "2    {u'American (Traditional)': 1, u'Bars': 1, u'N...\n",
       "3    {u'American (Traditional)': 1, u'Burgers': 1, ...\n",
       "4    {u'American (Traditional)': 1, u'Bars': 1, u'N...\n",
       "Name: categories, dtype: object"
      ]
     },
     "execution_count": 21,
     "metadata": {},
     "output_type": "execute_result"
    }
   ],
   "source": [
    "# apply collections.counter() to get a dict of hashable objects...\n",
    "dfb_cat_dict = dfb['categories'].apply(collections.Counter)\n",
    "dfb_cat_dict.head()"
   ]
  },
  {
   "cell_type": "code",
   "execution_count": 22,
   "metadata": {
    "collapsed": false,
    "scrolled": true
   },
   "outputs": [
    {
     "data": {
      "text/html": [
       "<div>\n",
       "<table border=\"1\" class=\"dataframe\">\n",
       "  <thead>\n",
       "    <tr style=\"text-align: right;\">\n",
       "      <th></th>\n",
       "      <th>Active Life</th>\n",
       "      <th>Adult Entertainment</th>\n",
       "      <th>Afghan</th>\n",
       "      <th>African</th>\n",
       "      <th>Alsatian</th>\n",
       "      <th>Amateur Sports Teams</th>\n",
       "      <th>American (New)</th>\n",
       "      <th>American (Traditional)</th>\n",
       "      <th>Amusement Parks</th>\n",
       "      <th>Antiques</th>\n",
       "      <th>...</th>\n",
       "      <th>Uzbek</th>\n",
       "      <th>Vegan</th>\n",
       "      <th>Vegetarian</th>\n",
       "      <th>Venezuelan</th>\n",
       "      <th>Venues &amp; Event Spaces</th>\n",
       "      <th>Vietnamese</th>\n",
       "      <th>Wine Bars</th>\n",
       "      <th>Wineries</th>\n",
       "      <th>Wok</th>\n",
       "      <th>Yoga</th>\n",
       "    </tr>\n",
       "  </thead>\n",
       "  <tbody>\n",
       "    <tr>\n",
       "      <th>0</th>\n",
       "      <td>0</td>\n",
       "      <td>0</td>\n",
       "      <td>0</td>\n",
       "      <td>0</td>\n",
       "      <td>0</td>\n",
       "      <td>0</td>\n",
       "      <td>0</td>\n",
       "      <td>0</td>\n",
       "      <td>0</td>\n",
       "      <td>0</td>\n",
       "      <td>...</td>\n",
       "      <td>0</td>\n",
       "      <td>0</td>\n",
       "      <td>0</td>\n",
       "      <td>0</td>\n",
       "      <td>0</td>\n",
       "      <td>0</td>\n",
       "      <td>0</td>\n",
       "      <td>0</td>\n",
       "      <td>0</td>\n",
       "      <td>0</td>\n",
       "    </tr>\n",
       "    <tr>\n",
       "      <th>1</th>\n",
       "      <td>0</td>\n",
       "      <td>0</td>\n",
       "      <td>0</td>\n",
       "      <td>0</td>\n",
       "      <td>0</td>\n",
       "      <td>0</td>\n",
       "      <td>1</td>\n",
       "      <td>0</td>\n",
       "      <td>0</td>\n",
       "      <td>0</td>\n",
       "      <td>...</td>\n",
       "      <td>0</td>\n",
       "      <td>0</td>\n",
       "      <td>0</td>\n",
       "      <td>0</td>\n",
       "      <td>0</td>\n",
       "      <td>0</td>\n",
       "      <td>0</td>\n",
       "      <td>0</td>\n",
       "      <td>0</td>\n",
       "      <td>0</td>\n",
       "    </tr>\n",
       "    <tr>\n",
       "      <th>2</th>\n",
       "      <td>0</td>\n",
       "      <td>0</td>\n",
       "      <td>0</td>\n",
       "      <td>0</td>\n",
       "      <td>0</td>\n",
       "      <td>0</td>\n",
       "      <td>0</td>\n",
       "      <td>1</td>\n",
       "      <td>0</td>\n",
       "      <td>0</td>\n",
       "      <td>...</td>\n",
       "      <td>0</td>\n",
       "      <td>0</td>\n",
       "      <td>0</td>\n",
       "      <td>0</td>\n",
       "      <td>0</td>\n",
       "      <td>0</td>\n",
       "      <td>0</td>\n",
       "      <td>0</td>\n",
       "      <td>0</td>\n",
       "      <td>0</td>\n",
       "    </tr>\n",
       "    <tr>\n",
       "      <th>3</th>\n",
       "      <td>0</td>\n",
       "      <td>0</td>\n",
       "      <td>0</td>\n",
       "      <td>0</td>\n",
       "      <td>0</td>\n",
       "      <td>0</td>\n",
       "      <td>0</td>\n",
       "      <td>1</td>\n",
       "      <td>0</td>\n",
       "      <td>0</td>\n",
       "      <td>...</td>\n",
       "      <td>0</td>\n",
       "      <td>0</td>\n",
       "      <td>0</td>\n",
       "      <td>0</td>\n",
       "      <td>0</td>\n",
       "      <td>0</td>\n",
       "      <td>0</td>\n",
       "      <td>0</td>\n",
       "      <td>0</td>\n",
       "      <td>0</td>\n",
       "    </tr>\n",
       "    <tr>\n",
       "      <th>4</th>\n",
       "      <td>0</td>\n",
       "      <td>0</td>\n",
       "      <td>0</td>\n",
       "      <td>0</td>\n",
       "      <td>0</td>\n",
       "      <td>0</td>\n",
       "      <td>0</td>\n",
       "      <td>1</td>\n",
       "      <td>0</td>\n",
       "      <td>0</td>\n",
       "      <td>...</td>\n",
       "      <td>0</td>\n",
       "      <td>0</td>\n",
       "      <td>0</td>\n",
       "      <td>0</td>\n",
       "      <td>0</td>\n",
       "      <td>0</td>\n",
       "      <td>0</td>\n",
       "      <td>0</td>\n",
       "      <td>0</td>\n",
       "      <td>0</td>\n",
       "    </tr>\n",
       "  </tbody>\n",
       "</table>\n",
       "<p>5 rows × 296 columns</p>\n",
       "</div>"
      ],
      "text/plain": [
       "   Active Life  Adult Entertainment  Afghan  African  Alsatian  \\\n",
       "0            0                    0       0        0         0   \n",
       "1            0                    0       0        0         0   \n",
       "2            0                    0       0        0         0   \n",
       "3            0                    0       0        0         0   \n",
       "4            0                    0       0        0         0   \n",
       "\n",
       "   Amateur Sports Teams  American (New)  American (Traditional)  \\\n",
       "0                     0               0                       0   \n",
       "1                     0               1                       0   \n",
       "2                     0               0                       1   \n",
       "3                     0               0                       1   \n",
       "4                     0               0                       1   \n",
       "\n",
       "   Amusement Parks  Antiques  ...   Uzbek  Vegan  Vegetarian  Venezuelan  \\\n",
       "0                0         0  ...       0      0           0           0   \n",
       "1                0         0  ...       0      0           0           0   \n",
       "2                0         0  ...       0      0           0           0   \n",
       "3                0         0  ...       0      0           0           0   \n",
       "4                0         0  ...       0      0           0           0   \n",
       "\n",
       "   Venues & Event Spaces  Vietnamese  Wine Bars  Wineries  Wok  Yoga  \n",
       "0                      0           0          0         0    0     0  \n",
       "1                      0           0          0         0    0     0  \n",
       "2                      0           0          0         0    0     0  \n",
       "3                      0           0          0         0    0     0  \n",
       "4                      0           0          0         0    0     0  \n",
       "\n",
       "[5 rows x 296 columns]"
      ]
     },
     "execution_count": 22,
     "metadata": {},
     "output_type": "execute_result"
    }
   ],
   "source": [
    "df_cat_full = pd.DataFrame.from_records(dfb_cat_dict).fillna(value=0).astype(int)\n",
    "df_cat_full.head()"
   ]
  },
  {
   "cell_type": "code",
   "execution_count": 25,
   "metadata": {
    "collapsed": false
   },
   "outputs": [
    {
     "data": {
      "text/plain": [
       "Index([u'Active Life', u'Adult Entertainment', u'Afghan', u'African',\n",
       "       u'Alsatian', u'Amateur Sports Teams', u'American (New)',\n",
       "       u'American (Traditional)', u'Amusement Parks', u'Antiques',\n",
       "       ...\n",
       "       u'Uzbek', u'Vegan', u'Vegetarian', u'Venezuelan',\n",
       "       u'Venues & Event Spaces', u'Vietnamese', u'Wine Bars', u'Wineries',\n",
       "       u'Wok', u'Yoga'],\n",
       "      dtype='object', length=296)"
      ]
     },
     "execution_count": 25,
     "metadata": {},
     "output_type": "execute_result"
    }
   ],
   "source": [
    "df_cat_full.columns"
   ]
  },
  {
   "cell_type": "code",
   "execution_count": 27,
   "metadata": {
    "collapsed": true
   },
   "outputs": [],
   "source": [
    "# hand-picked category EXCLUSION list (for below)...\n",
    "exclude_cat = ['Active Life', 'Amateur Sports Teams', 'Amusement Parks', 'Antiques', 'Apartments',\n",
    "               'Appliances', 'Arcades', 'Art Galleries', 'Arts & Crafts', 'Arts & Entertainment',\n",
    "               'Auto Repair', 'Automotive', 'Banks & Credit Unions', 'Beauty & Spas', 'Bed & Breakfast',\n",
    "               'Bikes', 'Boating', 'Books, Mags, Music & Video', 'Bookstores', 'Bowling']"
   ]
  },
  {
   "cell_type": "code",
   "execution_count": 30,
   "metadata": {
    "collapsed": false,
    "scrolled": true
   },
   "outputs": [],
   "source": [
    "# df_cat_full.head().T[0:50]"
   ]
  },
  {
   "cell_type": "code",
   "execution_count": 28,
   "metadata": {
    "collapsed": false
   },
   "outputs": [],
   "source": [
    "# hand-picked category EXCLUSION list (for below)...\n",
    "exclude_cat += ['Building Supplies', 'Butcher', 'Candy Stores', 'Car Wash', 'Caterers', 'Chocolatiers & Shops',\n",
    "                'Coffee & Tea Supplies', 'Colleges & Universities', 'Convenience Stores', 'Cooking Schools',\n",
    "                'Country Clubs', 'Country Dance Halls', 'DJs', 'Dance Clubs', 'Day Spas', 'Department Stores']"
   ]
  },
  {
   "cell_type": "code",
   "execution_count": 31,
   "metadata": {
    "collapsed": false,
    "scrolled": true
   },
   "outputs": [],
   "source": [
    "# df_cat_full.head().T[50:100]"
   ]
  },
  {
   "cell_type": "code",
   "execution_count": 29,
   "metadata": {
    "collapsed": false
   },
   "outputs": [],
   "source": [
    "# hand-picked category EXCLUSION list (for below)...\n",
    "exclude_cat += ['Discount Store', 'Do-It-Yourself Food', 'Dry Cleaning & Laundry', 'Education',\n",
    "                'Event Planning & Services', 'Fashion', 'Festivals', 'Financial Services',\n",
    "                'Fitness & Instruction', 'Flea Markets', 'Flowers & Gifts', 'Food Delivery Services',\n",
    "                'Food Tours', 'Furniture Stores', 'Gas & Service Stations', 'Gay Bars', 'Golf', 'Grocery',\n",
    "                'Guest Houses', 'Hardware Stores']"
   ]
  },
  {
   "cell_type": "code",
   "execution_count": 32,
   "metadata": {
    "collapsed": false,
    "scrolled": true
   },
   "outputs": [],
   "source": [
    "# df_cat_full.head().T[100:150]"
   ]
  },
  {
   "cell_type": "code",
   "execution_count": 33,
   "metadata": {
    "collapsed": false
   },
   "outputs": [],
   "source": [
    "# hand-picked category EXCLUSION list (for below)...\n",
    "exclude_cat += ['Health & Medical', 'Health Markets', 'Heating & Air Conditioning/HVAC', 'Herbs & Spices',\n",
    "                'Hiking', 'Hobby Shops', 'Home & Garden', 'Home Decor', 'Home Services', 'Hotels', 'Hotels & Travel',\n",
    "                'Jazz & Blues', 'Karaoke', 'Kids Activities', 'Kitchen & Bath', 'Lakes',\n",
    "                'Landmarks & Historical Buildings', 'Leisure Centers', 'Local Services', 'Lounges', 'Meat Shops']"
   ]
  },
  {
   "cell_type": "code",
   "execution_count": 34,
   "metadata": {
    "collapsed": false,
    "scrolled": true
   },
   "outputs": [],
   "source": [
    "# df_cat_full.head().T[150:200]"
   ]
  },
  {
   "cell_type": "code",
   "execution_count": 35,
   "metadata": {
    "collapsed": false
   },
   "outputs": [],
   "source": [
    "# hand-picked category EXCLUSION list (for below)...\n",
    "exclude_cat += ['Music Venues', 'Musicians', 'Nightlife', 'Nutritionists', 'Organic Stores', 'Parking',\n",
    "                'Party & Event Planning', 'Pasta Shops', 'Patisserie/Cake Shop', 'Performing Arts',\n",
    "                'Personal Chefs', 'Pet Services', 'Pets', 'Piano Bars', 'Plumbing', 'Pool Halls',\n",
    "                'Public Services & Government', 'Real Estate', 'Shopping']"
   ]
  },
  {
   "cell_type": "code",
   "execution_count": 36,
   "metadata": {
    "collapsed": false,
    "scrolled": true
   },
   "outputs": [],
   "source": [
    "# df_cat_full.head().T[200:250]"
   ]
  },
  {
   "cell_type": "code",
   "execution_count": 37,
   "metadata": {
    "collapsed": false
   },
   "outputs": [],
   "source": [
    "# hand-picked category EXCLUSION list (for below)...\n",
    "exclude_cat += ['Shopping Centers', 'Soccer', 'Social Clubs', 'Specialty Schools', 'Sporting Goods', 'Sports Clubs',\n",
    "                'Sports Wear', 'Street Vendors', 'Swimming Pools', 'Tea Rooms', 'Tours', 'Toy Stores',\n",
    "                'Travel Services', 'Venues & Event Spaces', 'Wine Bars', 'Yoga']"
   ]
  },
  {
   "cell_type": "code",
   "execution_count": 38,
   "metadata": {
    "collapsed": false,
    "scrolled": true
   },
   "outputs": [],
   "source": [
    "# df_cat_full.head().T[250:]"
   ]
  },
  {
   "cell_type": "code",
   "execution_count": 42,
   "metadata": {
    "collapsed": false,
    "scrolled": false
   },
   "outputs": [
    {
     "name": "stdout",
     "output_type": "stream",
     "text": [
      "296 = number of orig categories\n",
      "112 = number of excluded categories\n",
      "Exclusion categories:\n",
      "['Active Life', 'Amateur Sports Teams', 'Amusement Parks', 'Antiques', 'Apartments', 'Appliances', 'Arcades', 'Art Galleries', 'Arts & Crafts', 'Arts & Entertainment', 'Auto Repair', 'Automotive', 'Banks & Credit Unions', 'Beauty & Spas', 'Bed & Breakfast', 'Bikes', 'Boating', 'Books, Mags, Music & Video', 'Bookstores', 'Bowling', 'Building Supplies', 'Butcher', 'Candy Stores', 'Car Wash', 'Caterers', 'Chocolatiers & Shops', 'Coffee & Tea Supplies', 'Colleges & Universities', 'Convenience Stores', 'Cooking Schools', 'Country Clubs', 'Country Dance Halls', 'DJs', 'Dance Clubs', 'Day Spas', 'Department Stores', 'Discount Store', 'Do-It-Yourself Food', 'Dry Cleaning & Laundry', 'Education', 'Event Planning & Services', 'Fashion', 'Festivals', 'Financial Services', 'Fitness & Instruction', 'Flea Markets', 'Flowers & Gifts', 'Food Delivery Services', 'Food Tours', 'Furniture Stores', 'Gas & Service Stations', 'Gay Bars', 'Golf', 'Grocery', 'Guest Houses', 'Hardware Stores', 'Health & Medical', 'Health Markets', 'Heating & Air Conditioning/HVAC', 'Herbs & Spices', 'Hiking', 'Hobby Shops', 'Home & Garden', 'Home Decor', 'Home Services', 'Hotels', 'Hotels & Travel', 'Jazz & Blues', 'Karaoke', 'Kids Activities', 'Kitchen & Bath', 'Lakes', 'Landmarks & Historical Buildings', 'Leisure Centers', 'Local Services', 'Lounges', 'Meat Shops', 'Music Venues', 'Musicians', 'Nightlife', 'Nutritionists', 'Organic Stores', 'Parking', 'Party & Event Planning', 'Pasta Shops', 'Patisserie/Cake Shop', 'Performing Arts', 'Personal Chefs', 'Pet Services', 'Pets', 'Piano Bars', 'Plumbing', 'Pool Halls', 'Public Services & Government', 'Real Estate', 'Shopping', 'Shopping Centers', 'Soccer', 'Social Clubs', 'Specialty Schools', 'Sporting Goods', 'Sports Clubs', 'Sports Wear', 'Street Vendors', 'Swimming Pools', 'Tea Rooms', 'Tours', 'Toy Stores', 'Travel Services', 'Venues & Event Spaces', 'Wine Bars', 'Yoga']\n"
     ]
    }
   ],
   "source": [
    "print '{} = number of orig categories'.format(len(df_cat_full.T))\n",
    "print '{} = number of excluded categories'.format(len(exclude_cat))\n",
    "print 'Exclusion categories:\\n', exclude_cat"
   ]
  },
  {
   "cell_type": "markdown",
   "metadata": {},
   "source": [
    "Drop the categories in the exclusion list"
   ]
  },
  {
   "cell_type": "code",
   "execution_count": 43,
   "metadata": {
    "collapsed": false
   },
   "outputs": [
    {
     "data": {
      "text/html": [
       "<div>\n",
       "<table border=\"1\" class=\"dataframe\">\n",
       "  <thead>\n",
       "    <tr style=\"text-align: right;\">\n",
       "      <th></th>\n",
       "      <th>Adult Entertainment</th>\n",
       "      <th>Afghan</th>\n",
       "      <th>African</th>\n",
       "      <th>Alsatian</th>\n",
       "      <th>American (New)</th>\n",
       "      <th>American (Traditional)</th>\n",
       "      <th>Arabian</th>\n",
       "      <th>Argentine</th>\n",
       "      <th>Armenian</th>\n",
       "      <th>Asian Fusion</th>\n",
       "      <th>...</th>\n",
       "      <th>Trinidadian</th>\n",
       "      <th>Turkish</th>\n",
       "      <th>Ukrainian</th>\n",
       "      <th>Uzbek</th>\n",
       "      <th>Vegan</th>\n",
       "      <th>Vegetarian</th>\n",
       "      <th>Venezuelan</th>\n",
       "      <th>Vietnamese</th>\n",
       "      <th>Wineries</th>\n",
       "      <th>Wok</th>\n",
       "    </tr>\n",
       "  </thead>\n",
       "  <tbody>\n",
       "    <tr>\n",
       "      <th>0</th>\n",
       "      <td>0</td>\n",
       "      <td>0</td>\n",
       "      <td>0</td>\n",
       "      <td>0</td>\n",
       "      <td>0</td>\n",
       "      <td>0</td>\n",
       "      <td>0</td>\n",
       "      <td>0</td>\n",
       "      <td>0</td>\n",
       "      <td>0</td>\n",
       "      <td>...</td>\n",
       "      <td>0</td>\n",
       "      <td>0</td>\n",
       "      <td>0</td>\n",
       "      <td>0</td>\n",
       "      <td>0</td>\n",
       "      <td>0</td>\n",
       "      <td>0</td>\n",
       "      <td>0</td>\n",
       "      <td>0</td>\n",
       "      <td>0</td>\n",
       "    </tr>\n",
       "    <tr>\n",
       "      <th>1</th>\n",
       "      <td>0</td>\n",
       "      <td>0</td>\n",
       "      <td>0</td>\n",
       "      <td>0</td>\n",
       "      <td>1</td>\n",
       "      <td>0</td>\n",
       "      <td>0</td>\n",
       "      <td>0</td>\n",
       "      <td>0</td>\n",
       "      <td>0</td>\n",
       "      <td>...</td>\n",
       "      <td>0</td>\n",
       "      <td>0</td>\n",
       "      <td>0</td>\n",
       "      <td>0</td>\n",
       "      <td>0</td>\n",
       "      <td>0</td>\n",
       "      <td>0</td>\n",
       "      <td>0</td>\n",
       "      <td>0</td>\n",
       "      <td>0</td>\n",
       "    </tr>\n",
       "    <tr>\n",
       "      <th>2</th>\n",
       "      <td>0</td>\n",
       "      <td>0</td>\n",
       "      <td>0</td>\n",
       "      <td>0</td>\n",
       "      <td>0</td>\n",
       "      <td>1</td>\n",
       "      <td>0</td>\n",
       "      <td>0</td>\n",
       "      <td>0</td>\n",
       "      <td>0</td>\n",
       "      <td>...</td>\n",
       "      <td>0</td>\n",
       "      <td>0</td>\n",
       "      <td>0</td>\n",
       "      <td>0</td>\n",
       "      <td>0</td>\n",
       "      <td>0</td>\n",
       "      <td>0</td>\n",
       "      <td>0</td>\n",
       "      <td>0</td>\n",
       "      <td>0</td>\n",
       "    </tr>\n",
       "    <tr>\n",
       "      <th>3</th>\n",
       "      <td>0</td>\n",
       "      <td>0</td>\n",
       "      <td>0</td>\n",
       "      <td>0</td>\n",
       "      <td>0</td>\n",
       "      <td>1</td>\n",
       "      <td>0</td>\n",
       "      <td>0</td>\n",
       "      <td>0</td>\n",
       "      <td>0</td>\n",
       "      <td>...</td>\n",
       "      <td>0</td>\n",
       "      <td>0</td>\n",
       "      <td>0</td>\n",
       "      <td>0</td>\n",
       "      <td>0</td>\n",
       "      <td>0</td>\n",
       "      <td>0</td>\n",
       "      <td>0</td>\n",
       "      <td>0</td>\n",
       "      <td>0</td>\n",
       "    </tr>\n",
       "    <tr>\n",
       "      <th>4</th>\n",
       "      <td>0</td>\n",
       "      <td>0</td>\n",
       "      <td>0</td>\n",
       "      <td>0</td>\n",
       "      <td>0</td>\n",
       "      <td>1</td>\n",
       "      <td>0</td>\n",
       "      <td>0</td>\n",
       "      <td>0</td>\n",
       "      <td>0</td>\n",
       "      <td>...</td>\n",
       "      <td>0</td>\n",
       "      <td>0</td>\n",
       "      <td>0</td>\n",
       "      <td>0</td>\n",
       "      <td>0</td>\n",
       "      <td>0</td>\n",
       "      <td>0</td>\n",
       "      <td>0</td>\n",
       "      <td>0</td>\n",
       "      <td>0</td>\n",
       "    </tr>\n",
       "  </tbody>\n",
       "</table>\n",
       "<p>5 rows × 184 columns</p>\n",
       "</div>"
      ],
      "text/plain": [
       "   Adult Entertainment  Afghan  African  Alsatian  American (New)  \\\n",
       "0                    0       0        0         0               0   \n",
       "1                    0       0        0         0               1   \n",
       "2                    0       0        0         0               0   \n",
       "3                    0       0        0         0               0   \n",
       "4                    0       0        0         0               0   \n",
       "\n",
       "   American (Traditional)  Arabian  Argentine  Armenian  Asian Fusion ...   \\\n",
       "0                       0        0          0         0             0 ...    \n",
       "1                       0        0          0         0             0 ...    \n",
       "2                       1        0          0         0             0 ...    \n",
       "3                       1        0          0         0             0 ...    \n",
       "4                       1        0          0         0             0 ...    \n",
       "\n",
       "   Trinidadian  Turkish  Ukrainian  Uzbek  Vegan  Vegetarian  Venezuelan  \\\n",
       "0            0        0          0      0      0           0           0   \n",
       "1            0        0          0      0      0           0           0   \n",
       "2            0        0          0      0      0           0           0   \n",
       "3            0        0          0      0      0           0           0   \n",
       "4            0        0          0      0      0           0           0   \n",
       "\n",
       "   Vietnamese  Wineries  Wok  \n",
       "0           0         0    0  \n",
       "1           0         0    0  \n",
       "2           0         0    0  \n",
       "3           0         0    0  \n",
       "4           0         0    0  \n",
       "\n",
       "[5 rows x 184 columns]"
      ]
     },
     "execution_count": 43,
     "metadata": {},
     "output_type": "execute_result"
    }
   ],
   "source": [
    "df_cat = df_cat_full.drop(exclude_cat, axis=1)\n",
    "df_cat.head()"
   ]
  },
  {
   "cell_type": "markdown",
   "metadata": {},
   "source": [
    "## Combining the 'categories' and 'attributes' into item data"
   ]
  },
  {
   "cell_type": "code",
   "execution_count": 44,
   "metadata": {
    "collapsed": false,
    "scrolled": true
   },
   "outputs": [
    {
     "data": {
      "text/html": [
       "<div>\n",
       "<table border=\"1\" class=\"dataframe\">\n",
       "  <thead>\n",
       "    <tr style=\"text-align: right;\">\n",
       "      <th></th>\n",
       "      <th>business_id</th>\n",
       "      <th>name</th>\n",
       "      <th>Adult Entertainment</th>\n",
       "      <th>Afghan</th>\n",
       "      <th>African</th>\n",
       "      <th>Alsatian</th>\n",
       "      <th>American (New)</th>\n",
       "      <th>American (Traditional)</th>\n",
       "      <th>Arabian</th>\n",
       "      <th>Argentine</th>\n",
       "      <th>...</th>\n",
       "      <th>Trinidadian</th>\n",
       "      <th>Turkish</th>\n",
       "      <th>Ukrainian</th>\n",
       "      <th>Uzbek</th>\n",
       "      <th>Vegan</th>\n",
       "      <th>Vegetarian</th>\n",
       "      <th>Venezuelan</th>\n",
       "      <th>Vietnamese</th>\n",
       "      <th>Wineries</th>\n",
       "      <th>Wok</th>\n",
       "    </tr>\n",
       "  </thead>\n",
       "  <tbody>\n",
       "    <tr>\n",
       "      <th>0</th>\n",
       "      <td>5UmKMjUEUNdYWqANhGckJw</td>\n",
       "      <td>Mr Hoagie</td>\n",
       "      <td>0</td>\n",
       "      <td>0</td>\n",
       "      <td>0</td>\n",
       "      <td>0</td>\n",
       "      <td>0</td>\n",
       "      <td>0</td>\n",
       "      <td>0</td>\n",
       "      <td>0</td>\n",
       "      <td>...</td>\n",
       "      <td>0</td>\n",
       "      <td>0</td>\n",
       "      <td>0</td>\n",
       "      <td>0</td>\n",
       "      <td>0</td>\n",
       "      <td>0</td>\n",
       "      <td>0</td>\n",
       "      <td>0</td>\n",
       "      <td>0</td>\n",
       "      <td>0</td>\n",
       "    </tr>\n",
       "    <tr>\n",
       "      <th>1</th>\n",
       "      <td>mVHrayjG3uZ_RLHkLj-AMg</td>\n",
       "      <td>Emil's Lounge</td>\n",
       "      <td>0</td>\n",
       "      <td>0</td>\n",
       "      <td>0</td>\n",
       "      <td>0</td>\n",
       "      <td>1</td>\n",
       "      <td>0</td>\n",
       "      <td>0</td>\n",
       "      <td>0</td>\n",
       "      <td>...</td>\n",
       "      <td>0</td>\n",
       "      <td>0</td>\n",
       "      <td>0</td>\n",
       "      <td>0</td>\n",
       "      <td>0</td>\n",
       "      <td>0</td>\n",
       "      <td>0</td>\n",
       "      <td>0</td>\n",
       "      <td>0</td>\n",
       "      <td>0</td>\n",
       "    </tr>\n",
       "    <tr>\n",
       "      <th>2</th>\n",
       "      <td>KayYbHCt-RkbGcPdGOThNg</td>\n",
       "      <td>Alexion's Bar &amp; Grill</td>\n",
       "      <td>0</td>\n",
       "      <td>0</td>\n",
       "      <td>0</td>\n",
       "      <td>0</td>\n",
       "      <td>0</td>\n",
       "      <td>1</td>\n",
       "      <td>0</td>\n",
       "      <td>0</td>\n",
       "      <td>...</td>\n",
       "      <td>0</td>\n",
       "      <td>0</td>\n",
       "      <td>0</td>\n",
       "      <td>0</td>\n",
       "      <td>0</td>\n",
       "      <td>0</td>\n",
       "      <td>0</td>\n",
       "      <td>0</td>\n",
       "      <td>0</td>\n",
       "      <td>0</td>\n",
       "    </tr>\n",
       "    <tr>\n",
       "      <th>3</th>\n",
       "      <td>wJr6kSA5dchdgOdwH6dZ2w</td>\n",
       "      <td>Kings Family Restaurant</td>\n",
       "      <td>0</td>\n",
       "      <td>0</td>\n",
       "      <td>0</td>\n",
       "      <td>0</td>\n",
       "      <td>0</td>\n",
       "      <td>1</td>\n",
       "      <td>0</td>\n",
       "      <td>0</td>\n",
       "      <td>...</td>\n",
       "      <td>0</td>\n",
       "      <td>0</td>\n",
       "      <td>0</td>\n",
       "      <td>0</td>\n",
       "      <td>0</td>\n",
       "      <td>0</td>\n",
       "      <td>0</td>\n",
       "      <td>0</td>\n",
       "      <td>0</td>\n",
       "      <td>0</td>\n",
       "    </tr>\n",
       "    <tr>\n",
       "      <th>4</th>\n",
       "      <td>fNGIbpazjTRdXgwRY_NIXA</td>\n",
       "      <td>Rocky's Lounge</td>\n",
       "      <td>0</td>\n",
       "      <td>0</td>\n",
       "      <td>0</td>\n",
       "      <td>0</td>\n",
       "      <td>0</td>\n",
       "      <td>1</td>\n",
       "      <td>0</td>\n",
       "      <td>0</td>\n",
       "      <td>...</td>\n",
       "      <td>0</td>\n",
       "      <td>0</td>\n",
       "      <td>0</td>\n",
       "      <td>0</td>\n",
       "      <td>0</td>\n",
       "      <td>0</td>\n",
       "      <td>0</td>\n",
       "      <td>0</td>\n",
       "      <td>0</td>\n",
       "      <td>0</td>\n",
       "    </tr>\n",
       "  </tbody>\n",
       "</table>\n",
       "<p>5 rows × 186 columns</p>\n",
       "</div>"
      ],
      "text/plain": [
       "              business_id                     name  Adult Entertainment  \\\n",
       "0  5UmKMjUEUNdYWqANhGckJw                Mr Hoagie                    0   \n",
       "1  mVHrayjG3uZ_RLHkLj-AMg            Emil's Lounge                    0   \n",
       "2  KayYbHCt-RkbGcPdGOThNg    Alexion's Bar & Grill                    0   \n",
       "3  wJr6kSA5dchdgOdwH6dZ2w  Kings Family Restaurant                    0   \n",
       "4  fNGIbpazjTRdXgwRY_NIXA           Rocky's Lounge                    0   \n",
       "\n",
       "   Afghan  African  Alsatian  American (New)  American (Traditional)  Arabian  \\\n",
       "0       0        0         0               0                       0        0   \n",
       "1       0        0         0               1                       0        0   \n",
       "2       0        0         0               0                       1        0   \n",
       "3       0        0         0               0                       1        0   \n",
       "4       0        0         0               0                       1        0   \n",
       "\n",
       "   Argentine ...   Trinidadian  Turkish  Ukrainian  Uzbek  Vegan  Vegetarian  \\\n",
       "0          0 ...             0        0          0      0      0           0   \n",
       "1          0 ...             0        0          0      0      0           0   \n",
       "2          0 ...             0        0          0      0      0           0   \n",
       "3          0 ...             0        0          0      0      0           0   \n",
       "4          0 ...             0        0          0      0      0           0   \n",
       "\n",
       "   Venezuelan  Vietnamese  Wineries  Wok  \n",
       "0           0           0         0    0  \n",
       "1           0           0         0    0  \n",
       "2           0           0         0    0  \n",
       "3           0           0         0    0  \n",
       "4           0           0         0    0  \n",
       "\n",
       "[5 rows x 186 columns]"
      ]
     },
     "execution_count": 44,
     "metadata": {},
     "output_type": "execute_result"
    }
   ],
   "source": [
    "# df_item_data = pd.concat([dfb[['business_id', 'name']] , df_cat, df_att], axis=1)\n",
    "\n",
    "df_item_data = pd.concat([dfb[['business_id', 'name']] , df_cat], axis=1) # categories for now...\n",
    "df_item_data.head()"
   ]
  },
  {
   "cell_type": "code",
   "execution_count": 45,
   "metadata": {
    "collapsed": false
   },
   "outputs": [],
   "source": [
    "# convert to SFrame...\n",
    "sf_itemdata = gl.SFrame(df_item_data)"
   ]
  },
  {
   "cell_type": "markdown",
   "metadata": {},
   "source": [
    "# Setup the train/test data split..."
   ]
  },
  {
   "cell_type": "code",
   "execution_count": 46,
   "metadata": {
    "collapsed": false
   },
   "outputs": [
    {
     "data": {
      "text/plain": [
       "(1363242, 3)"
      ]
     },
     "execution_count": 46,
     "metadata": {},
     "output_type": "execute_result"
    }
   ],
   "source": [
    "sf_obs.shape"
   ]
  },
  {
   "cell_type": "code",
   "execution_count": 47,
   "metadata": {
    "collapsed": false
   },
   "outputs": [
    {
     "data": {
      "text/plain": [
       "['user_id', 'business_id', 'stars']"
      ]
     },
     "execution_count": 47,
     "metadata": {},
     "output_type": "execute_result"
    }
   ],
   "source": [
    "sf_obs.column_names()"
   ]
  },
  {
   "cell_type": "code",
   "execution_count": 48,
   "metadata": {
    "collapsed": false
   },
   "outputs": [],
   "source": [
    "# split the test data via Graphlab's recommender tailored splitter function\n",
    "train_set, test_set = gl.recommender.util.random_split_by_user(sf_obs,\n",
    "                                                               'user_id',\n",
    "                                                               'business_id',\n",
    "                                                               max_num_users=100)"
   ]
  },
  {
   "cell_type": "code",
   "execution_count": 49,
   "metadata": {
    "collapsed": false
   },
   "outputs": [
    {
     "data": {
      "text/html": [
       "<div style=\"max-height:1000px;max-width:1500px;overflow:auto;\"><table frame=\"box\" rules=\"cols\">\n",
       "    <tr>\n",
       "        <th style=\"padding-left: 1em; padding-right: 1em; text-align: center\">user_id</th>\n",
       "        <th style=\"padding-left: 1em; padding-right: 1em; text-align: center\">business_id</th>\n",
       "        <th style=\"padding-left: 1em; padding-right: 1em; text-align: center\">stars</th>\n",
       "    </tr>\n",
       "    <tr>\n",
       "        <td style=\"padding-left: 1em; padding-right: 1em; text-align: center; vertical-align: top\">Ouus3lC3Xk3YRGx4ptd_4A</td>\n",
       "        <td style=\"padding-left: 1em; padding-right: 1em; text-align: center; vertical-align: top\">DW6SI2KxcfXBHeo9jEr4lQ</td>\n",
       "        <td style=\"padding-left: 1em; padding-right: 1em; text-align: center; vertical-align: top\">2</td>\n",
       "    </tr>\n",
       "    <tr>\n",
       "        <td style=\"padding-left: 1em; padding-right: 1em; text-align: center; vertical-align: top\">dz_sBsL69aWzsxksT2O_Mg</td>\n",
       "        <td style=\"padding-left: 1em; padding-right: 1em; text-align: center; vertical-align: top\">DW6SI2KxcfXBHeo9jEr4lQ</td>\n",
       "        <td style=\"padding-left: 1em; padding-right: 1em; text-align: center; vertical-align: top\">2</td>\n",
       "    </tr>\n",
       "    <tr>\n",
       "        <td style=\"padding-left: 1em; padding-right: 1em; text-align: center; vertical-align: top\">zyI-u0C1YOzp5v1j2wuCOQ</td>\n",
       "        <td style=\"padding-left: 1em; padding-right: 1em; text-align: center; vertical-align: top\">DW6SI2KxcfXBHeo9jEr4lQ</td>\n",
       "        <td style=\"padding-left: 1em; padding-right: 1em; text-align: center; vertical-align: top\">3</td>\n",
       "    </tr>\n",
       "    <tr>\n",
       "        <td style=\"padding-left: 1em; padding-right: 1em; text-align: center; vertical-align: top\">vyfsQo-estP8EfiIFMsL6g</td>\n",
       "        <td style=\"padding-left: 1em; padding-right: 1em; text-align: center; vertical-align: top\">DW6SI2KxcfXBHeo9jEr4lQ</td>\n",
       "        <td style=\"padding-left: 1em; padding-right: 1em; text-align: center; vertical-align: top\">3</td>\n",
       "    </tr>\n",
       "    <tr>\n",
       "        <td style=\"padding-left: 1em; padding-right: 1em; text-align: center; vertical-align: top\">lxZSVeJz6KEBW1nlA3JKJg</td>\n",
       "        <td style=\"padding-left: 1em; padding-right: 1em; text-align: center; vertical-align: top\">DW6SI2KxcfXBHeo9jEr4lQ</td>\n",
       "        <td style=\"padding-left: 1em; padding-right: 1em; text-align: center; vertical-align: top\">1</td>\n",
       "    </tr>\n",
       "    <tr>\n",
       "        <td style=\"padding-left: 1em; padding-right: 1em; text-align: center; vertical-align: top\">CbMCOeeHVeafcD-6-CJrPg</td>\n",
       "        <td style=\"padding-left: 1em; padding-right: 1em; text-align: center; vertical-align: top\">DW6SI2KxcfXBHeo9jEr4lQ</td>\n",
       "        <td style=\"padding-left: 1em; padding-right: 1em; text-align: center; vertical-align: top\">4</td>\n",
       "    </tr>\n",
       "    <tr>\n",
       "        <td style=\"padding-left: 1em; padding-right: 1em; text-align: center; vertical-align: top\">Z8DyUMojRhFbLyHBymM_rA</td>\n",
       "        <td style=\"padding-left: 1em; padding-right: 1em; text-align: center; vertical-align: top\">DW6SI2KxcfXBHeo9jEr4lQ</td>\n",
       "        <td style=\"padding-left: 1em; padding-right: 1em; text-align: center; vertical-align: top\">2</td>\n",
       "    </tr>\n",
       "    <tr>\n",
       "        <td style=\"padding-left: 1em; padding-right: 1em; text-align: center; vertical-align: top\">sXWvDlMQspjJ1zzr3cEM7Q</td>\n",
       "        <td style=\"padding-left: 1em; padding-right: 1em; text-align: center; vertical-align: top\">DW6SI2KxcfXBHeo9jEr4lQ</td>\n",
       "        <td style=\"padding-left: 1em; padding-right: 1em; text-align: center; vertical-align: top\">2</td>\n",
       "    </tr>\n",
       "    <tr>\n",
       "        <td style=\"padding-left: 1em; padding-right: 1em; text-align: center; vertical-align: top\">G8RaaiVzbyRvsBmoUx0VeA</td>\n",
       "        <td style=\"padding-left: 1em; padding-right: 1em; text-align: center; vertical-align: top\">DW6SI2KxcfXBHeo9jEr4lQ</td>\n",
       "        <td style=\"padding-left: 1em; padding-right: 1em; text-align: center; vertical-align: top\">1</td>\n",
       "    </tr>\n",
       "    <tr>\n",
       "        <td style=\"padding-left: 1em; padding-right: 1em; text-align: center; vertical-align: top\">f0isFKnJVZVmpdCPNd8Gfw</td>\n",
       "        <td style=\"padding-left: 1em; padding-right: 1em; text-align: center; vertical-align: top\">DW6SI2KxcfXBHeo9jEr4lQ</td>\n",
       "        <td style=\"padding-left: 1em; padding-right: 1em; text-align: center; vertical-align: top\">1</td>\n",
       "    </tr>\n",
       "</table>\n",
       "[1363188 rows x 3 columns]<br/>Note: Only the head of the SFrame is printed.<br/>You can use print_rows(num_rows=m, num_columns=n) to print more rows and columns.\n",
       "</div>"
      ],
      "text/plain": [
       "Columns:\n",
       "\tuser_id\tstr\n",
       "\tbusiness_id\tstr\n",
       "\tstars\tint\n",
       "\n",
       "Rows: 1363188\n",
       "\n",
       "Data:\n",
       "+------------------------+------------------------+-------+\n",
       "|        user_id         |      business_id       | stars |\n",
       "+------------------------+------------------------+-------+\n",
       "| Ouus3lC3Xk3YRGx4ptd_4A | DW6SI2KxcfXBHeo9jEr4lQ |   2   |\n",
       "| dz_sBsL69aWzsxksT2O_Mg | DW6SI2KxcfXBHeo9jEr4lQ |   2   |\n",
       "| zyI-u0C1YOzp5v1j2wuCOQ | DW6SI2KxcfXBHeo9jEr4lQ |   3   |\n",
       "| vyfsQo-estP8EfiIFMsL6g | DW6SI2KxcfXBHeo9jEr4lQ |   3   |\n",
       "| lxZSVeJz6KEBW1nlA3JKJg | DW6SI2KxcfXBHeo9jEr4lQ |   1   |\n",
       "| CbMCOeeHVeafcD-6-CJrPg | DW6SI2KxcfXBHeo9jEr4lQ |   4   |\n",
       "| Z8DyUMojRhFbLyHBymM_rA | DW6SI2KxcfXBHeo9jEr4lQ |   2   |\n",
       "| sXWvDlMQspjJ1zzr3cEM7Q | DW6SI2KxcfXBHeo9jEr4lQ |   2   |\n",
       "| G8RaaiVzbyRvsBmoUx0VeA | DW6SI2KxcfXBHeo9jEr4lQ |   1   |\n",
       "| f0isFKnJVZVmpdCPNd8Gfw | DW6SI2KxcfXBHeo9jEr4lQ |   1   |\n",
       "+------------------------+------------------------+-------+\n",
       "[1363188 rows x 3 columns]\n",
       "Note: Only the head of the SFrame is printed.\n",
       "You can use print_rows(num_rows=m, num_columns=n) to print more rows and columns."
      ]
     },
     "execution_count": 49,
     "metadata": {},
     "output_type": "execute_result"
    }
   ],
   "source": [
    "train_set"
   ]
  },
  {
   "cell_type": "code",
   "execution_count": 50,
   "metadata": {
    "collapsed": false
   },
   "outputs": [
    {
     "data": {
      "text/html": [
       "<div style=\"max-height:1000px;max-width:1500px;overflow:auto;\"><table frame=\"box\" rules=\"cols\">\n",
       "    <tr>\n",
       "        <th style=\"padding-left: 1em; padding-right: 1em; text-align: center\">user_id</th>\n",
       "        <th style=\"padding-left: 1em; padding-right: 1em; text-align: center\">business_id</th>\n",
       "        <th style=\"padding-left: 1em; padding-right: 1em; text-align: center\">stars</th>\n",
       "    </tr>\n",
       "    <tr>\n",
       "        <td style=\"padding-left: 1em; padding-right: 1em; text-align: center; vertical-align: top\">pE7qSGfe4MWWEPYSoqY34Q</td>\n",
       "        <td style=\"padding-left: 1em; padding-right: 1em; text-align: center; vertical-align: top\">A-wbnt6g19IWirBswkzsig</td>\n",
       "        <td style=\"padding-left: 1em; padding-right: 1em; text-align: center; vertical-align: top\">3</td>\n",
       "    </tr>\n",
       "    <tr>\n",
       "        <td style=\"padding-left: 1em; padding-right: 1em; text-align: center; vertical-align: top\">H7zTsX10fKk-qgTUFK2wiQ</td>\n",
       "        <td style=\"padding-left: 1em; padding-right: 1em; text-align: center; vertical-align: top\">1dprSfGrxNxgYiuYcmb3FQ</td>\n",
       "        <td style=\"padding-left: 1em; padding-right: 1em; text-align: center; vertical-align: top\">4</td>\n",
       "    </tr>\n",
       "    <tr>\n",
       "        <td style=\"padding-left: 1em; padding-right: 1em; text-align: center; vertical-align: top\">NLCew4oPUtPvAbP0RAdEpg</td>\n",
       "        <td style=\"padding-left: 1em; padding-right: 1em; text-align: center; vertical-align: top\">wNUea3IXZWD63bbOQaOH-g</td>\n",
       "        <td style=\"padding-left: 1em; padding-right: 1em; text-align: center; vertical-align: top\">3</td>\n",
       "    </tr>\n",
       "    <tr>\n",
       "        <td style=\"padding-left: 1em; padding-right: 1em; text-align: center; vertical-align: top\">Gnr3eh08NuIufa6suMYu-w</td>\n",
       "        <td style=\"padding-left: 1em; padding-right: 1em; text-align: center; vertical-align: top\">YCKOz3ja7i3nbavwdf6lWQ</td>\n",
       "        <td style=\"padding-left: 1em; padding-right: 1em; text-align: center; vertical-align: top\">5</td>\n",
       "    </tr>\n",
       "    <tr>\n",
       "        <td style=\"padding-left: 1em; padding-right: 1em; text-align: center; vertical-align: top\">hNZ6Zpx841Pwla4HBUg3jA</td>\n",
       "        <td style=\"padding-left: 1em; padding-right: 1em; text-align: center; vertical-align: top\">9tSHBEoAhKu-tkU8n6SKjA</td>\n",
       "        <td style=\"padding-left: 1em; padding-right: 1em; text-align: center; vertical-align: top\">5</td>\n",
       "    </tr>\n",
       "    <tr>\n",
       "        <td style=\"padding-left: 1em; padding-right: 1em; text-align: center; vertical-align: top\">s6M4t4M7LBa1iZXNViBJpQ</td>\n",
       "        <td style=\"padding-left: 1em; padding-right: 1em; text-align: center; vertical-align: top\">SsTxjxo8qvqBMvan1rzNzg</td>\n",
       "        <td style=\"padding-left: 1em; padding-right: 1em; text-align: center; vertical-align: top\">1</td>\n",
       "    </tr>\n",
       "    <tr>\n",
       "        <td style=\"padding-left: 1em; padding-right: 1em; text-align: center; vertical-align: top\">zh9ep0B_gvLEIIU39iaWsA</td>\n",
       "        <td style=\"padding-left: 1em; padding-right: 1em; text-align: center; vertical-align: top\">EnQewGyKYsME5gchmyvsPg</td>\n",
       "        <td style=\"padding-left: 1em; padding-right: 1em; text-align: center; vertical-align: top\">2</td>\n",
       "    </tr>\n",
       "    <tr>\n",
       "        <td style=\"padding-left: 1em; padding-right: 1em; text-align: center; vertical-align: top\">DWvKVtLEnVD37sumfzfE3A</td>\n",
       "        <td style=\"padding-left: 1em; padding-right: 1em; text-align: center; vertical-align: top\">AVQG9O8zAnW_f2a8MU8b2A</td>\n",
       "        <td style=\"padding-left: 1em; padding-right: 1em; text-align: center; vertical-align: top\">4</td>\n",
       "    </tr>\n",
       "    <tr>\n",
       "        <td style=\"padding-left: 1em; padding-right: 1em; text-align: center; vertical-align: top\">Rz4uxa3SDYz2j4luErp_YQ</td>\n",
       "        <td style=\"padding-left: 1em; padding-right: 1em; text-align: center; vertical-align: top\">-PESvVv3rPQFAU1_cZ8_hw</td>\n",
       "        <td style=\"padding-left: 1em; padding-right: 1em; text-align: center; vertical-align: top\">5</td>\n",
       "    </tr>\n",
       "    <tr>\n",
       "        <td style=\"padding-left: 1em; padding-right: 1em; text-align: center; vertical-align: top\">o4MPZ7LQVjA0I_x2RB1tVg</td>\n",
       "        <td style=\"padding-left: 1em; padding-right: 1em; text-align: center; vertical-align: top\">9JTxqwSxtsf2xERoBtTTsg</td>\n",
       "        <td style=\"padding-left: 1em; padding-right: 1em; text-align: center; vertical-align: top\">5</td>\n",
       "    </tr>\n",
       "</table>\n",
       "[54 rows x 3 columns]<br/>Note: Only the head of the SFrame is printed.<br/>You can use print_rows(num_rows=m, num_columns=n) to print more rows and columns.\n",
       "</div>"
      ],
      "text/plain": [
       "Columns:\n",
       "\tuser_id\tstr\n",
       "\tbusiness_id\tstr\n",
       "\tstars\tint\n",
       "\n",
       "Rows: 54\n",
       "\n",
       "Data:\n",
       "+------------------------+------------------------+-------+\n",
       "|        user_id         |      business_id       | stars |\n",
       "+------------------------+------------------------+-------+\n",
       "| pE7qSGfe4MWWEPYSoqY34Q | A-wbnt6g19IWirBswkzsig |   3   |\n",
       "| H7zTsX10fKk-qgTUFK2wiQ | 1dprSfGrxNxgYiuYcmb3FQ |   4   |\n",
       "| NLCew4oPUtPvAbP0RAdEpg | wNUea3IXZWD63bbOQaOH-g |   3   |\n",
       "| Gnr3eh08NuIufa6suMYu-w | YCKOz3ja7i3nbavwdf6lWQ |   5   |\n",
       "| hNZ6Zpx841Pwla4HBUg3jA | 9tSHBEoAhKu-tkU8n6SKjA |   5   |\n",
       "| s6M4t4M7LBa1iZXNViBJpQ | SsTxjxo8qvqBMvan1rzNzg |   1   |\n",
       "| zh9ep0B_gvLEIIU39iaWsA | EnQewGyKYsME5gchmyvsPg |   2   |\n",
       "| DWvKVtLEnVD37sumfzfE3A | AVQG9O8zAnW_f2a8MU8b2A |   4   |\n",
       "| Rz4uxa3SDYz2j4luErp_YQ | -PESvVv3rPQFAU1_cZ8_hw |   5   |\n",
       "| o4MPZ7LQVjA0I_x2RB1tVg | 9JTxqwSxtsf2xERoBtTTsg |   5   |\n",
       "+------------------------+------------------------+-------+\n",
       "[54 rows x 3 columns]\n",
       "Note: Only the head of the SFrame is printed.\n",
       "You can use print_rows(num_rows=m, num_columns=n) to print more rows and columns."
      ]
     },
     "execution_count": 50,
     "metadata": {},
     "output_type": "execute_result"
    }
   ],
   "source": [
    "test_set"
   ]
  },
  {
   "cell_type": "code",
   "execution_count": null,
   "metadata": {
    "collapsed": true
   },
   "outputs": [],
   "source": []
  },
  {
   "cell_type": "code",
   "execution_count": null,
   "metadata": {
    "collapsed": true
   },
   "outputs": [],
   "source": []
  },
  {
   "cell_type": "markdown",
   "metadata": {
    "collapsed": true
   },
   "source": [
    "# Run the recommender..."
   ]
  },
  {
   "cell_type": "code",
   "execution_count": 51,
   "metadata": {
    "collapsed": false,
    "scrolled": false
   },
   "outputs": [
    {
     "data": {
      "text/html": [
       "<pre>Recsys training: model = ranking_factorization_recommender</pre>"
      ],
      "text/plain": [
       "Recsys training: model = ranking_factorization_recommender"
      ]
     },
     "metadata": {},
     "output_type": "display_data"
    },
    {
     "data": {
      "text/html": [
       "<pre>Preparing data set.</pre>"
      ],
      "text/plain": [
       "Preparing data set."
      ]
     },
     "metadata": {},
     "output_type": "display_data"
    },
    {
     "data": {
      "text/html": [
       "<pre>    Data has 1363188 observations with 388605 users and 25071 items.</pre>"
      ],
      "text/plain": [
       "    Data has 1363188 observations with 388605 users and 25071 items."
      ]
     },
     "metadata": {},
     "output_type": "display_data"
    },
    {
     "data": {
      "text/html": [
       "<pre>    Data prepared in: 1.79913s</pre>"
      ],
      "text/plain": [
       "    Data prepared in: 1.79913s"
      ]
     },
     "metadata": {},
     "output_type": "display_data"
    },
    {
     "data": {
      "text/html": [
       "<pre>Training ranking_factorization_recommender for recommendations.</pre>"
      ],
      "text/plain": [
       "Training ranking_factorization_recommender for recommendations."
      ]
     },
     "metadata": {},
     "output_type": "display_data"
    },
    {
     "data": {
      "text/html": [
       "<pre>+--------------------------------+--------------------------------------------------+----------+</pre>"
      ],
      "text/plain": [
       "+--------------------------------+--------------------------------------------------+----------+"
      ]
     },
     "metadata": {},
     "output_type": "display_data"
    },
    {
     "data": {
      "text/html": [
       "<pre>| Parameter                      | Description                                      | Value    |</pre>"
      ],
      "text/plain": [
       "| Parameter                      | Description                                      | Value    |"
      ]
     },
     "metadata": {},
     "output_type": "display_data"
    },
    {
     "data": {
      "text/html": [
       "<pre>+--------------------------------+--------------------------------------------------+----------+</pre>"
      ],
      "text/plain": [
       "+--------------------------------+--------------------------------------------------+----------+"
      ]
     },
     "metadata": {},
     "output_type": "display_data"
    },
    {
     "data": {
      "text/html": [
       "<pre>| num_factors                    | Factor Dimension                                 | 32       |</pre>"
      ],
      "text/plain": [
       "| num_factors                    | Factor Dimension                                 | 32       |"
      ]
     },
     "metadata": {},
     "output_type": "display_data"
    },
    {
     "data": {
      "text/html": [
       "<pre>| regularization                 | L2 Regularization on Factors                     | 1e-09    |</pre>"
      ],
      "text/plain": [
       "| regularization                 | L2 Regularization on Factors                     | 1e-09    |"
      ]
     },
     "metadata": {},
     "output_type": "display_data"
    },
    {
     "data": {
      "text/html": [
       "<pre>| solver                         | Solver used for training                         | adagrad  |</pre>"
      ],
      "text/plain": [
       "| solver                         | Solver used for training                         | adagrad  |"
      ]
     },
     "metadata": {},
     "output_type": "display_data"
    },
    {
     "data": {
      "text/html": [
       "<pre>| linear_regularization          | L2 Regularization on Linear Coefficients         | 1e-09    |</pre>"
      ],
      "text/plain": [
       "| linear_regularization          | L2 Regularization on Linear Coefficients         | 1e-09    |"
      ]
     },
     "metadata": {},
     "output_type": "display_data"
    },
    {
     "data": {
      "text/html": [
       "<pre>| ranking_regularization         | Rank-based Regularization Weight                 | 0.25     |</pre>"
      ],
      "text/plain": [
       "| ranking_regularization         | Rank-based Regularization Weight                 | 0.25     |"
      ]
     },
     "metadata": {},
     "output_type": "display_data"
    },
    {
     "data": {
      "text/html": [
       "<pre>| side_data_factorization        | Assign Factors for Side Data                     | True     |</pre>"
      ],
      "text/plain": [
       "| side_data_factorization        | Assign Factors for Side Data                     | True     |"
      ]
     },
     "metadata": {},
     "output_type": "display_data"
    },
    {
     "data": {
      "text/html": [
       "<pre>| max_iterations                 | Maximum Number of Iterations                     | 25       |</pre>"
      ],
      "text/plain": [
       "| max_iterations                 | Maximum Number of Iterations                     | 25       |"
      ]
     },
     "metadata": {},
     "output_type": "display_data"
    },
    {
     "data": {
      "text/html": [
       "<pre>+--------------------------------+--------------------------------------------------+----------+</pre>"
      ],
      "text/plain": [
       "+--------------------------------+--------------------------------------------------+----------+"
      ]
     },
     "metadata": {},
     "output_type": "display_data"
    },
    {
     "data": {
      "text/html": [
       "<pre>  Optimizing model using SGD; tuning step size.</pre>"
      ],
      "text/plain": [
       "  Optimizing model using SGD; tuning step size."
      ]
     },
     "metadata": {},
     "output_type": "display_data"
    },
    {
     "data": {
      "text/html": [
       "<pre>  Using 170398 / 1363188 points for tuning the step size.</pre>"
      ],
      "text/plain": [
       "  Using 170398 / 1363188 points for tuning the step size."
      ]
     },
     "metadata": {},
     "output_type": "display_data"
    },
    {
     "data": {
      "text/html": [
       "<pre>+---------+-------------------+------------------------------------------+</pre>"
      ],
      "text/plain": [
       "+---------+-------------------+------------------------------------------+"
      ]
     },
     "metadata": {},
     "output_type": "display_data"
    },
    {
     "data": {
      "text/html": [
       "<pre>| Attempt | Initial Step Size | Estimated Objective Value                |</pre>"
      ],
      "text/plain": [
       "| Attempt | Initial Step Size | Estimated Objective Value                |"
      ]
     },
     "metadata": {},
     "output_type": "display_data"
    },
    {
     "data": {
      "text/html": [
       "<pre>+---------+-------------------+------------------------------------------+</pre>"
      ],
      "text/plain": [
       "+---------+-------------------+------------------------------------------+"
      ]
     },
     "metadata": {},
     "output_type": "display_data"
    },
    {
     "data": {
      "text/html": [
       "<pre>| 0       | 1                 | Not Viable                               |</pre>"
      ],
      "text/plain": [
       "| 0       | 1                 | Not Viable                               |"
      ]
     },
     "metadata": {},
     "output_type": "display_data"
    },
    {
     "data": {
      "text/html": [
       "<pre>| 1       | 0.25              | Not Viable                               |</pre>"
      ],
      "text/plain": [
       "| 1       | 0.25              | Not Viable                               |"
      ]
     },
     "metadata": {},
     "output_type": "display_data"
    },
    {
     "data": {
      "text/html": [
       "<pre>| 2       | 0.0625            | Not Viable                               |</pre>"
      ],
      "text/plain": [
       "| 2       | 0.0625            | Not Viable                               |"
      ]
     },
     "metadata": {},
     "output_type": "display_data"
    },
    {
     "data": {
      "text/html": [
       "<pre>| 3       | 0.015625          | 2.67104                                  |</pre>"
      ],
      "text/plain": [
       "| 3       | 0.015625          | 2.67104                                  |"
      ]
     },
     "metadata": {},
     "output_type": "display_data"
    },
    {
     "data": {
      "text/html": [
       "<pre>| 4       | 0.0078125         | 2.90572                                  |</pre>"
      ],
      "text/plain": [
       "| 4       | 0.0078125         | 2.90572                                  |"
      ]
     },
     "metadata": {},
     "output_type": "display_data"
    },
    {
     "data": {
      "text/html": [
       "<pre>| 5       | 0.00390625        | 2.987                                    |</pre>"
      ],
      "text/plain": [
       "| 5       | 0.00390625        | 2.987                                    |"
      ]
     },
     "metadata": {},
     "output_type": "display_data"
    },
    {
     "data": {
      "text/html": [
       "<pre>| 6       | 0.00195312        | No Decrease (3.32616 >= 3.32058)         |</pre>"
      ],
      "text/plain": [
       "| 6       | 0.00195312        | No Decrease (3.32616 >= 3.32058)         |"
      ]
     },
     "metadata": {},
     "output_type": "display_data"
    },
    {
     "data": {
      "text/html": [
       "<pre>+---------+-------------------+------------------------------------------+</pre>"
      ],
      "text/plain": [
       "+---------+-------------------+------------------------------------------+"
      ]
     },
     "metadata": {},
     "output_type": "display_data"
    },
    {
     "data": {
      "text/html": [
       "<pre>| Final   | 0.015625          | 2.67104                                  |</pre>"
      ],
      "text/plain": [
       "| Final   | 0.015625          | 2.67104                                  |"
      ]
     },
     "metadata": {},
     "output_type": "display_data"
    },
    {
     "data": {
      "text/html": [
       "<pre>+---------+-------------------+------------------------------------------+</pre>"
      ],
      "text/plain": [
       "+---------+-------------------+------------------------------------------+"
      ]
     },
     "metadata": {},
     "output_type": "display_data"
    },
    {
     "data": {
      "text/html": [
       "<pre>Starting Optimization.</pre>"
      ],
      "text/plain": [
       "Starting Optimization."
      ]
     },
     "metadata": {},
     "output_type": "display_data"
    },
    {
     "data": {
      "text/html": [
       "<pre>+---------+--------------+-------------------+-----------------------+-------------+</pre>"
      ],
      "text/plain": [
       "+---------+--------------+-------------------+-----------------------+-------------+"
      ]
     },
     "metadata": {},
     "output_type": "display_data"
    },
    {
     "data": {
      "text/html": [
       "<pre>| Iter.   | Elapsed Time | Approx. Objective | Approx. Training RMSE | Step Size   |</pre>"
      ],
      "text/plain": [
       "| Iter.   | Elapsed Time | Approx. Objective | Approx. Training RMSE | Step Size   |"
      ]
     },
     "metadata": {},
     "output_type": "display_data"
    },
    {
     "data": {
      "text/html": [
       "<pre>+---------+--------------+-------------------+-----------------------+-------------+</pre>"
      ],
      "text/plain": [
       "+---------+--------------+-------------------+-----------------------+-------------+"
      ]
     },
     "metadata": {},
     "output_type": "display_data"
    },
    {
     "data": {
      "text/html": [
       "<pre>| Initial | 131us        | 3.32572           | 1.30232               |             |</pre>"
      ],
      "text/plain": [
       "| Initial | 131us        | 3.32572           | 1.30232               |             |"
      ]
     },
     "metadata": {},
     "output_type": "display_data"
    },
    {
     "data": {
      "text/html": [
       "<pre>+---------+--------------+-------------------+-----------------------+-------------+</pre>"
      ],
      "text/plain": [
       "+---------+--------------+-------------------+-----------------------+-------------+"
      ]
     },
     "metadata": {},
     "output_type": "display_data"
    },
    {
     "data": {
      "text/html": [
       "<pre>| 1       | 54.47s       | 2.99684           | 1.26291               | 0.015625    |</pre>"
      ],
      "text/plain": [
       "| 1       | 54.47s       | 2.99684           | 1.26291               | 0.015625    |"
      ]
     },
     "metadata": {},
     "output_type": "display_data"
    },
    {
     "data": {
      "text/html": [
       "<pre>| 2       | 1m 46s       | 2.82506           | 1.24001               | 0.015625    |</pre>"
      ],
      "text/plain": [
       "| 2       | 1m 46s       | 2.82506           | 1.24001               | 0.015625    |"
      ]
     },
     "metadata": {},
     "output_type": "display_data"
    },
    {
     "data": {
      "text/html": [
       "<pre>| 3       | 2m 38s       | 2.74005           | 1.23905               | 0.015625    |</pre>"
      ],
      "text/plain": [
       "| 3       | 2m 38s       | 2.74005           | 1.23905               | 0.015625    |"
      ]
     },
     "metadata": {},
     "output_type": "display_data"
    },
    {
     "data": {
      "text/html": [
       "<pre>| 4       | 3m 29s       | 2.68677           | 1.23888               | 0.015625    |</pre>"
      ],
      "text/plain": [
       "| 4       | 3m 29s       | 2.68677           | 1.23888               | 0.015625    |"
      ]
     },
     "metadata": {},
     "output_type": "display_data"
    },
    {
     "data": {
      "text/html": [
       "<pre>| 5       | 4m 41s       | DIVERGED          | DIVERGED              | 0.015625    |</pre>"
      ],
      "text/plain": [
       "| 5       | 4m 41s       | DIVERGED          | DIVERGED              | 0.015625    |"
      ]
     },
     "metadata": {},
     "output_type": "display_data"
    },
    {
     "data": {
      "text/html": [
       "<pre>| RESET   | 5m 3s        | 3.32562           | 1.30232               |             |</pre>"
      ],
      "text/plain": [
       "| RESET   | 5m 3s        | 3.32562           | 1.30232               |             |"
      ]
     },
     "metadata": {},
     "output_type": "display_data"
    },
    {
     "data": {
      "text/html": [
       "<pre>| 1       | 5m 56s       | 3.09948           | 1.26356               | 0.0078125   |</pre>"
      ],
      "text/plain": [
       "| 1       | 5m 56s       | 3.09948           | 1.26356               | 0.0078125   |"
      ]
     },
     "metadata": {},
     "output_type": "display_data"
    },
    {
     "data": {
      "text/html": [
       "<pre>| 2       | 6m 48s       | 2.96108           | 1.24692               | 0.0078125   |</pre>"
      ],
      "text/plain": [
       "| 2       | 6m 48s       | 2.96108           | 1.24692               | 0.0078125   |"
      ]
     },
     "metadata": {},
     "output_type": "display_data"
    },
    {
     "data": {
      "text/html": [
       "<pre>| 3       | 7m 40s       | 2.89789           | 1.24339               | 0.0078125   |</pre>"
      ],
      "text/plain": [
       "| 3       | 7m 40s       | 2.89789           | 1.24339               | 0.0078125   |"
      ]
     },
     "metadata": {},
     "output_type": "display_data"
    },
    {
     "data": {
      "text/html": [
       "<pre>| 4       | 8m 32s       | 2.85358           | 1.2422                | 0.0078125   |</pre>"
      ],
      "text/plain": [
       "| 4       | 8m 32s       | 2.85358           | 1.2422                | 0.0078125   |"
      ]
     },
     "metadata": {},
     "output_type": "display_data"
    },
    {
     "data": {
      "text/html": [
       "<pre>| 5       | 9m 25s       | 2.82211           | 1.24939               | 0.0078125   |</pre>"
      ],
      "text/plain": [
       "| 5       | 9m 25s       | 2.82211           | 1.24939               | 0.0078125   |"
      ]
     },
     "metadata": {},
     "output_type": "display_data"
    },
    {
     "data": {
      "text/html": [
       "<pre>| 6       | 10m 19s      | 4.43657           | 1.68038               | 0.0078125   |</pre>"
      ],
      "text/plain": [
       "| 6       | 10m 19s      | 4.43657           | 1.68038               | 0.0078125   |"
      ]
     },
     "metadata": {},
     "output_type": "display_data"
    },
    {
     "data": {
      "text/html": [
       "<pre>| 7       | 11m 25s      | DIVERGED          | DIVERGED              | 0.0078125   |</pre>"
      ],
      "text/plain": [
       "| 7       | 11m 25s      | DIVERGED          | DIVERGED              | 0.0078125   |"
      ]
     },
     "metadata": {},
     "output_type": "display_data"
    },
    {
     "data": {
      "text/html": [
       "<pre>| RESET   | 11m 47s      | 3.32564           | 1.30231               |             |</pre>"
      ],
      "text/plain": [
       "| RESET   | 11m 47s      | 3.32564           | 1.30231               |             |"
      ]
     },
     "metadata": {},
     "output_type": "display_data"
    },
    {
     "data": {
      "text/html": [
       "<pre>| 1       | 12m 38s      | 3.2106            | 1.3153                | 0.00390625  |</pre>"
      ],
      "text/plain": [
       "| 1       | 12m 38s      | 3.2106            | 1.3153                | 0.00390625  |"
      ]
     },
     "metadata": {},
     "output_type": "display_data"
    },
    {
     "data": {
      "text/html": [
       "<pre>| 2       | 13m 51s      | DIVERGED          | DIVERGED              | 0.00390625  |</pre>"
      ],
      "text/plain": [
       "| 2       | 13m 51s      | DIVERGED          | DIVERGED              | 0.00390625  |"
      ]
     },
     "metadata": {},
     "output_type": "display_data"
    },
    {
     "data": {
      "text/html": [
       "<pre>| RESET   | 14m 12s      | 3.32558           | 1.30231               |             |</pre>"
      ],
      "text/plain": [
       "| RESET   | 14m 12s      | 3.32558           | 1.30231               |             |"
      ]
     },
     "metadata": {},
     "output_type": "display_data"
    },
    {
     "data": {
      "text/html": [
       "<pre>| 1       | 15m 6s       | 3.25045           | 1.29833               | 0.00195312  |</pre>"
      ],
      "text/plain": [
       "| 1       | 15m 6s       | 3.25045           | 1.29833               | 0.00195312  |"
      ]
     },
     "metadata": {},
     "output_type": "display_data"
    },
    {
     "data": {
      "text/html": [
       "<pre>| 2       | 16m 0s       | 3.06047           | 1.2693                | 0.00195312  |</pre>"
      ],
      "text/plain": [
       "| 2       | 16m 0s       | 3.06047           | 1.2693                | 0.00195312  |"
      ]
     },
     "metadata": {},
     "output_type": "display_data"
    },
    {
     "data": {
      "text/html": [
       "<pre>| 3       | 16m 52s      | 3.029             | 1.26942               | 0.00195312  |</pre>"
      ],
      "text/plain": [
       "| 3       | 16m 52s      | 3.029             | 1.26942               | 0.00195312  |"
      ]
     },
     "metadata": {},
     "output_type": "display_data"
    },
    {
     "data": {
      "text/html": [
       "<pre>| 4       | 17m 46s      | 3.18962           | 1.27372               | 0.00195312  |</pre>"
      ],
      "text/plain": [
       "| 4       | 17m 46s      | 3.18962           | 1.27372               | 0.00195312  |"
      ]
     },
     "metadata": {},
     "output_type": "display_data"
    },
    {
     "data": {
      "text/html": [
       "<pre>| 5       | 18m 39s      | 3.29356           | 1.28534               | 0.00195312  |</pre>"
      ],
      "text/plain": [
       "| 5       | 18m 39s      | 3.29356           | 1.28534               | 0.00195312  |"
      ]
     },
     "metadata": {},
     "output_type": "display_data"
    },
    {
     "data": {
      "text/html": [
       "<pre>| 6       | 19m 32s      | 3.85362           | 1.34946               | 0.00195312  |</pre>"
      ],
      "text/plain": [
       "| 6       | 19m 32s      | 3.85362           | 1.34946               | 0.00195312  |"
      ]
     },
     "metadata": {},
     "output_type": "display_data"
    },
    {
     "data": {
      "text/html": [
       "<pre>| 7       | 20m 24s      | 3.66265           | 1.30444               | 0.00195312  |</pre>"
      ],
      "text/plain": [
       "| 7       | 20m 24s      | 3.66265           | 1.30444               | 0.00195312  |"
      ]
     },
     "metadata": {},
     "output_type": "display_data"
    },
    {
     "data": {
      "text/html": [
       "<pre>| 8       | 21m 18s      | 3.43746           | 1.27939               | 0.00195312  |</pre>"
      ],
      "text/plain": [
       "| 8       | 21m 18s      | 3.43746           | 1.27939               | 0.00195312  |"
      ]
     },
     "metadata": {},
     "output_type": "display_data"
    },
    {
     "data": {
      "text/html": [
       "<pre>| 9       | 22m 12s      | 3.4168            | 1.27592               | 0.00195312  |</pre>"
      ],
      "text/plain": [
       "| 9       | 22m 12s      | 3.4168            | 1.27592               | 0.00195312  |"
      ]
     },
     "metadata": {},
     "output_type": "display_data"
    },
    {
     "data": {
      "text/html": [
       "<pre>| 10      | 23m 4s       | 3.41127           | 1.27498               | 0.00195312  |</pre>"
      ],
      "text/plain": [
       "| 10      | 23m 4s       | 3.41127           | 1.27498               | 0.00195312  |"
      ]
     },
     "metadata": {},
     "output_type": "display_data"
    },
    {
     "data": {
      "text/html": [
       "<pre>| 11      | 23m 56s      | 3.4004            | 1.28297               | 0.00195312  |</pre>"
      ],
      "text/plain": [
       "| 11      | 23m 56s      | 3.4004            | 1.28297               | 0.00195312  |"
      ]
     },
     "metadata": {},
     "output_type": "display_data"
    },
    {
     "data": {
      "text/html": [
       "<pre>| 12      | 24m 48s      | 3.51798           | 1.35716               | 0.00195312  |</pre>"
      ],
      "text/plain": [
       "| 12      | 24m 48s      | 3.51798           | 1.35716               | 0.00195312  |"
      ]
     },
     "metadata": {},
     "output_type": "display_data"
    },
    {
     "data": {
      "text/html": [
       "<pre>| 13      | 26m 2s       | DIVERGED          | DIVERGED              | 0.00195312  |</pre>"
      ],
      "text/plain": [
       "| 13      | 26m 2s       | DIVERGED          | DIVERGED              | 0.00195312  |"
      ]
     },
     "metadata": {},
     "output_type": "display_data"
    },
    {
     "data": {
      "text/html": [
       "<pre>| RESET   | 26m 23s      | 3.32565           | 1.30232               |             |</pre>"
      ],
      "text/plain": [
       "| RESET   | 26m 23s      | 3.32565           | 1.30232               |             |"
      ]
     },
     "metadata": {},
     "output_type": "display_data"
    },
    {
     "data": {
      "text/html": [
       "<pre>| 1       | 27m 15s      | 3.29323           | 1.29485               | 0.000976562 |</pre>"
      ],
      "text/plain": [
       "| 1       | 27m 15s      | 3.29323           | 1.29485               | 0.000976562 |"
      ]
     },
     "metadata": {},
     "output_type": "display_data"
    },
    {
     "name": "stderr",
     "output_type": "stream",
     "text": [
      "[ERROR] graphlab.toolkits._main: Toolkit error: Cancelled by user.\n"
     ]
    },
    {
     "ename": "ToolkitError",
     "evalue": "Cancelled by user.",
     "output_type": "error",
     "traceback": [
      "\u001b[0;31m---------------------------------------------------------------------------\u001b[0m",
      "\u001b[0;31mToolkitError\u001b[0m                              Traceback (most recent call last)",
      "\u001b[0;32m<ipython-input-51-9809e640b1c3>\u001b[0m in \u001b[0;36m<module>\u001b[0;34m()\u001b[0m\n\u001b[1;32m      5\u001b[0m             \u001b[0mitem_id\u001b[0m\u001b[0;34m=\u001b[0m\u001b[0;34m'business_id'\u001b[0m\u001b[0;34m,\u001b[0m\u001b[0;34m\u001b[0m\u001b[0m\n\u001b[1;32m      6\u001b[0m             \u001b[0mtarget\u001b[0m\u001b[0;34m=\u001b[0m\u001b[0;34m'stars'\u001b[0m\u001b[0;34m,\u001b[0m\u001b[0;34m\u001b[0m\u001b[0m\n\u001b[0;32m----> 7\u001b[0;31m             item_data=sf_itemdata)\n\u001b[0m",
      "\u001b[0;32m/Volumes/Macintosh_HD/Users/deanliu/anaconda/lib/python2.7/site-packages/graphlab/toolkits/recommender/util.pyc\u001b[0m in \u001b[0;36m_create\u001b[0;34m(observation_data, user_id, item_id, target, user_data, item_data, ranking, verbose)\u001b[0m\n\u001b[1;32m    178\u001b[0m         \u001b[0;32mreturn\u001b[0m \u001b[0m_graphlab\u001b[0m\u001b[0;34m.\u001b[0m\u001b[0mrecommender\u001b[0m\u001b[0;34m.\u001b[0m\u001b[0mfactorization_recommender\u001b[0m\u001b[0;34m.\u001b[0m\u001b[0mcreate\u001b[0m\u001b[0;34m(\u001b[0m\u001b[0;34m**\u001b[0m\u001b[0mopts\u001b[0m\u001b[0;34m)\u001b[0m\u001b[0;34m\u001b[0m\u001b[0m\n\u001b[1;32m    179\u001b[0m     \u001b[0;32melif\u001b[0m \u001b[0mmethod\u001b[0m \u001b[0;34m==\u001b[0m \u001b[0;34m\"ranking_factorization_recommender\"\u001b[0m\u001b[0;34m:\u001b[0m\u001b[0;34m\u001b[0m\u001b[0m\n\u001b[0;32m--> 180\u001b[0;31m         \u001b[0;32mreturn\u001b[0m \u001b[0m_graphlab\u001b[0m\u001b[0;34m.\u001b[0m\u001b[0mrecommender\u001b[0m\u001b[0;34m.\u001b[0m\u001b[0mranking_factorization_recommender\u001b[0m\u001b[0;34m.\u001b[0m\u001b[0mcreate\u001b[0m\u001b[0;34m(\u001b[0m\u001b[0;34m**\u001b[0m\u001b[0mopts\u001b[0m\u001b[0;34m)\u001b[0m\u001b[0;34m\u001b[0m\u001b[0m\n\u001b[0m\u001b[1;32m    181\u001b[0m     \u001b[0;32melse\u001b[0m\u001b[0;34m:\u001b[0m\u001b[0;34m\u001b[0m\u001b[0m\n\u001b[1;32m    182\u001b[0m         \u001b[0;32mraise\u001b[0m \u001b[0mRuntimeError\u001b[0m\u001b[0;34m(\u001b[0m\u001b[0;34m\"Provided method not recognized.\"\u001b[0m\u001b[0;34m)\u001b[0m\u001b[0;34m\u001b[0m\u001b[0m\n",
      "\u001b[0;32m/Volumes/Macintosh_HD/Users/deanliu/anaconda/lib/python2.7/site-packages/graphlab/toolkits/recommender/ranking_factorization_recommender.pyc\u001b[0m in \u001b[0;36mcreate\u001b[0;34m(observation_data, user_id, item_id, target, user_data, item_data, num_factors, regularization, linear_regularization, side_data_factorization, ranking_regularization, unobserved_rating_value, num_sampled_negative_examples, max_iterations, sgd_step_size, random_seed, binary_target, solver, verbose, **kwargs)\u001b[0m\n\u001b[1;32m    267\u001b[0m         \u001b[0mopts\u001b[0m\u001b[0;34m.\u001b[0m\u001b[0mupdate\u001b[0m\u001b[0;34m(\u001b[0m\u001b[0mkwargs\u001b[0m\u001b[0;34m)\u001b[0m\u001b[0;34m\u001b[0m\u001b[0m\n\u001b[1;32m    268\u001b[0m \u001b[0;34m\u001b[0m\u001b[0m\n\u001b[0;32m--> 269\u001b[0;31m     \u001b[0mresponse\u001b[0m \u001b[0;34m=\u001b[0m \u001b[0m_graphlab\u001b[0m\u001b[0;34m.\u001b[0m\u001b[0mtoolkits\u001b[0m\u001b[0;34m.\u001b[0m\u001b[0m_main\u001b[0m\u001b[0;34m.\u001b[0m\u001b[0mrun\u001b[0m\u001b[0;34m(\u001b[0m\u001b[0;34m'recsys_train'\u001b[0m\u001b[0;34m,\u001b[0m \u001b[0mopts\u001b[0m\u001b[0;34m,\u001b[0m \u001b[0mverbose\u001b[0m\u001b[0;34m)\u001b[0m\u001b[0;34m\u001b[0m\u001b[0m\n\u001b[0m\u001b[1;32m    270\u001b[0m \u001b[0;34m\u001b[0m\u001b[0m\n\u001b[1;32m    271\u001b[0m     \u001b[0;32mreturn\u001b[0m \u001b[0mRankingFactorizationRecommender\u001b[0m\u001b[0;34m(\u001b[0m\u001b[0mresponse\u001b[0m\u001b[0;34m[\u001b[0m\u001b[0;34m'model'\u001b[0m\u001b[0;34m]\u001b[0m\u001b[0;34m)\u001b[0m\u001b[0;34m\u001b[0m\u001b[0m\n",
      "\u001b[0;32m/Volumes/Macintosh_HD/Users/deanliu/anaconda/lib/python2.7/site-packages/graphlab/toolkits/_main.pyc\u001b[0m in \u001b[0;36mrun\u001b[0;34m(toolkit_name, options, verbose, show_progress)\u001b[0m\n\u001b[1;32m     87\u001b[0m         \u001b[0m_get_metric_tracker\u001b[0m\u001b[0;34m(\u001b[0m\u001b[0;34m)\u001b[0m\u001b[0;34m.\u001b[0m\u001b[0mtrack\u001b[0m\u001b[0;34m(\u001b[0m\u001b[0mmetric_name\u001b[0m\u001b[0;34m,\u001b[0m \u001b[0mvalue\u001b[0m\u001b[0;34m=\u001b[0m\u001b[0;36m1\u001b[0m\u001b[0;34m,\u001b[0m \u001b[0mproperties\u001b[0m\u001b[0;34m=\u001b[0m\u001b[0mtrack_props\u001b[0m\u001b[0;34m,\u001b[0m \u001b[0msend_sys_info\u001b[0m\u001b[0;34m=\u001b[0m\u001b[0mFalse\u001b[0m\u001b[0;34m)\u001b[0m\u001b[0;34m\u001b[0m\u001b[0m\n\u001b[1;32m     88\u001b[0m \u001b[0;34m\u001b[0m\u001b[0m\n\u001b[0;32m---> 89\u001b[0;31m         \u001b[0;32mraise\u001b[0m \u001b[0mToolkitError\u001b[0m\u001b[0;34m(\u001b[0m\u001b[0mstr\u001b[0m\u001b[0;34m(\u001b[0m\u001b[0mmessage\u001b[0m\u001b[0;34m)\u001b[0m\u001b[0;34m)\u001b[0m\u001b[0;34m\u001b[0m\u001b[0m\n\u001b[0m",
      "\u001b[0;31mToolkitError\u001b[0m: Cancelled by user."
     ]
    }
   ],
   "source": [
    "# create the recommender (will train during this step)\n",
    "rec = gl.recommender.create(\n",
    "            train_set,\n",
    "            user_id='user_id',\n",
    "            item_id='business_id',\n",
    "            target='stars',\n",
    "            item_data=sf_itemdata)"
   ]
  },
  {
   "cell_type": "code",
   "execution_count": null,
   "metadata": {
    "collapsed": true
   },
   "outputs": [],
   "source": []
  },
  {
   "cell_type": "code",
   "execution_count": null,
   "metadata": {
    "collapsed": true
   },
   "outputs": [],
   "source": []
  },
  {
   "cell_type": "code",
   "execution_count": null,
   "metadata": {
    "collapsed": true
   },
   "outputs": [],
   "source": []
  },
  {
   "cell_type": "code",
   "execution_count": null,
   "metadata": {
    "collapsed": false,
    "scrolled": false
   },
   "outputs": [],
   "source": [
    "# rec = gl.recommender.create(\n",
    "#             sf_obj,\n",
    "#             user_id='user_id',\n",
    "#             item_id='business_id',\n",
    "#             target ='stars')"
   ]
  },
  {
   "cell_type": "code",
   "execution_count": null,
   "metadata": {
    "collapsed": false
   },
   "outputs": [],
   "source": [
    "# evaluate 1 datapoint (user=1, business=100) for potential rating\n",
    "one_datapoint_sf = graphlab.SFrame({'user_id': [1], 'business_id': [100]})\n",
    "print \"stars:\", rec.predict(one_datapoint_sf)[0]   # 4.879"
   ]
  },
  {
   "cell_type": "code",
   "execution_count": null,
   "metadata": {
    "collapsed": false
   },
   "outputs": [],
   "source": [
    "rec.list_fields()"
   ]
  },
  {
   "cell_type": "code",
   "execution_count": null,
   "metadata": {
    "collapsed": false
   },
   "outputs": [],
   "source": [
    "rec.get('coefficients')['intercept']"
   ]
  },
  {
   "cell_type": "code",
   "execution_count": null,
   "metadata": {
    "collapsed": false,
    "scrolled": false
   },
   "outputs": [],
   "source": [
    "# rec['coefficients']  # equivalent to: rec.get('coefficients')\n",
    "rec.get('coefficients')['user_id']"
   ]
  },
  {
   "cell_type": "code",
   "execution_count": null,
   "metadata": {
    "collapsed": false,
    "scrolled": false
   },
   "outputs": [],
   "source": [
    "# rec['coefficients']  # equivalent to: rec.get('coefficients')\n",
    "rec.get('coefficients')['business_id']"
   ]
  },
  {
   "cell_type": "code",
   "execution_count": null,
   "metadata": {
    "collapsed": false
   },
   "outputs": [],
   "source": [
    "business_sf = rec['coefficients']['business_id']\n",
    "print len(business_sf)                     # 1682\n",
    "print len(business_sf['factors'][0])       # 8\n",
    "user_sf = rec['coefficients']['user_id']\n",
    "print len(user_sf)                      # 943\n",
    "print len(user_sf['factors'][0])        # 8"
   ]
  },
  {
   "cell_type": "code",
   "execution_count": null,
   "metadata": {
    "collapsed": true
   },
   "outputs": [],
   "source": [
    "import os"
   ]
  },
  {
   "cell_type": "code",
   "execution_count": null,
   "metadata": {
    "collapsed": false
   },
   "outputs": [],
   "source": [
    "os.path.getsize()"
   ]
  },
  {
   "cell_type": "code",
   "execution_count": null,
   "metadata": {
    "collapsed": true
   },
   "outputs": [],
   "source": [
    "import progressbar"
   ]
  },
  {
   "cell_type": "code",
   "execution_count": null,
   "metadata": {
    "collapsed": false
   },
   "outputs": [],
   "source": [
    "progressbar.__version__"
   ]
  },
  {
   "cell_type": "code",
   "execution_count": null,
   "metadata": {
    "collapsed": false
   },
   "outputs": [],
   "source": [
    "bar = progressbar.ProgressBar"
   ]
  },
  {
   "cell_type": "code",
   "execution_count": null,
   "metadata": {
    "collapsed": true
   },
   "outputs": [],
   "source": []
  },
  {
   "cell_type": "code",
   "execution_count": null,
   "metadata": {
    "collapsed": true
   },
   "outputs": [],
   "source": []
  },
  {
   "cell_type": "markdown",
   "metadata": {
    "collapsed": true
   },
   "source": [
    "scratch pad..."
   ]
  },
  {
   "cell_type": "markdown",
   "metadata": {},
   "source": [
    "If [0, 1, 2] are numerical labels and is not the index, then pandas.DataFrame.pivot_table works:\n",
    "\n",
    "This blog post was helpful: http://pbpython.com/pandas-pivot-table-explained.html"
   ]
  },
  {
   "cell_type": "code",
   "execution_count": null,
   "metadata": {
    "collapsed": false
   },
   "outputs": [],
   "source": [
    "data = pd.DataFrame.from_records(\n",
    "    [[0, 'A'], [0, 'B'], [1, 'B'], [1, 'C'], [1, 'D'], [2, 'B'], [2, 'D']],\n",
    "    columns=['number_label', 'category'])\n",
    "data"
   ]
  },
  {
   "cell_type": "code",
   "execution_count": null,
   "metadata": {
    "collapsed": false
   },
   "outputs": [],
   "source": [
    "data.pivot_table(index=['number_label'], columns=['category'], aggfunc=[len], fill_value=0)"
   ]
  },
  {
   "cell_type": "code",
   "execution_count": null,
   "metadata": {
    "collapsed": true
   },
   "outputs": [],
   "source": []
  },
  {
   "cell_type": "markdown",
   "metadata": {},
   "source": [
    "If [0, 1, 2] is the index, then collections.Counter is useful:"
   ]
  },
  {
   "cell_type": "code",
   "execution_count": null,
   "metadata": {
    "collapsed": false
   },
   "outputs": [],
   "source": [
    "data2 = pd.DataFrame.from_dict({'categories': {0: ['A', 'B'],\n",
    "                                               1: ['B', 'C', 'D'],\n",
    "                                               2:['B', 'D']}})\n",
    "data2"
   ]
  },
  {
   "cell_type": "code",
   "execution_count": null,
   "metadata": {
    "collapsed": true
   },
   "outputs": [],
   "source": [
    "import collections"
   ]
  },
  {
   "cell_type": "code",
   "execution_count": null,
   "metadata": {
    "collapsed": false
   },
   "outputs": [],
   "source": [
    "data3 = data2['categories'].apply(collections.Counter)\n",
    "data3"
   ]
  },
  {
   "cell_type": "code",
   "execution_count": null,
   "metadata": {
    "collapsed": false
   },
   "outputs": [],
   "source": [
    "pd.DataFrame.from_records(data3).fillna(value=0).astype(int)"
   ]
  },
  {
   "cell_type": "code",
   "execution_count": null,
   "metadata": {
    "collapsed": true
   },
   "outputs": [],
   "source": [
    "collections.Counter"
   ]
  },
  {
   "cell_type": "code",
   "execution_count": null,
   "metadata": {
    "collapsed": true
   },
   "outputs": [],
   "source": []
  },
  {
   "cell_type": "code",
   "execution_count": null,
   "metadata": {
    "collapsed": true
   },
   "outputs": [],
   "source": []
  },
  {
   "cell_type": "code",
   "execution_count": null,
   "metadata": {
    "collapsed": true
   },
   "outputs": [],
   "source": []
  },
  {
   "cell_type": "code",
   "execution_count": null,
   "metadata": {
    "collapsed": true
   },
   "outputs": [],
   "source": []
  },
  {
   "cell_type": "code",
   "execution_count": null,
   "metadata": {
    "collapsed": true
   },
   "outputs": [],
   "source": []
  }
 ],
 "metadata": {
  "kernelspec": {
   "display_name": "Python 2",
   "language": "python",
   "name": "python2"
  },
  "language_info": {
   "codemirror_mode": {
    "name": "ipython",
    "version": 2
   },
   "file_extension": ".py",
   "mimetype": "text/x-python",
   "name": "python",
   "nbconvert_exporter": "python",
   "pygments_lexer": "ipython2",
   "version": "2.7.11"
  }
 },
 "nbformat": 4,
 "nbformat_minor": 0
}
