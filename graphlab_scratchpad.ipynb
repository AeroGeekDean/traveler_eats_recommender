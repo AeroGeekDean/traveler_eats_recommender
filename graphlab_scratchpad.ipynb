{
 "cells": [
  {
   "cell_type": "markdown",
   "metadata": {},
   "source": [
    "# Scratchpad for testing out graphlab with project data"
   ]
  },
  {
   "cell_type": "code",
   "execution_count": null,
   "metadata": {
    "collapsed": true
   },
   "outputs": [],
   "source": []
  },
  {
   "cell_type": "code",
   "execution_count": 1,
   "metadata": {
    "collapsed": false
   },
   "outputs": [
    {
     "name": "stderr",
     "output_type": "stream",
     "text": [
      "[INFO] graphlab.cython.cy_server: GraphLab Create v1.10.1 started. Logging: /tmp/graphlab_server_1467047207.log\n"
     ]
    },
    {
     "name": "stdout",
     "output_type": "stream",
     "text": [
      "This non-commercial license of GraphLab Create is assigned to windsurf_dean@yahoo.com and will expire on May 26, 2017. For commercial licensing options, visit https://dato.com/buy/.\n"
     ]
    }
   ],
   "source": [
    "import numpy as np\n",
    "import graphlab\n",
    "import pandas as pd\n",
    "import matplotlib.pyplot as plt"
   ]
  },
  {
   "cell_type": "code",
   "execution_count": 2,
   "metadata": {
    "collapsed": true
   },
   "outputs": [],
   "source": [
    "# create Pandas DF with data pulled from Postgres\n",
    "df = pd.read_csv('data_analysis/user_reviews.csv', header=None,\n",
    "                 names=['user_id', 'business_id', 'bus_name', 'stars', 'locale'])"
   ]
  },
  {
   "cell_type": "code",
   "execution_count": 28,
   "metadata": {
    "collapsed": false
   },
   "outputs": [
    {
     "data": {
      "text/html": [
       "<div>\n",
       "<table border=\"1\" class=\"dataframe\">\n",
       "  <thead>\n",
       "    <tr style=\"text-align: right;\">\n",
       "      <th></th>\n",
       "      <th>user_id</th>\n",
       "      <th>business_id</th>\n",
       "      <th>bus_name</th>\n",
       "      <th>stars</th>\n",
       "      <th>locale</th>\n",
       "    </tr>\n",
       "  </thead>\n",
       "  <tbody>\n",
       "    <tr>\n",
       "      <th>0</th>\n",
       "      <td>Ouus3lC3Xk3YRGx4ptd_4A</td>\n",
       "      <td>DW6SI2KxcfXBHeo9jEr4lQ</td>\n",
       "      <td>Pyramid Cafe</td>\n",
       "      <td>2</td>\n",
       "      <td>Las Vegas, NV</td>\n",
       "    </tr>\n",
       "    <tr>\n",
       "      <th>1</th>\n",
       "      <td>dz_sBsL69aWzsxksT2O_Mg</td>\n",
       "      <td>DW6SI2KxcfXBHeo9jEr4lQ</td>\n",
       "      <td>Pyramid Cafe</td>\n",
       "      <td>2</td>\n",
       "      <td>Las Vegas, NV</td>\n",
       "    </tr>\n",
       "    <tr>\n",
       "      <th>2</th>\n",
       "      <td>zyI-u0C1YOzp5v1j2wuCOQ</td>\n",
       "      <td>DW6SI2KxcfXBHeo9jEr4lQ</td>\n",
       "      <td>Pyramid Cafe</td>\n",
       "      <td>3</td>\n",
       "      <td>Las Vegas, NV</td>\n",
       "    </tr>\n",
       "    <tr>\n",
       "      <th>3</th>\n",
       "      <td>vyfsQo-estP8EfiIFMsL6g</td>\n",
       "      <td>DW6SI2KxcfXBHeo9jEr4lQ</td>\n",
       "      <td>Pyramid Cafe</td>\n",
       "      <td>3</td>\n",
       "      <td>Las Vegas, NV</td>\n",
       "    </tr>\n",
       "    <tr>\n",
       "      <th>4</th>\n",
       "      <td>lxZSVeJz6KEBW1nlA3JKJg</td>\n",
       "      <td>DW6SI2KxcfXBHeo9jEr4lQ</td>\n",
       "      <td>Pyramid Cafe</td>\n",
       "      <td>1</td>\n",
       "      <td>Las Vegas, NV</td>\n",
       "    </tr>\n",
       "  </tbody>\n",
       "</table>\n",
       "</div>"
      ],
      "text/plain": [
       "                  user_id             business_id      bus_name  stars  \\\n",
       "0  Ouus3lC3Xk3YRGx4ptd_4A  DW6SI2KxcfXBHeo9jEr4lQ  Pyramid Cafe      2   \n",
       "1  dz_sBsL69aWzsxksT2O_Mg  DW6SI2KxcfXBHeo9jEr4lQ  Pyramid Cafe      2   \n",
       "2  zyI-u0C1YOzp5v1j2wuCOQ  DW6SI2KxcfXBHeo9jEr4lQ  Pyramid Cafe      3   \n",
       "3  vyfsQo-estP8EfiIFMsL6g  DW6SI2KxcfXBHeo9jEr4lQ  Pyramid Cafe      3   \n",
       "4  lxZSVeJz6KEBW1nlA3JKJg  DW6SI2KxcfXBHeo9jEr4lQ  Pyramid Cafe      1   \n",
       "\n",
       "          locale  \n",
       "0  Las Vegas, NV  \n",
       "1  Las Vegas, NV  \n",
       "2  Las Vegas, NV  \n",
       "3  Las Vegas, NV  \n",
       "4  Las Vegas, NV  "
      ]
     },
     "execution_count": 28,
     "metadata": {},
     "output_type": "execute_result"
    }
   ],
   "source": [
    "df.head()"
   ]
  },
  {
   "cell_type": "code",
   "execution_count": 3,
   "metadata": {
    "collapsed": true
   },
   "outputs": [],
   "source": [
    "# store data in Graphlab's SFrame type\n",
    "sf = graphlab.SFrame(df[['user_id', 'business_id', 'stars']])"
   ]
  },
  {
   "cell_type": "code",
   "execution_count": 29,
   "metadata": {
    "collapsed": false
   },
   "outputs": [
    {
     "data": {
      "text/html": [
       "<div style=\"max-height:1000px;max-width:1500px;overflow:auto;\"><table frame=\"box\" rules=\"cols\">\n",
       "    <tr>\n",
       "        <th style=\"padding-left: 1em; padding-right: 1em; text-align: center\">user_id</th>\n",
       "        <th style=\"padding-left: 1em; padding-right: 1em; text-align: center\">business_id</th>\n",
       "        <th style=\"padding-left: 1em; padding-right: 1em; text-align: center\">stars</th>\n",
       "    </tr>\n",
       "    <tr>\n",
       "        <td style=\"padding-left: 1em; padding-right: 1em; text-align: center; vertical-align: top\">Ouus3lC3Xk3YRGx4ptd_4A</td>\n",
       "        <td style=\"padding-left: 1em; padding-right: 1em; text-align: center; vertical-align: top\">DW6SI2KxcfXBHeo9jEr4lQ</td>\n",
       "        <td style=\"padding-left: 1em; padding-right: 1em; text-align: center; vertical-align: top\">2</td>\n",
       "    </tr>\n",
       "    <tr>\n",
       "        <td style=\"padding-left: 1em; padding-right: 1em; text-align: center; vertical-align: top\">dz_sBsL69aWzsxksT2O_Mg</td>\n",
       "        <td style=\"padding-left: 1em; padding-right: 1em; text-align: center; vertical-align: top\">DW6SI2KxcfXBHeo9jEr4lQ</td>\n",
       "        <td style=\"padding-left: 1em; padding-right: 1em; text-align: center; vertical-align: top\">2</td>\n",
       "    </tr>\n",
       "    <tr>\n",
       "        <td style=\"padding-left: 1em; padding-right: 1em; text-align: center; vertical-align: top\">zyI-u0C1YOzp5v1j2wuCOQ</td>\n",
       "        <td style=\"padding-left: 1em; padding-right: 1em; text-align: center; vertical-align: top\">DW6SI2KxcfXBHeo9jEr4lQ</td>\n",
       "        <td style=\"padding-left: 1em; padding-right: 1em; text-align: center; vertical-align: top\">3</td>\n",
       "    </tr>\n",
       "    <tr>\n",
       "        <td style=\"padding-left: 1em; padding-right: 1em; text-align: center; vertical-align: top\">vyfsQo-estP8EfiIFMsL6g</td>\n",
       "        <td style=\"padding-left: 1em; padding-right: 1em; text-align: center; vertical-align: top\">DW6SI2KxcfXBHeo9jEr4lQ</td>\n",
       "        <td style=\"padding-left: 1em; padding-right: 1em; text-align: center; vertical-align: top\">3</td>\n",
       "    </tr>\n",
       "    <tr>\n",
       "        <td style=\"padding-left: 1em; padding-right: 1em; text-align: center; vertical-align: top\">lxZSVeJz6KEBW1nlA3JKJg</td>\n",
       "        <td style=\"padding-left: 1em; padding-right: 1em; text-align: center; vertical-align: top\">DW6SI2KxcfXBHeo9jEr4lQ</td>\n",
       "        <td style=\"padding-left: 1em; padding-right: 1em; text-align: center; vertical-align: top\">1</td>\n",
       "    </tr>\n",
       "    <tr>\n",
       "        <td style=\"padding-left: 1em; padding-right: 1em; text-align: center; vertical-align: top\">CbMCOeeHVeafcD-6-CJrPg</td>\n",
       "        <td style=\"padding-left: 1em; padding-right: 1em; text-align: center; vertical-align: top\">DW6SI2KxcfXBHeo9jEr4lQ</td>\n",
       "        <td style=\"padding-left: 1em; padding-right: 1em; text-align: center; vertical-align: top\">4</td>\n",
       "    </tr>\n",
       "    <tr>\n",
       "        <td style=\"padding-left: 1em; padding-right: 1em; text-align: center; vertical-align: top\">Z8DyUMojRhFbLyHBymM_rA</td>\n",
       "        <td style=\"padding-left: 1em; padding-right: 1em; text-align: center; vertical-align: top\">DW6SI2KxcfXBHeo9jEr4lQ</td>\n",
       "        <td style=\"padding-left: 1em; padding-right: 1em; text-align: center; vertical-align: top\">2</td>\n",
       "    </tr>\n",
       "    <tr>\n",
       "        <td style=\"padding-left: 1em; padding-right: 1em; text-align: center; vertical-align: top\">sXWvDlMQspjJ1zzr3cEM7Q</td>\n",
       "        <td style=\"padding-left: 1em; padding-right: 1em; text-align: center; vertical-align: top\">DW6SI2KxcfXBHeo9jEr4lQ</td>\n",
       "        <td style=\"padding-left: 1em; padding-right: 1em; text-align: center; vertical-align: top\">2</td>\n",
       "    </tr>\n",
       "    <tr>\n",
       "        <td style=\"padding-left: 1em; padding-right: 1em; text-align: center; vertical-align: top\">G8RaaiVzbyRvsBmoUx0VeA</td>\n",
       "        <td style=\"padding-left: 1em; padding-right: 1em; text-align: center; vertical-align: top\">DW6SI2KxcfXBHeo9jEr4lQ</td>\n",
       "        <td style=\"padding-left: 1em; padding-right: 1em; text-align: center; vertical-align: top\">1</td>\n",
       "    </tr>\n",
       "    <tr>\n",
       "        <td style=\"padding-left: 1em; padding-right: 1em; text-align: center; vertical-align: top\">f0isFKnJVZVmpdCPNd8Gfw</td>\n",
       "        <td style=\"padding-left: 1em; padding-right: 1em; text-align: center; vertical-align: top\">DW6SI2KxcfXBHeo9jEr4lQ</td>\n",
       "        <td style=\"padding-left: 1em; padding-right: 1em; text-align: center; vertical-align: top\">1</td>\n",
       "    </tr>\n",
       "</table>\n",
       "[10 rows x 3 columns]<br/>\n",
       "</div>"
      ],
      "text/plain": [
       "Columns:\n",
       "\tuser_id\tstr\n",
       "\tbusiness_id\tstr\n",
       "\tstars\tint\n",
       "\n",
       "Rows: 10\n",
       "\n",
       "Data:\n",
       "+------------------------+------------------------+-------+\n",
       "|        user_id         |      business_id       | stars |\n",
       "+------------------------+------------------------+-------+\n",
       "| Ouus3lC3Xk3YRGx4ptd_4A | DW6SI2KxcfXBHeo9jEr4lQ |   2   |\n",
       "| dz_sBsL69aWzsxksT2O_Mg | DW6SI2KxcfXBHeo9jEr4lQ |   2   |\n",
       "| zyI-u0C1YOzp5v1j2wuCOQ | DW6SI2KxcfXBHeo9jEr4lQ |   3   |\n",
       "| vyfsQo-estP8EfiIFMsL6g | DW6SI2KxcfXBHeo9jEr4lQ |   3   |\n",
       "| lxZSVeJz6KEBW1nlA3JKJg | DW6SI2KxcfXBHeo9jEr4lQ |   1   |\n",
       "| CbMCOeeHVeafcD-6-CJrPg | DW6SI2KxcfXBHeo9jEr4lQ |   4   |\n",
       "| Z8DyUMojRhFbLyHBymM_rA | DW6SI2KxcfXBHeo9jEr4lQ |   2   |\n",
       "| sXWvDlMQspjJ1zzr3cEM7Q | DW6SI2KxcfXBHeo9jEr4lQ |   2   |\n",
       "| G8RaaiVzbyRvsBmoUx0VeA | DW6SI2KxcfXBHeo9jEr4lQ |   1   |\n",
       "| f0isFKnJVZVmpdCPNd8Gfw | DW6SI2KxcfXBHeo9jEr4lQ |   1   |\n",
       "+------------------------+------------------------+-------+\n",
       "[10 rows x 3 columns]"
      ]
     },
     "execution_count": 29,
     "metadata": {},
     "output_type": "execute_result"
    }
   ],
   "source": [
    "sf.head()"
   ]
  },
  {
   "cell_type": "code",
   "execution_count": 16,
   "metadata": {
    "collapsed": false
   },
   "outputs": [
    {
     "data": {
      "text/plain": [
       "<bound method SFrame.column_names of Columns:\n",
       "\tuser_id\tstr\n",
       "\tbusiness_id\tstr\n",
       "\tstars\tint\n",
       "\n",
       "Rows: 1363242\n",
       "\n",
       "Data:\n",
       "+------------------------+------------------------+-------+\n",
       "|        user_id         |      business_id       | stars |\n",
       "+------------------------+------------------------+-------+\n",
       "| Ouus3lC3Xk3YRGx4ptd_4A | DW6SI2KxcfXBHeo9jEr4lQ |   2   |\n",
       "| dz_sBsL69aWzsxksT2O_Mg | DW6SI2KxcfXBHeo9jEr4lQ |   2   |\n",
       "| zyI-u0C1YOzp5v1j2wuCOQ | DW6SI2KxcfXBHeo9jEr4lQ |   3   |\n",
       "| vyfsQo-estP8EfiIFMsL6g | DW6SI2KxcfXBHeo9jEr4lQ |   3   |\n",
       "| lxZSVeJz6KEBW1nlA3JKJg | DW6SI2KxcfXBHeo9jEr4lQ |   1   |\n",
       "| CbMCOeeHVeafcD-6-CJrPg | DW6SI2KxcfXBHeo9jEr4lQ |   4   |\n",
       "| Z8DyUMojRhFbLyHBymM_rA | DW6SI2KxcfXBHeo9jEr4lQ |   2   |\n",
       "| sXWvDlMQspjJ1zzr3cEM7Q | DW6SI2KxcfXBHeo9jEr4lQ |   2   |\n",
       "| G8RaaiVzbyRvsBmoUx0VeA | DW6SI2KxcfXBHeo9jEr4lQ |   1   |\n",
       "| f0isFKnJVZVmpdCPNd8Gfw | DW6SI2KxcfXBHeo9jEr4lQ |   1   |\n",
       "+------------------------+------------------------+-------+\n",
       "[1363242 rows x 3 columns]\n",
       "Note: Only the head of the SFrame is printed.\n",
       "You can use print_rows(num_rows=m, num_columns=n) to print more rows and columns.>"
      ]
     },
     "execution_count": 16,
     "metadata": {},
     "output_type": "execute_result"
    }
   ],
   "source": [
    "sf.column_names"
   ]
  },
  {
   "cell_type": "code",
   "execution_count": 5,
   "metadata": {
    "collapsed": true
   },
   "outputs": [
    {
     "data": {
      "text/html": [
       "<pre>Recsys training: model = factorization_recommender</pre>"
      ],
      "text/plain": [
       "Recsys training: model = factorization_recommender"
      ]
     },
     "metadata": {},
     "output_type": "display_data"
    },
    {
     "data": {
      "text/html": [
       "<pre>Preparing data set.</pre>"
      ],
      "text/plain": [
       "Preparing data set."
      ]
     },
     "metadata": {},
     "output_type": "display_data"
    },
    {
     "data": {
      "text/html": [
       "<pre>    Data has 1363242 observations with 388612 users and 24974 items.</pre>"
      ],
      "text/plain": [
       "    Data has 1363242 observations with 388612 users and 24974 items."
      ]
     },
     "metadata": {},
     "output_type": "display_data"
    },
    {
     "data": {
      "text/html": [
       "<pre>    Data prepared in: 2.20518s</pre>"
      ],
      "text/plain": [
       "    Data prepared in: 2.20518s"
      ]
     },
     "metadata": {},
     "output_type": "display_data"
    },
    {
     "data": {
      "text/html": [
       "<pre>Training factorization_recommender for recommendations.</pre>"
      ],
      "text/plain": [
       "Training factorization_recommender for recommendations."
      ]
     },
     "metadata": {},
     "output_type": "display_data"
    },
    {
     "data": {
      "text/html": [
       "<pre>+------------------------------+--------------------------------------------------+----------+</pre>"
      ],
      "text/plain": [
       "+------------------------------+--------------------------------------------------+----------+"
      ]
     },
     "metadata": {},
     "output_type": "display_data"
    },
    {
     "data": {
      "text/html": [
       "<pre>| Parameter                    | Description                                      | Value    |</pre>"
      ],
      "text/plain": [
       "| Parameter                    | Description                                      | Value    |"
      ]
     },
     "metadata": {},
     "output_type": "display_data"
    },
    {
     "data": {
      "text/html": [
       "<pre>+------------------------------+--------------------------------------------------+----------+</pre>"
      ],
      "text/plain": [
       "+------------------------------+--------------------------------------------------+----------+"
      ]
     },
     "metadata": {},
     "output_type": "display_data"
    },
    {
     "data": {
      "text/html": [
       "<pre>| num_factors                  | Factor Dimension                                 | 8        |</pre>"
      ],
      "text/plain": [
       "| num_factors                  | Factor Dimension                                 | 8        |"
      ]
     },
     "metadata": {},
     "output_type": "display_data"
    },
    {
     "data": {
      "text/html": [
       "<pre>| regularization               | L2 Regularization on Factors                     | 1e-08    |</pre>"
      ],
      "text/plain": [
       "| regularization               | L2 Regularization on Factors                     | 1e-08    |"
      ]
     },
     "metadata": {},
     "output_type": "display_data"
    },
    {
     "data": {
      "text/html": [
       "<pre>| max_iterations               | Maximum Number of Iterations                     | 50       |</pre>"
      ],
      "text/plain": [
       "| max_iterations               | Maximum Number of Iterations                     | 50       |"
      ]
     },
     "metadata": {},
     "output_type": "display_data"
    },
    {
     "data": {
      "text/html": [
       "<pre>| solver                       | Solver used for training                         | als      |</pre>"
      ],
      "text/plain": [
       "| solver                       | Solver used for training                         | als      |"
      ]
     },
     "metadata": {},
     "output_type": "display_data"
    },
    {
     "data": {
      "text/html": [
       "<pre>+------------------------------+--------------------------------------------------+----------+</pre>"
      ],
      "text/plain": [
       "+------------------------------+--------------------------------------------------+----------+"
      ]
     },
     "metadata": {},
     "output_type": "display_data"
    },
    {
     "data": {
      "text/html": [
       "<pre>+---------+--------------+------------------------+</pre>"
      ],
      "text/plain": [
       "+---------+--------------+------------------------+"
      ]
     },
     "metadata": {},
     "output_type": "display_data"
    },
    {
     "data": {
      "text/html": [
       "<pre>| Iter.   | Elapsed time | RMSE                   |</pre>"
      ],
      "text/plain": [
       "| Iter.   | Elapsed time | RMSE                   |"
      ]
     },
     "metadata": {},
     "output_type": "display_data"
    },
    {
     "data": {
      "text/html": [
       "<pre>+---------+--------------+------------------------+</pre>"
      ],
      "text/plain": [
       "+---------+--------------+------------------------+"
      ]
     },
     "metadata": {},
     "output_type": "display_data"
    },
    {
     "data": {
      "text/html": [
       "<pre>| Initial | 283us        | NA                     |</pre>"
      ],
      "text/plain": [
       "| Initial | 283us        | NA                     |"
      ]
     },
     "metadata": {},
     "output_type": "display_data"
    },
    {
     "data": {
      "text/html": [
       "<pre>+---------+--------------+------------------------+</pre>"
      ],
      "text/plain": [
       "+---------+--------------+------------------------+"
      ]
     },
     "metadata": {},
     "output_type": "display_data"
    },
    {
     "data": {
      "text/html": [
       "<pre>| 0       | 1.53s        | 0.979591               |</pre>"
      ],
      "text/plain": [
       "| 0       | 1.53s        | 0.979591               |"
      ]
     },
     "metadata": {},
     "output_type": "display_data"
    },
    {
     "data": {
      "text/html": [
       "<pre>| 1       | 2.76s        | 0.542287               |</pre>"
      ],
      "text/plain": [
       "| 1       | 2.76s        | 0.542287               |"
      ]
     },
     "metadata": {},
     "output_type": "display_data"
    },
    {
     "data": {
      "text/html": [
       "<pre>| 2       | 3.97s        | 0.523532               |</pre>"
      ],
      "text/plain": [
       "| 2       | 3.97s        | 0.523532               |"
      ]
     },
     "metadata": {},
     "output_type": "display_data"
    },
    {
     "data": {
      "text/html": [
       "<pre>| 3       | 5.16s        | 0.511687               |</pre>"
      ],
      "text/plain": [
       "| 3       | 5.16s        | 0.511687               |"
      ]
     },
     "metadata": {},
     "output_type": "display_data"
    },
    {
     "data": {
      "text/html": [
       "<pre>| 4       | 6.36s        | 0.502795               |</pre>"
      ],
      "text/plain": [
       "| 4       | 6.36s        | 0.502795               |"
      ]
     },
     "metadata": {},
     "output_type": "display_data"
    },
    {
     "data": {
      "text/html": [
       "<pre>| 5       | 7.57s        | 0.495676               |</pre>"
      ],
      "text/plain": [
       "| 5       | 7.57s        | 0.495676               |"
      ]
     },
     "metadata": {},
     "output_type": "display_data"
    },
    {
     "data": {
      "text/html": [
       "<pre>| 6       | 8.80s        | 0.489772               |</pre>"
      ],
      "text/plain": [
       "| 6       | 8.80s        | 0.489772               |"
      ]
     },
     "metadata": {},
     "output_type": "display_data"
    },
    {
     "data": {
      "text/html": [
       "<pre>| 7       | 10.01s       | 0.484737               |</pre>"
      ],
      "text/plain": [
       "| 7       | 10.01s       | 0.484737               |"
      ]
     },
     "metadata": {},
     "output_type": "display_data"
    },
    {
     "data": {
      "text/html": [
       "<pre>| 8       | 11.22s       | 0.480355               |</pre>"
      ],
      "text/plain": [
       "| 8       | 11.22s       | 0.480355               |"
      ]
     },
     "metadata": {},
     "output_type": "display_data"
    },
    {
     "data": {
      "text/html": [
       "<pre>| 9       | 12.51s       | 0.476493               |</pre>"
      ],
      "text/plain": [
       "| 9       | 12.51s       | 0.476493               |"
      ]
     },
     "metadata": {},
     "output_type": "display_data"
    },
    {
     "data": {
      "text/html": [
       "<pre>| 10      | 14.00s       | 0.473058               |</pre>"
      ],
      "text/plain": [
       "| 10      | 14.00s       | 0.473058               |"
      ]
     },
     "metadata": {},
     "output_type": "display_data"
    },
    {
     "data": {
      "text/html": [
       "<pre>| 11      | 15.42s       | 0.469972               |</pre>"
      ],
      "text/plain": [
       "| 11      | 15.42s       | 0.469972               |"
      ]
     },
     "metadata": {},
     "output_type": "display_data"
    },
    {
     "data": {
      "text/html": [
       "<pre>| 12      | 16.84s       | 0.467175               |</pre>"
      ],
      "text/plain": [
       "| 12      | 16.84s       | 0.467175               |"
      ]
     },
     "metadata": {},
     "output_type": "display_data"
    },
    {
     "data": {
      "text/html": [
       "<pre>| 13      | 18.08s       | 0.464616               |</pre>"
      ],
      "text/plain": [
       "| 13      | 18.08s       | 0.464616               |"
      ]
     },
     "metadata": {},
     "output_type": "display_data"
    },
    {
     "data": {
      "text/html": [
       "<pre>| 14      | 19.31s       | 0.462261               |</pre>"
      ],
      "text/plain": [
       "| 14      | 19.31s       | 0.462261               |"
      ]
     },
     "metadata": {},
     "output_type": "display_data"
    },
    {
     "data": {
      "text/html": [
       "<pre>| 15      | 20.52s       | 0.460084               |</pre>"
      ],
      "text/plain": [
       "| 15      | 20.52s       | 0.460084               |"
      ]
     },
     "metadata": {},
     "output_type": "display_data"
    },
    {
     "data": {
      "text/html": [
       "<pre>| 16      | 21.73s       | 0.458065               |</pre>"
      ],
      "text/plain": [
       "| 16      | 21.73s       | 0.458065               |"
      ]
     },
     "metadata": {},
     "output_type": "display_data"
    },
    {
     "data": {
      "text/html": [
       "<pre>| 17      | 22.96s       | 0.456184               |</pre>"
      ],
      "text/plain": [
       "| 17      | 22.96s       | 0.456184               |"
      ]
     },
     "metadata": {},
     "output_type": "display_data"
    },
    {
     "data": {
      "text/html": [
       "<pre>| 18      | 24.24s       | 0.454429               |</pre>"
      ],
      "text/plain": [
       "| 18      | 24.24s       | 0.454429               |"
      ]
     },
     "metadata": {},
     "output_type": "display_data"
    },
    {
     "data": {
      "text/html": [
       "<pre>| 19      | 25.46s       | 0.452782               |</pre>"
      ],
      "text/plain": [
       "| 19      | 25.46s       | 0.452782               |"
      ]
     },
     "metadata": {},
     "output_type": "display_data"
    },
    {
     "data": {
      "text/html": [
       "<pre>| 20      | 26.67s       | 0.451231               |</pre>"
      ],
      "text/plain": [
       "| 20      | 26.67s       | 0.451231               |"
      ]
     },
     "metadata": {},
     "output_type": "display_data"
    },
    {
     "data": {
      "text/html": [
       "<pre>| 21      | 27.94s       | 0.449767               |</pre>"
      ],
      "text/plain": [
       "| 21      | 27.94s       | 0.449767               |"
      ]
     },
     "metadata": {},
     "output_type": "display_data"
    },
    {
     "data": {
      "text/html": [
       "<pre>| 22      | 29.29s       | 0.448382               |</pre>"
      ],
      "text/plain": [
       "| 22      | 29.29s       | 0.448382               |"
      ]
     },
     "metadata": {},
     "output_type": "display_data"
    },
    {
     "data": {
      "text/html": [
       "<pre>| 23      | 30.52s       | 0.447065               |</pre>"
      ],
      "text/plain": [
       "| 23      | 30.52s       | 0.447065               |"
      ]
     },
     "metadata": {},
     "output_type": "display_data"
    },
    {
     "data": {
      "text/html": [
       "<pre>| 24      | 31.70s       | 0.445811               |</pre>"
      ],
      "text/plain": [
       "| 24      | 31.70s       | 0.445811               |"
      ]
     },
     "metadata": {},
     "output_type": "display_data"
    },
    {
     "data": {
      "text/html": [
       "<pre>| 25      | 32.92s       | 0.444614               |</pre>"
      ],
      "text/plain": [
       "| 25      | 32.92s       | 0.444614               |"
      ]
     },
     "metadata": {},
     "output_type": "display_data"
    },
    {
     "data": {
      "text/html": [
       "<pre>| 26      | 34.16s       | 0.44347                |</pre>"
      ],
      "text/plain": [
       "| 26      | 34.16s       | 0.44347                |"
      ]
     },
     "metadata": {},
     "output_type": "display_data"
    },
    {
     "data": {
      "text/html": [
       "<pre>| 27      | 35.38s       | 0.442376               |</pre>"
      ],
      "text/plain": [
       "| 27      | 35.38s       | 0.442376               |"
      ]
     },
     "metadata": {},
     "output_type": "display_data"
    },
    {
     "data": {
      "text/html": [
       "<pre>| 28      | 36.58s       | 0.441327               |</pre>"
      ],
      "text/plain": [
       "| 28      | 36.58s       | 0.441327               |"
      ]
     },
     "metadata": {},
     "output_type": "display_data"
    },
    {
     "data": {
      "text/html": [
       "<pre>| 29      | 37.77s       | 0.440317               |</pre>"
      ],
      "text/plain": [
       "| 29      | 37.77s       | 0.440317               |"
      ]
     },
     "metadata": {},
     "output_type": "display_data"
    },
    {
     "data": {
      "text/html": [
       "<pre>| 30      | 38.98s       | 0.439344               |</pre>"
      ],
      "text/plain": [
       "| 30      | 38.98s       | 0.439344               |"
      ]
     },
     "metadata": {},
     "output_type": "display_data"
    },
    {
     "data": {
      "text/html": [
       "<pre>| 31      | 40.21s       | 0.438407               |</pre>"
      ],
      "text/plain": [
       "| 31      | 40.21s       | 0.438407               |"
      ]
     },
     "metadata": {},
     "output_type": "display_data"
    },
    {
     "data": {
      "text/html": [
       "<pre>| 32      | 41.43s       | 0.437505               |</pre>"
      ],
      "text/plain": [
       "| 32      | 41.43s       | 0.437505               |"
      ]
     },
     "metadata": {},
     "output_type": "display_data"
    },
    {
     "data": {
      "text/html": [
       "<pre>| 33      | 42.64s       | 0.436631               |</pre>"
      ],
      "text/plain": [
       "| 33      | 42.64s       | 0.436631               |"
      ]
     },
     "metadata": {},
     "output_type": "display_data"
    },
    {
     "data": {
      "text/html": [
       "<pre>| 34      | 43.86s       | 0.43578                |</pre>"
      ],
      "text/plain": [
       "| 34      | 43.86s       | 0.43578                |"
      ]
     },
     "metadata": {},
     "output_type": "display_data"
    },
    {
     "data": {
      "text/html": [
       "<pre>| 35      | 45.06s       | 0.434952               |</pre>"
      ],
      "text/plain": [
       "| 35      | 45.06s       | 0.434952               |"
      ]
     },
     "metadata": {},
     "output_type": "display_data"
    },
    {
     "data": {
      "text/html": [
       "<pre>| 36      | 46.29s       | 0.434151               |</pre>"
      ],
      "text/plain": [
       "| 36      | 46.29s       | 0.434151               |"
      ]
     },
     "metadata": {},
     "output_type": "display_data"
    },
    {
     "data": {
      "text/html": [
       "<pre>| 37      | 47.51s       | 0.433379               |</pre>"
      ],
      "text/plain": [
       "| 37      | 47.51s       | 0.433379               |"
      ]
     },
     "metadata": {},
     "output_type": "display_data"
    },
    {
     "data": {
      "text/html": [
       "<pre>| 38      | 48.71s       | 0.432631               |</pre>"
      ],
      "text/plain": [
       "| 38      | 48.71s       | 0.432631               |"
      ]
     },
     "metadata": {},
     "output_type": "display_data"
    },
    {
     "data": {
      "text/html": [
       "<pre>| 39      | 49.93s       | 0.431904               |</pre>"
      ],
      "text/plain": [
       "| 39      | 49.93s       | 0.431904               |"
      ]
     },
     "metadata": {},
     "output_type": "display_data"
    },
    {
     "data": {
      "text/html": [
       "<pre>| 40      | 51.12s       | 0.431198               |</pre>"
      ],
      "text/plain": [
       "| 40      | 51.12s       | 0.431198               |"
      ]
     },
     "metadata": {},
     "output_type": "display_data"
    },
    {
     "data": {
      "text/html": [
       "<pre>| 41      | 52.33s       | 0.430511               |</pre>"
      ],
      "text/plain": [
       "| 41      | 52.33s       | 0.430511               |"
      ]
     },
     "metadata": {},
     "output_type": "display_data"
    },
    {
     "data": {
      "text/html": [
       "<pre>| 42      | 53.55s       | 0.429842               |</pre>"
      ],
      "text/plain": [
       "| 42      | 53.55s       | 0.429842               |"
      ]
     },
     "metadata": {},
     "output_type": "display_data"
    },
    {
     "data": {
      "text/html": [
       "<pre>| 43      | 54.81s       | 0.429193               |</pre>"
      ],
      "text/plain": [
       "| 43      | 54.81s       | 0.429193               |"
      ]
     },
     "metadata": {},
     "output_type": "display_data"
    },
    {
     "data": {
      "text/html": [
       "<pre>| 44      | 56.04s       | 0.428561               |</pre>"
      ],
      "text/plain": [
       "| 44      | 56.04s       | 0.428561               |"
      ]
     },
     "metadata": {},
     "output_type": "display_data"
    },
    {
     "data": {
      "text/html": [
       "<pre>| 45      | 57.27s       | 0.427945               |</pre>"
      ],
      "text/plain": [
       "| 45      | 57.27s       | 0.427945               |"
      ]
     },
     "metadata": {},
     "output_type": "display_data"
    },
    {
     "data": {
      "text/html": [
       "<pre>| 46      | 58.48s       | 0.427344               |</pre>"
      ],
      "text/plain": [
       "| 46      | 58.48s       | 0.427344               |"
      ]
     },
     "metadata": {},
     "output_type": "display_data"
    },
    {
     "data": {
      "text/html": [
       "<pre>| 47      | 59.71s       | 0.426759               |</pre>"
      ],
      "text/plain": [
       "| 47      | 59.71s       | 0.426759               |"
      ]
     },
     "metadata": {},
     "output_type": "display_data"
    },
    {
     "data": {
      "text/html": [
       "<pre>| 48      | 1m 0s        | 0.426188               |</pre>"
      ],
      "text/plain": [
       "| 48      | 1m 0s        | 0.426188               |"
      ]
     },
     "metadata": {},
     "output_type": "display_data"
    },
    {
     "data": {
      "text/html": [
       "<pre>| 49      | 1m 2s        | 0.42563                |</pre>"
      ],
      "text/plain": [
       "| 49      | 1m 2s        | 0.42563                |"
      ]
     },
     "metadata": {},
     "output_type": "display_data"
    },
    {
     "data": {
      "text/html": [
       "<pre>| FINAL   | 1m 2s        | 0.42563                |</pre>"
      ],
      "text/plain": [
       "| FINAL   | 1m 2s        | 0.42563                |"
      ]
     },
     "metadata": {},
     "output_type": "display_data"
    },
    {
     "data": {
      "text/html": [
       "<pre>+---------+--------------+------------------------+</pre>"
      ],
      "text/plain": [
       "+---------+--------------+------------------------+"
      ]
     },
     "metadata": {},
     "output_type": "display_data"
    },
    {
     "data": {
      "text/html": [
       "<pre>Optimization Complete: Iteration limit reached.</pre>"
      ],
      "text/plain": [
       "Optimization Complete: Iteration limit reached."
      ]
     },
     "metadata": {},
     "output_type": "display_data"
    }
   ],
   "source": [
    "# create the recommender (will train during this step)\n",
    "rec = graphlab.recommender.factorization_recommender.create(\n",
    "            sf,\n",
    "            user_id='user_id',\n",
    "            item_id='business_id',\n",
    "            target='stars',\n",
    "            solver='als',\n",
    "            side_data_factorization=False)"
   ]
  },
  {
   "cell_type": "code",
   "execution_count": 30,
   "metadata": {
    "collapsed": false,
    "scrolled": false
   },
   "outputs": [
    {
     "data": {
      "text/html": [
       "<pre>Recsys training: model = ranking_factorization_recommender</pre>"
      ],
      "text/plain": [
       "Recsys training: model = ranking_factorization_recommender"
      ]
     },
     "metadata": {},
     "output_type": "display_data"
    },
    {
     "data": {
      "text/html": [
       "<pre>Preparing data set.</pre>"
      ],
      "text/plain": [
       "Preparing data set."
      ]
     },
     "metadata": {},
     "output_type": "display_data"
    },
    {
     "data": {
      "text/html": [
       "<pre>    Data has 1363242 observations with 388612 users and 24974 items.</pre>"
      ],
      "text/plain": [
       "    Data has 1363242 observations with 388612 users and 24974 items."
      ]
     },
     "metadata": {},
     "output_type": "display_data"
    },
    {
     "data": {
      "text/html": [
       "<pre>    Data prepared in: 2.91034s</pre>"
      ],
      "text/plain": [
       "    Data prepared in: 2.91034s"
      ]
     },
     "metadata": {},
     "output_type": "display_data"
    },
    {
     "data": {
      "text/html": [
       "<pre>Training ranking_factorization_recommender for recommendations.</pre>"
      ],
      "text/plain": [
       "Training ranking_factorization_recommender for recommendations."
      ]
     },
     "metadata": {},
     "output_type": "display_data"
    },
    {
     "data": {
      "text/html": [
       "<pre>+--------------------------------+--------------------------------------------------+----------+</pre>"
      ],
      "text/plain": [
       "+--------------------------------+--------------------------------------------------+----------+"
      ]
     },
     "metadata": {},
     "output_type": "display_data"
    },
    {
     "data": {
      "text/html": [
       "<pre>| Parameter                      | Description                                      | Value    |</pre>"
      ],
      "text/plain": [
       "| Parameter                      | Description                                      | Value    |"
      ]
     },
     "metadata": {},
     "output_type": "display_data"
    },
    {
     "data": {
      "text/html": [
       "<pre>+--------------------------------+--------------------------------------------------+----------+</pre>"
      ],
      "text/plain": [
       "+--------------------------------+--------------------------------------------------+----------+"
      ]
     },
     "metadata": {},
     "output_type": "display_data"
    },
    {
     "data": {
      "text/html": [
       "<pre>| num_factors                    | Factor Dimension                                 | 32       |</pre>"
      ],
      "text/plain": [
       "| num_factors                    | Factor Dimension                                 | 32       |"
      ]
     },
     "metadata": {},
     "output_type": "display_data"
    },
    {
     "data": {
      "text/html": [
       "<pre>| regularization                 | L2 Regularization on Factors                     | 1e-09    |</pre>"
      ],
      "text/plain": [
       "| regularization                 | L2 Regularization on Factors                     | 1e-09    |"
      ]
     },
     "metadata": {},
     "output_type": "display_data"
    },
    {
     "data": {
      "text/html": [
       "<pre>| solver                         | Solver used for training                         | sgd      |</pre>"
      ],
      "text/plain": [
       "| solver                         | Solver used for training                         | sgd      |"
      ]
     },
     "metadata": {},
     "output_type": "display_data"
    },
    {
     "data": {
      "text/html": [
       "<pre>| linear_regularization          | L2 Regularization on Linear Coefficients         | 1e-09    |</pre>"
      ],
      "text/plain": [
       "| linear_regularization          | L2 Regularization on Linear Coefficients         | 1e-09    |"
      ]
     },
     "metadata": {},
     "output_type": "display_data"
    },
    {
     "data": {
      "text/html": [
       "<pre>| ranking_regularization         | Rank-based Regularization Weight                 | 0.25     |</pre>"
      ],
      "text/plain": [
       "| ranking_regularization         | Rank-based Regularization Weight                 | 0.25     |"
      ]
     },
     "metadata": {},
     "output_type": "display_data"
    },
    {
     "data": {
      "text/html": [
       "<pre>| max_iterations                 | Maximum Number of Iterations                     | 25       |</pre>"
      ],
      "text/plain": [
       "| max_iterations                 | Maximum Number of Iterations                     | 25       |"
      ]
     },
     "metadata": {},
     "output_type": "display_data"
    },
    {
     "data": {
      "text/html": [
       "<pre>+--------------------------------+--------------------------------------------------+----------+</pre>"
      ],
      "text/plain": [
       "+--------------------------------+--------------------------------------------------+----------+"
      ]
     },
     "metadata": {},
     "output_type": "display_data"
    },
    {
     "data": {
      "text/html": [
       "<pre>  Optimizing model using SGD; tuning step size.</pre>"
      ],
      "text/plain": [
       "  Optimizing model using SGD; tuning step size."
      ]
     },
     "metadata": {},
     "output_type": "display_data"
    },
    {
     "data": {
      "text/html": [
       "<pre>  Using 170405 / 1363242 points for tuning the step size.</pre>"
      ],
      "text/plain": [
       "  Using 170405 / 1363242 points for tuning the step size."
      ]
     },
     "metadata": {},
     "output_type": "display_data"
    },
    {
     "data": {
      "text/html": [
       "<pre>+---------+-------------------+------------------------------------------+</pre>"
      ],
      "text/plain": [
       "+---------+-------------------+------------------------------------------+"
      ]
     },
     "metadata": {},
     "output_type": "display_data"
    },
    {
     "data": {
      "text/html": [
       "<pre>| Attempt | Initial Step Size | Estimated Objective Value                |</pre>"
      ],
      "text/plain": [
       "| Attempt | Initial Step Size | Estimated Objective Value                |"
      ]
     },
     "metadata": {},
     "output_type": "display_data"
    },
    {
     "data": {
      "text/html": [
       "<pre>+---------+-------------------+------------------------------------------+</pre>"
      ],
      "text/plain": [
       "+---------+-------------------+------------------------------------------+"
      ]
     },
     "metadata": {},
     "output_type": "display_data"
    },
    {
     "data": {
      "text/html": [
       "<pre>| 0       | 25                | Not Viable                               |</pre>"
      ],
      "text/plain": [
       "| 0       | 25                | Not Viable                               |"
      ]
     },
     "metadata": {},
     "output_type": "display_data"
    },
    {
     "data": {
      "text/html": [
       "<pre>| 1       | 6.25              | Not Viable                               |</pre>"
      ],
      "text/plain": [
       "| 1       | 6.25              | Not Viable                               |"
      ]
     },
     "metadata": {},
     "output_type": "display_data"
    },
    {
     "data": {
      "text/html": [
       "<pre>| 2       | 1.5625            | Not Viable                               |</pre>"
      ],
      "text/plain": [
       "| 2       | 1.5625            | Not Viable                               |"
      ]
     },
     "metadata": {},
     "output_type": "display_data"
    },
    {
     "data": {
      "text/html": [
       "<pre>| 3       | 0.390625          | Not Viable                               |</pre>"
      ],
      "text/plain": [
       "| 3       | 0.390625          | Not Viable                               |"
      ]
     },
     "metadata": {},
     "output_type": "display_data"
    },
    {
     "data": {
      "text/html": [
       "<pre>| 4       | 0.0976562         | 1.98996                                  |</pre>"
      ],
      "text/plain": [
       "| 4       | 0.0976562         | 1.98996                                  |"
      ]
     },
     "metadata": {},
     "output_type": "display_data"
    },
    {
     "data": {
      "text/html": [
       "<pre>| 5       | 0.0488281         | 2.22497                                  |</pre>"
      ],
      "text/plain": [
       "| 5       | 0.0488281         | 2.22497                                  |"
      ]
     },
     "metadata": {},
     "output_type": "display_data"
    },
    {
     "data": {
      "text/html": [
       "<pre>| 6       | 0.0244141         | 2.48946                                  |</pre>"
      ],
      "text/plain": [
       "| 6       | 0.0244141         | 2.48946                                  |"
      ]
     },
     "metadata": {},
     "output_type": "display_data"
    },
    {
     "data": {
      "text/html": [
       "<pre>| 7       | 0.012207          | 2.7311                                   |</pre>"
      ],
      "text/plain": [
       "| 7       | 0.012207          | 2.7311                                   |"
      ]
     },
     "metadata": {},
     "output_type": "display_data"
    },
    {
     "data": {
      "text/html": [
       "<pre>+---------+-------------------+------------------------------------------+</pre>"
      ],
      "text/plain": [
       "+---------+-------------------+------------------------------------------+"
      ]
     },
     "metadata": {},
     "output_type": "display_data"
    },
    {
     "data": {
      "text/html": [
       "<pre>| Final   | 0.0976562         | 1.98996                                  |</pre>"
      ],
      "text/plain": [
       "| Final   | 0.0976562         | 1.98996                                  |"
      ]
     },
     "metadata": {},
     "output_type": "display_data"
    },
    {
     "data": {
      "text/html": [
       "<pre>+---------+-------------------+------------------------------------------+</pre>"
      ],
      "text/plain": [
       "+---------+-------------------+------------------------------------------+"
      ]
     },
     "metadata": {},
     "output_type": "display_data"
    },
    {
     "data": {
      "text/html": [
       "<pre>Starting Optimization.</pre>"
      ],
      "text/plain": [
       "Starting Optimization."
      ]
     },
     "metadata": {},
     "output_type": "display_data"
    },
    {
     "data": {
      "text/html": [
       "<pre>+---------+--------------+-------------------+-----------------------+-------------+</pre>"
      ],
      "text/plain": [
       "+---------+--------------+-------------------+-----------------------+-------------+"
      ]
     },
     "metadata": {},
     "output_type": "display_data"
    },
    {
     "data": {
      "text/html": [
       "<pre>| Iter.   | Elapsed Time | Approx. Objective | Approx. Training RMSE | Step Size   |</pre>"
      ],
      "text/plain": [
       "| Iter.   | Elapsed Time | Approx. Objective | Approx. Training RMSE | Step Size   |"
      ]
     },
     "metadata": {},
     "output_type": "display_data"
    },
    {
     "data": {
      "text/html": [
       "<pre>+---------+--------------+-------------------+-----------------------+-------------+</pre>"
      ],
      "text/plain": [
       "+---------+--------------+-------------------+-----------------------+-------------+"
      ]
     },
     "metadata": {},
     "output_type": "display_data"
    },
    {
     "data": {
      "text/html": [
       "<pre>| Initial | 299us        | 3.32528           | 1.30232               |             |</pre>"
      ],
      "text/plain": [
       "| Initial | 299us        | 3.32528           | 1.30232               |             |"
      ]
     },
     "metadata": {},
     "output_type": "display_data"
    },
    {
     "data": {
      "text/html": [
       "<pre>+---------+--------------+-------------------+-----------------------+-------------+</pre>"
      ],
      "text/plain": [
       "+---------+--------------+-------------------+-----------------------+-------------+"
      ]
     },
     "metadata": {},
     "output_type": "display_data"
    },
    {
     "data": {
      "text/html": [
       "<pre>| 1       | 1.40s        | 2.89362           | 1.35829               | 0.0976562   |</pre>"
      ],
      "text/plain": [
       "| 1       | 1.40s        | 2.89362           | 1.35829               | 0.0976562   |"
      ]
     },
     "metadata": {},
     "output_type": "display_data"
    },
    {
     "data": {
      "text/html": [
       "<pre>| 2       | 2.79s        | 2.47274           | 1.2621                | 0.0580668   |</pre>"
      ],
      "text/plain": [
       "| 2       | 2.79s        | 2.47274           | 1.2621                | 0.0580668   |"
      ]
     },
     "metadata": {},
     "output_type": "display_data"
    },
    {
     "data": {
      "text/html": [
       "<pre>| 3       | 4.16s        | 2.1297            | 1.14761               | 0.042841    |</pre>"
      ],
      "text/plain": [
       "| 3       | 4.16s        | 2.1297            | 1.14761               | 0.042841    |"
      ]
     },
     "metadata": {},
     "output_type": "display_data"
    },
    {
     "data": {
      "text/html": [
       "<pre>| 4       | 5.50s        | 1.781             | 1.01351               | 0.0345267   |</pre>"
      ],
      "text/plain": [
       "| 4       | 5.50s        | 1.781             | 1.01351               | 0.0345267   |"
      ]
     },
     "metadata": {},
     "output_type": "display_data"
    },
    {
     "data": {
      "text/html": [
       "<pre>| 5       | 6.82s        | 1.48891           | 0.892377              | 0.029206    |</pre>"
      ],
      "text/plain": [
       "| 5       | 6.82s        | 1.48891           | 0.892377              | 0.029206    |"
      ]
     },
     "metadata": {},
     "output_type": "display_data"
    },
    {
     "data": {
      "text/html": [
       "<pre>| 6       | 8.13s        | 1.26504           | 0.791693              | 0.0254734   |</pre>"
      ],
      "text/plain": [
       "| 6       | 8.13s        | 1.26504           | 0.791693              | 0.0254734   |"
      ]
     },
     "metadata": {},
     "output_type": "display_data"
    },
    {
     "data": {
      "text/html": [
       "<pre>| 7       | 9.42s        | 1.10623           | 0.71747               | 0.0226922   |</pre>"
      ],
      "text/plain": [
       "| 7       | 9.42s        | 1.10623           | 0.71747               | 0.0226922   |"
      ]
     },
     "metadata": {},
     "output_type": "display_data"
    },
    {
     "data": {
      "text/html": [
       "<pre>| 8       | 10.79s       | 0.980729          | 0.658201              | 0.0205297   |</pre>"
      ],
      "text/plain": [
       "| 8       | 10.79s       | 0.980729          | 0.658201              | 0.0205297   |"
      ]
     },
     "metadata": {},
     "output_type": "display_data"
    },
    {
     "data": {
      "text/html": [
       "<pre>| 9       | 12.09s       | 0.88363           | 0.611778              | 0.018794    |</pre>"
      ],
      "text/plain": [
       "| 9       | 12.09s       | 0.88363           | 0.611778              | 0.018794    |"
      ]
     },
     "metadata": {},
     "output_type": "display_data"
    },
    {
     "data": {
      "text/html": [
       "<pre>| 10      | 13.38s       | 0.805182          | 0.573953              | 0.017366    |</pre>"
      ],
      "text/plain": [
       "| 10      | 13.38s       | 0.805182          | 0.573953              | 0.017366    |"
      ]
     },
     "metadata": {},
     "output_type": "display_data"
    },
    {
     "data": {
      "text/html": [
       "<pre>| 11      | 14.67s       | 0.743887          | 0.542131              | 0.016168    |</pre>"
      ],
      "text/plain": [
       "| 11      | 14.67s       | 0.743887          | 0.542131              | 0.016168    |"
      ]
     },
     "metadata": {},
     "output_type": "display_data"
    },
    {
     "data": {
      "text/html": [
       "<pre>| 12      | 15.96s       | 0.692263          | 0.517209              | 0.0151466   |</pre>"
      ],
      "text/plain": [
       "| 12      | 15.96s       | 0.692263          | 0.517209              | 0.0151466   |"
      ]
     },
     "metadata": {},
     "output_type": "display_data"
    },
    {
     "data": {
      "text/html": [
       "<pre>| 13      | 17.68s       | 0.649254          | 0.494381              | 0.014264    |</pre>"
      ],
      "text/plain": [
       "| 13      | 17.68s       | 0.649254          | 0.494381              | 0.014264    |"
      ]
     },
     "metadata": {},
     "output_type": "display_data"
    },
    {
     "data": {
      "text/html": [
       "<pre>| 14      | 19.02s       | 0.61339           | 0.476738              | 0.0134929   |</pre>"
      ],
      "text/plain": [
       "| 14      | 19.02s       | 0.61339           | 0.476738              | 0.0134929   |"
      ]
     },
     "metadata": {},
     "output_type": "display_data"
    },
    {
     "data": {
      "text/html": [
       "<pre>| 15      | 20.27s       | 0.581734          | 0.460333              | 0.0128124   |</pre>"
      ],
      "text/plain": [
       "| 15      | 20.27s       | 0.581734          | 0.460333              | 0.0128124   |"
      ]
     },
     "metadata": {},
     "output_type": "display_data"
    },
    {
     "data": {
      "text/html": [
       "<pre>| 16      | 21.52s       | 0.554721          | 0.446153              | 0.012207    |</pre>"
      ],
      "text/plain": [
       "| 16      | 21.52s       | 0.554721          | 0.446153              | 0.012207    |"
      ]
     },
     "metadata": {},
     "output_type": "display_data"
    },
    {
     "data": {
      "text/html": [
       "<pre>| 17      | 22.77s       | 0.530362          | 0.433824              | 0.0116644   |</pre>"
      ],
      "text/plain": [
       "| 17      | 22.77s       | 0.530362          | 0.433824              | 0.0116644   |"
      ]
     },
     "metadata": {},
     "output_type": "display_data"
    },
    {
     "data": {
      "text/html": [
       "<pre>| 18      | 24.01s       | 0.510939          | 0.423642              | 0.011175    |</pre>"
      ],
      "text/plain": [
       "| 18      | 24.01s       | 0.510939          | 0.423642              | 0.011175    |"
      ]
     },
     "metadata": {},
     "output_type": "display_data"
    },
    {
     "data": {
      "text/html": [
       "<pre>| 19      | 25.23s       | 0.490357          | 0.413106              | 0.0107309   |</pre>"
      ],
      "text/plain": [
       "| 19      | 25.23s       | 0.490357          | 0.413106              | 0.0107309   |"
      ]
     },
     "metadata": {},
     "output_type": "display_data"
    },
    {
     "data": {
      "text/html": [
       "<pre>| 20      | 26.45s       | 0.474908          | 0.404879              | 0.0103259   |</pre>"
      ],
      "text/plain": [
       "| 20      | 26.45s       | 0.474908          | 0.404879              | 0.0103259   |"
      ]
     },
     "metadata": {},
     "output_type": "display_data"
    },
    {
     "data": {
      "text/html": [
       "<pre>| 21      | 27.67s       | 0.459361          | 0.396415              | 0.00995487  |</pre>"
      ],
      "text/plain": [
       "| 21      | 27.67s       | 0.459361          | 0.396415              | 0.00995487  |"
      ]
     },
     "metadata": {},
     "output_type": "display_data"
    },
    {
     "data": {
      "text/html": [
       "<pre>| 22      | 28.87s       | 0.4468            | 0.389865              | 0.00961353  |</pre>"
      ],
      "text/plain": [
       "| 22      | 28.87s       | 0.4468            | 0.389865              | 0.00961353  |"
      ]
     },
     "metadata": {},
     "output_type": "display_data"
    },
    {
     "data": {
      "text/html": [
       "<pre>| 23      | 30.06s       | 0.43328           | 0.383543              | 0.00929831  |</pre>"
      ],
      "text/plain": [
       "| 23      | 30.06s       | 0.43328           | 0.383543              | 0.00929831  |"
      ]
     },
     "metadata": {},
     "output_type": "display_data"
    },
    {
     "data": {
      "text/html": [
       "<pre>| 24      | 31.28s       | 0.422727          | 0.377467              | 0.0090062   |</pre>"
      ],
      "text/plain": [
       "| 24      | 31.28s       | 0.422727          | 0.377467              | 0.0090062   |"
      ]
     },
     "metadata": {},
     "output_type": "display_data"
    },
    {
     "data": {
      "text/html": [
       "<pre>| 25      | 32.46s       | 0.413232          | 0.372848              | 0.00873464  |</pre>"
      ],
      "text/plain": [
       "| 25      | 32.46s       | 0.413232          | 0.372848              | 0.00873464  |"
      ]
     },
     "metadata": {},
     "output_type": "display_data"
    },
    {
     "data": {
      "text/html": [
       "<pre>+---------+--------------+-------------------+-----------------------+-------------+</pre>"
      ],
      "text/plain": [
       "+---------+--------------+-------------------+-----------------------+-------------+"
      ]
     },
     "metadata": {},
     "output_type": "display_data"
    },
    {
     "data": {
      "text/html": [
       "<pre>Optimization Complete: Maximum number of passes through the data reached.</pre>"
      ],
      "text/plain": [
       "Optimization Complete: Maximum number of passes through the data reached."
      ]
     },
     "metadata": {},
     "output_type": "display_data"
    },
    {
     "data": {
      "text/html": [
       "<pre>Computing final objective value and training RMSE.</pre>"
      ],
      "text/plain": [
       "Computing final objective value and training RMSE."
      ]
     },
     "metadata": {},
     "output_type": "display_data"
    },
    {
     "data": {
      "text/html": [
       "<pre>       Final objective value: 0.397275</pre>"
      ],
      "text/plain": [
       "       Final objective value: 0.397275"
      ]
     },
     "metadata": {},
     "output_type": "display_data"
    },
    {
     "data": {
      "text/html": [
       "<pre>       Final training RMSE: 0.356335</pre>"
      ],
      "text/plain": [
       "       Final training RMSE: 0.356335"
      ]
     },
     "metadata": {},
     "output_type": "display_data"
    }
   ],
   "source": [
    "rec = graphlab.recommender.create(\n",
    "            sf,\n",
    "            user_id='user_id',\n",
    "            item_id='business_id',\n",
    "            target ='stars')"
   ]
  },
  {
   "cell_type": "code",
   "execution_count": 31,
   "metadata": {
    "collapsed": false
   },
   "outputs": [
    {
     "name": "stdout",
     "output_type": "stream",
     "text": [
      "stars: 3.73693885605\n"
     ]
    }
   ],
   "source": [
    "# evaluate 1 datapoint (user=1, business=100) for potential rating\n",
    "one_datapoint_sf = graphlab.SFrame({'user_id': [1], 'business_id': [100]})\n",
    "print \"stars:\", rec.predict(one_datapoint_sf)[0]   # 4.879"
   ]
  },
  {
   "cell_type": "code",
   "execution_count": 32,
   "metadata": {
    "collapsed": false
   },
   "outputs": [
    {
     "data": {
      "text/plain": [
       "['adagrad_momentum_weighting',\n",
       " 'additional_iterations_if_unhealthy',\n",
       " 'binary_target',\n",
       " 'coefficients',\n",
       " 'data_load_time',\n",
       " 'ials_confidence_scaling_factor',\n",
       " 'ials_confidence_scaling_type',\n",
       " 'init_random_sigma',\n",
       " 'item_id',\n",
       " 'item_side_data_column_names',\n",
       " 'item_side_data_column_types',\n",
       " 'linear_regularization',\n",
       " 'max_iterations',\n",
       " 'model_name',\n",
       " 'nmf',\n",
       " 'num_factors',\n",
       " 'num_features',\n",
       " 'num_item_side_features',\n",
       " 'num_items',\n",
       " 'num_observations',\n",
       " 'num_sampled_negative_examples',\n",
       " 'num_tempering_iterations',\n",
       " 'num_user_side_features',\n",
       " 'num_users',\n",
       " 'observation_data_column_names',\n",
       " 'random_seed',\n",
       " 'ranking_regularization',\n",
       " 'regularization',\n",
       " 'regularization_type',\n",
       " 'sgd_convergence_interval',\n",
       " 'sgd_convergence_threshold',\n",
       " 'sgd_max_trial_iterations',\n",
       " 'sgd_sampling_block_size',\n",
       " 'sgd_step_adjustment_interval',\n",
       " 'sgd_step_size',\n",
       " 'sgd_trial_sample_minimum_size',\n",
       " 'sgd_trial_sample_proportion',\n",
       " 'side_data_factorization',\n",
       " 'solver',\n",
       " 'step_size_decrease_rate',\n",
       " 'target',\n",
       " 'tempering_regularization_start_value',\n",
       " 'track_exact_loss',\n",
       " 'training_rmse',\n",
       " 'training_stats',\n",
       " 'training_time',\n",
       " 'unobserved_rating_value',\n",
       " 'user_id',\n",
       " 'user_side_data_column_names',\n",
       " 'user_side_data_column_types']"
      ]
     },
     "execution_count": 32,
     "metadata": {},
     "output_type": "execute_result"
    }
   ],
   "source": [
    "rec.list_fields()"
   ]
  },
  {
   "cell_type": "code",
   "execution_count": 33,
   "metadata": {
    "collapsed": false
   },
   "outputs": [
    {
     "data": {
      "text/plain": [
       "3.73693885605052"
      ]
     },
     "execution_count": 33,
     "metadata": {},
     "output_type": "execute_result"
    }
   ],
   "source": [
    "rec.get('coefficients')['intercept']"
   ]
  },
  {
   "cell_type": "code",
   "execution_count": 34,
   "metadata": {
    "collapsed": false,
    "scrolled": false
   },
   "outputs": [
    {
     "data": {
      "text/html": [
       "<div style=\"max-height:1000px;max-width:1500px;overflow:auto;\"><table frame=\"box\" rules=\"cols\">\n",
       "    <tr>\n",
       "        <th style=\"padding-left: 1em; padding-right: 1em; text-align: center\">user_id</th>\n",
       "        <th style=\"padding-left: 1em; padding-right: 1em; text-align: center\">linear_terms</th>\n",
       "        <th style=\"padding-left: 1em; padding-right: 1em; text-align: center\">factors</th>\n",
       "    </tr>\n",
       "    <tr>\n",
       "        <td style=\"padding-left: 1em; padding-right: 1em; text-align: center; vertical-align: top\">Ouus3lC3Xk3YRGx4ptd_4A</td>\n",
       "        <td style=\"padding-left: 1em; padding-right: 1em; text-align: center; vertical-align: top\">-0.15065652132</td>\n",
       "        <td style=\"padding-left: 1em; padding-right: 1em; text-align: center; vertical-align: top\">[0.272025257349,<br>0.0420655496418, ...</td>\n",
       "    </tr>\n",
       "    <tr>\n",
       "        <td style=\"padding-left: 1em; padding-right: 1em; text-align: center; vertical-align: top\">dz_sBsL69aWzsxksT2O_Mg</td>\n",
       "        <td style=\"padding-left: 1em; padding-right: 1em; text-align: center; vertical-align: top\">-0.108334258199</td>\n",
       "        <td style=\"padding-left: 1em; padding-right: 1em; text-align: center; vertical-align: top\">[0.1754091084,<br>0.072174847126, ...</td>\n",
       "    </tr>\n",
       "    <tr>\n",
       "        <td style=\"padding-left: 1em; padding-right: 1em; text-align: center; vertical-align: top\">zyI-u0C1YOzp5v1j2wuCOQ</td>\n",
       "        <td style=\"padding-left: 1em; padding-right: 1em; text-align: center; vertical-align: top\">-0.17282256484</td>\n",
       "        <td style=\"padding-left: 1em; padding-right: 1em; text-align: center; vertical-align: top\">[0.0852816551924,<br>0.0630154460669, ...</td>\n",
       "    </tr>\n",
       "    <tr>\n",
       "        <td style=\"padding-left: 1em; padding-right: 1em; text-align: center; vertical-align: top\">vyfsQo-estP8EfiIFMsL6g</td>\n",
       "        <td style=\"padding-left: 1em; padding-right: 1em; text-align: center; vertical-align: top\">-0.0180961787701</td>\n",
       "        <td style=\"padding-left: 1em; padding-right: 1em; text-align: center; vertical-align: top\">[-0.044523768127,<br>0.258631527424, ...</td>\n",
       "    </tr>\n",
       "    <tr>\n",
       "        <td style=\"padding-left: 1em; padding-right: 1em; text-align: center; vertical-align: top\">lxZSVeJz6KEBW1nlA3JKJg</td>\n",
       "        <td style=\"padding-left: 1em; padding-right: 1em; text-align: center; vertical-align: top\">-0.733900427818</td>\n",
       "        <td style=\"padding-left: 1em; padding-right: 1em; text-align: center; vertical-align: top\">[0.282611310482,<br>-0.185994073749, ...</td>\n",
       "    </tr>\n",
       "    <tr>\n",
       "        <td style=\"padding-left: 1em; padding-right: 1em; text-align: center; vertical-align: top\">CbMCOeeHVeafcD-6-CJrPg</td>\n",
       "        <td style=\"padding-left: 1em; padding-right: 1em; text-align: center; vertical-align: top\">0.104555010796</td>\n",
       "        <td style=\"padding-left: 1em; padding-right: 1em; text-align: center; vertical-align: top\">[0.0308729708195,<br>-0.0298390705138, ...</td>\n",
       "    </tr>\n",
       "    <tr>\n",
       "        <td style=\"padding-left: 1em; padding-right: 1em; text-align: center; vertical-align: top\">Z8DyUMojRhFbLyHBymM_rA</td>\n",
       "        <td style=\"padding-left: 1em; padding-right: 1em; text-align: center; vertical-align: top\">-0.68707960844</td>\n",
       "        <td style=\"padding-left: 1em; padding-right: 1em; text-align: center; vertical-align: top\">[0.412124305964,<br>-0.0944558382034, ...</td>\n",
       "    </tr>\n",
       "    <tr>\n",
       "        <td style=\"padding-left: 1em; padding-right: 1em; text-align: center; vertical-align: top\">sXWvDlMQspjJ1zzr3cEM7Q</td>\n",
       "        <td style=\"padding-left: 1em; padding-right: 1em; text-align: center; vertical-align: top\">-0.62367862463</td>\n",
       "        <td style=\"padding-left: 1em; padding-right: 1em; text-align: center; vertical-align: top\">[-0.185755431652,<br>0.392349928617, ...</td>\n",
       "    </tr>\n",
       "    <tr>\n",
       "        <td style=\"padding-left: 1em; padding-right: 1em; text-align: center; vertical-align: top\">G8RaaiVzbyRvsBmoUx0VeA</td>\n",
       "        <td style=\"padding-left: 1em; padding-right: 1em; text-align: center; vertical-align: top\">-0.690084278584</td>\n",
       "        <td style=\"padding-left: 1em; padding-right: 1em; text-align: center; vertical-align: top\">[0.381505399942,<br>0.330410510302, ...</td>\n",
       "    </tr>\n",
       "    <tr>\n",
       "        <td style=\"padding-left: 1em; padding-right: 1em; text-align: center; vertical-align: top\">f0isFKnJVZVmpdCPNd8Gfw</td>\n",
       "        <td style=\"padding-left: 1em; padding-right: 1em; text-align: center; vertical-align: top\">-0.92436760664</td>\n",
       "        <td style=\"padding-left: 1em; padding-right: 1em; text-align: center; vertical-align: top\">[0.37686342001,<br>0.268129527569, ...</td>\n",
       "    </tr>\n",
       "</table>\n",
       "[388612 rows x 3 columns]<br/>Note: Only the head of the SFrame is printed.<br/>You can use print_rows(num_rows=m, num_columns=n) to print more rows and columns.\n",
       "</div>"
      ],
      "text/plain": [
       "Columns:\n",
       "\tuser_id\tstr\n",
       "\tlinear_terms\tfloat\n",
       "\tfactors\tarray\n",
       "\n",
       "Rows: 388612\n",
       "\n",
       "Data:\n",
       "+------------------------+------------------+-------------------------------+\n",
       "|        user_id         |   linear_terms   |            factors            |\n",
       "+------------------------+------------------+-------------------------------+\n",
       "| Ouus3lC3Xk3YRGx4ptd_4A |  -0.15065652132  | [0.272025257349, 0.0420655... |\n",
       "| dz_sBsL69aWzsxksT2O_Mg | -0.108334258199  | [0.1754091084, 0.072174847... |\n",
       "| zyI-u0C1YOzp5v1j2wuCOQ |  -0.17282256484  | [0.0852816551924, 0.063015... |\n",
       "| vyfsQo-estP8EfiIFMsL6g | -0.0180961787701 | [-0.044523768127, 0.258631... |\n",
       "| lxZSVeJz6KEBW1nlA3JKJg | -0.733900427818  | [0.282611310482, -0.185994... |\n",
       "| CbMCOeeHVeafcD-6-CJrPg |  0.104555010796  | [0.0308729708195, -0.02983... |\n",
       "| Z8DyUMojRhFbLyHBymM_rA |  -0.68707960844  | [0.412124305964, -0.094455... |\n",
       "| sXWvDlMQspjJ1zzr3cEM7Q |  -0.62367862463  | [-0.185755431652, 0.392349... |\n",
       "| G8RaaiVzbyRvsBmoUx0VeA | -0.690084278584  | [0.381505399942, 0.3304105... |\n",
       "| f0isFKnJVZVmpdCPNd8Gfw |  -0.92436760664  | [0.37686342001, 0.26812952... |\n",
       "+------------------------+------------------+-------------------------------+\n",
       "[388612 rows x 3 columns]\n",
       "Note: Only the head of the SFrame is printed.\n",
       "You can use print_rows(num_rows=m, num_columns=n) to print more rows and columns."
      ]
     },
     "execution_count": 34,
     "metadata": {},
     "output_type": "execute_result"
    }
   ],
   "source": [
    "# rec['coefficients']  # equivalent to: rec.get('coefficients')\n",
    "rec.get('coefficients')['user_id']"
   ]
  },
  {
   "cell_type": "code",
   "execution_count": 35,
   "metadata": {
    "collapsed": false,
    "scrolled": false
   },
   "outputs": [
    {
     "data": {
      "text/html": [
       "<div style=\"max-height:1000px;max-width:1500px;overflow:auto;\"><table frame=\"box\" rules=\"cols\">\n",
       "    <tr>\n",
       "        <th style=\"padding-left: 1em; padding-right: 1em; text-align: center\">business_id</th>\n",
       "        <th style=\"padding-left: 1em; padding-right: 1em; text-align: center\">linear_terms</th>\n",
       "        <th style=\"padding-left: 1em; padding-right: 1em; text-align: center\">factors</th>\n",
       "    </tr>\n",
       "    <tr>\n",
       "        <td style=\"padding-left: 1em; padding-right: 1em; text-align: center; vertical-align: top\">DW6SI2KxcfXBHeo9jEr4lQ</td>\n",
       "        <td style=\"padding-left: 1em; padding-right: 1em; text-align: center; vertical-align: top\">-1.42583227158</td>\n",
       "        <td style=\"padding-left: 1em; padding-right: 1em; text-align: center; vertical-align: top\">[-0.106687664986,<br>0.0529021769762, ...</td>\n",
       "    </tr>\n",
       "    <tr>\n",
       "        <td style=\"padding-left: 1em; padding-right: 1em; text-align: center; vertical-align: top\">MUPWRBidG0_EQC9ey4-xKQ</td>\n",
       "        <td style=\"padding-left: 1em; padding-right: 1em; text-align: center; vertical-align: top\">-2.44162487984</td>\n",
       "        <td style=\"padding-left: 1em; padding-right: 1em; text-align: center; vertical-align: top\">[-0.773338973522,<br>-0.221781879663, ...</td>\n",
       "    </tr>\n",
       "    <tr>\n",
       "        <td style=\"padding-left: 1em; padding-right: 1em; text-align: center; vertical-align: top\">rXEGCpdboVwczMIDZuXXaA</td>\n",
       "        <td style=\"padding-left: 1em; padding-right: 1em; text-align: center; vertical-align: top\">-1.93411910534</td>\n",
       "        <td style=\"padding-left: 1em; padding-right: 1em; text-align: center; vertical-align: top\">[-0.0460895709693,<br>-0.107171773911, ...</td>\n",
       "    </tr>\n",
       "    <tr>\n",
       "        <td style=\"padding-left: 1em; padding-right: 1em; text-align: center; vertical-align: top\">C_lTRsrL5LQAyd3_fnoBdg</td>\n",
       "        <td style=\"padding-left: 1em; padding-right: 1em; text-align: center; vertical-align: top\">-2.22860455513</td>\n",
       "        <td style=\"padding-left: 1em; padding-right: 1em; text-align: center; vertical-align: top\">[0.224688187242,<br>0.589515149593, ...</td>\n",
       "    </tr>\n",
       "    <tr>\n",
       "        <td style=\"padding-left: 1em; padding-right: 1em; text-align: center; vertical-align: top\">ZWPVBkb2CAQkQIn2OXTzeQ</td>\n",
       "        <td style=\"padding-left: 1em; padding-right: 1em; text-align: center; vertical-align: top\">-2.46623921394</td>\n",
       "        <td style=\"padding-left: 1em; padding-right: 1em; text-align: center; vertical-align: top\">[-0.305990934372,<br>-0.209893167019, ...</td>\n",
       "    </tr>\n",
       "    <tr>\n",
       "        <td style=\"padding-left: 1em; padding-right: 1em; text-align: center; vertical-align: top\">SbS0XQG39VgP6L6wbZ56RA</td>\n",
       "        <td style=\"padding-left: 1em; padding-right: 1em; text-align: center; vertical-align: top\">-1.98389303684</td>\n",
       "        <td style=\"padding-left: 1em; padding-right: 1em; text-align: center; vertical-align: top\">[-0.330567449331,<br>-0.607387185097, ...</td>\n",
       "    </tr>\n",
       "    <tr>\n",
       "        <td style=\"padding-left: 1em; padding-right: 1em; text-align: center; vertical-align: top\">eOug4Lp-b5-jrtkoLMQq2g</td>\n",
       "        <td style=\"padding-left: 1em; padding-right: 1em; text-align: center; vertical-align: top\">-2.47307372093</td>\n",
       "        <td style=\"padding-left: 1em; padding-right: 1em; text-align: center; vertical-align: top\">[0.00786147080362,<br>0.128409355879, ...</td>\n",
       "    </tr>\n",
       "    <tr>\n",
       "        <td style=\"padding-left: 1em; padding-right: 1em; text-align: center; vertical-align: top\">FmsSGHdahYI6VarnoQhGcA</td>\n",
       "        <td style=\"padding-left: 1em; padding-right: 1em; text-align: center; vertical-align: top\">-2.35507702827</td>\n",
       "        <td style=\"padding-left: 1em; padding-right: 1em; text-align: center; vertical-align: top\">[0.840227067471,<br>0.174210965633, ...</td>\n",
       "    </tr>\n",
       "    <tr>\n",
       "        <td style=\"padding-left: 1em; padding-right: 1em; text-align: center; vertical-align: top\">zWmMse__At85rO_ivLcpXA</td>\n",
       "        <td style=\"padding-left: 1em; padding-right: 1em; text-align: center; vertical-align: top\">-2.67476224899</td>\n",
       "        <td style=\"padding-left: 1em; padding-right: 1em; text-align: center; vertical-align: top\">[-0.183474779129,<br>0.323694944382, ...</td>\n",
       "    </tr>\n",
       "    <tr>\n",
       "        <td style=\"padding-left: 1em; padding-right: 1em; text-align: center; vertical-align: top\">oOqsIaRvdV4La45-JJhfeQ</td>\n",
       "        <td style=\"padding-left: 1em; padding-right: 1em; text-align: center; vertical-align: top\">-2.47095966339</td>\n",
       "        <td style=\"padding-left: 1em; padding-right: 1em; text-align: center; vertical-align: top\">[-0.138113334775,<br>0.0903669297695, ...</td>\n",
       "    </tr>\n",
       "</table>\n",
       "[24974 rows x 3 columns]<br/>Note: Only the head of the SFrame is printed.<br/>You can use print_rows(num_rows=m, num_columns=n) to print more rows and columns.\n",
       "</div>"
      ],
      "text/plain": [
       "Columns:\n",
       "\tbusiness_id\tstr\n",
       "\tlinear_terms\tfloat\n",
       "\tfactors\tarray\n",
       "\n",
       "Rows: 24974\n",
       "\n",
       "Data:\n",
       "+------------------------+----------------+-------------------------------+\n",
       "|      business_id       |  linear_terms  |            factors            |\n",
       "+------------------------+----------------+-------------------------------+\n",
       "| DW6SI2KxcfXBHeo9jEr4lQ | -1.42583227158 | [-0.106687664986, 0.052902... |\n",
       "| MUPWRBidG0_EQC9ey4-xKQ | -2.44162487984 | [-0.773338973522, -0.22178... |\n",
       "| rXEGCpdboVwczMIDZuXXaA | -1.93411910534 | [-0.0460895709693, -0.1071... |\n",
       "| C_lTRsrL5LQAyd3_fnoBdg | -2.22860455513 | [0.224688187242, 0.5895151... |\n",
       "| ZWPVBkb2CAQkQIn2OXTzeQ | -2.46623921394 | [-0.305990934372, -0.20989... |\n",
       "| SbS0XQG39VgP6L6wbZ56RA | -1.98389303684 | [-0.330567449331, -0.60738... |\n",
       "| eOug4Lp-b5-jrtkoLMQq2g | -2.47307372093 | [0.00786147080362, 0.12840... |\n",
       "| FmsSGHdahYI6VarnoQhGcA | -2.35507702827 | [0.840227067471, 0.1742109... |\n",
       "| zWmMse__At85rO_ivLcpXA | -2.67476224899 | [-0.183474779129, 0.323694... |\n",
       "| oOqsIaRvdV4La45-JJhfeQ | -2.47095966339 | [-0.138113334775, 0.090366... |\n",
       "+------------------------+----------------+-------------------------------+\n",
       "[24974 rows x 3 columns]\n",
       "Note: Only the head of the SFrame is printed.\n",
       "You can use print_rows(num_rows=m, num_columns=n) to print more rows and columns."
      ]
     },
     "execution_count": 35,
     "metadata": {},
     "output_type": "execute_result"
    }
   ],
   "source": [
    "# rec['coefficients']  # equivalent to: rec.get('coefficients')\n",
    "rec.get('coefficients')['business_id']"
   ]
  },
  {
   "cell_type": "code",
   "execution_count": 36,
   "metadata": {
    "collapsed": false
   },
   "outputs": [
    {
     "name": "stdout",
     "output_type": "stream",
     "text": [
      "24974\n",
      "32\n",
      "388612\n",
      "32\n"
     ]
    }
   ],
   "source": [
    "business_sf = rec['coefficients']['business_id']\n",
    "print len(business_sf)                     # 1682\n",
    "print len(business_sf['factors'][0])       # 8\n",
    "user_sf = rec['coefficients']['user_id']\n",
    "print len(user_sf)                      # 943\n",
    "print len(user_sf['factors'][0])        # 8"
   ]
  },
  {
   "cell_type": "code",
   "execution_count": 37,
   "metadata": {
    "collapsed": true
   },
   "outputs": [],
   "source": [
    "import os"
   ]
  },
  {
   "cell_type": "code",
   "execution_count": null,
   "metadata": {
    "collapsed": false
   },
   "outputs": [],
   "source": [
    "os.path.getsize()"
   ]
  },
  {
   "cell_type": "code",
   "execution_count": 38,
   "metadata": {
    "collapsed": true
   },
   "outputs": [],
   "source": [
    "import progressbar"
   ]
  },
  {
   "cell_type": "code",
   "execution_count": 39,
   "metadata": {
    "collapsed": false
   },
   "outputs": [
    {
     "data": {
      "text/plain": [
       "'3.6.2'"
      ]
     },
     "execution_count": 39,
     "metadata": {},
     "output_type": "execute_result"
    }
   ],
   "source": [
    "progressbar.__version__"
   ]
  },
  {
   "cell_type": "code",
   "execution_count": null,
   "metadata": {
    "collapsed": true
   },
   "outputs": [],
   "source": [
    "progressbar.ProgressBar.finish"
   ]
  },
  {
   "cell_type": "code",
   "execution_count": null,
   "metadata": {
    "collapsed": true
   },
   "outputs": [],
   "source": []
  },
  {
   "cell_type": "code",
   "execution_count": null,
   "metadata": {
    "collapsed": true
   },
   "outputs": [],
   "source": []
  },
  {
   "cell_type": "code",
   "execution_count": null,
   "metadata": {
    "collapsed": true
   },
   "outputs": [],
   "source": []
  },
  {
   "cell_type": "code",
   "execution_count": null,
   "metadata": {
    "collapsed": true
   },
   "outputs": [],
   "source": []
  },
  {
   "cell_type": "code",
   "execution_count": null,
   "metadata": {
    "collapsed": true
   },
   "outputs": [],
   "source": []
  },
  {
   "cell_type": "code",
   "execution_count": null,
   "metadata": {
    "collapsed": true
   },
   "outputs": [],
   "source": []
  },
  {
   "cell_type": "code",
   "execution_count": null,
   "metadata": {
    "collapsed": true
   },
   "outputs": [],
   "source": []
  },
  {
   "cell_type": "code",
   "execution_count": null,
   "metadata": {
    "collapsed": true
   },
   "outputs": [],
   "source": []
  },
  {
   "cell_type": "code",
   "execution_count": null,
   "metadata": {
    "collapsed": true
   },
   "outputs": [],
   "source": []
  },
  {
   "cell_type": "code",
   "execution_count": null,
   "metadata": {
    "collapsed": true
   },
   "outputs": [],
   "source": []
  },
  {
   "cell_type": "code",
   "execution_count": null,
   "metadata": {
    "collapsed": true
   },
   "outputs": [],
   "source": []
  },
  {
   "cell_type": "code",
   "execution_count": null,
   "metadata": {
    "collapsed": true
   },
   "outputs": [],
   "source": []
  },
  {
   "cell_type": "code",
   "execution_count": null,
   "metadata": {
    "collapsed": true
   },
   "outputs": [],
   "source": []
  }
 ],
 "metadata": {
  "kernelspec": {
   "display_name": "Python 2",
   "language": "python",
   "name": "python2"
  },
  "language_info": {
   "codemirror_mode": {
    "name": "ipython",
    "version": 2
   },
   "file_extension": ".py",
   "mimetype": "text/x-python",
   "name": "python",
   "nbconvert_exporter": "python",
   "pygments_lexer": "ipython2",
   "version": "2.7.11"
  }
 },
 "nbformat": 4,
 "nbformat_minor": 0
}
